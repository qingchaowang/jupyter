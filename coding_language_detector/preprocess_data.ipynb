{
 "cells": [
  {
   "cell_type": "code",
   "execution_count": 1,
   "metadata": {},
   "outputs": [],
   "source": [
    "def data_preprocessing(data_df, text_col, comment_pattern):\n",
    "    import re\n",
    "    texts = data_df.iloc[:, text_col]\n",
    "#     for comment_pattern in comment_patterns:\n",
    "    texts = [re.sub(comment_pattern, \"\", str(text)) for text in texts]\n",
    "#     texts = [re.sub(\"\\n\", \"\", text) for text in texts]\n",
    "    data_df.iloc[:, text_col] = texts\n",
    "    data_clean = data_df.fillna('')\n",
    "    data_clean.columns = ['text', 'label']\n",
    "    return data_clean"
   ]
  },
  {
   "cell_type": "code",
   "execution_count": 2,
   "metadata": {},
   "outputs": [],
   "source": [
    "import os\n",
    "import pandas as pd\n",
    "os.chdir('/home/qc/Downloads/blueoptima/blueoptima_data/')\n",
    "cz = 5000\n",
    "data_java_ori = pd.read_csv('data_sub0.csv', encoding = 'utf-8', chunksize= cz)\n",
    "data_py_ori = pd.read_csv('data_sub1.csv', encoding = 'utf-8', chunksize= cz)\n",
    "data_csharp_ori = pd.read_csv('data_sub2.csv', encoding = 'utf-8', chunksize = cz)\n",
    "data_cpp_ori = pd.read_csv('data_sub3.csv', encoding = 'utf-8', chunksize= cz)"
   ]
  },
  {
   "cell_type": "code",
   "execution_count": 3,
   "metadata": {
    "scrolled": false
   },
   "outputs": [],
   "source": [
    "# for java, c#, python and C++\n",
    "# data_java_clean = data_preprocessing(data_java_ori, 0, '\\/\\*[\\s\\S]*?\\*\\/|([^:]|^)\\/\\/.*|\\\\n')\n",
    "# for python\n",
    "# data_py_clean = data_preprocessing(data_py_ori, 0, \"#.*?\\n|\\\\n\")\n",
    "# data_py_clean = data_preprocessing(data_py_ori, 0, \"#.*?\\n|\\\"\\\"\\\"[\\s\\S]*?\\\"\\\"\\\"|\\'\\'\\'[\\s\\S]*?\\'\\'\\'|\\\\n\")\n",
    "# data_csharp_clean = data_preprocessing(data_csharp_ori, 0, \"\\/\\*[\\s\\S]*?\\*\\/|([^:]|^)\\/\\/.*|\\\\n\")\n",
    "# data_cpp_clean = data_preprocessing(data_cpp_ori, 0, \"\\/\\*[\\s\\S]*?\\*\\/|([^:]|^)\\/\\/.*|\\\\n\")"
   ]
  },
  {
   "cell_type": "code",
   "execution_count": 4,
   "metadata": {},
   "outputs": [],
   "source": [
    "final_data = pd.DataFrame\n",
    "pattern0 = '\\/\\*[\\s\\S]*?\\*\\/|([^:]|^)\\/\\/.*|\\\\n|\\\\t'\n",
    "pattern1 = '\\/\\*[\\s\\S]*?\\*\\/|([^:]|^)\\/\\/.*|\\\\n|\\\\t'\n",
    "for chunk in data_java_ori:\n",
    "    temp = data_preprocessing(chunk, 0, pattern0)\n",
    "#     temp.to_csv('final.csv', mode = 'a')\n",
    "    final_data = pd.concat([final_data, temp])\n",
    "for chunk in data_py_ori:\n",
    "    temp = data_preprocessing(chunk, 0, pattern1)\n",
    "#     temp.to_csv('final.csv', mode = 'a')\n",
    "    final_data = pd.concat([final_data, temp])\n",
    "for chunk in data_csharp_ori:\n",
    "    temp = data_preprocessing(chunk, 0, pattern0)\n",
    "#     temp.to_csv('final.csv', mode = 'a')\n",
    "    final_data = pd.concat([final_data, temp])\n",
    "for chunk in data_cpp_ori:\n",
    "    temp = data_preprocessing(chunk, 0, pattern0)\n",
    "    temp.iloc[:, 1] = 'cpp'\n",
    "#     temp.to_csv('final.csv', mode = 'a')\n",
    "    final_data = pd.concat([final_data, temp])"
   ]
  },
  {
   "cell_type": "code",
   "execution_count": 5,
   "metadata": {},
   "outputs": [],
   "source": [
    "# data_java_clean.to_csv('data_java_clean.csv')\n",
    "# data_py_clean.to_csv('data_py_clean.csv')\n",
    "# data_csharp_clean.to_csv('data_csharp_clean.csv')\n",
    "# data_cpp_clean.to_csv('data_cpp_clean.csv')"
   ]
  },
  {
   "cell_type": "code",
   "execution_count": 6,
   "metadata": {},
   "outputs": [],
   "source": [
    "# import os, pandas as pd\n",
    "# os.chdir('/home/qc/Downloads/blueoptima/blueoptima_data/')\n",
    "# data_java = pd.read_csv('data_java_clean.csv')\n",
    "# data_py = pd.read_csv('data_py_clean.csv')\n",
    "# data_csharp = pd.read_csv('data_csharp_clean.csv')\n",
    "# data_cpp = pd.read_csv('data_cpp_clean.csv')"
   ]
  },
  {
   "cell_type": "code",
   "execution_count": 7,
   "metadata": {},
   "outputs": [],
   "source": [
    "# final_data = pd.concat([data_java, data_py, data_csharp, data_cpp])\n",
    "# final_data = pd.concat([data_java_clean, data_py_clean, data_csharp_clean, data_cpp_clean])\n",
    "# final_data = pd.concat([final_data, pd.get_dummies(final_data.loc[:, 'label'])], axis = 1)\n",
    "# final_data = final_data.drop('label', axis = 1)\n",
    "# final_data.rename(columns={'.c .cc .cpp .h .hpp':'cpp'}, inplace=True)\n",
    "# final_data = final_data.iloc[:, 1:]\n",
    "# final_data.to_csv('final_data.csv')"
   ]
  },
  {
   "cell_type": "code",
   "execution_count": 8,
   "metadata": {},
   "outputs": [],
   "source": [
    "final_data = pd.concat([final_data, pd.get_dummies(final_data.loc[:, 'label'])], axis = 1)"
   ]
  },
  {
   "cell_type": "code",
   "execution_count": 17,
   "metadata": {},
   "outputs": [],
   "source": [
    "# final_data.to_csv('final_data.csv', index=False)"
   ]
  },
  {
   "cell_type": "code",
   "execution_count": 9,
   "metadata": {},
   "outputs": [
    {
     "data": {
      "text/html": [
       "<div>\n",
       "<style scoped>\n",
       "    .dataframe tbody tr th:only-of-type {\n",
       "        vertical-align: middle;\n",
       "    }\n",
       "\n",
       "    .dataframe tbody tr th {\n",
       "        vertical-align: top;\n",
       "    }\n",
       "\n",
       "    .dataframe thead th {\n",
       "        text-align: right;\n",
       "    }\n",
       "</style>\n",
       "<table border=\"1\" class=\"dataframe\">\n",
       "  <thead>\n",
       "    <tr style=\"text-align: right;\">\n",
       "      <th></th>\n",
       "      <th>text</th>\n",
       "      <th>label</th>\n",
       "      <th>.cs</th>\n",
       "      <th>.java</th>\n",
       "      <th>.py</th>\n",
       "      <th>cpp</th>\n",
       "      <th>text_length</th>\n",
       "    </tr>\n",
       "  </thead>\n",
       "  <tbody>\n",
       "    <tr>\n",
       "      <th>0</th>\n",
       "      <td>package retrofit2;import java.io.IOException;i...</td>\n",
       "      <td>.java</td>\n",
       "      <td>0</td>\n",
       "      <td>1</td>\n",
       "      <td>0</td>\n",
       "      <td>0</td>\n",
       "      <td>3090</td>\n",
       "    </tr>\n",
       "    <tr>\n",
       "      <th>1</th>\n",
       "      <td>package retrofit2;import java.io.IOException;i...</td>\n",
       "      <td>.java</td>\n",
       "      <td>0</td>\n",
       "      <td>1</td>\n",
       "      <td>0</td>\n",
       "      <td>0</td>\n",
       "      <td>3208</td>\n",
       "    </tr>\n",
       "    <tr>\n",
       "      <th>2</th>\n",
       "      <td>package retrofit2;import java.io.IOException;i...</td>\n",
       "      <td>.java</td>\n",
       "      <td>0</td>\n",
       "      <td>1</td>\n",
       "      <td>0</td>\n",
       "      <td>0</td>\n",
       "      <td>31919</td>\n",
       "    </tr>\n",
       "    <tr>\n",
       "      <th>3</th>\n",
       "      <td>package retrofit2;import java.lang.annotation....</td>\n",
       "      <td>.java</td>\n",
       "      <td>0</td>\n",
       "      <td>1</td>\n",
       "      <td>0</td>\n",
       "      <td>0</td>\n",
       "      <td>653</td>\n",
       "    </tr>\n",
       "    <tr>\n",
       "      <th>4</th>\n",
       "      <td>package retrofit2;import java.io.IOException;i...</td>\n",
       "      <td>.java</td>\n",
       "      <td>0</td>\n",
       "      <td>1</td>\n",
       "      <td>0</td>\n",
       "      <td>0</td>\n",
       "      <td>16386</td>\n",
       "    </tr>\n",
       "  </tbody>\n",
       "</table>\n",
       "</div>"
      ],
      "text/plain": [
       "                                                text  label  .cs  .java  .py  \\\n",
       "0  package retrofit2;import java.io.IOException;i...  .java    0      1    0   \n",
       "1  package retrofit2;import java.io.IOException;i...  .java    0      1    0   \n",
       "2  package retrofit2;import java.io.IOException;i...  .java    0      1    0   \n",
       "3  package retrofit2;import java.lang.annotation....  .java    0      1    0   \n",
       "4  package retrofit2;import java.io.IOException;i...  .java    0      1    0   \n",
       "\n",
       "   cpp  text_length  \n",
       "0    0         3090  \n",
       "1    0         3208  \n",
       "2    0        31919  \n",
       "3    0          653  \n",
       "4    0        16386  "
      ]
     },
     "execution_count": 9,
     "metadata": {},
     "output_type": "execute_result"
    }
   ],
   "source": [
    "# import os, pandas as pd\n",
    "# os.chdir('/home/qc/Downloads/blueoptima/blueoptima_data/')\n",
    "# final_data = pd.read_csv('final_data.csv', index_col=False)\n",
    "# # whenever reading csv files, np.nan is generated. \n",
    "# final_data = final_data.fillna('')\n",
    "\n",
    "final_data.groupby('label')['label'].count()\n",
    "\n",
    "text_length = pd.DataFrame({'text_length' : [len(text) for text in final_data['text']]})\n",
    "final_trunc_data = pd.concat([final_data.reset_index(drop = True), text_length], axis = 1)\n",
    "final_trunc_data.head()"
   ]
  },
  {
   "cell_type": "code",
   "execution_count": 10,
   "metadata": {},
   "outputs": [
    {
     "data": {
      "text/plain": [
       "<matplotlib.axes._subplots.AxesSubplot at 0x7fc556cea898>"
      ]
     },
     "execution_count": 10,
     "metadata": {},
     "output_type": "execute_result"
    }
   ],
   "source": [
    "import matplotlib.pyplot as plt\n",
    "final_trunc_data.boxplot(column = 'text_length', by = 'label')"
   ]
  },
  {
   "cell_type": "markdown",
   "metadata": {},
   "source": [
    "from the boxplot we can tell that most of languages have text(character) length below 5e6, so we first set index to below 5e6. It is suspected that those large files will contain many repetitive words that will dominant the real key words."
   ]
  },
  {
   "cell_type": "code",
   "execution_count": 11,
   "metadata": {},
   "outputs": [
    {
     "data": {
      "text/plain": [
       "<matplotlib.axes._subplots.AxesSubplot at 0x7fc5569742b0>"
      ]
     },
     "execution_count": 11,
     "metadata": {},
     "output_type": "execute_result"
    },
    {
     "data": {
      "image/png": "[encoded data removed]",
      "text/plain": [
       "<matplotlib.figure.Figure at 0x7fc5569b7c88>"
      ]
     },
     "metadata": {
      "needs_background": "light"
     },
     "output_type": "display_data"
    }
   ],
   "source": [
    "index = [text_length < 5e6 for text_length in final_trunc_data['text_length']]\n",
    "final_trunc_data = final_trunc_data.iloc[index, :]\n",
    "final_trunc_data.boxplot(column = 'text_length', by = 'label')"
   ]
  },
  {
   "cell_type": "markdown",
   "metadata": {},
   "source": [
    "again, most are below 1M"
   ]
  },
  {
   "cell_type": "code",
   "execution_count": 12,
   "metadata": {
    "scrolled": true
   },
   "outputs": [
    {
     "data": {
      "text/plain": [
       "<matplotlib.axes._subplots.AxesSubplot at 0x7fc55692c860>"
      ]
     },
     "execution_count": 12,
     "metadata": {},
     "output_type": "execute_result"
    },
    {
     "data": {
      "image/png": "[encoded data removed]",
      "text/plain": [
       "<matplotlib.figure.Figure at 0x7fc55697d0b8>"
      ]
     },
     "metadata": {
      "needs_background": "light"
     },
     "output_type": "display_data"
    }
   ],
   "source": [
    "index = [text_length < 1e6 for text_length in final_trunc_data['text_length']]\n",
    "final_trunc_data = final_trunc_data.iloc[index, :]\n",
    "final_trunc_data.boxplot(column = 'text_length', by = 'label')"
   ]
  },
  {
   "cell_type": "code",
   "execution_count": 13,
   "metadata": {
    "scrolled": true
   },
   "outputs": [
    {
     "data": {
      "text/plain": [
       "<matplotlib.axes._subplots.AxesSubplot at 0x7fc556821828>"
      ]
     },
     "execution_count": 13,
     "metadata": {},
     "output_type": "execute_result"
    },
    {
     "data": {
      "image/png": "[encoded data removed]",
      "text/plain": [
       "<matplotlib.figure.Figure at 0x7fc55682e630>"
      ]
     },
     "metadata": {
      "needs_background": "light"
     },
     "output_type": "display_data"
    }
   ],
   "source": [
    "index = [text_length < 400e3 for text_length in final_trunc_data['text_length']]\n",
    "final_trunc_data = final_trunc_data.iloc[index, :]\n",
    "final_trunc_data.boxplot(column = 'text_length', by = 'label')"
   ]
  },
  {
   "cell_type": "markdown",
   "metadata": {},
   "source": [
    "We also want to set the lower limit (or may be not) to increase the computer speed. Those files with very short strings contained may not be representative as the frequency may vary erratically. "
   ]
  },
  {
   "cell_type": "code",
   "execution_count": 14,
   "metadata": {},
   "outputs": [
    {
     "data": {
      "text/plain": [
       "label\n",
       ".cs      502.0\n",
       ".java    871.0\n",
       ".py      640.0\n",
       "cpp      633.0\n",
       "Name: text_length, dtype: float64"
      ]
     },
     "execution_count": 14,
     "metadata": {},
     "output_type": "execute_result"
    }
   ],
   "source": [
    "final_trunc_data.groupby('label')['text_length'].quantile(0.25)"
   ]
  },
  {
   "cell_type": "code",
   "execution_count": 15,
   "metadata": {},
   "outputs": [
    {
     "data": {
      "text/plain": [
       "<matplotlib.axes._subplots.AxesSubplot at 0x7fc55675fe10>"
      ]
     },
     "execution_count": 15,
     "metadata": {},
     "output_type": "execute_result"
    },
    {
     "data": {
      "image/png": "[encoded data removed]",
      "text/plain": [
       "<matplotlib.figure.Figure at 0x7fc55675f2e8>"
      ]
     },
     "metadata": {
      "needs_background": "light"
     },
     "output_type": "display_data"
    }
   ],
   "source": [
    "index = [len(text) > 500 for text in final_trunc_data['text']]\n",
    "final_trunc_data = final_trunc_data.iloc[index, :]\n",
    "final_trunc_data.boxplot(column = 'text_length', by = 'label')"
   ]
  },
  {
   "cell_type": "markdown",
   "metadata": {},
   "source": [
    "Now we have restricted the string length per document to be larger than 500 but smaller than 500e3."
   ]
  },
  {
   "cell_type": "code",
   "execution_count": 16,
   "metadata": {},
   "outputs": [],
   "source": [
    "final_trunc_data.to_csv('final_trunc_data.csv', index=False)"
   ]
  }
 ],
 "metadata": {
  "kernelspec": {
   "display_name": "Python 3",
   "language": "python",
   "name": "python3"
  },
  "language_info": {
   "codemirror_mode": {
    "name": "ipython",
    "version": 3
   },
   "file_extension": ".py",
   "mimetype": "text/x-python",
   "name": "python",
   "nbconvert_exporter": "python",
   "pygments_lexer": "ipython3",
   "version": "3.6.7"
  }
 },
 "nbformat": 4,
 "nbformat_minor": 2
}
