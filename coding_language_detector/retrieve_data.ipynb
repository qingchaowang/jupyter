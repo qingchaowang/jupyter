{
 "cells": [
  {
   "cell_type": "code",
   "execution_count": 17,
   "metadata": {},
   "outputs": [],
   "source": [
    "def github_download(num_page, repo_link, local_link):\n",
    "    '''\n",
    "    retrieve data from Github (repo_link). We should firstly search for the languages, then sort them such that the first few repositories contain enough files.\n",
    "    After this, we can pass it as the repo_link.\n",
    "    '''\n",
    "    from selenium import webdriver\n",
    "    import git\n",
    "    drive = webdriver.Firefox(executable_path = r'/home/qc/Downloads/geckodriver')\n",
    "    drive.get(repo_link)\n",
    "    hrefs = []\n",
    "    for i in range(num_page):\n",
    "        \n",
    "        xpaths = drive.find_elements_by_xpath('//*[contains(concat( \" \", @class, \" \" ), concat( \" \", \"v-align-middle\", \" \" ))]')\n",
    "        for ele in xpaths:\n",
    "            hrefs.append(ele.get_attribute('href'))\n",
    "        drive.find_element_by_link_text('Next').click()\n",
    "        drive.get(drive.current_url)\n",
    "    hrefs = list(filter(None.__ne__, hrefs))\n",
    "    [git.Git(local_link).clone(href) for href in hrefs]\n",
    "    drive.close()"
   ]
  },
  {
   "cell_type": "code",
   "execution_count": 158,
   "metadata": {
    "scrolled": true
   },
   "outputs": [],
   "source": [
    "github_download(4, 'https://github.com/search?l=Java&o=desc&p=1&q=java&s=forks&type=Repositories', '/home/qc/Documents/blueoptima/java')"
   ]
  },
  {
   "cell_type": "code",
   "execution_count": null,
   "metadata": {},
   "outputs": [],
   "source": [
    "github_download(4, 'https://github.com/search?l=C%23&q=C%23&type=Repositories', '/home/qc/Documents/blueoptima/c#')"
   ]
  },
  {
   "cell_type": "code",
   "execution_count": 18,
   "metadata": {},
   "outputs": [],
   "source": [
    "github_download(1, 'https://github.com/search?l=Python&o=desc&p=4&q=python&s=forks&type=Repositories', '/home/qc/Documents/blueoptima/python')"
   ]
  },
  {
   "cell_type": "code",
   "execution_count": 9,
   "metadata": {
    "scrolled": true
   },
   "outputs": [],
   "source": [
    "github_download(4, 'https://github.com/search?l=Java&o=desc&q=java&s=stars&type=Repositories', '/home/qc/Documents/blueoptima/java')"
   ]
  },
  {
   "cell_type": "code",
   "execution_count": 1,
   "metadata": {},
   "outputs": [],
   "source": [
    "def files_retrieve(extensions):\n",
    "    import glob, re\n",
    "    out = []\n",
    "    for extension in extensions:\n",
    "        temp = []\n",
    "        path = '/home/qc/Downloads/blueoptima/blueoptima_data/'\n",
    "        count = len(re.findall(r'\\w+', extension))\n",
    "        if count > 1 :    \n",
    "            for ele in extension.split():\n",
    "                temp.extend([f for f in glob.glob(path + \"**/*\" + ele, recursive = True)])\n",
    "        else:\n",
    "            temp = [f for f in glob.glob(path + '**/*' + extension, recursive = True)]\n",
    "        \n",
    "        out.append(temp)\n",
    "    return out"
   ]
  },
  {
   "cell_type": "code",
   "execution_count": 2,
   "metadata": {},
   "outputs": [],
   "source": [
    "# I may need to change the folder directory\n",
    "import os\n",
    "os.chdir('/home/qc/Downloads/blueoptima/blueoptima_data')\n",
    "extensions = ['.java', \n",
    "              '.py', \n",
    "              '.cs', \n",
    "              '.c .cc .cpp .h .hpp']\n",
    "files = files_retrieve(extensions)"
   ]
  },
  {
   "cell_type": "code",
   "execution_count": 24,
   "metadata": {},
   "outputs": [
    {
     "name": "stdout",
     "output_type": "stream",
     "text": [
      "141594\n",
      "26353\n",
      "116531\n",
      "15321\n"
     ]
    },
    {
     "data": {
      "text/plain": [
       "[None, None, None, None]"
      ]
     },
     "execution_count": 24,
     "metadata": {},
     "output_type": "execute_result"
    }
   ],
   "source": [
    "[print(len(f)) for f in files]"
   ]
  },
  {
   "cell_type": "code",
   "execution_count": 5,
   "metadata": {},
   "outputs": [],
   "source": [
    "# # I tried to split the files into separate small files because\n",
    "# # the tokenization and exploration is too slow (and kernal always dies or running out of memory)\n",
    "# # but then I tried to truncate the files and random sampling method\n",
    "# # so there is no need for the code snippet below.\n",
    "# import csv\n",
    "# for counter, file in enumerate(files):\n",
    "#     data = []\n",
    "#     for l in file:\n",
    "#         try:\n",
    "#             data.append([open(l).read(), extensions[counter]])\n",
    "#         except:\n",
    "#             pass\n",
    "#     with open(f\"data_sub{counter}.csv\", \"w\") as fo:\n",
    "#         writer = csv.writer(fo)\n",
    "#         writer.writerows(data)\n",
    "\n",
    "# # split data for each labels\n",
    "# import numpy as np\n",
    "# for counter in range(len(extensions)):\n",
    "#     data = read_csv(f'data_sub{counter}.csv')\n",
    "#     NUMBER_OF_SPLITS = round(data.shape[0]/10000)\n",
    "#     for i, new_df in enumerate(np.array_split(data,NUMBER_OF_SPLITS)):\n",
    "#         with open(f\"datasub{counter}_split{i}.csv\",\"w\") as fo:\n",
    "#             fo.write(new_df.to_csv())\n",
    "\n",
    "# import os\n",
    "# os.chdir('/home/qc/Downloads/blueoptima/blueoptima_data')\n",
    "\n",
    "# def unigram_retrieve(data_url):\n",
    "#     from nltk.tokenize import word_tokenize \n",
    "#     import pandas as pd\n",
    "#     out = []\n",
    "#     data = pd.read_csv(data_url)\n",
    "# #     label = data.iloc[0, 2]\n",
    "#     for rows in data.iloc[:, 1]:\n",
    "#         try:\n",
    "#             out.append(word_tokenize(rows))\n",
    "#         except:\n",
    "#             pass\n",
    "#     return out    \n",
    "\n",
    "# url0 = '../splitted_final_data/datasub0_split0.csv'\n",
    "# url1 = '../splitted_final_data/datasub1_split2.csv'\n",
    "# url2 = '../splitted_final_data/datasub2_split0.csv'\n",
    "# url3 = '../splitted_final_data/datasub3_split1.csv'"
   ]
  },
  {
   "cell_type": "markdown",
   "metadata": {},
   "source": [
    "Below is the code to retrieve data from code directly rather repository as a whole. However, it is quite unstable and slow so I abondoned it"
   ]
  },
  {
   "cell_type": "code",
   "execution_count": null,
   "metadata": {},
   "outputs": [],
   "source": [
    "# import nltk\n",
    "# # nltk.download('punkt')\n",
    "\n",
    "# from selenium import webdriver\n",
    "# import git\n",
    "# drive = webdriver.Firefox(executable_path = r'/home/qc/Downloads/geckodriver')\n",
    "# drive.get('https://github.com/search?l=Java&q=code&type=Code')\n",
    "\n",
    "# I need to separate the above block from the rest because I need to sign in\n",
    "\n",
    "# def web_code_retrieve(repo_url, num_pages):\n",
    "#     from selenium import webdriver\n",
    "# #     import urllib\n",
    "#     from urllib.request import urlopen\n",
    "# #     from contextlib import closing\n",
    "#     hrefs = []\n",
    "#     code_text = []\n",
    "#     for num_page in range(num_pages):\n",
    "#         Xpaths = drive.find_elements_by_xpath('//*[contains(concat( \" \", @class, \" \" ), concat( \" \", \"col-10\", \" \" ))]')\n",
    "#         for Xpath in Xpaths:\n",
    "#             url = Xpath.find_elements_by_tag_name('a')[1].get_attribute('href')\n",
    "#             url = re.sub('/blob/', '/', url)\n",
    "#             url = re.sub('github.com', 'raw.githubusercontent.com', url)\n",
    "#             code_text.append(urlopen(url).read())\n",
    "#             hrefs.append(url)\n",
    "#         drive.find_element_by_link_text('Next').click()\n",
    "#         drive.get(drive.current_url)\n",
    "#     return [hrefs, code_text]\n",
    "\n",
    "# result = web_code_retrieve('https://github.com/search?l=Java&q=java&type=Code', 1000)"
   ]
  }
 ],
 "metadata": {
  "kernelspec": {
   "display_name": "Python 3",
   "language": "python",
   "name": "python3"
  },
  "language_info": {
   "codemirror_mode": {
    "name": "ipython",
    "version": 3
   },
   "file_extension": ".py",
   "mimetype": "text/x-python",
   "name": "python",
   "nbconvert_exporter": "python",
   "pygments_lexer": "ipython3",
   "version": "3.6.7"
  }
 },
 "nbformat": 4,
 "nbformat_minor": 2
}
