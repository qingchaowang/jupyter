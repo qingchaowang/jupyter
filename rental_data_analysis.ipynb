{
 "cells": [
  {
   "cell_type": "markdown",
   "metadata": {},
   "source": [
    "## Introduction: data import and preliminary investigation"
   ]
  },
  {
   "cell_type": "code",
   "execution_count": 1,
   "metadata": {},
   "outputs": [],
   "source": [
    "import warnings\n",
    "warnings.filterwarnings('ignore')"
   ]
  },
  {
   "cell_type": "code",
   "execution_count": 2,
   "metadata": {},
   "outputs": [],
   "source": [
    "import os\n",
    "os.chdir('/home/qc/modelling_projects/data')"
   ]
  },
  {
   "cell_type": "code",
   "execution_count": 3,
   "metadata": {
    "scrolled": false
   },
   "outputs": [],
   "source": [
    "import pandas as pd\n",
    "import numpy as np"
   ]
  },
  {
   "cell_type": "code",
   "execution_count": 4,
   "metadata": {},
   "outputs": [
    {
     "data": {
      "text/html": [
       "<div>\n",
       "<style scoped>\n",
       "    .dataframe tbody tr th:only-of-type {\n",
       "        vertical-align: middle;\n",
       "    }\n",
       "\n",
       "    .dataframe tbody tr th {\n",
       "        vertical-align: top;\n",
       "    }\n",
       "\n",
       "    .dataframe thead th {\n",
       "        text-align: right;\n",
       "    }\n",
       "</style>\n",
       "<table border=\"1\" class=\"dataframe\">\n",
       "  <thead>\n",
       "    <tr style=\"text-align: right;\">\n",
       "      <th></th>\n",
       "      <th>contract_id</th>\n",
       "      <th>name</th>\n",
       "      <th>surname</th>\n",
       "      <th>dob</th>\n",
       "      <th>postcode</th>\n",
       "      <th>rent</th>\n",
       "      <th>contract_start</th>\n",
       "      <th>contract_end</th>\n",
       "    </tr>\n",
       "  </thead>\n",
       "  <tbody>\n",
       "    <tr>\n",
       "      <th>0</th>\n",
       "      <td>1465348858</td>\n",
       "      <td>Charlie</td>\n",
       "      <td>Jones</td>\n",
       "      <td>1980-02-29</td>\n",
       "      <td>W13 9DF</td>\n",
       "      <td>2180.0</td>\n",
       "      <td>2016-06-08</td>\n",
       "      <td>NaT</td>\n",
       "    </tr>\n",
       "    <tr>\n",
       "      <th>1</th>\n",
       "      <td>1512527932</td>\n",
       "      <td>Megan</td>\n",
       "      <td>Harding</td>\n",
       "      <td>1980-01-01</td>\n",
       "      <td>EC1V0LA</td>\n",
       "      <td>3140.0</td>\n",
       "      <td>2017-12-06</td>\n",
       "      <td>NaT</td>\n",
       "    </tr>\n",
       "    <tr>\n",
       "      <th>2</th>\n",
       "      <td>1364692954</td>\n",
       "      <td>Laura</td>\n",
       "      <td>Baker</td>\n",
       "      <td>1989-10-14</td>\n",
       "      <td>TW3 1TS</td>\n",
       "      <td>940.0</td>\n",
       "      <td>2013-03-31</td>\n",
       "      <td>NaT</td>\n",
       "    </tr>\n",
       "    <tr>\n",
       "      <th>3</th>\n",
       "      <td>1359165099</td>\n",
       "      <td>Adam</td>\n",
       "      <td>Richardson</td>\n",
       "      <td>1992-12-07</td>\n",
       "      <td>SE1 8YD</td>\n",
       "      <td>2240.0</td>\n",
       "      <td>2013-01-26</td>\n",
       "      <td>2015-04-25</td>\n",
       "    </tr>\n",
       "    <tr>\n",
       "      <th>4</th>\n",
       "      <td>1430526767</td>\n",
       "      <td>Mussammed</td>\n",
       "      <td>Carr</td>\n",
       "      <td>1978-06-03</td>\n",
       "      <td>SW159EL</td>\n",
       "      <td>2320.0</td>\n",
       "      <td>2015-05-02</td>\n",
       "      <td>NaT</td>\n",
       "    </tr>\n",
       "  </tbody>\n",
       "</table>\n",
       "</div>"
      ],
      "text/plain": [
       "   contract_id       name     surname         dob postcode    rent  \\\n",
       "0   1465348858    Charlie       Jones  1980-02-29  W13 9DF  2180.0   \n",
       "1   1512527932      Megan     Harding  1980-01-01  EC1V0LA  3140.0   \n",
       "2   1364692954      Laura       Baker  1989-10-14  TW3 1TS   940.0   \n",
       "3   1359165099       Adam  Richardson  1992-12-07  SE1 8YD  2240.0   \n",
       "4   1430526767  Mussammed        Carr  1978-06-03  SW159EL  2320.0   \n",
       "\n",
       "  contract_start contract_end  \n",
       "0     2016-06-08          NaT  \n",
       "1     2017-12-06          NaT  \n",
       "2     2013-03-31          NaT  \n",
       "3     2013-01-26   2015-04-25  \n",
       "4     2015-05-02          NaT  "
      ]
     },
     "execution_count": 4,
     "metadata": {},
     "output_type": "execute_result"
    }
   ],
   "source": [
    "contracts_data = pd.read_csv('contracts.csv', parse_dates = ['contract_start', 'contract_end'])\n",
    "contracts_data.head()"
   ]
  },
  {
   "cell_type": "markdown",
   "metadata": {},
   "source": [
    "I assume that the combination of name, surname and dob (name this new variable as id) can be enough to identify a tenant."
   ]
  },
  {
   "cell_type": "code",
   "execution_count": 5,
   "metadata": {},
   "outputs": [],
   "source": [
    "contracts_data['id'] = contracts_data['name'] + ' ' + contracts_data['surname'] + ' ' + contracts_data['dob'] "
   ]
  },
  {
   "cell_type": "code",
   "execution_count": 6,
   "metadata": {},
   "outputs": [],
   "source": [
    "contracts_data.drop(['name',  'surname', 'dob'], axis=1, inplace=True)\n",
    "contracts_data.sort_values(['id', 'contract_start'], inplace=True)"
   ]
  },
  {
   "cell_type": "code",
   "execution_count": 7,
   "metadata": {},
   "outputs": [
    {
     "data": {
      "text/plain": [
       "(Timestamp('2012-01-01 00:00:00'), Timestamp('2017-12-31 00:00:00'))"
      ]
     },
     "execution_count": 7,
     "metadata": {},
     "output_type": "execute_result"
    }
   ],
   "source": [
    "contracts_data['contract_start'].min(), contracts_data['contract_end'].max()"
   ]
  },
  {
   "cell_type": "markdown",
   "metadata": {},
   "source": [
    "From the non-nan values, the contract starts as early as 2012-01-01, and it finishes as late as 2017-12-31."
   ]
  },
  {
   "cell_type": "code",
   "execution_count": 8,
   "metadata": {
    "scrolled": false
   },
   "outputs": [
    {
     "name": "stdout",
     "output_type": "stream",
     "text": [
      "<class 'pandas.core.frame.DataFrame'>\n",
      "Int64Index: 11218 entries, 9587 to 909\n",
      "Data columns (total 6 columns):\n",
      "contract_id       11218 non-null int64\n",
      "postcode          11218 non-null object\n",
      "rent              11218 non-null float64\n",
      "contract_start    11218 non-null datetime64[ns]\n",
      "contract_end      2154 non-null datetime64[ns]\n",
      "id                11218 non-null object\n",
      "dtypes: datetime64[ns](2), float64(1), int64(1), object(2)\n",
      "memory usage: 613.5+ KB\n"
     ]
    }
   ],
   "source": [
    "contracts_data.info()"
   ]
  },
  {
   "cell_type": "markdown",
   "metadata": {},
   "source": [
    "**However, there is missing values for contract_end, currently I am not sure what these missing value represent.**\n",
    "\n",
    "I will investigate the meaning of the missing values in Section 6."
   ]
  },
  {
   "cell_type": "code",
   "execution_count": 9,
   "metadata": {
    "scrolled": false
   },
   "outputs": [
    {
     "data": {
      "text/html": [
       "<div>\n",
       "<style scoped>\n",
       "    .dataframe tbody tr th:only-of-type {\n",
       "        vertical-align: middle;\n",
       "    }\n",
       "\n",
       "    .dataframe tbody tr th {\n",
       "        vertical-align: top;\n",
       "    }\n",
       "\n",
       "    .dataframe thead th {\n",
       "        text-align: right;\n",
       "    }\n",
       "</style>\n",
       "<table border=\"1\" class=\"dataframe\">\n",
       "  <thead>\n",
       "    <tr style=\"text-align: right;\">\n",
       "      <th></th>\n",
       "      <th>contract_id</th>\n",
       "      <th>Payment_date</th>\n",
       "      <th>Amount</th>\n",
       "      <th>payment_method</th>\n",
       "    </tr>\n",
       "  </thead>\n",
       "  <tbody>\n",
       "    <tr>\n",
       "      <th>0</th>\n",
       "      <td>1440889200</td>\n",
       "      <td>2015-08-30</td>\n",
       "      <td>14850.0</td>\n",
       "      <td>DIRECT_DEBIT</td>\n",
       "    </tr>\n",
       "    <tr>\n",
       "      <th>1</th>\n",
       "      <td>1440889200</td>\n",
       "      <td>2015-08-30</td>\n",
       "      <td>4950.0</td>\n",
       "      <td>DIRECT_DEBIT</td>\n",
       "    </tr>\n",
       "    <tr>\n",
       "      <th>2</th>\n",
       "      <td>1440889200</td>\n",
       "      <td>2015-10-11</td>\n",
       "      <td>5445.0</td>\n",
       "      <td>DIRECT_DEBIT</td>\n",
       "    </tr>\n",
       "    <tr>\n",
       "      <th>3</th>\n",
       "      <td>1440889200</td>\n",
       "      <td>2015-10-31</td>\n",
       "      <td>4950.0</td>\n",
       "      <td>DIRECT_DEBIT</td>\n",
       "    </tr>\n",
       "    <tr>\n",
       "      <th>4</th>\n",
       "      <td>1440889200</td>\n",
       "      <td>2015-12-13</td>\n",
       "      <td>5445.0</td>\n",
       "      <td>DIRECT_DEBIT</td>\n",
       "    </tr>\n",
       "  </tbody>\n",
       "</table>\n",
       "</div>"
      ],
      "text/plain": [
       "   contract_id Payment_date   Amount payment_method\n",
       "0   1440889200   2015-08-30  14850.0   DIRECT_DEBIT\n",
       "1   1440889200   2015-08-30   4950.0   DIRECT_DEBIT\n",
       "2   1440889200   2015-10-11   5445.0   DIRECT_DEBIT\n",
       "3   1440889200   2015-10-31   4950.0   DIRECT_DEBIT\n",
       "4   1440889200   2015-12-13   5445.0   DIRECT_DEBIT"
      ]
     },
     "execution_count": 9,
     "metadata": {},
     "output_type": "execute_result"
    }
   ],
   "source": [
    "transactions_data = pd.read_csv('transactions.csv', parse_dates = ['Payment_date'])\n",
    "transactions_data.head()"
   ]
  },
  {
   "cell_type": "markdown",
   "metadata": {},
   "source": [
    "The transactions dataset share the same contract_id with contracts data, so I can merge these two datasets based on the contract_id column."
   ]
  },
  {
   "cell_type": "code",
   "execution_count": 10,
   "metadata": {},
   "outputs": [
    {
     "data": {
      "text/plain": [
       "(Timestamp('2014-12-02 00:00:00'), Timestamp('2017-12-31 00:00:00'))"
      ]
     },
     "execution_count": 10,
     "metadata": {},
     "output_type": "execute_result"
    }
   ],
   "source": [
    "transactions_data.Payment_date.min(), transactions_data.Payment_date.max()"
   ]
  },
  {
   "cell_type": "markdown",
   "metadata": {},
   "source": [
    "The trasactions dataset ranges from 2014-12-02 through 2017-12-31. The coincidence between transaction data end and contract data end is actually not coincidencial and can be used to investigate the missing values for contract_end, as I shall show in Section 6."
   ]
  },
  {
   "cell_type": "code",
   "execution_count": 11,
   "metadata": {
    "scrolled": true
   },
   "outputs": [
    {
     "name": "stdout",
     "output_type": "stream",
     "text": [
      "<class 'pandas.core.frame.DataFrame'>\n",
      "RangeIndex: 270761 entries, 0 to 270760\n",
      "Data columns (total 4 columns):\n",
      "contract_id       270761 non-null int64\n",
      "Payment_date      270560 non-null datetime64[ns]\n",
      "Amount            270245 non-null float64\n",
      "payment_method    270761 non-null object\n",
      "dtypes: datetime64[ns](1), float64(1), int64(1), object(1)\n",
      "memory usage: 8.3+ MB\n"
     ]
    }
   ],
   "source": [
    "transactions_data.info()"
   ]
  },
  {
   "cell_type": "markdown",
   "metadata": {},
   "source": [
    "Payment_date and Amount contain missing values. I shall discuss the meaning of these values in Section 9 and 10."
   ]
  },
  {
   "cell_type": "markdown",
   "metadata": {},
   "source": [
    "## 1. How many unique contracts are there in total?"
   ]
  },
  {
   "cell_type": "code",
   "execution_count": 12,
   "metadata": {
    "scrolled": true
   },
   "outputs": [
    {
     "data": {
      "text/plain": [
       "11218"
      ]
     },
     "execution_count": 12,
     "metadata": {},
     "output_type": "execute_result"
    }
   ],
   "source": [
    "contracts_data['contract_id'].nunique()"
   ]
  },
  {
   "cell_type": "markdown",
   "metadata": {},
   "source": [
    "## 2. How many unique contracts are there with a link to transaction information?"
   ]
  },
  {
   "cell_type": "code",
   "execution_count": 13,
   "metadata": {},
   "outputs": [],
   "source": [
    "contracts_transactions_data = pd.merge(contracts_data, transactions_data, on='contract_id')\n",
    "\n",
    "contracts_transactions_data.sort_values(['id', 'contract_start'], inplace=True)"
   ]
  },
  {
   "cell_type": "code",
   "execution_count": 14,
   "metadata": {},
   "outputs": [
    {
     "data": {
      "text/plain": [
       "11165"
      ]
     },
     "execution_count": 14,
     "metadata": {},
     "output_type": "execute_result"
    }
   ],
   "source": [
    "contracts_transactions_data['contract_id'].nunique()"
   ]
  },
  {
   "cell_type": "markdown",
   "metadata": {},
   "source": [
    "## 3. How many unique tenants?"
   ]
  },
  {
   "cell_type": "code",
   "execution_count": 15,
   "metadata": {
    "scrolled": true
   },
   "outputs": [
    {
     "data": {
      "text/plain": [
       "10000"
      ]
     },
     "execution_count": 15,
     "metadata": {},
     "output_type": "execute_result"
    }
   ],
   "source": [
    "contracts_data.id.nunique()"
   ]
  },
  {
   "cell_type": "code",
   "execution_count": 16,
   "metadata": {
    "scrolled": true
   },
   "outputs": [
    {
     "data": {
      "text/plain": [
       "9951"
      ]
     },
     "execution_count": 16,
     "metadata": {},
     "output_type": "execute_result"
    }
   ],
   "source": [
    "contracts_transactions_data.id.nunique()"
   ]
  },
  {
   "cell_type": "markdown",
   "metadata": {},
   "source": [
    "It seems there are 10000 unique tenants in total but only 9951 of them have transaction record."
   ]
  },
  {
   "cell_type": "code",
   "execution_count": 34,
   "metadata": {
    "scrolled": false
   },
   "outputs": [
    {
     "data": {
      "text/plain": [
       "(53,)"
      ]
     },
     "execution_count": 34,
     "metadata": {},
     "output_type": "execute_result"
    }
   ],
   "source": [
    "# list the contract_id which do not have transaction records\n",
    "exclusive_contract_id = contracts_data[~contracts_data.contract_id.isin(contracts_transactions_data.contract_id)]['id']\n",
    "\n",
    "exclusive_contract_id.shape"
   ]
  },
  {
   "cell_type": "code",
   "execution_count": 35,
   "metadata": {},
   "outputs": [
    {
     "data": {
      "text/plain": [
       "(49,)"
      ]
     },
     "execution_count": 35,
     "metadata": {},
     "output_type": "execute_result"
    }
   ],
   "source": [
    "# list the tenant_id which do not have transaction records\n",
    "exclusive_id = contracts_data[~contracts_data.id.isin(contracts_transactions_data.id)]['id']\n",
    "\n",
    "exclusive_id.shape"
   ]
  },
  {
   "cell_type": "code",
   "execution_count": 36,
   "metadata": {},
   "outputs": [],
   "source": [
    "idx = exclusive_contract_id[~exclusive_contract_id.index.isin(exclusive_id.index)]"
   ]
  },
  {
   "cell_type": "code",
   "execution_count": 37,
   "metadata": {
    "collapsed": true
   },
   "outputs": [
    {
     "data": {
      "text/html": [
       "<div>\n",
       "<style scoped>\n",
       "    .dataframe tbody tr th:only-of-type {\n",
       "        vertical-align: middle;\n",
       "    }\n",
       "\n",
       "    .dataframe tbody tr th {\n",
       "        vertical-align: top;\n",
       "    }\n",
       "\n",
       "    .dataframe thead th {\n",
       "        text-align: right;\n",
       "    }\n",
       "</style>\n",
       "<table border=\"1\" class=\"dataframe\">\n",
       "  <thead>\n",
       "    <tr style=\"text-align: right;\">\n",
       "      <th></th>\n",
       "      <th>id</th>\n",
       "      <th>contract_start</th>\n",
       "      <th>contract_end</th>\n",
       "    </tr>\n",
       "  </thead>\n",
       "  <tbody>\n",
       "    <tr>\n",
       "      <th>2760</th>\n",
       "      <td>Aaron Parsons 1990-12-25</td>\n",
       "      <td>2012-11-12</td>\n",
       "      <td>2017-11-04</td>\n",
       "    </tr>\n",
       "    <tr>\n",
       "      <th>63</th>\n",
       "      <td>Aaron Parsons 1990-12-25</td>\n",
       "      <td>2017-11-05</td>\n",
       "      <td>NaT</td>\n",
       "    </tr>\n",
       "    <tr>\n",
       "      <th>2937</th>\n",
       "      <td>Chloe Thomas 1973-08-15</td>\n",
       "      <td>2014-07-19</td>\n",
       "      <td>2017-11-11</td>\n",
       "    </tr>\n",
       "    <tr>\n",
       "      <th>7950</th>\n",
       "      <td>Chloe Thomas 1973-08-15</td>\n",
       "      <td>2017-11-12</td>\n",
       "      <td>NaT</td>\n",
       "    </tr>\n",
       "    <tr>\n",
       "      <th>692</th>\n",
       "      <td>Connor Mellor 1951-06-29</td>\n",
       "      <td>2014-08-02</td>\n",
       "      <td>2017-11-25</td>\n",
       "    </tr>\n",
       "    <tr>\n",
       "      <th>1572</th>\n",
       "      <td>Connor Mellor 1951-06-29</td>\n",
       "      <td>2017-11-26</td>\n",
       "      <td>NaT</td>\n",
       "    </tr>\n",
       "    <tr>\n",
       "      <th>2949</th>\n",
       "      <td>Stephanie Davidson 1976-08-05</td>\n",
       "      <td>2014-02-04</td>\n",
       "      <td>2017-11-27</td>\n",
       "    </tr>\n",
       "    <tr>\n",
       "      <th>10490</th>\n",
       "      <td>Stephanie Davidson 1976-08-05</td>\n",
       "      <td>2017-11-28</td>\n",
       "      <td>NaT</td>\n",
       "    </tr>\n",
       "  </tbody>\n",
       "</table>\n",
       "</div>"
      ],
      "text/plain": [
       "                                  id contract_start contract_end\n",
       "2760        Aaron Parsons 1990-12-25     2012-11-12   2017-11-04\n",
       "63          Aaron Parsons 1990-12-25     2017-11-05          NaT\n",
       "2937         Chloe Thomas 1973-08-15     2014-07-19   2017-11-11\n",
       "7950         Chloe Thomas 1973-08-15     2017-11-12          NaT\n",
       "692         Connor Mellor 1951-06-29     2014-08-02   2017-11-25\n",
       "1572        Connor Mellor 1951-06-29     2017-11-26          NaT\n",
       "2949   Stephanie Davidson 1976-08-05     2014-02-04   2017-11-27\n",
       "10490  Stephanie Davidson 1976-08-05     2017-11-28          NaT"
      ]
     },
     "execution_count": 37,
     "metadata": {},
     "output_type": "execute_result"
    }
   ],
   "source": [
    "contracts_data[contracts_data['id'].isin(idx)][['id', 'contract_start', 'contract_end']].drop_duplicates()"
   ]
  },
  {
   "cell_type": "code",
   "execution_count": 39,
   "metadata": {},
   "outputs": [
    {
     "data": {
      "text/html": [
       "<div>\n",
       "<style scoped>\n",
       "    .dataframe tbody tr th:only-of-type {\n",
       "        vertical-align: middle;\n",
       "    }\n",
       "\n",
       "    .dataframe tbody tr th {\n",
       "        vertical-align: top;\n",
       "    }\n",
       "\n",
       "    .dataframe thead th {\n",
       "        text-align: right;\n",
       "    }\n",
       "</style>\n",
       "<table border=\"1\" class=\"dataframe\">\n",
       "  <thead>\n",
       "    <tr style=\"text-align: right;\">\n",
       "      <th></th>\n",
       "      <th>id</th>\n",
       "      <th>contract_start</th>\n",
       "      <th>contract_end</th>\n",
       "    </tr>\n",
       "  </thead>\n",
       "  <tbody>\n",
       "    <tr>\n",
       "      <th>1158</th>\n",
       "      <td>Aaron Parsons 1990-12-25</td>\n",
       "      <td>2017-11-05</td>\n",
       "      <td>NaT</td>\n",
       "    </tr>\n",
       "    <tr>\n",
       "      <th>52288</th>\n",
       "      <td>Chloe Thomas 1973-08-15</td>\n",
       "      <td>2017-11-12</td>\n",
       "      <td>NaT</td>\n",
       "    </tr>\n",
       "    <tr>\n",
       "      <th>55857</th>\n",
       "      <td>Connor Mellor 1951-06-29</td>\n",
       "      <td>2017-11-26</td>\n",
       "      <td>NaT</td>\n",
       "    </tr>\n",
       "    <tr>\n",
       "      <th>246842</th>\n",
       "      <td>Stephanie Davidson 1976-08-05</td>\n",
       "      <td>2017-11-28</td>\n",
       "      <td>NaT</td>\n",
       "    </tr>\n",
       "  </tbody>\n",
       "</table>\n",
       "</div>"
      ],
      "text/plain": [
       "                                   id contract_start contract_end\n",
       "1158         Aaron Parsons 1990-12-25     2017-11-05          NaT\n",
       "52288         Chloe Thomas 1973-08-15     2017-11-12          NaT\n",
       "55857        Connor Mellor 1951-06-29     2017-11-26          NaT\n",
       "246842  Stephanie Davidson 1976-08-05     2017-11-28          NaT"
      ]
     },
     "execution_count": 39,
     "metadata": {},
     "output_type": "execute_result"
    }
   ],
   "source": [
    "contracts_transactions_data[contracts_transactions_data['id'].isin(idx)][['id', 'contract_start', 'contract_end']].drop_duplicates()"
   ]
  },
  {
   "cell_type": "code",
   "execution_count": 44,
   "metadata": {
    "collapsed": true
   },
   "outputs": [
    {
     "name": "stdout",
     "output_type": "stream",
     "text": [
      "49\n"
     ]
    },
    {
     "data": {
      "text/html": [
       "<div>\n",
       "<style scoped>\n",
       "    .dataframe tbody tr th:only-of-type {\n",
       "        vertical-align: middle;\n",
       "    }\n",
       "\n",
       "    .dataframe tbody tr th {\n",
       "        vertical-align: top;\n",
       "    }\n",
       "\n",
       "    .dataframe thead th {\n",
       "        text-align: right;\n",
       "    }\n",
       "</style>\n",
       "<table border=\"1\" class=\"dataframe\">\n",
       "  <thead>\n",
       "    <tr style=\"text-align: right;\">\n",
       "      <th></th>\n",
       "      <th>contract_id</th>\n",
       "      <th>postcode</th>\n",
       "      <th>rent</th>\n",
       "      <th>contract_start</th>\n",
       "      <th>contract_end</th>\n",
       "      <th>id</th>\n",
       "    </tr>\n",
       "  </thead>\n",
       "  <tbody>\n",
       "    <tr>\n",
       "      <th>7633</th>\n",
       "      <td>1389052841</td>\n",
       "      <td>HA8 8GS</td>\n",
       "      <td>3344.0</td>\n",
       "      <td>2014-01-07</td>\n",
       "      <td>NaT</td>\n",
       "      <td>Alana Watson 1992-11-13</td>\n",
       "    </tr>\n",
       "    <tr>\n",
       "      <th>4819</th>\n",
       "      <td>1410130824</td>\n",
       "      <td>NW103UE</td>\n",
       "      <td>1353.0</td>\n",
       "      <td>2014-09-08</td>\n",
       "      <td>NaT</td>\n",
       "      <td>Alexander Gordon 1991-07-02</td>\n",
       "    </tr>\n",
       "    <tr>\n",
       "      <th>6014</th>\n",
       "      <td>1365375631</td>\n",
       "      <td>N16 7BT</td>\n",
       "      <td>1683.0</td>\n",
       "      <td>2013-04-08</td>\n",
       "      <td>NaT</td>\n",
       "      <td>Alexandra Collins 1978-06-06</td>\n",
       "    </tr>\n",
       "    <tr>\n",
       "      <th>5427</th>\n",
       "      <td>1339023628</td>\n",
       "      <td>SW8 4JG</td>\n",
       "      <td>1947.0</td>\n",
       "      <td>2012-06-07</td>\n",
       "      <td>NaT</td>\n",
       "      <td>Amy Freeman 1974-11-29</td>\n",
       "    </tr>\n",
       "    <tr>\n",
       "      <th>496</th>\n",
       "      <td>1375830002</td>\n",
       "      <td>N12 0NZ</td>\n",
       "      <td>2816.0</td>\n",
       "      <td>2013-08-07</td>\n",
       "      <td>NaT</td>\n",
       "      <td>Amy Rose 1951-02-15</td>\n",
       "    </tr>\n",
       "    <tr>\n",
       "      <th>790</th>\n",
       "      <td>1425513604</td>\n",
       "      <td>NW1W7HX</td>\n",
       "      <td>1529.0</td>\n",
       "      <td>2015-03-05</td>\n",
       "      <td>NaT</td>\n",
       "      <td>Anabel Stone 1986-06-26</td>\n",
       "    </tr>\n",
       "    <tr>\n",
       "      <th>9075</th>\n",
       "      <td>1367794843</td>\n",
       "      <td>SW8 3JW</td>\n",
       "      <td>1749.0</td>\n",
       "      <td>2013-05-06</td>\n",
       "      <td>NaT</td>\n",
       "      <td>Antony Bailey 1965-01-23</td>\n",
       "    </tr>\n",
       "    <tr>\n",
       "      <th>2873</th>\n",
       "      <td>1396911613</td>\n",
       "      <td>HA8 7LF</td>\n",
       "      <td>1232.0</td>\n",
       "      <td>2014-04-08</td>\n",
       "      <td>NaT</td>\n",
       "      <td>Ava Davies 1972-07-20</td>\n",
       "    </tr>\n",
       "    <tr>\n",
       "      <th>5203</th>\n",
       "      <td>1391731226</td>\n",
       "      <td>W1A 2NB</td>\n",
       "      <td>6050.0</td>\n",
       "      <td>2014-02-07</td>\n",
       "      <td>NaT</td>\n",
       "      <td>Benjamin Spencer 1961-12-08</td>\n",
       "    </tr>\n",
       "    <tr>\n",
       "      <th>10667</th>\n",
       "      <td>1344207651</td>\n",
       "      <td>E13 0SB</td>\n",
       "      <td>1199.0</td>\n",
       "      <td>2012-08-06</td>\n",
       "      <td>NaT</td>\n",
       "      <td>Caitlin Howard 1977-05-08</td>\n",
       "    </tr>\n",
       "    <tr>\n",
       "      <th>6901</th>\n",
       "      <td>1425513638</td>\n",
       "      <td>N7  6HB</td>\n",
       "      <td>2332.0</td>\n",
       "      <td>2015-03-05</td>\n",
       "      <td>NaT</td>\n",
       "      <td>Charlotte Webster 1961-02-28</td>\n",
       "    </tr>\n",
       "    <tr>\n",
       "      <th>7178</th>\n",
       "      <td>1424390439</td>\n",
       "      <td>CR0 4DJ</td>\n",
       "      <td>1320.0</td>\n",
       "      <td>2015-02-20</td>\n",
       "      <td>NaT</td>\n",
       "      <td>Charys Roberts 1958-02-08</td>\n",
       "    </tr>\n",
       "    <tr>\n",
       "      <th>1892</th>\n",
       "      <td>1425600009</td>\n",
       "      <td>N1  5WS</td>\n",
       "      <td>6314.0</td>\n",
       "      <td>2015-03-06</td>\n",
       "      <td>NaT</td>\n",
       "      <td>Dominic Fraser 1993-06-07</td>\n",
       "    </tr>\n",
       "    <tr>\n",
       "      <th>10748</th>\n",
       "      <td>1372546852</td>\n",
       "      <td>W7  2WN</td>\n",
       "      <td>1727.0</td>\n",
       "      <td>2013-06-30</td>\n",
       "      <td>NaT</td>\n",
       "      <td>Dylan Barton 1992-12-20</td>\n",
       "    </tr>\n",
       "    <tr>\n",
       "      <th>9157</th>\n",
       "      <td>1376953244</td>\n",
       "      <td>SW6 1UH</td>\n",
       "      <td>2552.0</td>\n",
       "      <td>2013-08-20</td>\n",
       "      <td>NaT</td>\n",
       "      <td>Ella-Mai Iqbal 1990-09-29</td>\n",
       "    </tr>\n",
       "    <tr>\n",
       "      <th>456</th>\n",
       "      <td>1423612801</td>\n",
       "      <td>E17 0NU</td>\n",
       "      <td>1683.0</td>\n",
       "      <td>2015-02-11</td>\n",
       "      <td>NaT</td>\n",
       "      <td>Elliott Whitehead 1962-02-08</td>\n",
       "    </tr>\n",
       "    <tr>\n",
       "      <th>5930</th>\n",
       "      <td>1383436830</td>\n",
       "      <td>SW1W8ZJ</td>\n",
       "      <td>5302.0</td>\n",
       "      <td>2013-11-03</td>\n",
       "      <td>NaT</td>\n",
       "      <td>George Lee 1964-10-07</td>\n",
       "    </tr>\n",
       "    <tr>\n",
       "      <th>6829</th>\n",
       "      <td>1409958037</td>\n",
       "      <td>UB2 5DA</td>\n",
       "      <td>1155.0</td>\n",
       "      <td>2014-09-06</td>\n",
       "      <td>NaT</td>\n",
       "      <td>Giuseppe Coleman 1988-12-29</td>\n",
       "    </tr>\n",
       "    <tr>\n",
       "      <th>85</th>\n",
       "      <td>1330300800</td>\n",
       "      <td>EC4P4DE</td>\n",
       "      <td>2805.0</td>\n",
       "      <td>2012-02-27</td>\n",
       "      <td>NaT</td>\n",
       "      <td>Grace Thompson 1955-06-27</td>\n",
       "    </tr>\n",
       "    <tr>\n",
       "      <th>1007</th>\n",
       "      <td>1373151606</td>\n",
       "      <td>E7  8QX</td>\n",
       "      <td>1782.0</td>\n",
       "      <td>2013-07-07</td>\n",
       "      <td>NaT</td>\n",
       "      <td>Harley Blake 1953-12-19</td>\n",
       "    </tr>\n",
       "    <tr>\n",
       "      <th>5786</th>\n",
       "      <td>1424304029</td>\n",
       "      <td>SW5 9BP</td>\n",
       "      <td>2519.0</td>\n",
       "      <td>2015-02-19</td>\n",
       "      <td>NaT</td>\n",
       "      <td>Harry Barnett 1974-12-11</td>\n",
       "    </tr>\n",
       "    <tr>\n",
       "      <th>10568</th>\n",
       "      <td>1362700849</td>\n",
       "      <td>IG2 7HD</td>\n",
       "      <td>1540.0</td>\n",
       "      <td>2013-03-08</td>\n",
       "      <td>NaT</td>\n",
       "      <td>Harry Chapman 1962-09-05</td>\n",
       "    </tr>\n",
       "    <tr>\n",
       "      <th>3242</th>\n",
       "      <td>1389139216</td>\n",
       "      <td>UB5 5YS</td>\n",
       "      <td>1001.0</td>\n",
       "      <td>2014-01-08</td>\n",
       "      <td>NaT</td>\n",
       "      <td>Isaac Davis 1974-11-15</td>\n",
       "    </tr>\n",
       "    <tr>\n",
       "      <th>4535</th>\n",
       "      <td>1333321223</td>\n",
       "      <td>SE3 0YX</td>\n",
       "      <td>1672.0</td>\n",
       "      <td>2012-04-02</td>\n",
       "      <td>NaT</td>\n",
       "      <td>Jeffrey Hill 1967-03-29</td>\n",
       "    </tr>\n",
       "    <tr>\n",
       "      <th>4174</th>\n",
       "      <td>1424476820</td>\n",
       "      <td>W10 5HR</td>\n",
       "      <td>2134.0</td>\n",
       "      <td>2015-02-21</td>\n",
       "      <td>NaT</td>\n",
       "      <td>Katie Fraser 1964-08-26</td>\n",
       "    </tr>\n",
       "    <tr>\n",
       "      <th>1393</th>\n",
       "      <td>1424217608</td>\n",
       "      <td>SE256LS</td>\n",
       "      <td>902.0</td>\n",
       "      <td>2015-02-18</td>\n",
       "      <td>NaT</td>\n",
       "      <td>Kiel Finch 1983-03-29</td>\n",
       "    </tr>\n",
       "    <tr>\n",
       "      <th>3484</th>\n",
       "      <td>1423440018</td>\n",
       "      <td>IG3 8EX</td>\n",
       "      <td>1243.0</td>\n",
       "      <td>2015-02-09</td>\n",
       "      <td>NaT</td>\n",
       "      <td>Kiran Perkins 1950-11-22</td>\n",
       "    </tr>\n",
       "    <tr>\n",
       "      <th>7995</th>\n",
       "      <td>1383868842</td>\n",
       "      <td>W12 8EQ</td>\n",
       "      <td>2420.0</td>\n",
       "      <td>2013-11-08</td>\n",
       "      <td>NaT</td>\n",
       "      <td>Leanne Lewis 1968-10-21</td>\n",
       "    </tr>\n",
       "    <tr>\n",
       "      <th>3653</th>\n",
       "      <td>1396479619</td>\n",
       "      <td>W2  5XU</td>\n",
       "      <td>3212.0</td>\n",
       "      <td>2014-04-03</td>\n",
       "      <td>NaT</td>\n",
       "      <td>Leo Gibson 1955-09-13</td>\n",
       "    </tr>\n",
       "    <tr>\n",
       "      <th>10418</th>\n",
       "      <td>1423440048</td>\n",
       "      <td>UB5 6XT</td>\n",
       "      <td>946.0</td>\n",
       "      <td>2015-02-09</td>\n",
       "      <td>NaT</td>\n",
       "      <td>Lily Gill 1987-06-09</td>\n",
       "    </tr>\n",
       "    <tr>\n",
       "      <th>10236</th>\n",
       "      <td>1396911647</td>\n",
       "      <td>SM5 2ZP</td>\n",
       "      <td>1133.0</td>\n",
       "      <td>2014-04-08</td>\n",
       "      <td>NaT</td>\n",
       "      <td>Luchia Smith 1974-05-25</td>\n",
       "    </tr>\n",
       "    <tr>\n",
       "      <th>10664</th>\n",
       "      <td>1336431650</td>\n",
       "      <td>CR8 2DY</td>\n",
       "      <td>1441.0</td>\n",
       "      <td>2012-05-08</td>\n",
       "      <td>NaT</td>\n",
       "      <td>Luke Leonard 1988-07-03</td>\n",
       "    </tr>\n",
       "    <tr>\n",
       "      <th>6061</th>\n",
       "      <td>1404687633</td>\n",
       "      <td>SW6 7JE</td>\n",
       "      <td>5401.0</td>\n",
       "      <td>2014-07-07</td>\n",
       "      <td>NaT</td>\n",
       "      <td>Madeleine Curtis 1954-05-05</td>\n",
       "    </tr>\n",
       "    <tr>\n",
       "      <th>6633</th>\n",
       "      <td>1328659236</td>\n",
       "      <td>WC2E8BU</td>\n",
       "      <td>7040.0</td>\n",
       "      <td>2012-02-08</td>\n",
       "      <td>NaT</td>\n",
       "      <td>Manraj Cooper 1993-01-07</td>\n",
       "    </tr>\n",
       "    <tr>\n",
       "      <th>9208</th>\n",
       "      <td>1373065245</td>\n",
       "      <td>N9  8BD</td>\n",
       "      <td>1375.0</td>\n",
       "      <td>2013-07-06</td>\n",
       "      <td>NaT</td>\n",
       "      <td>Mina Booth 1991-05-10</td>\n",
       "    </tr>\n",
       "    <tr>\n",
       "      <th>3348</th>\n",
       "      <td>1425427217</td>\n",
       "      <td>SE9 5SY</td>\n",
       "      <td>1067.0</td>\n",
       "      <td>2015-03-04</td>\n",
       "      <td>NaT</td>\n",
       "      <td>Natalie Byrne 1993-11-05</td>\n",
       "    </tr>\n",
       "    <tr>\n",
       "      <th>6050</th>\n",
       "      <td>1396566032</td>\n",
       "      <td>EC1R0JG</td>\n",
       "      <td>3102.0</td>\n",
       "      <td>2014-04-04</td>\n",
       "      <td>NaT</td>\n",
       "      <td>Nyla George 1963-11-22</td>\n",
       "    </tr>\n",
       "    <tr>\n",
       "      <th>6097</th>\n",
       "      <td>1358726434</td>\n",
       "      <td>SW139RJ</td>\n",
       "      <td>5566.0</td>\n",
       "      <td>2013-01-21</td>\n",
       "      <td>NaT</td>\n",
       "      <td>Olivia Mann 1962-10-08</td>\n",
       "    </tr>\n",
       "    <tr>\n",
       "      <th>6119</th>\n",
       "      <td>1344034835</td>\n",
       "      <td>E14 3XG</td>\n",
       "      <td>1617.0</td>\n",
       "      <td>2012-08-04</td>\n",
       "      <td>NaT</td>\n",
       "      <td>Olivia Talbot 1973-02-02</td>\n",
       "    </tr>\n",
       "    <tr>\n",
       "      <th>1266</th>\n",
       "      <td>1375657207</td>\n",
       "      <td>UB8 3QS</td>\n",
       "      <td>1177.0</td>\n",
       "      <td>2013-08-05</td>\n",
       "      <td>NaT</td>\n",
       "      <td>Olivier Johnson 1976-05-18</td>\n",
       "    </tr>\n",
       "    <tr>\n",
       "      <th>855</th>\n",
       "      <td>1336431605</td>\n",
       "      <td>WC2E9LR</td>\n",
       "      <td>5302.0</td>\n",
       "      <td>2012-05-08</td>\n",
       "      <td>NaT</td>\n",
       "      <td>Oscar Saunders 1950-11-18</td>\n",
       "    </tr>\n",
       "    <tr>\n",
       "      <th>2083</th>\n",
       "      <td>1388102410</td>\n",
       "      <td>NW8 7WE</td>\n",
       "      <td>2310.0</td>\n",
       "      <td>2013-12-27</td>\n",
       "      <td>NaT</td>\n",
       "      <td>Richard Taylor 1973-09-24</td>\n",
       "    </tr>\n",
       "    <tr>\n",
       "      <th>5246</th>\n",
       "      <td>1328140827</td>\n",
       "      <td>SW6 3ES</td>\n",
       "      <td>4620.0</td>\n",
       "      <td>2012-02-02</td>\n",
       "      <td>NaT</td>\n",
       "      <td>Sarah Wells 1969-07-01</td>\n",
       "    </tr>\n",
       "    <tr>\n",
       "      <th>9669</th>\n",
       "      <td>1349650846</td>\n",
       "      <td>SE1 1AX</td>\n",
       "      <td>2046.0</td>\n",
       "      <td>2012-10-08</td>\n",
       "      <td>NaT</td>\n",
       "      <td>Scott Thomas 1951-05-03</td>\n",
       "    </tr>\n",
       "    <tr>\n",
       "      <th>2357</th>\n",
       "      <td>1341702011</td>\n",
       "      <td>RM3 7WS</td>\n",
       "      <td>1001.0</td>\n",
       "      <td>2012-07-08</td>\n",
       "      <td>NaT</td>\n",
       "      <td>Sebastian Hill 1955-05-08</td>\n",
       "    </tr>\n",
       "    <tr>\n",
       "      <th>4207</th>\n",
       "      <td>1396825221</td>\n",
       "      <td>EN4 8LT</td>\n",
       "      <td>2134.0</td>\n",
       "      <td>2014-04-07</td>\n",
       "      <td>NaT</td>\n",
       "      <td>Sienna Walton 1970-09-04</td>\n",
       "    </tr>\n",
       "    <tr>\n",
       "      <th>4857</th>\n",
       "      <td>1354924825</td>\n",
       "      <td>W1W 8QR</td>\n",
       "      <td>4807.0</td>\n",
       "      <td>2012-12-08</td>\n",
       "      <td>NaT</td>\n",
       "      <td>Sophie Farrell 1993-09-10</td>\n",
       "    </tr>\n",
       "    <tr>\n",
       "      <th>4485</th>\n",
       "      <td>1357603222</td>\n",
       "      <td>BR3 3GX</td>\n",
       "      <td>2530.0</td>\n",
       "      <td>2013-01-08</td>\n",
       "      <td>NaT</td>\n",
       "      <td>Thomas Edwards 1980-12-25</td>\n",
       "    </tr>\n",
       "    <tr>\n",
       "      <th>7358</th>\n",
       "      <td>1386201640</td>\n",
       "      <td>HA5 5UB</td>\n",
       "      <td>1210.0</td>\n",
       "      <td>2013-12-05</td>\n",
       "      <td>NaT</td>\n",
       "      <td>Zahra Little 1980-12-10</td>\n",
       "    </tr>\n",
       "  </tbody>\n",
       "</table>\n",
       "</div>"
      ],
      "text/plain": [
       "       contract_id postcode    rent contract_start contract_end  \\\n",
       "7633    1389052841  HA8 8GS  3344.0     2014-01-07          NaT   \n",
       "4819    1410130824  NW103UE  1353.0     2014-09-08          NaT   \n",
       "6014    1365375631  N16 7BT  1683.0     2013-04-08          NaT   \n",
       "5427    1339023628  SW8 4JG  1947.0     2012-06-07          NaT   \n",
       "496     1375830002  N12 0NZ  2816.0     2013-08-07          NaT   \n",
       "790     1425513604  NW1W7HX  1529.0     2015-03-05          NaT   \n",
       "9075    1367794843  SW8 3JW  1749.0     2013-05-06          NaT   \n",
       "2873    1396911613  HA8 7LF  1232.0     2014-04-08          NaT   \n",
       "5203    1391731226  W1A 2NB  6050.0     2014-02-07          NaT   \n",
       "10667   1344207651  E13 0SB  1199.0     2012-08-06          NaT   \n",
       "6901    1425513638  N7  6HB  2332.0     2015-03-05          NaT   \n",
       "7178    1424390439  CR0 4DJ  1320.0     2015-02-20          NaT   \n",
       "1892    1425600009  N1  5WS  6314.0     2015-03-06          NaT   \n",
       "10748   1372546852  W7  2WN  1727.0     2013-06-30          NaT   \n",
       "9157    1376953244  SW6 1UH  2552.0     2013-08-20          NaT   \n",
       "456     1423612801  E17 0NU  1683.0     2015-02-11          NaT   \n",
       "5930    1383436830  SW1W8ZJ  5302.0     2013-11-03          NaT   \n",
       "6829    1409958037  UB2 5DA  1155.0     2014-09-06          NaT   \n",
       "85      1330300800  EC4P4DE  2805.0     2012-02-27          NaT   \n",
       "1007    1373151606  E7  8QX  1782.0     2013-07-07          NaT   \n",
       "5786    1424304029  SW5 9BP  2519.0     2015-02-19          NaT   \n",
       "10568   1362700849  IG2 7HD  1540.0     2013-03-08          NaT   \n",
       "3242    1389139216  UB5 5YS  1001.0     2014-01-08          NaT   \n",
       "4535    1333321223  SE3 0YX  1672.0     2012-04-02          NaT   \n",
       "4174    1424476820  W10 5HR  2134.0     2015-02-21          NaT   \n",
       "1393    1424217608  SE256LS   902.0     2015-02-18          NaT   \n",
       "3484    1423440018  IG3 8EX  1243.0     2015-02-09          NaT   \n",
       "7995    1383868842  W12 8EQ  2420.0     2013-11-08          NaT   \n",
       "3653    1396479619  W2  5XU  3212.0     2014-04-03          NaT   \n",
       "10418   1423440048  UB5 6XT   946.0     2015-02-09          NaT   \n",
       "10236   1396911647  SM5 2ZP  1133.0     2014-04-08          NaT   \n",
       "10664   1336431650  CR8 2DY  1441.0     2012-05-08          NaT   \n",
       "6061    1404687633  SW6 7JE  5401.0     2014-07-07          NaT   \n",
       "6633    1328659236  WC2E8BU  7040.0     2012-02-08          NaT   \n",
       "9208    1373065245  N9  8BD  1375.0     2013-07-06          NaT   \n",
       "3348    1425427217  SE9 5SY  1067.0     2015-03-04          NaT   \n",
       "6050    1396566032  EC1R0JG  3102.0     2014-04-04          NaT   \n",
       "6097    1358726434  SW139RJ  5566.0     2013-01-21          NaT   \n",
       "6119    1344034835  E14 3XG  1617.0     2012-08-04          NaT   \n",
       "1266    1375657207  UB8 3QS  1177.0     2013-08-05          NaT   \n",
       "855     1336431605  WC2E9LR  5302.0     2012-05-08          NaT   \n",
       "2083    1388102410  NW8 7WE  2310.0     2013-12-27          NaT   \n",
       "5246    1328140827  SW6 3ES  4620.0     2012-02-02          NaT   \n",
       "9669    1349650846  SE1 1AX  2046.0     2012-10-08          NaT   \n",
       "2357    1341702011  RM3 7WS  1001.0     2012-07-08          NaT   \n",
       "4207    1396825221  EN4 8LT  2134.0     2014-04-07          NaT   \n",
       "4857    1354924825  W1W 8QR  4807.0     2012-12-08          NaT   \n",
       "4485    1357603222  BR3 3GX  2530.0     2013-01-08          NaT   \n",
       "7358    1386201640  HA5 5UB  1210.0     2013-12-05          NaT   \n",
       "\n",
       "                                 id  \n",
       "7633        Alana Watson 1992-11-13  \n",
       "4819    Alexander Gordon 1991-07-02  \n",
       "6014   Alexandra Collins 1978-06-06  \n",
       "5427         Amy Freeman 1974-11-29  \n",
       "496             Amy Rose 1951-02-15  \n",
       "790         Anabel Stone 1986-06-26  \n",
       "9075       Antony Bailey 1965-01-23  \n",
       "2873          Ava Davies 1972-07-20  \n",
       "5203    Benjamin Spencer 1961-12-08  \n",
       "10667     Caitlin Howard 1977-05-08  \n",
       "6901   Charlotte Webster 1961-02-28  \n",
       "7178      Charys Roberts 1958-02-08  \n",
       "1892      Dominic Fraser 1993-06-07  \n",
       "10748       Dylan Barton 1992-12-20  \n",
       "9157      Ella-Mai Iqbal 1990-09-29  \n",
       "456    Elliott Whitehead 1962-02-08  \n",
       "5930          George Lee 1964-10-07  \n",
       "6829    Giuseppe Coleman 1988-12-29  \n",
       "85        Grace Thompson 1955-06-27  \n",
       "1007        Harley Blake 1953-12-19  \n",
       "5786       Harry Barnett 1974-12-11  \n",
       "10568      Harry Chapman 1962-09-05  \n",
       "3242         Isaac Davis 1974-11-15  \n",
       "4535        Jeffrey Hill 1967-03-29  \n",
       "4174        Katie Fraser 1964-08-26  \n",
       "1393          Kiel Finch 1983-03-29  \n",
       "3484       Kiran Perkins 1950-11-22  \n",
       "7995        Leanne Lewis 1968-10-21  \n",
       "3653          Leo Gibson 1955-09-13  \n",
       "10418          Lily Gill 1987-06-09  \n",
       "10236       Luchia Smith 1974-05-25  \n",
       "10664       Luke Leonard 1988-07-03  \n",
       "6061    Madeleine Curtis 1954-05-05  \n",
       "6633       Manraj Cooper 1993-01-07  \n",
       "9208          Mina Booth 1991-05-10  \n",
       "3348       Natalie Byrne 1993-11-05  \n",
       "6050         Nyla George 1963-11-22  \n",
       "6097         Olivia Mann 1962-10-08  \n",
       "6119       Olivia Talbot 1973-02-02  \n",
       "1266     Olivier Johnson 1976-05-18  \n",
       "855       Oscar Saunders 1950-11-18  \n",
       "2083      Richard Taylor 1973-09-24  \n",
       "5246         Sarah Wells 1969-07-01  \n",
       "9669        Scott Thomas 1951-05-03  \n",
       "2357      Sebastian Hill 1955-05-08  \n",
       "4207       Sienna Walton 1970-09-04  \n",
       "4857      Sophie Farrell 1993-09-10  \n",
       "4485      Thomas Edwards 1980-12-25  \n",
       "7358        Zahra Little 1980-12-10  "
      ]
     },
     "execution_count": 44,
     "metadata": {},
     "output_type": "execute_result"
    }
   ],
   "source": [
    "print(contracts_data[contracts_data['id'].isin(exclusive_id)].shape[0])\n",
    "contracts_data[contracts_data['id'].isin(exclusive_id)]"
   ]
  },
  {
   "cell_type": "markdown",
   "metadata": {},
   "source": [
    "As a result, 4 tenants who have multiple (two) contracts only have one contract in the transaction record. And there are 49 tenants who only have one contract but do not the corresponding transaction record. It is not known why they are recorded in the transaction data."
   ]
  },
  {
   "cell_type": "markdown",
   "metadata": {},
   "source": [
    "## 4. How many tenants with multiple contracts"
   ]
  },
  {
   "cell_type": "markdown",
   "metadata": {},
   "source": [
    "### 4.1 considering contract data only"
   ]
  },
  {
   "cell_type": "code",
   "execution_count": 45,
   "metadata": {
    "scrolled": false
   },
   "outputs": [
    {
     "data": {
      "text/plain": [
       "id\n",
       "Lilly Thomas 1979-01-06       4\n",
       "Archibald Smith 1950-05-21    4\n",
       "Reuban Donnelly 1972-12-01    3\n",
       "Cloe Gray 1978-09-20          3\n",
       "Thomas Barker 1965-11-19      3\n",
       "dtype: int64"
      ]
     },
     "execution_count": 45,
     "metadata": {},
     "output_type": "execute_result"
    }
   ],
   "source": [
    "contracts_per_tenant = contracts_data.groupby('id').size()\n",
    "\n",
    "contracts_per_tenant.sort_values(ascending=False).head()"
   ]
  },
  {
   "cell_type": "markdown",
   "metadata": {},
   "source": [
    "As we can see, there are some tenants having more than 2 contracts."
   ]
  },
  {
   "cell_type": "code",
   "execution_count": 46,
   "metadata": {},
   "outputs": [
    {
     "data": {
      "text/plain": [
       "1146"
      ]
     },
     "execution_count": 46,
     "metadata": {},
     "output_type": "execute_result"
    }
   ],
   "source": [
    "sum(contracts_per_tenant > 1)"
   ]
  },
  {
   "cell_type": "markdown",
   "metadata": {},
   "source": [
    "Out of 10000 tenants, 1146 have multiple contracts."
   ]
  },
  {
   "cell_type": "markdown",
   "metadata": {},
   "source": [
    "### 4.2 considering their link to transaction data"
   ]
  },
  {
   "cell_type": "markdown",
   "metadata": {},
   "source": [
    "We can also check the number of tenants who have multiple contracts with a link to transaction information."
   ]
  },
  {
   "cell_type": "code",
   "execution_count": 47,
   "metadata": {},
   "outputs": [],
   "source": [
    "contracts_per_tenant_transaction = contracts_transactions_data.groupby('id')['contract_id'].nunique()"
   ]
  },
  {
   "cell_type": "code",
   "execution_count": 48,
   "metadata": {},
   "outputs": [
    {
     "name": "stdout",
     "output_type": "stream",
     "text": [
      "1142\n"
     ]
    },
    {
     "data": {
      "text/plain": [
       "id\n",
       "Lilly Thomas 1979-01-06       4\n",
       "Archibald Smith 1950-05-21    4\n",
       "Leah Harris 1993-03-31        3\n",
       "Ella Hyde 1991-12-26          3\n",
       "Jade Daly 1966-08-28          3\n",
       "Alys Simpson 1966-02-09       3\n",
       "Jordan Thompson 1993-08-07    3\n",
       "Kane Elliott 1989-10-19       3\n",
       "Cloe Gray 1978-09-20          3\n",
       "Benjamin Allen 1982-04-03     3\n",
       "Name: contract_id, dtype: int64"
      ]
     },
     "execution_count": 48,
     "metadata": {},
     "output_type": "execute_result"
    }
   ],
   "source": [
    "print(sum(contracts_per_tenant_transaction > 1))\n",
    "contracts_per_tenant_transaction.sort_values(ascending=False).head(10)"
   ]
  },
  {
   "cell_type": "markdown",
   "metadata": {},
   "source": [
    "As a result, out of 9951 tenants, 1142 have multiple contracts. It confirms my previous analysis that there are 4 less multiple contracts."
   ]
  },
  {
   "cell_type": "markdown",
   "metadata": {},
   "source": [
    "### 4.3 continuity of contracts per tenant"
   ]
  },
  {
   "cell_type": "markdown",
   "metadata": {},
   "source": [
    "Before moving onto the next question, I intend to detect whether tenants with multiple contracts have a continuous renting history, i.e. there is no break between different contract for those tenants."
   ]
  },
  {
   "cell_type": "code",
   "execution_count": 49,
   "metadata": {},
   "outputs": [],
   "source": [
    "def check_continuity_func(df):\n",
    "    df_new = df[['contract_start', 'contract_end']].drop_duplicates()\n",
    "    for idx in range(1, df_new.shape[0]):\n",
    "        if (df_new.iloc[idx, 0]-df_new.iloc[idx-1, 1]).days != 1:\n",
    "            return False\n",
    "    return True"
   ]
  },
  {
   "cell_type": "code",
   "execution_count": 50,
   "metadata": {},
   "outputs": [
    {
     "data": {
      "text/plain": [
       "1142"
      ]
     },
     "execution_count": 50,
     "metadata": {},
     "output_type": "execute_result"
    }
   ],
   "source": [
    "multi_contracts_idx = contracts_transactions_data.groupby('id')['contract_id'].nunique()>1\n",
    "multi_contracts_idx = multi_contracts_idx[multi_contracts_idx==True].index\n",
    "\n",
    "multi_contracts_data = contracts_transactions_data[contracts_transactions_data['id'].isin(multi_contracts_idx)]\n",
    "\n",
    "sum(multi_contracts_data.groupby('id').apply(check_continuity_func))"
   ]
  },
  {
   "cell_type": "markdown",
   "metadata": {},
   "source": [
    "As it turns out, all tenants with multiple contracts have a continuous renting history. It will facilitate the analysis in predictive modelling."
   ]
  },
  {
   "cell_type": "markdown",
   "metadata": {},
   "source": [
    "### 5. How many contracts such tenants have?"
   ]
  },
  {
   "cell_type": "markdown",
   "metadata": {},
   "source": [
    "### 5.1 considering contract data only"
   ]
  },
  {
   "cell_type": "code",
   "execution_count": 51,
   "metadata": {},
   "outputs": [
    {
     "data": {
      "text/plain": [
       "2364"
      ]
     },
     "execution_count": 51,
     "metadata": {},
     "output_type": "execute_result"
    }
   ],
   "source": [
    "sum(contracts_per_tenant[contracts_per_tenant > 1])"
   ]
  },
  {
   "cell_type": "markdown",
   "metadata": {},
   "source": [
    "### 5.2 considering their link to transaction data"
   ]
  },
  {
   "cell_type": "code",
   "execution_count": 52,
   "metadata": {},
   "outputs": [
    {
     "data": {
      "text/plain": [
       "2356"
      ]
     },
     "execution_count": 52,
     "metadata": {},
     "output_type": "execute_result"
    }
   ],
   "source": [
    "sum(contracts_per_tenant_transaction[contracts_per_tenant_transaction > 1])"
   ]
  },
  {
   "cell_type": "raw",
   "metadata": {},
   "source": [
    "In total, the number of tenants have multiple contracts are 2364 in the contracts_data. The number of tenants have multiple contracts with transaction history are 2356."
   ]
  },
  {
   "cell_type": "markdown",
   "metadata": {},
   "source": [
    "### 6. How many tenants have a total contract history with less than 3, 6 and 12 months of history, and with at least 18 and 24 months of history?"
   ]
  },
  {
   "cell_type": "markdown",
   "metadata": {},
   "source": [
    "First, we need to analyse for those contract with missing contract_end."
   ]
  },
  {
   "cell_type": "code",
   "execution_count": 53,
   "metadata": {
    "scrolled": false
   },
   "outputs": [
    {
     "data": {
      "text/html": [
       "<div>\n",
       "<style scoped>\n",
       "    .dataframe tbody tr th:only-of-type {\n",
       "        vertical-align: middle;\n",
       "    }\n",
       "\n",
       "    .dataframe tbody tr th {\n",
       "        vertical-align: top;\n",
       "    }\n",
       "\n",
       "    .dataframe thead th {\n",
       "        text-align: right;\n",
       "    }\n",
       "</style>\n",
       "<table border=\"1\" class=\"dataframe\">\n",
       "  <thead>\n",
       "    <tr style=\"text-align: right;\">\n",
       "      <th></th>\n",
       "      <th>postcode</th>\n",
       "      <th>rent</th>\n",
       "      <th>contract_start</th>\n",
       "      <th>contract_end</th>\n",
       "      <th>id</th>\n",
       "      <th>Payment_date</th>\n",
       "      <th>Amount</th>\n",
       "      <th>payment_method</th>\n",
       "    </tr>\n",
       "    <tr>\n",
       "      <th>contract_id</th>\n",
       "      <th></th>\n",
       "      <th></th>\n",
       "      <th></th>\n",
       "      <th></th>\n",
       "      <th></th>\n",
       "      <th></th>\n",
       "      <th></th>\n",
       "      <th></th>\n",
       "    </tr>\n",
       "  </thead>\n",
       "  <tbody>\n",
       "    <tr>\n",
       "      <th>1394068082</th>\n",
       "      <td>UB5 4PJ</td>\n",
       "      <td>810.0</td>\n",
       "      <td>2014-03-06</td>\n",
       "      <td>NaT</td>\n",
       "      <td>Angel Russell 1964-07-26</td>\n",
       "      <td>2017-09-14</td>\n",
       "      <td>891.0</td>\n",
       "      <td>DIRECT_DEBIT</td>\n",
       "    </tr>\n",
       "    <tr>\n",
       "      <th>1396660569</th>\n",
       "      <td>W1G 9AT</td>\n",
       "      <td>4210.0</td>\n",
       "      <td>2014-04-05</td>\n",
       "      <td>NaT</td>\n",
       "      <td>Spencer Kent 1987-03-13</td>\n",
       "      <td>2017-09-17</td>\n",
       "      <td>6315.0</td>\n",
       "      <td>BANK_TRANSFER</td>\n",
       "    </tr>\n",
       "  </tbody>\n",
       "</table>\n",
       "</div>"
      ],
      "text/plain": [
       "            postcode    rent contract_start contract_end  \\\n",
       "contract_id                                                \n",
       "1394068082   UB5 4PJ   810.0     2014-03-06          NaT   \n",
       "1396660569   W1G 9AT  4210.0     2014-04-05          NaT   \n",
       "\n",
       "                                   id Payment_date  Amount payment_method  \n",
       "contract_id                                                                \n",
       "1394068082   Angel Russell 1964-07-26   2017-09-14   891.0   DIRECT_DEBIT  \n",
       "1396660569    Spencer Kent 1987-03-13   2017-09-17  6315.0  BANK_TRANSFER  "
      ]
     },
     "execution_count": 53,
     "metadata": {},
     "output_type": "execute_result"
    }
   ],
   "source": [
    "nan_contracts_end = contracts_transactions_data[contracts_transactions_data['contract_end'].isnull()].groupby('contract_id').last()\n",
    "condition = np.logical_and(nan_contracts_end['Payment_date'].dt.year == 2017, nan_contracts_end['Payment_date'].dt.month.isin([10, 11, 12]))\n",
    "nan_contracts_end[~condition]"
   ]
  },
  {
   "cell_type": "markdown",
   "metadata": {},
   "source": [
    "We can see that most of contracts have payment up until Oct. 2017 with only two exceptions that still have Payment until Sep. 2017. It seems safe to assume that those contracts with NaN contract_end are those still ongoing."
   ]
  },
  {
   "cell_type": "markdown",
   "metadata": {},
   "source": [
    "Because those contracts with Nan contract_end are still ongoing and both contracts and transactions dataset have their last timestamp at 2017-12-31. This exercise shall fill 2017-12-31 in the missing contract_end. "
   ]
  },
  {
   "cell_type": "code",
   "execution_count": 54,
   "metadata": {},
   "outputs": [],
   "source": [
    "contracts_data['contract_end'].fillna('2017-12-31 23:59:59', inplace=True)\n",
    "contracts_data['contract_end'] = pd.to_datetime(contracts_data['contract_end'])"
   ]
  },
  {
   "cell_type": "markdown",
   "metadata": {},
   "source": [
    "### 6.1 considering contract data only"
   ]
  },
  {
   "cell_type": "code",
   "execution_count": 55,
   "metadata": {},
   "outputs": [],
   "source": [
    "contracts_data['contract_length'] = contracts_data['contract_end'] - contracts_data['contract_start']"
   ]
  },
  {
   "cell_type": "code",
   "execution_count": 56,
   "metadata": {},
   "outputs": [
    {
     "data": {
      "text/html": [
       "<div>\n",
       "<style scoped>\n",
       "    .dataframe tbody tr th:only-of-type {\n",
       "        vertical-align: middle;\n",
       "    }\n",
       "\n",
       "    .dataframe tbody tr th {\n",
       "        vertical-align: top;\n",
       "    }\n",
       "\n",
       "    .dataframe thead th {\n",
       "        text-align: right;\n",
       "    }\n",
       "</style>\n",
       "<table border=\"1\" class=\"dataframe\">\n",
       "  <thead>\n",
       "    <tr style=\"text-align: right;\">\n",
       "      <th></th>\n",
       "      <th>contract_id</th>\n",
       "      <th>postcode</th>\n",
       "      <th>rent</th>\n",
       "      <th>contract_start</th>\n",
       "      <th>contract_end</th>\n",
       "      <th>id</th>\n",
       "      <th>contract_length</th>\n",
       "    </tr>\n",
       "  </thead>\n",
       "  <tbody>\n",
       "    <tr>\n",
       "      <th>9587</th>\n",
       "      <td>1512347503</td>\n",
       "      <td>NW8 1DP</td>\n",
       "      <td>3830.0</td>\n",
       "      <td>2017-12-04</td>\n",
       "      <td>2017-12-31 23:59:59</td>\n",
       "      <td>Aadam Perry 1980-10-06</td>\n",
       "      <td>27 days 23:59:59</td>\n",
       "    </tr>\n",
       "    <tr>\n",
       "      <th>7663</th>\n",
       "      <td>1365639529</td>\n",
       "      <td>RM111NH</td>\n",
       "      <td>870.0</td>\n",
       "      <td>2013-04-11</td>\n",
       "      <td>2017-12-31 23:59:59</td>\n",
       "      <td>Aadam Wright 1962-10-14</td>\n",
       "      <td>1725 days 23:59:59</td>\n",
       "    </tr>\n",
       "    <tr>\n",
       "      <th>390</th>\n",
       "      <td>1401145759</td>\n",
       "      <td>W1A 4LN</td>\n",
       "      <td>4660.0</td>\n",
       "      <td>2014-05-27</td>\n",
       "      <td>2017-06-26 00:00:00</td>\n",
       "      <td>Aadheen Davies 1983-01-06</td>\n",
       "      <td>1126 days 00:00:00</td>\n",
       "    </tr>\n",
       "    <tr>\n",
       "      <th>225</th>\n",
       "      <td>1498518560</td>\n",
       "      <td>TW1 2HA</td>\n",
       "      <td>6440.0</td>\n",
       "      <td>2017-06-27</td>\n",
       "      <td>2017-12-31 23:59:59</td>\n",
       "      <td>Aadheen Davies 1983-01-06</td>\n",
       "      <td>187 days 23:59:59</td>\n",
       "    </tr>\n",
       "    <tr>\n",
       "      <th>5065</th>\n",
       "      <td>1379718150</td>\n",
       "      <td>CR4 3AS</td>\n",
       "      <td>1040.0</td>\n",
       "      <td>2013-09-21</td>\n",
       "      <td>2017-12-31 23:59:59</td>\n",
       "      <td>Aadya Adams 1973-09-20</td>\n",
       "      <td>1562 days 23:59:59</td>\n",
       "    </tr>\n",
       "  </tbody>\n",
       "</table>\n",
       "</div>"
      ],
      "text/plain": [
       "      contract_id postcode    rent contract_start        contract_end  \\\n",
       "9587   1512347503  NW8 1DP  3830.0     2017-12-04 2017-12-31 23:59:59   \n",
       "7663   1365639529  RM111NH   870.0     2013-04-11 2017-12-31 23:59:59   \n",
       "390    1401145759  W1A 4LN  4660.0     2014-05-27 2017-06-26 00:00:00   \n",
       "225    1498518560  TW1 2HA  6440.0     2017-06-27 2017-12-31 23:59:59   \n",
       "5065   1379718150  CR4 3AS  1040.0     2013-09-21 2017-12-31 23:59:59   \n",
       "\n",
       "                             id    contract_length  \n",
       "9587     Aadam Perry 1980-10-06   27 days 23:59:59  \n",
       "7663    Aadam Wright 1962-10-14 1725 days 23:59:59  \n",
       "390   Aadheen Davies 1983-01-06 1126 days 00:00:00  \n",
       "225   Aadheen Davies 1983-01-06  187 days 23:59:59  \n",
       "5065     Aadya Adams 1973-09-20 1562 days 23:59:59  "
      ]
     },
     "execution_count": 56,
     "metadata": {},
     "output_type": "execute_result"
    }
   ],
   "source": [
    "contracts_data.head()"
   ]
  },
  {
   "cell_type": "code",
   "execution_count": 57,
   "metadata": {},
   "outputs": [],
   "source": [
    "contract_history = contracts_data.groupby('id')['contract_length'].sum()"
   ]
  },
  {
   "cell_type": "markdown",
   "metadata": {},
   "source": [
    "If we assume 30 days per month for simplicity. Then we have"
   ]
  },
  {
   "cell_type": "code",
   "execution_count": 58,
   "metadata": {},
   "outputs": [
    {
     "data": {
      "text/plain": [
       "(411, 890, 1768)"
      ]
     },
     "execution_count": 58,
     "metadata": {},
     "output_type": "execute_result"
    }
   ],
   "source": [
    "sum(contract_history < '90D'), sum(contract_history < '180D'), sum(contract_history < '360D')"
   ]
  },
  {
   "cell_type": "code",
   "execution_count": 59,
   "metadata": {
    "scrolled": true
   },
   "outputs": [
    {
     "data": {
      "text/plain": [
       "(7382, 6508)"
      ]
     },
     "execution_count": 59,
     "metadata": {},
     "output_type": "execute_result"
    }
   ],
   "source": [
    "sum(contract_history >= '540D'), sum(contract_history >= '720D')"
   ]
  },
  {
   "cell_type": "markdown",
   "metadata": {},
   "source": [
    "We can see that out of 10000 tenants, 1768 have contract length below 12 months. And a majority of 6508 tenants have contract length at least 24 months. The short-contract tenants are non-negligible as they account for nearly 1/5 of total tenants."
   ]
  },
  {
   "cell_type": "markdown",
   "metadata": {},
   "source": [
    "### 6.2 considering their link to transaction data"
   ]
  },
  {
   "cell_type": "markdown",
   "metadata": {},
   "source": [
    "I intend to check the transactional history."
   ]
  },
  {
   "cell_type": "code",
   "execution_count": 60,
   "metadata": {
    "scrolled": false
   },
   "outputs": [],
   "source": [
    "contracts_transactions_data = pd.merge(contracts_data, transactions_data, on='contract_id')"
   ]
  },
  {
   "cell_type": "code",
   "execution_count": 61,
   "metadata": {},
   "outputs": [],
   "source": [
    "# If the contract_start < '2014-12-01', we will set the transaction start date as '2014-12-01' as our\n",
    "# transacational records starts from this date. Otherwise, we will use the contracts_start date as the\n",
    "# transaction start date.\n",
    "def transaction_length_func(df):\n",
    "    start = max(df['contract_start'].iloc[0], pd.to_datetime('2014-12-01'))\n",
    "    end = df['contract_end'].iloc[0]\n",
    "    df['transaction_length'] = (end - start).days\n",
    "    return df"
   ]
  },
  {
   "cell_type": "code",
   "execution_count": 62,
   "metadata": {},
   "outputs": [],
   "source": [
    "contracts_transactions_data = contracts_transactions_data.groupby('id').apply(transaction_length_func)"
   ]
  },
  {
   "cell_type": "code",
   "execution_count": 63,
   "metadata": {},
   "outputs": [],
   "source": [
    "transaction_history = contracts_transactions_data.groupby('id')['id', 'transaction_length'].head(1)"
   ]
  },
  {
   "cell_type": "code",
   "execution_count": 64,
   "metadata": {
    "scrolled": false
   },
   "outputs": [
    {
     "data": {
      "text/plain": [
       "(423, 1083, 2320)"
      ]
     },
     "execution_count": 64,
     "metadata": {},
     "output_type": "execute_result"
    }
   ],
   "source": [
    "sum(transaction_history['transaction_length'] < 90), sum(transaction_history['transaction_length'] < 180), sum(transaction_history['transaction_length'] < 360)"
   ]
  },
  {
   "cell_type": "code",
   "execution_count": 65,
   "metadata": {
    "scrolled": false
   },
   "outputs": [
    {
     "data": {
      "text/plain": [
       "(6535, 5506)"
      ]
     },
     "execution_count": 65,
     "metadata": {},
     "output_type": "execute_result"
    }
   ],
   "source": [
    "sum(transaction_history['transaction_length'] >= 540), sum(transaction_history['transaction_length'] >= 720)"
   ]
  },
  {
   "cell_type": "markdown",
   "metadata": {},
   "source": [
    "### 7. How many tenants have used only one payment method? How many more than one?"
   ]
  },
  {
   "cell_type": "code",
   "execution_count": 67,
   "metadata": {},
   "outputs": [],
   "source": [
    "payment_methods = contracts_transactions_data.groupby('id')['payment_method'].nunique()"
   ]
  },
  {
   "cell_type": "code",
   "execution_count": 68,
   "metadata": {},
   "outputs": [
    {
     "data": {
      "text/plain": [
       "(9607, 344)"
      ]
     },
     "execution_count": 68,
     "metadata": {},
     "output_type": "execute_result"
    }
   ],
   "source": [
    "sum(payment_methods == 1), sum(payment_methods > 1)"
   ]
  },
  {
   "cell_type": "markdown",
   "metadata": {},
   "source": [
    "Out of 9951 who have transaction record, 9607 of them have used only 1 payment method and 344 of them have used more than 1 payment method."
   ]
  },
  {
   "cell_type": "markdown",
   "metadata": {},
   "source": [
    "### 8. What is the relationsihp between deposit and rent amount agreed in the contract?"
   ]
  },
  {
   "cell_type": "markdown",
   "metadata": {},
   "source": [
    "The deposit paid should be larger than the rent, so we create a new variable 'payment_ratio' that is the ratio of Amount over rent"
   ]
  },
  {
   "cell_type": "code",
   "execution_count": 69,
   "metadata": {},
   "outputs": [],
   "source": [
    "contracts_transactions_data['payment_ratio'] = round(contracts_transactions_data['Amount']/contracts_transactions_data['rent'], 2)"
   ]
  },
  {
   "cell_type": "code",
   "execution_count": 70,
   "metadata": {},
   "outputs": [
    {
     "data": {
      "text/plain": [
       " 1.00    220277\n",
       " 1.05     22721\n",
       " 1.10      9721\n",
       " 3.00      6298\n",
       " 1.20      5769\n",
       "-3.00      1835\n",
       " 1.50      1408\n",
       " 0.00       197\n",
       "-1.00       111\n",
       "Name: payment_ratio, dtype: int64"
      ]
     },
     "execution_count": 70,
     "metadata": {},
     "output_type": "execute_result"
    }
   ],
   "source": [
    "contracts_transactions_data['payment_ratio'].value_counts()"
   ]
  },
  {
   "cell_type": "markdown",
   "metadata": {},
   "source": [
    "The deposit should be larger than the rent and it should be paid on the day the contract starts.\n",
    "\n",
    "Let us check the payment_ratio on the day the contract_starts"
   ]
  },
  {
   "cell_type": "code",
   "execution_count": 71,
   "metadata": {
    "scrolled": true
   },
   "outputs": [
    {
     "data": {
      "text/plain": [
       "1.0    6298\n",
       "3.0    6298\n",
       "Name: payment_ratio, dtype: int64"
      ]
     },
     "execution_count": 71,
     "metadata": {},
     "output_type": "execute_result"
    }
   ],
   "source": [
    "# Select the starting payment of a contract\n",
    "contract_start_data = contracts_transactions_data[contracts_transactions_data['contract_start'] == contracts_transactions_data['Payment_date']]\n",
    "contract_start_data['payment_ratio'].value_counts()"
   ]
  },
  {
   "cell_type": "markdown",
   "metadata": {},
   "source": [
    "The deposit as we can see are 3 times the rent amount universally for all tenants. The payment_ratio == 1 means the renter pays the rent for the first month. **Note that the count 6298 means there are 6298 contracts recorded in the transaction data that starts after 2014-12-01**."
   ]
  },
  {
   "cell_type": "markdown",
   "metadata": {},
   "source": [
    "### 9. Can you find an example of the transactional history for an evicted tenant, for each possible cause of eviction, and explain the cause of eviction?"
   ]
  },
  {
   "cell_type": "markdown",
   "metadata": {},
   "source": [
    "I shall firstly create a column of due date so that I can check for the overdue days."
   ]
  },
  {
   "cell_type": "code",
   "execution_count": 72,
   "metadata": {},
   "outputs": [],
   "source": [
    "def due_date_func(df):\n",
    "    \"\"\"\n",
    "    this function creates a series of due dates.\n",
    "    the due date starts from the first payment_date.\n",
    "    \"\"\"\n",
    "    from datetime import datetime\n",
    "    start = df.Payment_date.iloc[0]\n",
    "    periods = df.shape[0]\n",
    "    if start.day == 1:\n",
    "        rng = pd.date_range(pd.Timestamp(start),\n",
    "                        periods=periods,\n",
    "                        freq='MS')\n",
    "    else:\n",
    "        rng = pd.date_range(pd.Timestamp(start)-pd.offsets.MonthBegin(),\n",
    "                            periods=periods,\n",
    "                            freq='MS')\n",
    "    ret = (rng + pd.offsets.Day(pd.Timestamp(start).day-1)).to_series()\n",
    "    ret.loc[ret.dt.month > rng.month] -= pd.offsets.MonthEnd(1)\n",
    "    df['due_date'] = pd.DatetimeIndex(ret)\n",
    "    return df"
   ]
  },
  {
   "cell_type": "code",
   "execution_count": 73,
   "metadata": {},
   "outputs": [],
   "source": [
    "# drop the rows where the deposit is paid.\n",
    "clean_data = contracts_transactions_data[contracts_transactions_data['payment_ratio'] != 3]\n",
    "clean_data.reset_index(inplace=True)"
   ]
  },
  {
   "cell_type": "code",
   "execution_count": 75,
   "metadata": {},
   "outputs": [],
   "source": [
    "clean_data.drop('index',axis=1, inplace=True)"
   ]
  },
  {
   "cell_type": "code",
   "execution_count": 76,
   "metadata": {
    "scrolled": false
   },
   "outputs": [],
   "source": [
    "# for each contract, create a series of due dates\n",
    "clean_data = clean_data.groupby('contract_id').apply(due_date_func)"
   ]
  },
  {
   "cell_type": "code",
   "execution_count": 77,
   "metadata": {},
   "outputs": [],
   "source": [
    "clean_data['overdue_days'] = (clean_data['Payment_date'] - clean_data['due_date']).dt.days"
   ]
  },
  {
   "cell_type": "code",
   "execution_count": 78,
   "metadata": {
    "scrolled": true
   },
   "outputs": [
    {
     "data": {
      "text/plain": [
       "<matplotlib.axes._subplots.AxesSubplot at 0x7f0def6b9780>"
      ]
     },
     "execution_count": 78,
     "metadata": {},
     "output_type": "execute_result"
    },
    {
     "data": {
      "image/png": "[encoded data removed]",
      "text/plain": [
       "<matplotlib.figure.Figure at 0x7f0e244c4a58>"
      ]
     },
     "metadata": {
      "needs_background": "light"
     },
     "output_type": "display_data"
    }
   ],
   "source": [
    "# the distribution of the last transaction amount.\n",
    "%matplotlib inline\n",
    "clean_data.groupby('contract_id').last()['Amount'].hist()"
   ]
  },
  {
   "cell_type": "markdown",
   "metadata": {},
   "source": [
    "From the histogram of the last transaction amount for each contract_id, there are quite a few negative values and a lot of 0s. We can have a closer look by the payment_raio of these last payments."
   ]
  },
  {
   "cell_type": "code",
   "execution_count": 79,
   "metadata": {
    "scrolled": false
   },
   "outputs": [
    {
     "data": {
      "text/plain": [
       " 1.00    7766\n",
       "-3.00    1835\n",
       " 1.05     798\n",
       " 1.10     315\n",
       " 0.00     197\n",
       " 1.20     130\n",
       "-1.00     111\n",
       " 1.50      13\n",
       "Name: payment_ratio, dtype: int64"
      ]
     },
     "execution_count": 79,
     "metadata": {},
     "output_type": "execute_result"
    }
   ],
   "source": [
    "clean_data.groupby('contract_id').last()['payment_ratio'].value_counts()"
   ]
  },
  {
   "cell_type": "markdown",
   "metadata": {},
   "source": [
    "From the definition of penalty_factor, when amount is 0, the payment_ratio will be 0; When amount is negative, the penalty_factor will be negative. For now I focus on the cases when penalty_factor equals 0, -1 and -3.  The analysis of these negative penalty_factor will expose the two different types of evictions."
   ]
  },
  {
   "cell_type": "markdown",
   "metadata": {},
   "source": [
    "### 9.1 one excessive long-delay type"
   ]
  },
  {
   "cell_type": "markdown",
   "metadata": {},
   "source": [
    "penalty_factor = 0 implies the situation where tenants have no deposit left (indicating he has  missed one payment for at least two months) and eviction decision is given. After another month no deposit are returned. Let us have a look at one example."
   ]
  },
  {
   "cell_type": "code",
   "execution_count": 80,
   "metadata": {
    "scrolled": false
   },
   "outputs": [
    {
     "data": {
      "text/html": [
       "<div>\n",
       "<style scoped>\n",
       "    .dataframe tbody tr th:only-of-type {\n",
       "        vertical-align: middle;\n",
       "    }\n",
       "\n",
       "    .dataframe tbody tr th {\n",
       "        vertical-align: top;\n",
       "    }\n",
       "\n",
       "    .dataframe thead th {\n",
       "        text-align: right;\n",
       "    }\n",
       "</style>\n",
       "<table border=\"1\" class=\"dataframe\">\n",
       "  <thead>\n",
       "    <tr style=\"text-align: right;\">\n",
       "      <th></th>\n",
       "      <th>contract_id</th>\n",
       "      <th>postcode</th>\n",
       "      <th>rent</th>\n",
       "      <th>contract_start</th>\n",
       "      <th>contract_end</th>\n",
       "      <th>id</th>\n",
       "      <th>contract_length</th>\n",
       "      <th>Payment_date</th>\n",
       "      <th>Amount</th>\n",
       "      <th>payment_method</th>\n",
       "      <th>transaction_length</th>\n",
       "      <th>payment_ratio</th>\n",
       "      <th>due_date</th>\n",
       "      <th>overdue_days</th>\n",
       "    </tr>\n",
       "  </thead>\n",
       "  <tbody>\n",
       "    <tr>\n",
       "      <th>1037</th>\n",
       "      <td>1392083217</td>\n",
       "      <td>IG4 5AG</td>\n",
       "      <td>1250.0</td>\n",
       "      <td>2014-02-11</td>\n",
       "      <td>2015-09-10</td>\n",
       "      <td>Aaron Hudson 1965-06-29</td>\n",
       "      <td>576 days</td>\n",
       "      <td>2015-09-10</td>\n",
       "      <td>0.0</td>\n",
       "      <td>DIRECT_DEBIT</td>\n",
       "      <td>283</td>\n",
       "      <td>0.0</td>\n",
       "      <td>2015-08-11</td>\n",
       "      <td>30.0</td>\n",
       "    </tr>\n",
       "    <tr>\n",
       "      <th>1435</th>\n",
       "      <td>1383096745</td>\n",
       "      <td>EC1N2TT</td>\n",
       "      <td>1890.0</td>\n",
       "      <td>2013-10-30</td>\n",
       "      <td>2017-03-29</td>\n",
       "      <td>Aaryan Johnson 1964-06-24</td>\n",
       "      <td>1246 days</td>\n",
       "      <td>2017-03-29</td>\n",
       "      <td>0.0</td>\n",
       "      <td>DIRECT_DEBIT</td>\n",
       "      <td>849</td>\n",
       "      <td>0.0</td>\n",
       "      <td>2017-02-28</td>\n",
       "      <td>29.0</td>\n",
       "    </tr>\n",
       "    <tr>\n",
       "      <th>7674</th>\n",
       "      <td>1362796116</td>\n",
       "      <td>DA6 7WY</td>\n",
       "      <td>770.0</td>\n",
       "      <td>2013-03-09</td>\n",
       "      <td>2017-04-08</td>\n",
       "      <td>Alba Stevenson 1983-03-02</td>\n",
       "      <td>1491 days</td>\n",
       "      <td>2017-04-08</td>\n",
       "      <td>0.0</td>\n",
       "      <td>CASH</td>\n",
       "      <td>859</td>\n",
       "      <td>0.0</td>\n",
       "      <td>2017-03-09</td>\n",
       "      <td>30.0</td>\n",
       "    </tr>\n",
       "  </tbody>\n",
       "</table>\n",
       "</div>"
      ],
      "text/plain": [
       "      contract_id postcode    rent contract_start contract_end  \\\n",
       "1037   1392083217  IG4 5AG  1250.0     2014-02-11   2015-09-10   \n",
       "1435   1383096745  EC1N2TT  1890.0     2013-10-30   2017-03-29   \n",
       "7674   1362796116  DA6 7WY   770.0     2013-03-09   2017-04-08   \n",
       "\n",
       "                             id contract_length Payment_date  Amount  \\\n",
       "1037    Aaron Hudson 1965-06-29        576 days   2015-09-10     0.0   \n",
       "1435  Aaryan Johnson 1964-06-24       1246 days   2017-03-29     0.0   \n",
       "7674  Alba Stevenson 1983-03-02       1491 days   2017-04-08     0.0   \n",
       "\n",
       "     payment_method  transaction_length  payment_ratio   due_date  \\\n",
       "1037   DIRECT_DEBIT                 283            0.0 2015-08-11   \n",
       "1435   DIRECT_DEBIT                 849            0.0 2017-02-28   \n",
       "7674           CASH                 859            0.0 2017-03-09   \n",
       "\n",
       "      overdue_days  \n",
       "1037          30.0  \n",
       "1435          29.0  \n",
       "7674          30.0  "
      ]
     },
     "execution_count": 80,
     "metadata": {},
     "output_type": "execute_result"
    }
   ],
   "source": [
    "clean_data[clean_data['payment_ratio'] == 0].head(3)"
   ]
  },
  {
   "cell_type": "code",
   "execution_count": 81,
   "metadata": {
    "scrolled": false
   },
   "outputs": [
    {
     "data": {
      "text/html": [
       "<div>\n",
       "<style scoped>\n",
       "    .dataframe tbody tr th:only-of-type {\n",
       "        vertical-align: middle;\n",
       "    }\n",
       "\n",
       "    .dataframe tbody tr th {\n",
       "        vertical-align: top;\n",
       "    }\n",
       "\n",
       "    .dataframe thead th {\n",
       "        text-align: right;\n",
       "    }\n",
       "</style>\n",
       "<table border=\"1\" class=\"dataframe\">\n",
       "  <thead>\n",
       "    <tr style=\"text-align: right;\">\n",
       "      <th></th>\n",
       "      <th>contract_id</th>\n",
       "      <th>postcode</th>\n",
       "      <th>rent</th>\n",
       "      <th>contract_start</th>\n",
       "      <th>contract_end</th>\n",
       "      <th>id</th>\n",
       "      <th>contract_length</th>\n",
       "      <th>Payment_date</th>\n",
       "      <th>Amount</th>\n",
       "      <th>payment_method</th>\n",
       "      <th>transaction_length</th>\n",
       "      <th>payment_ratio</th>\n",
       "      <th>due_date</th>\n",
       "      <th>overdue_days</th>\n",
       "    </tr>\n",
       "  </thead>\n",
       "  <tbody>\n",
       "    <tr>\n",
       "      <th>69877</th>\n",
       "      <td>1343004890</td>\n",
       "      <td>W1A 7PT</td>\n",
       "      <td>2410.0</td>\n",
       "      <td>2012-07-23</td>\n",
       "      <td>2016-02-22</td>\n",
       "      <td>Eliza Ford 1988-12-11</td>\n",
       "      <td>1309 days</td>\n",
       "      <td>2015-10-03</td>\n",
       "      <td>2651.0</td>\n",
       "      <td>DIRECT_DEBIT</td>\n",
       "      <td>448</td>\n",
       "      <td>1.1</td>\n",
       "      <td>2015-09-23</td>\n",
       "      <td>10.0</td>\n",
       "    </tr>\n",
       "    <tr>\n",
       "      <th>69878</th>\n",
       "      <td>1343004890</td>\n",
       "      <td>W1A 7PT</td>\n",
       "      <td>2410.0</td>\n",
       "      <td>2012-07-23</td>\n",
       "      <td>2016-02-22</td>\n",
       "      <td>Eliza Ford 1988-12-11</td>\n",
       "      <td>1309 days</td>\n",
       "      <td>2015-11-20</td>\n",
       "      <td>2892.0</td>\n",
       "      <td>DIRECT_DEBIT</td>\n",
       "      <td>448</td>\n",
       "      <td>1.2</td>\n",
       "      <td>2015-10-23</td>\n",
       "      <td>28.0</td>\n",
       "    </tr>\n",
       "    <tr>\n",
       "      <th>69879</th>\n",
       "      <td>1343004890</td>\n",
       "      <td>W1A 7PT</td>\n",
       "      <td>2410.0</td>\n",
       "      <td>2012-07-23</td>\n",
       "      <td>2016-02-22</td>\n",
       "      <td>Eliza Ford 1988-12-11</td>\n",
       "      <td>1309 days</td>\n",
       "      <td>NaT</td>\n",
       "      <td>NaN</td>\n",
       "      <td>DIRECT_DEBIT</td>\n",
       "      <td>448</td>\n",
       "      <td>NaN</td>\n",
       "      <td>2015-11-23</td>\n",
       "      <td>NaN</td>\n",
       "    </tr>\n",
       "    <tr>\n",
       "      <th>69880</th>\n",
       "      <td>1343004890</td>\n",
       "      <td>W1A 7PT</td>\n",
       "      <td>2410.0</td>\n",
       "      <td>2012-07-23</td>\n",
       "      <td>2016-02-22</td>\n",
       "      <td>Eliza Ford 1988-12-11</td>\n",
       "      <td>1309 days</td>\n",
       "      <td>2016-01-23</td>\n",
       "      <td>NaN</td>\n",
       "      <td>DIRECT_DEBIT</td>\n",
       "      <td>448</td>\n",
       "      <td>NaN</td>\n",
       "      <td>2015-12-23</td>\n",
       "      <td>31.0</td>\n",
       "    </tr>\n",
       "    <tr>\n",
       "      <th>69881</th>\n",
       "      <td>1343004890</td>\n",
       "      <td>W1A 7PT</td>\n",
       "      <td>2410.0</td>\n",
       "      <td>2012-07-23</td>\n",
       "      <td>2016-02-22</td>\n",
       "      <td>Eliza Ford 1988-12-11</td>\n",
       "      <td>1309 days</td>\n",
       "      <td>2016-02-22</td>\n",
       "      <td>0.0</td>\n",
       "      <td>DIRECT_DEBIT</td>\n",
       "      <td>448</td>\n",
       "      <td>0.0</td>\n",
       "      <td>2016-01-23</td>\n",
       "      <td>30.0</td>\n",
       "    </tr>\n",
       "  </tbody>\n",
       "</table>\n",
       "</div>"
      ],
      "text/plain": [
       "       contract_id postcode    rent contract_start contract_end  \\\n",
       "69877   1343004890  W1A 7PT  2410.0     2012-07-23   2016-02-22   \n",
       "69878   1343004890  W1A 7PT  2410.0     2012-07-23   2016-02-22   \n",
       "69879   1343004890  W1A 7PT  2410.0     2012-07-23   2016-02-22   \n",
       "69880   1343004890  W1A 7PT  2410.0     2012-07-23   2016-02-22   \n",
       "69881   1343004890  W1A 7PT  2410.0     2012-07-23   2016-02-22   \n",
       "\n",
       "                          id contract_length Payment_date  Amount  \\\n",
       "69877  Eliza Ford 1988-12-11       1309 days   2015-10-03  2651.0   \n",
       "69878  Eliza Ford 1988-12-11       1309 days   2015-11-20  2892.0   \n",
       "69879  Eliza Ford 1988-12-11       1309 days          NaT     NaN   \n",
       "69880  Eliza Ford 1988-12-11       1309 days   2016-01-23     NaN   \n",
       "69881  Eliza Ford 1988-12-11       1309 days   2016-02-22     0.0   \n",
       "\n",
       "      payment_method  transaction_length  payment_ratio   due_date  \\\n",
       "69877   DIRECT_DEBIT                 448            1.1 2015-09-23   \n",
       "69878   DIRECT_DEBIT                 448            1.2 2015-10-23   \n",
       "69879   DIRECT_DEBIT                 448            NaN 2015-11-23   \n",
       "69880   DIRECT_DEBIT                 448            NaN 2015-12-23   \n",
       "69881   DIRECT_DEBIT                 448            0.0 2016-01-23   \n",
       "\n",
       "       overdue_days  \n",
       "69877          10.0  \n",
       "69878          28.0  \n",
       "69879           NaN  \n",
       "69880          31.0  \n",
       "69881          30.0  "
      ]
     },
     "execution_count": 81,
     "metadata": {},
     "output_type": "execute_result"
    }
   ],
   "source": [
    "clean_data[clean_data['id'] == 'Eliza Ford 1988-12-11'].tail(5)"
   ]
  },
  {
   "cell_type": "markdown",
   "metadata": {},
   "source": [
    "Tenant Eliza Ford, who was born at 1988-12-11, has payment amount NaN at due date 2015-12-23 and 2016-01-23. Then on 2016-02-22 his contract is terminated and no deposit is returned. It is therefore reasonable to assume that NaN represents that he has missed his payment for these two due dates. And because of a single excessively long dealy, he was given eviction notice on 2016-01-23. By this timestamp, he has delayed his payment due at 2016-12-23 for at least 2 months."
   ]
  },
  {
   "cell_type": "markdown",
   "metadata": {},
   "source": [
    "### 9.2 two consecutive long-delay type"
   ]
  },
  {
   "cell_type": "markdown",
   "metadata": {},
   "source": [
    "payment_ratio = -1 implies the situation where tenants have 1-month deposit left (indicating he has missed 1 payment for at least two month) and are evicted and returned 1-month deposit. \n",
    "Let us have a look at one example."
   ]
  },
  {
   "cell_type": "code",
   "execution_count": 82,
   "metadata": {
    "scrolled": true
   },
   "outputs": [
    {
     "data": {
      "text/html": [
       "<div>\n",
       "<style scoped>\n",
       "    .dataframe tbody tr th:only-of-type {\n",
       "        vertical-align: middle;\n",
       "    }\n",
       "\n",
       "    .dataframe tbody tr th {\n",
       "        vertical-align: top;\n",
       "    }\n",
       "\n",
       "    .dataframe thead th {\n",
       "        text-align: right;\n",
       "    }\n",
       "</style>\n",
       "<table border=\"1\" class=\"dataframe\">\n",
       "  <thead>\n",
       "    <tr style=\"text-align: right;\">\n",
       "      <th></th>\n",
       "      <th>contract_id</th>\n",
       "      <th>postcode</th>\n",
       "      <th>rent</th>\n",
       "      <th>contract_start</th>\n",
       "      <th>contract_end</th>\n",
       "      <th>id</th>\n",
       "      <th>contract_length</th>\n",
       "      <th>Payment_date</th>\n",
       "      <th>Amount</th>\n",
       "      <th>payment_method</th>\n",
       "      <th>transaction_length</th>\n",
       "      <th>payment_ratio</th>\n",
       "      <th>due_date</th>\n",
       "      <th>overdue_days</th>\n",
       "    </tr>\n",
       "  </thead>\n",
       "  <tbody>\n",
       "    <tr>\n",
       "      <th>1083</th>\n",
       "      <td>1410399486</td>\n",
       "      <td>SE109WQ</td>\n",
       "      <td>1190.0</td>\n",
       "      <td>2014-09-11</td>\n",
       "      <td>2017-06-10</td>\n",
       "      <td>Aaron Lloyd 1989-08-20</td>\n",
       "      <td>1003 days</td>\n",
       "      <td>2017-06-10</td>\n",
       "      <td>-1190.0</td>\n",
       "      <td>BANK_TRANSFER</td>\n",
       "      <td>922</td>\n",
       "      <td>-1.0</td>\n",
       "      <td>2017-05-11</td>\n",
       "      <td>30.0</td>\n",
       "    </tr>\n",
       "    <tr>\n",
       "      <th>2417</th>\n",
       "      <td>1455158675</td>\n",
       "      <td>W1J 9TB</td>\n",
       "      <td>4460.0</td>\n",
       "      <td>2016-02-11</td>\n",
       "      <td>2017-03-10</td>\n",
       "      <td>Abel Wood 1954-05-02</td>\n",
       "      <td>393 days</td>\n",
       "      <td>2017-03-10</td>\n",
       "      <td>-4460.0</td>\n",
       "      <td>DIRECT_DEBIT</td>\n",
       "      <td>393</td>\n",
       "      <td>-1.0</td>\n",
       "      <td>2017-02-11</td>\n",
       "      <td>27.0</td>\n",
       "    </tr>\n",
       "    <tr>\n",
       "      <th>2990</th>\n",
       "      <td>1377558355</td>\n",
       "      <td>HA3 8LN</td>\n",
       "      <td>1030.0</td>\n",
       "      <td>2013-08-27</td>\n",
       "      <td>2017-12-26</td>\n",
       "      <td>Abigail Hobbs 1977-12-26</td>\n",
       "      <td>1582 days</td>\n",
       "      <td>2017-12-26</td>\n",
       "      <td>-1030.0</td>\n",
       "      <td>DIRECT_DEBIT</td>\n",
       "      <td>1121</td>\n",
       "      <td>-1.0</td>\n",
       "      <td>2017-11-27</td>\n",
       "      <td>29.0</td>\n",
       "    </tr>\n",
       "  </tbody>\n",
       "</table>\n",
       "</div>"
      ],
      "text/plain": [
       "      contract_id postcode    rent contract_start contract_end  \\\n",
       "1083   1410399486  SE109WQ  1190.0     2014-09-11   2017-06-10   \n",
       "2417   1455158675  W1J 9TB  4460.0     2016-02-11   2017-03-10   \n",
       "2990   1377558355  HA3 8LN  1030.0     2013-08-27   2017-12-26   \n",
       "\n",
       "                            id contract_length Payment_date  Amount  \\\n",
       "1083    Aaron Lloyd 1989-08-20       1003 days   2017-06-10 -1190.0   \n",
       "2417      Abel Wood 1954-05-02        393 days   2017-03-10 -4460.0   \n",
       "2990  Abigail Hobbs 1977-12-26       1582 days   2017-12-26 -1030.0   \n",
       "\n",
       "     payment_method  transaction_length  payment_ratio   due_date  \\\n",
       "1083  BANK_TRANSFER                 922           -1.0 2017-05-11   \n",
       "2417   DIRECT_DEBIT                 393           -1.0 2017-02-11   \n",
       "2990   DIRECT_DEBIT                1121           -1.0 2017-11-27   \n",
       "\n",
       "      overdue_days  \n",
       "1083          30.0  \n",
       "2417          27.0  \n",
       "2990          29.0  "
      ]
     },
     "execution_count": 82,
     "metadata": {},
     "output_type": "execute_result"
    }
   ],
   "source": [
    "clean_data[clean_data['payment_ratio'] == -1].head(3)"
   ]
  },
  {
   "cell_type": "code",
   "execution_count": 83,
   "metadata": {
    "scrolled": true
   },
   "outputs": [
    {
     "data": {
      "text/html": [
       "<div>\n",
       "<style scoped>\n",
       "    .dataframe tbody tr th:only-of-type {\n",
       "        vertical-align: middle;\n",
       "    }\n",
       "\n",
       "    .dataframe tbody tr th {\n",
       "        vertical-align: top;\n",
       "    }\n",
       "\n",
       "    .dataframe thead th {\n",
       "        text-align: right;\n",
       "    }\n",
       "</style>\n",
       "<table border=\"1\" class=\"dataframe\">\n",
       "  <thead>\n",
       "    <tr style=\"text-align: right;\">\n",
       "      <th></th>\n",
       "      <th>contract_id</th>\n",
       "      <th>postcode</th>\n",
       "      <th>rent</th>\n",
       "      <th>contract_start</th>\n",
       "      <th>contract_end</th>\n",
       "      <th>id</th>\n",
       "      <th>contract_length</th>\n",
       "      <th>Payment_date</th>\n",
       "      <th>Amount</th>\n",
       "      <th>payment_method</th>\n",
       "      <th>transaction_length</th>\n",
       "      <th>payment_ratio</th>\n",
       "      <th>due_date</th>\n",
       "      <th>overdue_days</th>\n",
       "    </tr>\n",
       "  </thead>\n",
       "  <tbody>\n",
       "    <tr>\n",
       "      <th>18764</th>\n",
       "      <td>1345853912</td>\n",
       "      <td>UB3 1PG</td>\n",
       "      <td>1070.0</td>\n",
       "      <td>2012-08-25</td>\n",
       "      <td>2015-08-24</td>\n",
       "      <td>Amelia-Mae Cole 1990-01-04</td>\n",
       "      <td>1094 days</td>\n",
       "      <td>2015-03-29</td>\n",
       "      <td>1123.5</td>\n",
       "      <td>DIRECT_DEBIT</td>\n",
       "      <td>266</td>\n",
       "      <td>1.05</td>\n",
       "      <td>2015-03-25</td>\n",
       "      <td>4.0</td>\n",
       "    </tr>\n",
       "    <tr>\n",
       "      <th>18765</th>\n",
       "      <td>1345853912</td>\n",
       "      <td>UB3 1PG</td>\n",
       "      <td>1070.0</td>\n",
       "      <td>2012-08-25</td>\n",
       "      <td>2015-08-24</td>\n",
       "      <td>Amelia-Mae Cole 1990-01-04</td>\n",
       "      <td>1094 days</td>\n",
       "      <td>2015-05-02</td>\n",
       "      <td>1123.5</td>\n",
       "      <td>DIRECT_DEBIT</td>\n",
       "      <td>266</td>\n",
       "      <td>1.05</td>\n",
       "      <td>2015-04-25</td>\n",
       "      <td>7.0</td>\n",
       "    </tr>\n",
       "    <tr>\n",
       "      <th>18766</th>\n",
       "      <td>1345853912</td>\n",
       "      <td>UB3 1PG</td>\n",
       "      <td>1070.0</td>\n",
       "      <td>2012-08-25</td>\n",
       "      <td>2015-08-24</td>\n",
       "      <td>Amelia-Mae Cole 1990-01-04</td>\n",
       "      <td>1094 days</td>\n",
       "      <td>2015-07-07</td>\n",
       "      <td>1605.0</td>\n",
       "      <td>DIRECT_DEBIT</td>\n",
       "      <td>266</td>\n",
       "      <td>1.50</td>\n",
       "      <td>2015-05-25</td>\n",
       "      <td>43.0</td>\n",
       "    </tr>\n",
       "    <tr>\n",
       "      <th>18767</th>\n",
       "      <td>1345853912</td>\n",
       "      <td>UB3 1PG</td>\n",
       "      <td>1070.0</td>\n",
       "      <td>2012-08-25</td>\n",
       "      <td>2015-08-24</td>\n",
       "      <td>Amelia-Mae Cole 1990-01-04</td>\n",
       "      <td>1094 days</td>\n",
       "      <td>2015-07-25</td>\n",
       "      <td>NaN</td>\n",
       "      <td>DIRECT_DEBIT</td>\n",
       "      <td>266</td>\n",
       "      <td>NaN</td>\n",
       "      <td>2015-06-25</td>\n",
       "      <td>30.0</td>\n",
       "    </tr>\n",
       "    <tr>\n",
       "      <th>18768</th>\n",
       "      <td>1345853912</td>\n",
       "      <td>UB3 1PG</td>\n",
       "      <td>1070.0</td>\n",
       "      <td>2012-08-25</td>\n",
       "      <td>2015-08-24</td>\n",
       "      <td>Amelia-Mae Cole 1990-01-04</td>\n",
       "      <td>1094 days</td>\n",
       "      <td>2015-08-24</td>\n",
       "      <td>-1070.0</td>\n",
       "      <td>DIRECT_DEBIT</td>\n",
       "      <td>266</td>\n",
       "      <td>-1.00</td>\n",
       "      <td>2015-07-25</td>\n",
       "      <td>30.0</td>\n",
       "    </tr>\n",
       "  </tbody>\n",
       "</table>\n",
       "</div>"
      ],
      "text/plain": [
       "       contract_id postcode    rent contract_start contract_end  \\\n",
       "18764   1345853912  UB3 1PG  1070.0     2012-08-25   2015-08-24   \n",
       "18765   1345853912  UB3 1PG  1070.0     2012-08-25   2015-08-24   \n",
       "18766   1345853912  UB3 1PG  1070.0     2012-08-25   2015-08-24   \n",
       "18767   1345853912  UB3 1PG  1070.0     2012-08-25   2015-08-24   \n",
       "18768   1345853912  UB3 1PG  1070.0     2012-08-25   2015-08-24   \n",
       "\n",
       "                               id contract_length Payment_date  Amount  \\\n",
       "18764  Amelia-Mae Cole 1990-01-04       1094 days   2015-03-29  1123.5   \n",
       "18765  Amelia-Mae Cole 1990-01-04       1094 days   2015-05-02  1123.5   \n",
       "18766  Amelia-Mae Cole 1990-01-04       1094 days   2015-07-07  1605.0   \n",
       "18767  Amelia-Mae Cole 1990-01-04       1094 days   2015-07-25     NaN   \n",
       "18768  Amelia-Mae Cole 1990-01-04       1094 days   2015-08-24 -1070.0   \n",
       "\n",
       "      payment_method  transaction_length  payment_ratio   due_date  \\\n",
       "18764   DIRECT_DEBIT                 266           1.05 2015-03-25   \n",
       "18765   DIRECT_DEBIT                 266           1.05 2015-04-25   \n",
       "18766   DIRECT_DEBIT                 266           1.50 2015-05-25   \n",
       "18767   DIRECT_DEBIT                 266            NaN 2015-06-25   \n",
       "18768   DIRECT_DEBIT                 266          -1.00 2015-07-25   \n",
       "\n",
       "       overdue_days  \n",
       "18764           4.0  \n",
       "18765           7.0  \n",
       "18766          43.0  \n",
       "18767          30.0  \n",
       "18768          30.0  "
      ]
     },
     "execution_count": 83,
     "metadata": {},
     "output_type": "execute_result"
    }
   ],
   "source": [
    "clean_data[clean_data['id'] == 'Amelia-Mae Cole 1990-01-04'].tail(5)"
   ]
  },
  {
   "cell_type": "markdown",
   "metadata": {},
   "source": [
    "Tenant Amelia-Mae Cole, who was born at 1990-01-04, has delayed his payment due at 2015-05-25 for 43 days, then he missed his payment due at 2015-06-25. On 2016-07-25, he has missed his payment for at least one month that is due at 2015-06-25, Because of the consecutive long delays, the eviction notice was given on 2016-07-25. The contract terminates at 2015-08-24 with one month deposit returned."
   ]
  },
  {
   "cell_type": "markdown",
   "metadata": {},
   "source": [
    "### 9.3 non-evicted type"
   ]
  },
  {
   "cell_type": "markdown",
   "metadata": {},
   "source": [
    "payment_ratio = -3 implies the three month deposit is returned to the tenant and no eviction notice is given. We can check the implication from two examples as well. "
   ]
  },
  {
   "cell_type": "code",
   "execution_count": 84,
   "metadata": {
    "scrolled": false
   },
   "outputs": [
    {
     "data": {
      "text/html": [
       "<div>\n",
       "<style scoped>\n",
       "    .dataframe tbody tr th:only-of-type {\n",
       "        vertical-align: middle;\n",
       "    }\n",
       "\n",
       "    .dataframe tbody tr th {\n",
       "        vertical-align: top;\n",
       "    }\n",
       "\n",
       "    .dataframe thead th {\n",
       "        text-align: right;\n",
       "    }\n",
       "</style>\n",
       "<table border=\"1\" class=\"dataframe\">\n",
       "  <thead>\n",
       "    <tr style=\"text-align: right;\">\n",
       "      <th></th>\n",
       "      <th>contract_id</th>\n",
       "      <th>postcode</th>\n",
       "      <th>rent</th>\n",
       "      <th>contract_start</th>\n",
       "      <th>contract_end</th>\n",
       "      <th>id</th>\n",
       "      <th>contract_length</th>\n",
       "      <th>Payment_date</th>\n",
       "      <th>Amount</th>\n",
       "      <th>payment_method</th>\n",
       "      <th>transaction_length</th>\n",
       "      <th>payment_ratio</th>\n",
       "      <th>due_date</th>\n",
       "      <th>overdue_days</th>\n",
       "    </tr>\n",
       "  </thead>\n",
       "  <tbody>\n",
       "    <tr>\n",
       "      <th>68</th>\n",
       "      <td>1401145759</td>\n",
       "      <td>W1A 4LN</td>\n",
       "      <td>4660.0</td>\n",
       "      <td>2014-05-27</td>\n",
       "      <td>2017-06-26</td>\n",
       "      <td>Aadheen Davies 1983-01-06</td>\n",
       "      <td>1126 days</td>\n",
       "      <td>2017-06-26</td>\n",
       "      <td>-13980.0</td>\n",
       "      <td>DIRECT_DEBIT</td>\n",
       "      <td>938</td>\n",
       "      <td>-3.0</td>\n",
       "      <td>2017-06-27</td>\n",
       "      <td>-1.0</td>\n",
       "    </tr>\n",
       "    <tr>\n",
       "      <th>127</th>\n",
       "      <td>1441411266</td>\n",
       "      <td>SE116YQ</td>\n",
       "      <td>1830.0</td>\n",
       "      <td>2015-09-05</td>\n",
       "      <td>2016-11-04</td>\n",
       "      <td>Aaliah Jones 1992-08-13</td>\n",
       "      <td>426 days</td>\n",
       "      <td>2016-11-04</td>\n",
       "      <td>-5490.0</td>\n",
       "      <td>DIRECT_DEBIT</td>\n",
       "      <td>426</td>\n",
       "      <td>-3.0</td>\n",
       "      <td>2016-11-05</td>\n",
       "      <td>-1.0</td>\n",
       "    </tr>\n",
       "    <tr>\n",
       "      <th>141</th>\n",
       "      <td>1478307667</td>\n",
       "      <td>TW2 5AE</td>\n",
       "      <td>1300.0</td>\n",
       "      <td>2016-11-05</td>\n",
       "      <td>2017-12-04</td>\n",
       "      <td>Aaliah Jones 1992-08-13</td>\n",
       "      <td>394 days</td>\n",
       "      <td>2017-12-04</td>\n",
       "      <td>-3900.0</td>\n",
       "      <td>DIRECT_DEBIT</td>\n",
       "      <td>426</td>\n",
       "      <td>-3.0</td>\n",
       "      <td>2017-12-05</td>\n",
       "      <td>-1.0</td>\n",
       "    </tr>\n",
       "  </tbody>\n",
       "</table>\n",
       "</div>"
      ],
      "text/plain": [
       "     contract_id postcode    rent contract_start contract_end  \\\n",
       "68    1401145759  W1A 4LN  4660.0     2014-05-27   2017-06-26   \n",
       "127   1441411266  SE116YQ  1830.0     2015-09-05   2016-11-04   \n",
       "141   1478307667  TW2 5AE  1300.0     2016-11-05   2017-12-04   \n",
       "\n",
       "                            id contract_length Payment_date   Amount  \\\n",
       "68   Aadheen Davies 1983-01-06       1126 days   2017-06-26 -13980.0   \n",
       "127    Aaliah Jones 1992-08-13        426 days   2016-11-04  -5490.0   \n",
       "141    Aaliah Jones 1992-08-13        394 days   2017-12-04  -3900.0   \n",
       "\n",
       "    payment_method  transaction_length  payment_ratio   due_date  overdue_days  \n",
       "68    DIRECT_DEBIT                 938           -3.0 2017-06-27          -1.0  \n",
       "127   DIRECT_DEBIT                 426           -3.0 2016-11-05          -1.0  \n",
       "141   DIRECT_DEBIT                 426           -3.0 2017-12-05          -1.0  "
      ]
     },
     "execution_count": 84,
     "metadata": {},
     "output_type": "execute_result"
    }
   ],
   "source": [
    "clean_data[clean_data['payment_ratio'] == -3].head(3)"
   ]
  },
  {
   "cell_type": "code",
   "execution_count": 85,
   "metadata": {
    "scrolled": true
   },
   "outputs": [
    {
     "data": {
      "text/html": [
       "<div>\n",
       "<style scoped>\n",
       "    .dataframe tbody tr th:only-of-type {\n",
       "        vertical-align: middle;\n",
       "    }\n",
       "\n",
       "    .dataframe tbody tr th {\n",
       "        vertical-align: top;\n",
       "    }\n",
       "\n",
       "    .dataframe thead th {\n",
       "        text-align: right;\n",
       "    }\n",
       "</style>\n",
       "<table border=\"1\" class=\"dataframe\">\n",
       "  <thead>\n",
       "    <tr style=\"text-align: right;\">\n",
       "      <th></th>\n",
       "      <th>contract_id</th>\n",
       "      <th>postcode</th>\n",
       "      <th>rent</th>\n",
       "      <th>contract_start</th>\n",
       "      <th>contract_end</th>\n",
       "      <th>id</th>\n",
       "      <th>contract_length</th>\n",
       "      <th>Payment_date</th>\n",
       "      <th>Amount</th>\n",
       "      <th>payment_method</th>\n",
       "      <th>transaction_length</th>\n",
       "      <th>payment_ratio</th>\n",
       "      <th>due_date</th>\n",
       "      <th>overdue_days</th>\n",
       "    </tr>\n",
       "  </thead>\n",
       "  <tbody>\n",
       "    <tr>\n",
       "      <th>139</th>\n",
       "      <td>1478307667</td>\n",
       "      <td>TW2 5AE</td>\n",
       "      <td>1300.0</td>\n",
       "      <td>2016-11-05</td>\n",
       "      <td>2017-12-04</td>\n",
       "      <td>Aaliah Jones 1992-08-13</td>\n",
       "      <td>394 days</td>\n",
       "      <td>2017-10-06</td>\n",
       "      <td>1300.0</td>\n",
       "      <td>DIRECT_DEBIT</td>\n",
       "      <td>426</td>\n",
       "      <td>1.0</td>\n",
       "      <td>2017-10-05</td>\n",
       "      <td>1.0</td>\n",
       "    </tr>\n",
       "    <tr>\n",
       "      <th>140</th>\n",
       "      <td>1478307667</td>\n",
       "      <td>TW2 5AE</td>\n",
       "      <td>1300.0</td>\n",
       "      <td>2016-11-05</td>\n",
       "      <td>2017-12-04</td>\n",
       "      <td>Aaliah Jones 1992-08-13</td>\n",
       "      <td>394 days</td>\n",
       "      <td>2017-11-05</td>\n",
       "      <td>1300.0</td>\n",
       "      <td>DIRECT_DEBIT</td>\n",
       "      <td>426</td>\n",
       "      <td>1.0</td>\n",
       "      <td>2017-11-05</td>\n",
       "      <td>0.0</td>\n",
       "    </tr>\n",
       "    <tr>\n",
       "      <th>141</th>\n",
       "      <td>1478307667</td>\n",
       "      <td>TW2 5AE</td>\n",
       "      <td>1300.0</td>\n",
       "      <td>2016-11-05</td>\n",
       "      <td>2017-12-04</td>\n",
       "      <td>Aaliah Jones 1992-08-13</td>\n",
       "      <td>394 days</td>\n",
       "      <td>2017-12-04</td>\n",
       "      <td>-3900.0</td>\n",
       "      <td>DIRECT_DEBIT</td>\n",
       "      <td>426</td>\n",
       "      <td>-3.0</td>\n",
       "      <td>2017-12-05</td>\n",
       "      <td>-1.0</td>\n",
       "    </tr>\n",
       "  </tbody>\n",
       "</table>\n",
       "</div>"
      ],
      "text/plain": [
       "     contract_id postcode    rent contract_start contract_end  \\\n",
       "139   1478307667  TW2 5AE  1300.0     2016-11-05   2017-12-04   \n",
       "140   1478307667  TW2 5AE  1300.0     2016-11-05   2017-12-04   \n",
       "141   1478307667  TW2 5AE  1300.0     2016-11-05   2017-12-04   \n",
       "\n",
       "                          id contract_length Payment_date  Amount  \\\n",
       "139  Aaliah Jones 1992-08-13        394 days   2017-10-06  1300.0   \n",
       "140  Aaliah Jones 1992-08-13        394 days   2017-11-05  1300.0   \n",
       "141  Aaliah Jones 1992-08-13        394 days   2017-12-04 -3900.0   \n",
       "\n",
       "    payment_method  transaction_length  payment_ratio   due_date  overdue_days  \n",
       "139   DIRECT_DEBIT                 426            1.0 2017-10-05           1.0  \n",
       "140   DIRECT_DEBIT                 426            1.0 2017-11-05           0.0  \n",
       "141   DIRECT_DEBIT                 426           -3.0 2017-12-05          -1.0  "
      ]
     },
     "execution_count": 85,
     "metadata": {},
     "output_type": "execute_result"
    }
   ],
   "source": [
    "clean_data[clean_data['id'] == 'Aaliah Jones 1992-08-13'].tail(3)"
   ]
  },
  {
   "cell_type": "markdown",
   "metadata": {},
   "source": [
    "Tenant Aaliah Jones, who was born at 1992-08-13, didn't delay his payment in the last five due dates. And when the contract finished, the three month deposit is returned to him."
   ]
  },
  {
   "cell_type": "markdown",
   "metadata": {},
   "source": [
    "### 10. How many evictions, per type, are there?"
   ]
  },
  {
   "cell_type": "markdown",
   "metadata": {},
   "source": [
    "### 10.1 preliminary analysis on one excessively long-delay type"
   ]
  },
  {
   "cell_type": "markdown",
   "metadata": {},
   "source": [
    "We have seen from an example of excessive long delay. Now I am going to prove that all tenants who have their last row of a contract as 0 (no deposit returned) are at least three months delayed and are evicted."
   ]
  },
  {
   "cell_type": "code",
   "execution_count": 86,
   "metadata": {},
   "outputs": [],
   "source": [
    "excess_evict_id = clean_data[clean_data['payment_ratio'] == 0]['contract_id']"
   ]
  },
  {
   "cell_type": "code",
   "execution_count": 87,
   "metadata": {},
   "outputs": [],
   "source": [
    "excess_evict_data = clean_data[clean_data['contract_id'].isin(excess_evict_id)]"
   ]
  },
  {
   "cell_type": "code",
   "execution_count": 88,
   "metadata": {},
   "outputs": [
    {
     "data": {
      "text/plain": [
       "(3207, 14)"
      ]
     },
     "execution_count": 88,
     "metadata": {},
     "output_type": "execute_result"
    }
   ],
   "source": [
    "excess_evict_data.shape"
   ]
  },
  {
   "cell_type": "code",
   "execution_count": 89,
   "metadata": {
    "scrolled": true
   },
   "outputs": [],
   "source": [
    "def check_excessive_long_func(df, last=1):\n",
    "    return np.isnan(df.Amount.iloc[-(2+last)]) and np.isnan(df.Amount.iloc[-(1+last)])"
   ]
  },
  {
   "cell_type": "code",
   "execution_count": 90,
   "metadata": {
    "scrolled": true
   },
   "outputs": [
    {
     "name": "stdout",
     "output_type": "stream",
     "text": [
      "197\n"
     ]
    },
    {
     "data": {
      "text/plain": [
       "197"
      ]
     },
     "execution_count": 90,
     "metadata": {},
     "output_type": "execute_result"
    }
   ],
   "source": [
    "# total number of contracts with amounts == 0 at the contract end\n",
    "print(excess_evict_data['contract_id'].nunique())\n",
    "# for all these contracts, the number of contracts whose two rows to the last are all Nan\n",
    "sum(excess_evict_data.groupby('contract_id').apply(check_excessive_long_func))"
   ]
  },
  {
   "cell_type": "markdown",
   "metadata": {},
   "source": [
    "All contracts with payment_ratio ends at 0 belong to excessive one long delay type. However, as I will show in Section 10.3, there are still a few contracts to be added to this type."
   ]
  },
  {
   "cell_type": "markdown",
   "metadata": {},
   "source": [
    "### 10.2 preliminary analysis on two consective long-delay type"
   ]
  },
  {
   "cell_type": "markdown",
   "metadata": {},
   "source": [
    "We have assumed that for payment_ratio = -1, the tenant has two consecutive long delays.\n",
    "\n",
    "Specifically, the first long delay should be over 1 month, and the second long delay should be over 2 months (1 NA value)."
   ]
  },
  {
   "cell_type": "code",
   "execution_count": 91,
   "metadata": {},
   "outputs": [],
   "source": [
    "consec_evict_id = clean_data[clean_data['payment_ratio'] == -1]['contract_id']\n",
    "consec_evict_data = clean_data[clean_data['contract_id'].isin(consec_evict_id)]"
   ]
  },
  {
   "cell_type": "code",
   "execution_count": 92,
   "metadata": {
    "scrolled": true
   },
   "outputs": [
    {
     "data": {
      "text/plain": [
       "(1942, 14)"
      ]
     },
     "execution_count": 92,
     "metadata": {},
     "output_type": "execute_result"
    }
   ],
   "source": [
    "consec_evict_data.shape"
   ]
  },
  {
   "cell_type": "code",
   "execution_count": 93,
   "metadata": {},
   "outputs": [],
   "source": [
    "def check_two_consec_func(df):\n",
    "    return df['overdue_days'].iloc[-3] > 30 and np.isnan(df['Amount'].iloc[-2])"
   ]
  },
  {
   "cell_type": "code",
   "execution_count": 94,
   "metadata": {
    "scrolled": false
   },
   "outputs": [
    {
     "name": "stdout",
     "output_type": "stream",
     "text": [
      "111\n"
     ]
    },
    {
     "data": {
      "text/plain": [
       "109"
      ]
     },
     "execution_count": 94,
     "metadata": {},
     "output_type": "execute_result"
    }
   ],
   "source": [
    "print(consec_evict_id.nunique())\n",
    "sum(consec_evict_data.groupby('contract_id').apply(check_two_consec_func))"
   ]
  },
  {
   "cell_type": "markdown",
   "metadata": {},
   "source": [
    "It seems there are two contract_ids vilaoting the assumption, lets have a closer look at the two cases."
   ]
  },
  {
   "cell_type": "code",
   "execution_count": 95,
   "metadata": {},
   "outputs": [],
   "source": [
    "idx = consec_evict_data.groupby('contract_id').apply(check_two_consec_func)\n",
    "contract_id_false = idx[~idx].index"
   ]
  },
  {
   "cell_type": "code",
   "execution_count": 96,
   "metadata": {
    "scrolled": false
   },
   "outputs": [
    {
     "data": {
      "text/html": [
       "<div>\n",
       "<style scoped>\n",
       "    .dataframe tbody tr th:only-of-type {\n",
       "        vertical-align: middle;\n",
       "    }\n",
       "\n",
       "    .dataframe tbody tr th {\n",
       "        vertical-align: top;\n",
       "    }\n",
       "\n",
       "    .dataframe thead th {\n",
       "        text-align: right;\n",
       "    }\n",
       "</style>\n",
       "<table border=\"1\" class=\"dataframe\">\n",
       "  <thead>\n",
       "    <tr style=\"text-align: right;\">\n",
       "      <th></th>\n",
       "      <th>contract_id</th>\n",
       "      <th>postcode</th>\n",
       "      <th>rent</th>\n",
       "      <th>contract_start</th>\n",
       "      <th>contract_end</th>\n",
       "      <th>id</th>\n",
       "      <th>contract_length</th>\n",
       "      <th>Payment_date</th>\n",
       "      <th>Amount</th>\n",
       "      <th>payment_method</th>\n",
       "      <th>transaction_length</th>\n",
       "      <th>payment_ratio</th>\n",
       "      <th>due_date</th>\n",
       "      <th>overdue_days</th>\n",
       "    </tr>\n",
       "  </thead>\n",
       "  <tbody>\n",
       "    <tr>\n",
       "      <th>64174</th>\n",
       "      <td>1364690001</td>\n",
       "      <td>W2  4QP</td>\n",
       "      <td>1400.0</td>\n",
       "      <td>2013-03-31</td>\n",
       "      <td>2017-04-29</td>\n",
       "      <td>Diyan Ali 1989-04-07</td>\n",
       "      <td>1490 days</td>\n",
       "      <td>2017-03-01</td>\n",
       "      <td>1680.0</td>\n",
       "      <td>DIRECT_DEBIT</td>\n",
       "      <td>880</td>\n",
       "      <td>1.2</td>\n",
       "      <td>2017-01-31</td>\n",
       "      <td>29.0</td>\n",
       "    </tr>\n",
       "    <tr>\n",
       "      <th>64175</th>\n",
       "      <td>1364690001</td>\n",
       "      <td>W2  4QP</td>\n",
       "      <td>1400.0</td>\n",
       "      <td>2013-03-31</td>\n",
       "      <td>2017-04-29</td>\n",
       "      <td>Diyan Ali 1989-04-07</td>\n",
       "      <td>1490 days</td>\n",
       "      <td>2017-03-31</td>\n",
       "      <td>NaN</td>\n",
       "      <td>DIRECT_DEBIT</td>\n",
       "      <td>880</td>\n",
       "      <td>NaN</td>\n",
       "      <td>2017-02-28</td>\n",
       "      <td>31.0</td>\n",
       "    </tr>\n",
       "    <tr>\n",
       "      <th>64176</th>\n",
       "      <td>1364690001</td>\n",
       "      <td>W2  4QP</td>\n",
       "      <td>1400.0</td>\n",
       "      <td>2013-03-31</td>\n",
       "      <td>2017-04-29</td>\n",
       "      <td>Diyan Ali 1989-04-07</td>\n",
       "      <td>1490 days</td>\n",
       "      <td>2017-04-29</td>\n",
       "      <td>-1400.0</td>\n",
       "      <td>DIRECT_DEBIT</td>\n",
       "      <td>880</td>\n",
       "      <td>-1.0</td>\n",
       "      <td>2017-03-31</td>\n",
       "      <td>29.0</td>\n",
       "    </tr>\n",
       "    <tr>\n",
       "      <th>171260</th>\n",
       "      <td>1361839592</td>\n",
       "      <td>N12 8RR</td>\n",
       "      <td>1530.0</td>\n",
       "      <td>2013-02-26</td>\n",
       "      <td>2016-09-25</td>\n",
       "      <td>Luke Kirby 1982-04-28</td>\n",
       "      <td>1307 days</td>\n",
       "      <td>2016-07-26</td>\n",
       "      <td>1836.0</td>\n",
       "      <td>DIRECT_DEBIT</td>\n",
       "      <td>664</td>\n",
       "      <td>1.2</td>\n",
       "      <td>2016-06-26</td>\n",
       "      <td>30.0</td>\n",
       "    </tr>\n",
       "    <tr>\n",
       "      <th>171261</th>\n",
       "      <td>1361839592</td>\n",
       "      <td>N12 8RR</td>\n",
       "      <td>1530.0</td>\n",
       "      <td>2013-02-26</td>\n",
       "      <td>2016-09-25</td>\n",
       "      <td>Luke Kirby 1982-04-28</td>\n",
       "      <td>1307 days</td>\n",
       "      <td>2016-08-26</td>\n",
       "      <td>NaN</td>\n",
       "      <td>DIRECT_DEBIT</td>\n",
       "      <td>664</td>\n",
       "      <td>NaN</td>\n",
       "      <td>2016-07-26</td>\n",
       "      <td>31.0</td>\n",
       "    </tr>\n",
       "    <tr>\n",
       "      <th>171262</th>\n",
       "      <td>1361839592</td>\n",
       "      <td>N12 8RR</td>\n",
       "      <td>1530.0</td>\n",
       "      <td>2013-02-26</td>\n",
       "      <td>2016-09-25</td>\n",
       "      <td>Luke Kirby 1982-04-28</td>\n",
       "      <td>1307 days</td>\n",
       "      <td>2016-09-25</td>\n",
       "      <td>-1530.0</td>\n",
       "      <td>DIRECT_DEBIT</td>\n",
       "      <td>664</td>\n",
       "      <td>-1.0</td>\n",
       "      <td>2016-08-26</td>\n",
       "      <td>30.0</td>\n",
       "    </tr>\n",
       "  </tbody>\n",
       "</table>\n",
       "</div>"
      ],
      "text/plain": [
       "        contract_id postcode    rent contract_start contract_end  \\\n",
       "64174    1364690001  W2  4QP  1400.0     2013-03-31   2017-04-29   \n",
       "64175    1364690001  W2  4QP  1400.0     2013-03-31   2017-04-29   \n",
       "64176    1364690001  W2  4QP  1400.0     2013-03-31   2017-04-29   \n",
       "171260   1361839592  N12 8RR  1530.0     2013-02-26   2016-09-25   \n",
       "171261   1361839592  N12 8RR  1530.0     2013-02-26   2016-09-25   \n",
       "171262   1361839592  N12 8RR  1530.0     2013-02-26   2016-09-25   \n",
       "\n",
       "                           id contract_length Payment_date  Amount  \\\n",
       "64174    Diyan Ali 1989-04-07       1490 days   2017-03-01  1680.0   \n",
       "64175    Diyan Ali 1989-04-07       1490 days   2017-03-31     NaN   \n",
       "64176    Diyan Ali 1989-04-07       1490 days   2017-04-29 -1400.0   \n",
       "171260  Luke Kirby 1982-04-28       1307 days   2016-07-26  1836.0   \n",
       "171261  Luke Kirby 1982-04-28       1307 days   2016-08-26     NaN   \n",
       "171262  Luke Kirby 1982-04-28       1307 days   2016-09-25 -1530.0   \n",
       "\n",
       "       payment_method  transaction_length  payment_ratio   due_date  \\\n",
       "64174    DIRECT_DEBIT                 880            1.2 2017-01-31   \n",
       "64175    DIRECT_DEBIT                 880            NaN 2017-02-28   \n",
       "64176    DIRECT_DEBIT                 880           -1.0 2017-03-31   \n",
       "171260   DIRECT_DEBIT                 664            1.2 2016-06-26   \n",
       "171261   DIRECT_DEBIT                 664            NaN 2016-07-26   \n",
       "171262   DIRECT_DEBIT                 664           -1.0 2016-08-26   \n",
       "\n",
       "        overdue_days  \n",
       "64174           29.0  \n",
       "64175           31.0  \n",
       "64176           29.0  \n",
       "171260          30.0  \n",
       "171261          31.0  \n",
       "171262          30.0  "
      ]
     },
     "execution_count": 96,
     "metadata": {},
     "output_type": "execute_result"
    }
   ],
   "source": [
    "consec_evict_data[consec_evict_data['contract_id'].isin(contract_id_false)].groupby('contract_id').tail(3)"
   ]
  },
  {
   "cell_type": "markdown",
   "metadata": {},
   "source": [
    "We can see that although their last to bottom payment has also very long overdue_days (one with 29 overdue days and one with 30 overdue days). Therefore we can change our articulation of this eviction type as **tenant has two consecutive long delays (first nearly or above 1 month and second two months)**"
   ]
  },
  {
   "cell_type": "code",
   "execution_count": 97,
   "metadata": {
    "scrolled": true
   },
   "outputs": [
    {
     "data": {
      "text/plain": [
       "111"
      ]
     },
     "execution_count": 97,
     "metadata": {},
     "output_type": "execute_result"
    }
   ],
   "source": [
    "consec_evict_data['contract_id'].nunique()"
   ]
  },
  {
   "cell_type": "markdown",
   "metadata": {},
   "source": [
    "There are 111 evictions belong to this type. But as 10.3 will show, there are a few to be added to this type."
   ]
  },
  {
   "cell_type": "markdown",
   "metadata": {},
   "source": [
    "### 10.3 further investigation and data cleaning"
   ]
  },
  {
   "cell_type": "markdown",
   "metadata": {},
   "source": [
    "#### 10.3.1 final check on one excessively long-delay type"
   ]
  },
  {
   "cell_type": "markdown",
   "metadata": {},
   "source": [
    "Are there any contract IDs that are evicted but not included?"
   ]
  },
  {
   "cell_type": "code",
   "execution_count": 98,
   "metadata": {},
   "outputs": [],
   "source": [
    "# Let us check the rest data that are not inlcuded in the previous two subsections.\n",
    "other_data = clean_data[np.logical_not(np.logical_or(clean_data['contract_id'].isin(consec_evict_id), clean_data['contract_id'].isin(excess_evict_id)))]"
   ]
  },
  {
   "cell_type": "code",
   "execution_count": 99,
   "metadata": {
    "scrolled": false
   },
   "outputs": [
    {
     "data": {
      "text/plain": [
       "array([1450404450, 1495758461, 1331862491, 1494379265, 1424312077,\n",
       "       1470271859, 1491096455])"
      ]
     },
     "execution_count": 99,
     "metadata": {},
     "output_type": "execute_result"
    }
   ],
   "source": [
    "trouble_id = other_data.loc[other_data.Amount.isnull(), 'contract_id'].unique()\n",
    "trouble_id"
   ]
  },
  {
   "cell_type": "markdown",
   "metadata": {},
   "source": [
    "As we can see, there are still seven cases that are evicted but not considered in the previous analysis. This is because their behaviour appears approaching the end of the sampling period (2017-12) and therefore the last row (returning the deposit) is not recorded in the sample and therefore should be also included in the two types discussed above."
   ]
  },
  {
   "cell_type": "code",
   "execution_count": 100,
   "metadata": {
    "scrolled": true
   },
   "outputs": [
    {
     "data": {
      "text/html": [
       "<div>\n",
       "<style scoped>\n",
       "    .dataframe tbody tr th:only-of-type {\n",
       "        vertical-align: middle;\n",
       "    }\n",
       "\n",
       "    .dataframe tbody tr th {\n",
       "        vertical-align: top;\n",
       "    }\n",
       "\n",
       "    .dataframe thead th {\n",
       "        text-align: right;\n",
       "    }\n",
       "</style>\n",
       "<table border=\"1\" class=\"dataframe\">\n",
       "  <thead>\n",
       "    <tr style=\"text-align: right;\">\n",
       "      <th></th>\n",
       "      <th>contract_id</th>\n",
       "      <th>postcode</th>\n",
       "      <th>rent</th>\n",
       "      <th>contract_start</th>\n",
       "      <th>contract_end</th>\n",
       "      <th>id</th>\n",
       "      <th>contract_length</th>\n",
       "      <th>Payment_date</th>\n",
       "      <th>Amount</th>\n",
       "      <th>payment_method</th>\n",
       "      <th>transaction_length</th>\n",
       "      <th>payment_ratio</th>\n",
       "      <th>due_date</th>\n",
       "      <th>overdue_days</th>\n",
       "    </tr>\n",
       "  </thead>\n",
       "  <tbody>\n",
       "    <tr>\n",
       "      <th>66437</th>\n",
       "      <td>1450404450</td>\n",
       "      <td>IG8 0TJ</td>\n",
       "      <td>1230.0</td>\n",
       "      <td>2015-12-18</td>\n",
       "      <td>2017-12-18</td>\n",
       "      <td>Edith Walker 1993-01-31</td>\n",
       "      <td>731 days</td>\n",
       "      <td>2017-09-18</td>\n",
       "      <td>1230.0</td>\n",
       "      <td>BANK_TRANSFER</td>\n",
       "      <td>731</td>\n",
       "      <td>1.0</td>\n",
       "      <td>2017-09-18</td>\n",
       "      <td>0.0</td>\n",
       "    </tr>\n",
       "    <tr>\n",
       "      <th>66438</th>\n",
       "      <td>1450404450</td>\n",
       "      <td>IG8 0TJ</td>\n",
       "      <td>1230.0</td>\n",
       "      <td>2015-12-18</td>\n",
       "      <td>2017-12-18</td>\n",
       "      <td>Edith Walker 1993-01-31</td>\n",
       "      <td>731 days</td>\n",
       "      <td>NaT</td>\n",
       "      <td>NaN</td>\n",
       "      <td>BANK_TRANSFER</td>\n",
       "      <td>731</td>\n",
       "      <td>NaN</td>\n",
       "      <td>2017-10-18</td>\n",
       "      <td>NaN</td>\n",
       "    </tr>\n",
       "    <tr>\n",
       "      <th>66439</th>\n",
       "      <td>1450404450</td>\n",
       "      <td>IG8 0TJ</td>\n",
       "      <td>1230.0</td>\n",
       "      <td>2015-12-18</td>\n",
       "      <td>2017-12-18</td>\n",
       "      <td>Edith Walker 1993-01-31</td>\n",
       "      <td>731 days</td>\n",
       "      <td>2017-12-18</td>\n",
       "      <td>NaN</td>\n",
       "      <td>BANK_TRANSFER</td>\n",
       "      <td>731</td>\n",
       "      <td>NaN</td>\n",
       "      <td>2017-11-18</td>\n",
       "      <td>30.0</td>\n",
       "    </tr>\n",
       "    <tr>\n",
       "      <th>108225</th>\n",
       "      <td>1331862491</td>\n",
       "      <td>SW189DW</td>\n",
       "      <td>1720.0</td>\n",
       "      <td>2012-03-16</td>\n",
       "      <td>2017-12-16</td>\n",
       "      <td>Hope Hale 1972-07-26</td>\n",
       "      <td>2101 days</td>\n",
       "      <td>2017-09-16</td>\n",
       "      <td>1720.0</td>\n",
       "      <td>DIRECT_DEBIT</td>\n",
       "      <td>1111</td>\n",
       "      <td>1.0</td>\n",
       "      <td>2017-09-16</td>\n",
       "      <td>0.0</td>\n",
       "    </tr>\n",
       "    <tr>\n",
       "      <th>108226</th>\n",
       "      <td>1331862491</td>\n",
       "      <td>SW189DW</td>\n",
       "      <td>1720.0</td>\n",
       "      <td>2012-03-16</td>\n",
       "      <td>2017-12-16</td>\n",
       "      <td>Hope Hale 1972-07-26</td>\n",
       "      <td>2101 days</td>\n",
       "      <td>NaT</td>\n",
       "      <td>NaN</td>\n",
       "      <td>DIRECT_DEBIT</td>\n",
       "      <td>1111</td>\n",
       "      <td>NaN</td>\n",
       "      <td>2017-10-16</td>\n",
       "      <td>NaN</td>\n",
       "    </tr>\n",
       "    <tr>\n",
       "      <th>108227</th>\n",
       "      <td>1331862491</td>\n",
       "      <td>SW189DW</td>\n",
       "      <td>1720.0</td>\n",
       "      <td>2012-03-16</td>\n",
       "      <td>2017-12-16</td>\n",
       "      <td>Hope Hale 1972-07-26</td>\n",
       "      <td>2101 days</td>\n",
       "      <td>2017-12-16</td>\n",
       "      <td>NaN</td>\n",
       "      <td>DIRECT_DEBIT</td>\n",
       "      <td>1111</td>\n",
       "      <td>NaN</td>\n",
       "      <td>2017-11-16</td>\n",
       "      <td>30.0</td>\n",
       "    </tr>\n",
       "    <tr>\n",
       "      <th>126482</th>\n",
       "      <td>1494379265</td>\n",
       "      <td>E14 1BY</td>\n",
       "      <td>1130.0</td>\n",
       "      <td>2017-05-10</td>\n",
       "      <td>2017-12-10</td>\n",
       "      <td>Jamie Hunt 1990-03-31</td>\n",
       "      <td>214 days</td>\n",
       "      <td>2017-09-12</td>\n",
       "      <td>1130.0</td>\n",
       "      <td>CASH</td>\n",
       "      <td>214</td>\n",
       "      <td>1.0</td>\n",
       "      <td>2017-09-10</td>\n",
       "      <td>2.0</td>\n",
       "    </tr>\n",
       "    <tr>\n",
       "      <th>126483</th>\n",
       "      <td>1494379265</td>\n",
       "      <td>E14 1BY</td>\n",
       "      <td>1130.0</td>\n",
       "      <td>2017-05-10</td>\n",
       "      <td>2017-12-10</td>\n",
       "      <td>Jamie Hunt 1990-03-31</td>\n",
       "      <td>214 days</td>\n",
       "      <td>NaT</td>\n",
       "      <td>NaN</td>\n",
       "      <td>CASH</td>\n",
       "      <td>214</td>\n",
       "      <td>NaN</td>\n",
       "      <td>2017-10-10</td>\n",
       "      <td>NaN</td>\n",
       "    </tr>\n",
       "    <tr>\n",
       "      <th>126484</th>\n",
       "      <td>1494379265</td>\n",
       "      <td>E14 1BY</td>\n",
       "      <td>1130.0</td>\n",
       "      <td>2017-05-10</td>\n",
       "      <td>2017-12-10</td>\n",
       "      <td>Jamie Hunt 1990-03-31</td>\n",
       "      <td>214 days</td>\n",
       "      <td>2017-12-10</td>\n",
       "      <td>NaN</td>\n",
       "      <td>CASH</td>\n",
       "      <td>214</td>\n",
       "      <td>NaN</td>\n",
       "      <td>2017-11-10</td>\n",
       "      <td>30.0</td>\n",
       "    </tr>\n",
       "    <tr>\n",
       "      <th>157308</th>\n",
       "      <td>1470271859</td>\n",
       "      <td>IG111BA</td>\n",
       "      <td>1050.0</td>\n",
       "      <td>2016-08-04</td>\n",
       "      <td>2017-12-04</td>\n",
       "      <td>Leighton Wood 1961-10-18</td>\n",
       "      <td>487 days</td>\n",
       "      <td>2017-09-15</td>\n",
       "      <td>1155.0</td>\n",
       "      <td>DIRECT_DEBIT</td>\n",
       "      <td>487</td>\n",
       "      <td>1.1</td>\n",
       "      <td>2017-09-04</td>\n",
       "      <td>11.0</td>\n",
       "    </tr>\n",
       "    <tr>\n",
       "      <th>157309</th>\n",
       "      <td>1470271859</td>\n",
       "      <td>IG111BA</td>\n",
       "      <td>1050.0</td>\n",
       "      <td>2016-08-04</td>\n",
       "      <td>2017-12-04</td>\n",
       "      <td>Leighton Wood 1961-10-18</td>\n",
       "      <td>487 days</td>\n",
       "      <td>NaT</td>\n",
       "      <td>NaN</td>\n",
       "      <td>DIRECT_DEBIT</td>\n",
       "      <td>487</td>\n",
       "      <td>NaN</td>\n",
       "      <td>2017-10-04</td>\n",
       "      <td>NaN</td>\n",
       "    </tr>\n",
       "    <tr>\n",
       "      <th>157310</th>\n",
       "      <td>1470271859</td>\n",
       "      <td>IG111BA</td>\n",
       "      <td>1050.0</td>\n",
       "      <td>2016-08-04</td>\n",
       "      <td>2017-12-04</td>\n",
       "      <td>Leighton Wood 1961-10-18</td>\n",
       "      <td>487 days</td>\n",
       "      <td>2017-12-04</td>\n",
       "      <td>NaN</td>\n",
       "      <td>DIRECT_DEBIT</td>\n",
       "      <td>487</td>\n",
       "      <td>NaN</td>\n",
       "      <td>2017-11-04</td>\n",
       "      <td>30.0</td>\n",
       "    </tr>\n",
       "  </tbody>\n",
       "</table>\n",
       "</div>"
      ],
      "text/plain": [
       "        contract_id postcode    rent contract_start contract_end  \\\n",
       "66437    1450404450  IG8 0TJ  1230.0     2015-12-18   2017-12-18   \n",
       "66438    1450404450  IG8 0TJ  1230.0     2015-12-18   2017-12-18   \n",
       "66439    1450404450  IG8 0TJ  1230.0     2015-12-18   2017-12-18   \n",
       "108225   1331862491  SW189DW  1720.0     2012-03-16   2017-12-16   \n",
       "108226   1331862491  SW189DW  1720.0     2012-03-16   2017-12-16   \n",
       "108227   1331862491  SW189DW  1720.0     2012-03-16   2017-12-16   \n",
       "126482   1494379265  E14 1BY  1130.0     2017-05-10   2017-12-10   \n",
       "126483   1494379265  E14 1BY  1130.0     2017-05-10   2017-12-10   \n",
       "126484   1494379265  E14 1BY  1130.0     2017-05-10   2017-12-10   \n",
       "157308   1470271859  IG111BA  1050.0     2016-08-04   2017-12-04   \n",
       "157309   1470271859  IG111BA  1050.0     2016-08-04   2017-12-04   \n",
       "157310   1470271859  IG111BA  1050.0     2016-08-04   2017-12-04   \n",
       "\n",
       "                              id contract_length Payment_date  Amount  \\\n",
       "66437    Edith Walker 1993-01-31        731 days   2017-09-18  1230.0   \n",
       "66438    Edith Walker 1993-01-31        731 days          NaT     NaN   \n",
       "66439    Edith Walker 1993-01-31        731 days   2017-12-18     NaN   \n",
       "108225      Hope Hale 1972-07-26       2101 days   2017-09-16  1720.0   \n",
       "108226      Hope Hale 1972-07-26       2101 days          NaT     NaN   \n",
       "108227      Hope Hale 1972-07-26       2101 days   2017-12-16     NaN   \n",
       "126482     Jamie Hunt 1990-03-31        214 days   2017-09-12  1130.0   \n",
       "126483     Jamie Hunt 1990-03-31        214 days          NaT     NaN   \n",
       "126484     Jamie Hunt 1990-03-31        214 days   2017-12-10     NaN   \n",
       "157308  Leighton Wood 1961-10-18        487 days   2017-09-15  1155.0   \n",
       "157309  Leighton Wood 1961-10-18        487 days          NaT     NaN   \n",
       "157310  Leighton Wood 1961-10-18        487 days   2017-12-04     NaN   \n",
       "\n",
       "       payment_method  transaction_length  payment_ratio   due_date  \\\n",
       "66437   BANK_TRANSFER                 731            1.0 2017-09-18   \n",
       "66438   BANK_TRANSFER                 731            NaN 2017-10-18   \n",
       "66439   BANK_TRANSFER                 731            NaN 2017-11-18   \n",
       "108225   DIRECT_DEBIT                1111            1.0 2017-09-16   \n",
       "108226   DIRECT_DEBIT                1111            NaN 2017-10-16   \n",
       "108227   DIRECT_DEBIT                1111            NaN 2017-11-16   \n",
       "126482           CASH                 214            1.0 2017-09-10   \n",
       "126483           CASH                 214            NaN 2017-10-10   \n",
       "126484           CASH                 214            NaN 2017-11-10   \n",
       "157308   DIRECT_DEBIT                 487            1.1 2017-09-04   \n",
       "157309   DIRECT_DEBIT                 487            NaN 2017-10-04   \n",
       "157310   DIRECT_DEBIT                 487            NaN 2017-11-04   \n",
       "\n",
       "        overdue_days  \n",
       "66437            0.0  \n",
       "66438            NaN  \n",
       "66439           30.0  \n",
       "108225           0.0  \n",
       "108226           NaN  \n",
       "108227          30.0  \n",
       "126482           2.0  \n",
       "126483           NaN  \n",
       "126484          30.0  \n",
       "157308          11.0  \n",
       "157309           NaN  \n",
       "157310          30.0  "
      ]
     },
     "execution_count": 100,
     "metadata": {},
     "output_type": "execute_result"
    }
   ],
   "source": [
    "trouble_data = other_data[other_data['contract_id'].isin(trouble_id)]\n",
    "add_excess_evict_id = trouble_data.groupby('contract_id').apply(check_excessive_long_func, last=0)\n",
    "add_excess_evict_id = add_excess_evict_id[add_excess_evict_id].index\n",
    "add_excess_evict_data = trouble_data[trouble_data['contract_id'].isin(add_excess_evict_id)]\n",
    "add_excess_evict_data.groupby('contract_id').tail(3)"
   ]
  },
  {
   "cell_type": "markdown",
   "metadata": {},
   "source": [
    "Tenant Leighton Wood, who was born at 1961-10-18, has delayed his payment due at 2017-10-04 for at least two months at 2017-12-24. So he is evicted."
   ]
  },
  {
   "cell_type": "code",
   "execution_count": 101,
   "metadata": {
    "scrolled": false
   },
   "outputs": [
    {
     "data": {
      "text/plain": [
       "201"
      ]
     },
     "execution_count": 101,
     "metadata": {},
     "output_type": "execute_result"
    }
   ],
   "source": [
    "excess_evict_data = pd.concat([excess_evict_data, add_excess_evict_data], ignore_index=True)\n",
    "excess_evict_id = pd.concat([excess_evict_id, pd.Series(add_excess_evict_id)], ignore_index=True)\n",
    "excess_evict_id.shape[0]"
   ]
  },
  {
   "cell_type": "markdown",
   "metadata": {},
   "source": [
    "**Now we have four more cases belonging to excessive one long delay type.**"
   ]
  },
  {
   "cell_type": "markdown",
   "metadata": {},
   "source": [
    "#### 10.3.2 cleaning one excessively long-delay type data"
   ]
  },
  {
   "cell_type": "code",
   "execution_count": 102,
   "metadata": {
    "scrolled": false
   },
   "outputs": [
    {
     "name": "stdout",
     "output_type": "stream",
     "text": [
      "<class 'pandas.core.frame.DataFrame'>\n",
      "RangeIndex: 3290 entries, 0 to 3289\n",
      "Data columns (total 14 columns):\n",
      "contract_id           3290 non-null int64\n",
      "postcode              3290 non-null object\n",
      "rent                  3290 non-null float64\n",
      "contract_start        3290 non-null datetime64[ns]\n",
      "contract_end          3290 non-null datetime64[ns]\n",
      "id                    3290 non-null object\n",
      "contract_length       3290 non-null timedelta64[ns]\n",
      "Payment_date          3089 non-null datetime64[ns]\n",
      "Amount                2888 non-null float64\n",
      "payment_method        3290 non-null object\n",
      "transaction_length    3290 non-null int64\n",
      "payment_ratio         2888 non-null float64\n",
      "due_date              3290 non-null datetime64[ns]\n",
      "overdue_days          3089 non-null float64\n",
      "dtypes: datetime64[ns](4), float64(4), int64(2), object(3), timedelta64[ns](1)\n",
      "memory usage: 359.9+ KB\n"
     ]
    }
   ],
   "source": [
    "excess_evict_data.info()"
   ]
  },
  {
   "cell_type": "code",
   "execution_count": 103,
   "metadata": {
    "scrolled": false
   },
   "outputs": [
    {
     "data": {
      "text/html": [
       "<div>\n",
       "<style scoped>\n",
       "    .dataframe tbody tr th:only-of-type {\n",
       "        vertical-align: middle;\n",
       "    }\n",
       "\n",
       "    .dataframe tbody tr th {\n",
       "        vertical-align: top;\n",
       "    }\n",
       "\n",
       "    .dataframe thead th {\n",
       "        text-align: right;\n",
       "    }\n",
       "</style>\n",
       "<table border=\"1\" class=\"dataframe\">\n",
       "  <thead>\n",
       "    <tr style=\"text-align: right;\">\n",
       "      <th></th>\n",
       "      <th>contract_id</th>\n",
       "      <th>postcode</th>\n",
       "      <th>rent</th>\n",
       "      <th>contract_start</th>\n",
       "      <th>contract_end</th>\n",
       "      <th>id</th>\n",
       "      <th>contract_length</th>\n",
       "      <th>Payment_date</th>\n",
       "      <th>Amount</th>\n",
       "      <th>payment_method</th>\n",
       "      <th>transaction_length</th>\n",
       "      <th>payment_ratio</th>\n",
       "      <th>due_date</th>\n",
       "      <th>overdue_days</th>\n",
       "    </tr>\n",
       "  </thead>\n",
       "  <tbody>\n",
       "    <tr>\n",
       "      <th>6</th>\n",
       "      <td>1392083217</td>\n",
       "      <td>IG4 5AG</td>\n",
       "      <td>1250.0</td>\n",
       "      <td>2014-02-11</td>\n",
       "      <td>2015-09-10</td>\n",
       "      <td>Aaron Hudson 1965-06-29</td>\n",
       "      <td>576 days</td>\n",
       "      <td>NaT</td>\n",
       "      <td>NaN</td>\n",
       "      <td>DIRECT_DEBIT</td>\n",
       "      <td>283</td>\n",
       "      <td>NaN</td>\n",
       "      <td>2015-06-11</td>\n",
       "      <td>NaN</td>\n",
       "    </tr>\n",
       "    <tr>\n",
       "      <th>7</th>\n",
       "      <td>1392083217</td>\n",
       "      <td>IG4 5AG</td>\n",
       "      <td>1250.0</td>\n",
       "      <td>2014-02-11</td>\n",
       "      <td>2015-09-10</td>\n",
       "      <td>Aaron Hudson 1965-06-29</td>\n",
       "      <td>576 days</td>\n",
       "      <td>2015-08-11</td>\n",
       "      <td>NaN</td>\n",
       "      <td>DIRECT_DEBIT</td>\n",
       "      <td>283</td>\n",
       "      <td>NaN</td>\n",
       "      <td>2015-07-11</td>\n",
       "      <td>31.0</td>\n",
       "    </tr>\n",
       "    <tr>\n",
       "      <th>8</th>\n",
       "      <td>1392083217</td>\n",
       "      <td>IG4 5AG</td>\n",
       "      <td>1250.0</td>\n",
       "      <td>2014-02-11</td>\n",
       "      <td>2015-09-10</td>\n",
       "      <td>Aaron Hudson 1965-06-29</td>\n",
       "      <td>576 days</td>\n",
       "      <td>2015-09-10</td>\n",
       "      <td>0.0</td>\n",
       "      <td>DIRECT_DEBIT</td>\n",
       "      <td>283</td>\n",
       "      <td>0.0</td>\n",
       "      <td>2015-08-11</td>\n",
       "      <td>30.0</td>\n",
       "    </tr>\n",
       "    <tr>\n",
       "      <th>33</th>\n",
       "      <td>1383096745</td>\n",
       "      <td>EC1N2TT</td>\n",
       "      <td>1890.0</td>\n",
       "      <td>2013-10-30</td>\n",
       "      <td>2017-03-29</td>\n",
       "      <td>Aaryan Johnson 1964-06-24</td>\n",
       "      <td>1246 days</td>\n",
       "      <td>NaT</td>\n",
       "      <td>NaN</td>\n",
       "      <td>DIRECT_DEBIT</td>\n",
       "      <td>849</td>\n",
       "      <td>NaN</td>\n",
       "      <td>2016-12-30</td>\n",
       "      <td>NaN</td>\n",
       "    </tr>\n",
       "    <tr>\n",
       "      <th>34</th>\n",
       "      <td>1383096745</td>\n",
       "      <td>EC1N2TT</td>\n",
       "      <td>1890.0</td>\n",
       "      <td>2013-10-30</td>\n",
       "      <td>2017-03-29</td>\n",
       "      <td>Aaryan Johnson 1964-06-24</td>\n",
       "      <td>1246 days</td>\n",
       "      <td>2017-02-28</td>\n",
       "      <td>NaN</td>\n",
       "      <td>DIRECT_DEBIT</td>\n",
       "      <td>849</td>\n",
       "      <td>NaN</td>\n",
       "      <td>2017-01-30</td>\n",
       "      <td>29.0</td>\n",
       "    </tr>\n",
       "    <tr>\n",
       "      <th>35</th>\n",
       "      <td>1383096745</td>\n",
       "      <td>EC1N2TT</td>\n",
       "      <td>1890.0</td>\n",
       "      <td>2013-10-30</td>\n",
       "      <td>2017-03-29</td>\n",
       "      <td>Aaryan Johnson 1964-06-24</td>\n",
       "      <td>1246 days</td>\n",
       "      <td>2017-03-29</td>\n",
       "      <td>0.0</td>\n",
       "      <td>DIRECT_DEBIT</td>\n",
       "      <td>849</td>\n",
       "      <td>0.0</td>\n",
       "      <td>2017-02-28</td>\n",
       "      <td>29.0</td>\n",
       "    </tr>\n",
       "    <tr>\n",
       "      <th>61</th>\n",
       "      <td>1362796116</td>\n",
       "      <td>DA6 7WY</td>\n",
       "      <td>770.0</td>\n",
       "      <td>2013-03-09</td>\n",
       "      <td>2017-04-08</td>\n",
       "      <td>Alba Stevenson 1983-03-02</td>\n",
       "      <td>1491 days</td>\n",
       "      <td>NaT</td>\n",
       "      <td>NaN</td>\n",
       "      <td>CASH</td>\n",
       "      <td>859</td>\n",
       "      <td>NaN</td>\n",
       "      <td>2017-01-09</td>\n",
       "      <td>NaN</td>\n",
       "    </tr>\n",
       "    <tr>\n",
       "      <th>62</th>\n",
       "      <td>1362796116</td>\n",
       "      <td>DA6 7WY</td>\n",
       "      <td>770.0</td>\n",
       "      <td>2013-03-09</td>\n",
       "      <td>2017-04-08</td>\n",
       "      <td>Alba Stevenson 1983-03-02</td>\n",
       "      <td>1491 days</td>\n",
       "      <td>2017-03-09</td>\n",
       "      <td>NaN</td>\n",
       "      <td>CASH</td>\n",
       "      <td>859</td>\n",
       "      <td>NaN</td>\n",
       "      <td>2017-02-09</td>\n",
       "      <td>28.0</td>\n",
       "    </tr>\n",
       "    <tr>\n",
       "      <th>63</th>\n",
       "      <td>1362796116</td>\n",
       "      <td>DA6 7WY</td>\n",
       "      <td>770.0</td>\n",
       "      <td>2013-03-09</td>\n",
       "      <td>2017-04-08</td>\n",
       "      <td>Alba Stevenson 1983-03-02</td>\n",
       "      <td>1491 days</td>\n",
       "      <td>2017-04-08</td>\n",
       "      <td>0.0</td>\n",
       "      <td>CASH</td>\n",
       "      <td>859</td>\n",
       "      <td>0.0</td>\n",
       "      <td>2017-03-09</td>\n",
       "      <td>30.0</td>\n",
       "    </tr>\n",
       "    <tr>\n",
       "      <th>92</th>\n",
       "      <td>1353034842</td>\n",
       "      <td>SW4 7NQ</td>\n",
       "      <td>2410.0</td>\n",
       "      <td>2012-11-16</td>\n",
       "      <td>2017-07-15</td>\n",
       "      <td>Albert Ali 1986-10-20</td>\n",
       "      <td>1702 days</td>\n",
       "      <td>NaT</td>\n",
       "      <td>NaN</td>\n",
       "      <td>CASH</td>\n",
       "      <td>957</td>\n",
       "      <td>NaN</td>\n",
       "      <td>2017-04-16</td>\n",
       "      <td>NaN</td>\n",
       "    </tr>\n",
       "    <tr>\n",
       "      <th>93</th>\n",
       "      <td>1353034842</td>\n",
       "      <td>SW4 7NQ</td>\n",
       "      <td>2410.0</td>\n",
       "      <td>2012-11-16</td>\n",
       "      <td>2017-07-15</td>\n",
       "      <td>Albert Ali 1986-10-20</td>\n",
       "      <td>1702 days</td>\n",
       "      <td>2017-06-16</td>\n",
       "      <td>NaN</td>\n",
       "      <td>CASH</td>\n",
       "      <td>957</td>\n",
       "      <td>NaN</td>\n",
       "      <td>2017-05-16</td>\n",
       "      <td>31.0</td>\n",
       "    </tr>\n",
       "    <tr>\n",
       "      <th>94</th>\n",
       "      <td>1353034842</td>\n",
       "      <td>SW4 7NQ</td>\n",
       "      <td>2410.0</td>\n",
       "      <td>2012-11-16</td>\n",
       "      <td>2017-07-15</td>\n",
       "      <td>Albert Ali 1986-10-20</td>\n",
       "      <td>1702 days</td>\n",
       "      <td>2017-07-15</td>\n",
       "      <td>0.0</td>\n",
       "      <td>CASH</td>\n",
       "      <td>957</td>\n",
       "      <td>0.0</td>\n",
       "      <td>2017-06-16</td>\n",
       "      <td>29.0</td>\n",
       "    </tr>\n",
       "    <tr>\n",
       "      <th>107</th>\n",
       "      <td>1462320562</td>\n",
       "      <td>CR2 0AZ</td>\n",
       "      <td>1330.0</td>\n",
       "      <td>2016-05-04</td>\n",
       "      <td>2017-08-03</td>\n",
       "      <td>Alex Jones 1972-06-30</td>\n",
       "      <td>456 days</td>\n",
       "      <td>NaT</td>\n",
       "      <td>NaN</td>\n",
       "      <td>DIRECT_DEBIT</td>\n",
       "      <td>456</td>\n",
       "      <td>NaN</td>\n",
       "      <td>2017-05-04</td>\n",
       "      <td>NaN</td>\n",
       "    </tr>\n",
       "    <tr>\n",
       "      <th>108</th>\n",
       "      <td>1462320562</td>\n",
       "      <td>CR2 0AZ</td>\n",
       "      <td>1330.0</td>\n",
       "      <td>2016-05-04</td>\n",
       "      <td>2017-08-03</td>\n",
       "      <td>Alex Jones 1972-06-30</td>\n",
       "      <td>456 days</td>\n",
       "      <td>2017-07-04</td>\n",
       "      <td>NaN</td>\n",
       "      <td>DIRECT_DEBIT</td>\n",
       "      <td>456</td>\n",
       "      <td>NaN</td>\n",
       "      <td>2017-06-04</td>\n",
       "      <td>30.0</td>\n",
       "    </tr>\n",
       "    <tr>\n",
       "      <th>109</th>\n",
       "      <td>1462320562</td>\n",
       "      <td>CR2 0AZ</td>\n",
       "      <td>1330.0</td>\n",
       "      <td>2016-05-04</td>\n",
       "      <td>2017-08-03</td>\n",
       "      <td>Alex Jones 1972-06-30</td>\n",
       "      <td>456 days</td>\n",
       "      <td>2017-08-03</td>\n",
       "      <td>0.0</td>\n",
       "      <td>DIRECT_DEBIT</td>\n",
       "      <td>456</td>\n",
       "      <td>0.0</td>\n",
       "      <td>2017-07-04</td>\n",
       "      <td>30.0</td>\n",
       "    </tr>\n",
       "    <tr>\n",
       "      <th>123</th>\n",
       "      <td>1450054498</td>\n",
       "      <td>TW5 0PA</td>\n",
       "      <td>1670.0</td>\n",
       "      <td>2015-12-14</td>\n",
       "      <td>2017-04-13</td>\n",
       "      <td>Alex O'Brien 1950-07-10</td>\n",
       "      <td>486 days</td>\n",
       "      <td>NaT</td>\n",
       "      <td>NaN</td>\n",
       "      <td>CASH</td>\n",
       "      <td>377</td>\n",
       "      <td>NaN</td>\n",
       "      <td>2017-01-14</td>\n",
       "      <td>NaN</td>\n",
       "    </tr>\n",
       "    <tr>\n",
       "      <th>124</th>\n",
       "      <td>1450054498</td>\n",
       "      <td>TW5 0PA</td>\n",
       "      <td>1670.0</td>\n",
       "      <td>2015-12-14</td>\n",
       "      <td>2017-04-13</td>\n",
       "      <td>Alex O'Brien 1950-07-10</td>\n",
       "      <td>486 days</td>\n",
       "      <td>2017-03-14</td>\n",
       "      <td>NaN</td>\n",
       "      <td>CASH</td>\n",
       "      <td>377</td>\n",
       "      <td>NaN</td>\n",
       "      <td>2017-02-14</td>\n",
       "      <td>28.0</td>\n",
       "    </tr>\n",
       "    <tr>\n",
       "      <th>125</th>\n",
       "      <td>1450054498</td>\n",
       "      <td>TW5 0PA</td>\n",
       "      <td>1670.0</td>\n",
       "      <td>2015-12-14</td>\n",
       "      <td>2017-04-13</td>\n",
       "      <td>Alex O'Brien 1950-07-10</td>\n",
       "      <td>486 days</td>\n",
       "      <td>2017-04-13</td>\n",
       "      <td>0.0</td>\n",
       "      <td>CASH</td>\n",
       "      <td>377</td>\n",
       "      <td>0.0</td>\n",
       "      <td>2017-03-14</td>\n",
       "      <td>30.0</td>\n",
       "    </tr>\n",
       "    <tr>\n",
       "      <th>129</th>\n",
       "      <td>1432604828</td>\n",
       "      <td>SE256WT</td>\n",
       "      <td>1160.0</td>\n",
       "      <td>2015-05-26</td>\n",
       "      <td>2015-11-25</td>\n",
       "      <td>Alexander Barnes 1956-11-16</td>\n",
       "      <td>183 days</td>\n",
       "      <td>NaT</td>\n",
       "      <td>NaN</td>\n",
       "      <td>DIRECT_DEBIT</td>\n",
       "      <td>183</td>\n",
       "      <td>NaN</td>\n",
       "      <td>2015-08-26</td>\n",
       "      <td>NaN</td>\n",
       "    </tr>\n",
       "    <tr>\n",
       "      <th>130</th>\n",
       "      <td>1432604828</td>\n",
       "      <td>SE256WT</td>\n",
       "      <td>1160.0</td>\n",
       "      <td>2015-05-26</td>\n",
       "      <td>2015-11-25</td>\n",
       "      <td>Alexander Barnes 1956-11-16</td>\n",
       "      <td>183 days</td>\n",
       "      <td>2015-10-26</td>\n",
       "      <td>NaN</td>\n",
       "      <td>DIRECT_DEBIT</td>\n",
       "      <td>183</td>\n",
       "      <td>NaN</td>\n",
       "      <td>2015-09-26</td>\n",
       "      <td>30.0</td>\n",
       "    </tr>\n",
       "  </tbody>\n",
       "</table>\n",
       "</div>"
      ],
      "text/plain": [
       "     contract_id postcode    rent contract_start contract_end  \\\n",
       "6     1392083217  IG4 5AG  1250.0     2014-02-11   2015-09-10   \n",
       "7     1392083217  IG4 5AG  1250.0     2014-02-11   2015-09-10   \n",
       "8     1392083217  IG4 5AG  1250.0     2014-02-11   2015-09-10   \n",
       "33    1383096745  EC1N2TT  1890.0     2013-10-30   2017-03-29   \n",
       "34    1383096745  EC1N2TT  1890.0     2013-10-30   2017-03-29   \n",
       "35    1383096745  EC1N2TT  1890.0     2013-10-30   2017-03-29   \n",
       "61    1362796116  DA6 7WY   770.0     2013-03-09   2017-04-08   \n",
       "62    1362796116  DA6 7WY   770.0     2013-03-09   2017-04-08   \n",
       "63    1362796116  DA6 7WY   770.0     2013-03-09   2017-04-08   \n",
       "92    1353034842  SW4 7NQ  2410.0     2012-11-16   2017-07-15   \n",
       "93    1353034842  SW4 7NQ  2410.0     2012-11-16   2017-07-15   \n",
       "94    1353034842  SW4 7NQ  2410.0     2012-11-16   2017-07-15   \n",
       "107   1462320562  CR2 0AZ  1330.0     2016-05-04   2017-08-03   \n",
       "108   1462320562  CR2 0AZ  1330.0     2016-05-04   2017-08-03   \n",
       "109   1462320562  CR2 0AZ  1330.0     2016-05-04   2017-08-03   \n",
       "123   1450054498  TW5 0PA  1670.0     2015-12-14   2017-04-13   \n",
       "124   1450054498  TW5 0PA  1670.0     2015-12-14   2017-04-13   \n",
       "125   1450054498  TW5 0PA  1670.0     2015-12-14   2017-04-13   \n",
       "129   1432604828  SE256WT  1160.0     2015-05-26   2015-11-25   \n",
       "130   1432604828  SE256WT  1160.0     2015-05-26   2015-11-25   \n",
       "\n",
       "                              id contract_length Payment_date  Amount  \\\n",
       "6        Aaron Hudson 1965-06-29        576 days          NaT     NaN   \n",
       "7        Aaron Hudson 1965-06-29        576 days   2015-08-11     NaN   \n",
       "8        Aaron Hudson 1965-06-29        576 days   2015-09-10     0.0   \n",
       "33     Aaryan Johnson 1964-06-24       1246 days          NaT     NaN   \n",
       "34     Aaryan Johnson 1964-06-24       1246 days   2017-02-28     NaN   \n",
       "35     Aaryan Johnson 1964-06-24       1246 days   2017-03-29     0.0   \n",
       "61     Alba Stevenson 1983-03-02       1491 days          NaT     NaN   \n",
       "62     Alba Stevenson 1983-03-02       1491 days   2017-03-09     NaN   \n",
       "63     Alba Stevenson 1983-03-02       1491 days   2017-04-08     0.0   \n",
       "92         Albert Ali 1986-10-20       1702 days          NaT     NaN   \n",
       "93         Albert Ali 1986-10-20       1702 days   2017-06-16     NaN   \n",
       "94         Albert Ali 1986-10-20       1702 days   2017-07-15     0.0   \n",
       "107        Alex Jones 1972-06-30        456 days          NaT     NaN   \n",
       "108        Alex Jones 1972-06-30        456 days   2017-07-04     NaN   \n",
       "109        Alex Jones 1972-06-30        456 days   2017-08-03     0.0   \n",
       "123      Alex O'Brien 1950-07-10        486 days          NaT     NaN   \n",
       "124      Alex O'Brien 1950-07-10        486 days   2017-03-14     NaN   \n",
       "125      Alex O'Brien 1950-07-10        486 days   2017-04-13     0.0   \n",
       "129  Alexander Barnes 1956-11-16        183 days          NaT     NaN   \n",
       "130  Alexander Barnes 1956-11-16        183 days   2015-10-26     NaN   \n",
       "\n",
       "    payment_method  transaction_length  payment_ratio   due_date  overdue_days  \n",
       "6     DIRECT_DEBIT                 283            NaN 2015-06-11           NaN  \n",
       "7     DIRECT_DEBIT                 283            NaN 2015-07-11          31.0  \n",
       "8     DIRECT_DEBIT                 283            0.0 2015-08-11          30.0  \n",
       "33    DIRECT_DEBIT                 849            NaN 2016-12-30           NaN  \n",
       "34    DIRECT_DEBIT                 849            NaN 2017-01-30          29.0  \n",
       "35    DIRECT_DEBIT                 849            0.0 2017-02-28          29.0  \n",
       "61            CASH                 859            NaN 2017-01-09           NaN  \n",
       "62            CASH                 859            NaN 2017-02-09          28.0  \n",
       "63            CASH                 859            0.0 2017-03-09          30.0  \n",
       "92            CASH                 957            NaN 2017-04-16           NaN  \n",
       "93            CASH                 957            NaN 2017-05-16          31.0  \n",
       "94            CASH                 957            0.0 2017-06-16          29.0  \n",
       "107   DIRECT_DEBIT                 456            NaN 2017-05-04           NaN  \n",
       "108   DIRECT_DEBIT                 456            NaN 2017-06-04          30.0  \n",
       "109   DIRECT_DEBIT                 456            0.0 2017-07-04          30.0  \n",
       "123           CASH                 377            NaN 2017-01-14           NaN  \n",
       "124           CASH                 377            NaN 2017-02-14          28.0  \n",
       "125           CASH                 377            0.0 2017-03-14          30.0  \n",
       "129   DIRECT_DEBIT                 183            NaN 2015-08-26           NaN  \n",
       "130   DIRECT_DEBIT                 183            NaN 2015-09-26          30.0  "
      ]
     },
     "execution_count": 103,
     "metadata": {},
     "output_type": "execute_result"
    }
   ],
   "source": [
    "excess_evict_data.groupby('contract_id').tail(3).head(20)"
   ]
  },
  {
   "cell_type": "markdown",
   "metadata": {},
   "source": [
    "As we can see from the above table, there are still many missing values for some key variables, id. Payment_date, overdue_day and payment_ratio. Now we want to clean this dataset. "
   ]
  },
  {
   "cell_type": "code",
   "execution_count": 104,
   "metadata": {},
   "outputs": [],
   "source": [
    "def clean_excess_long_func(df):\n",
    "    df.loc[df.Payment_date.isnull(), 'payment_ratio'] = 1.5\n",
    "    df.loc[df.Payment_date.isnull(), 'overdue_days'] = 31\n",
    "    # and update the penalty_factor for the second NA amount row to 1 as it indicates at least two month delay\n",
    "    df.loc[np.logical_and(df.Payment_date.notnull(), df.Amount.isnull()), 'payment_ratio'] = 2\n",
    "    # update the overdue_days value for the second NA amount rows to 62 as it reflects two month delays\n",
    "    df.loc[np.logical_and(df.Payment_date.notnull(), df.Amount.isnull()), 'overdue_days'] = 62\n",
    "    df.loc[df.Payment_date.isnull(), 'Payment_date'] = df.loc[np.logical_and(df.Payment_date.notnull(), df.Amount.isnull()), 'due_date'].values\n",
    "    return df\n",
    "excess_evict_data = excess_evict_data.groupby('contract_id').apply(clean_excess_long_func)\n",
    "# last row when Amount == 0 is deleted because the eviction decision is made prior to this date.\n",
    "excess_evict_data = excess_evict_data[excess_evict_data['payment_ratio'] != 0]\n",
    "# create an evicted variable to mark what kind of eviction it is\n",
    "excess_evict_data['evicted'] = 1"
   ]
  },
  {
   "cell_type": "code",
   "execution_count": 105,
   "metadata": {
    "scrolled": true
   },
   "outputs": [
    {
     "name": "stdout",
     "output_type": "stream",
     "text": [
      "<class 'pandas.core.frame.DataFrame'>\n",
      "Int64Index: 3093 entries, 0 to 3289\n",
      "Data columns (total 15 columns):\n",
      "contract_id           3093 non-null int64\n",
      "postcode              3093 non-null object\n",
      "rent                  3093 non-null float64\n",
      "contract_start        3093 non-null datetime64[ns]\n",
      "contract_end          3093 non-null datetime64[ns]\n",
      "id                    3093 non-null object\n",
      "contract_length       3093 non-null timedelta64[ns]\n",
      "Payment_date          3093 non-null datetime64[ns]\n",
      "Amount                2691 non-null float64\n",
      "payment_method        3093 non-null object\n",
      "transaction_length    3093 non-null int64\n",
      "payment_ratio         3093 non-null float64\n",
      "due_date              3093 non-null datetime64[ns]\n",
      "overdue_days          3093 non-null float64\n",
      "evicted               3093 non-null int64\n",
      "dtypes: datetime64[ns](4), float64(4), int64(3), object(3), timedelta64[ns](1)\n",
      "memory usage: 386.6+ KB\n"
     ]
    }
   ],
   "source": [
    "excess_evict_data.info()"
   ]
  },
  {
   "cell_type": "markdown",
   "metadata": {},
   "source": [
    "#### 10.3.3 final check on two consecutively long-delay type"
   ]
  },
  {
   "cell_type": "code",
   "execution_count": 106,
   "metadata": {},
   "outputs": [
    {
     "data": {
      "text/html": [
       "<div>\n",
       "<style scoped>\n",
       "    .dataframe tbody tr th:only-of-type {\n",
       "        vertical-align: middle;\n",
       "    }\n",
       "\n",
       "    .dataframe tbody tr th {\n",
       "        vertical-align: top;\n",
       "    }\n",
       "\n",
       "    .dataframe thead th {\n",
       "        text-align: right;\n",
       "    }\n",
       "</style>\n",
       "<table border=\"1\" class=\"dataframe\">\n",
       "  <thead>\n",
       "    <tr style=\"text-align: right;\">\n",
       "      <th></th>\n",
       "      <th>contract_id</th>\n",
       "      <th>postcode</th>\n",
       "      <th>rent</th>\n",
       "      <th>contract_start</th>\n",
       "      <th>contract_end</th>\n",
       "      <th>id</th>\n",
       "      <th>contract_length</th>\n",
       "      <th>Payment_date</th>\n",
       "      <th>Amount</th>\n",
       "      <th>payment_method</th>\n",
       "      <th>transaction_length</th>\n",
       "      <th>payment_ratio</th>\n",
       "      <th>due_date</th>\n",
       "      <th>overdue_days</th>\n",
       "    </tr>\n",
       "  </thead>\n",
       "  <tbody>\n",
       "    <tr>\n",
       "      <th>101073</th>\n",
       "      <td>1495758461</td>\n",
       "      <td>E16 1QL</td>\n",
       "      <td>1560.0</td>\n",
       "      <td>2017-05-26</td>\n",
       "      <td>2017-12-26</td>\n",
       "      <td>Harry Akhtar 1970-08-01</td>\n",
       "      <td>214 days</td>\n",
       "      <td>2017-10-13</td>\n",
       "      <td>1872.0</td>\n",
       "      <td>DIRECT_DEBIT</td>\n",
       "      <td>214</td>\n",
       "      <td>1.2</td>\n",
       "      <td>2017-09-26</td>\n",
       "      <td>17.0</td>\n",
       "    </tr>\n",
       "    <tr>\n",
       "      <th>101074</th>\n",
       "      <td>1495758461</td>\n",
       "      <td>E16 1QL</td>\n",
       "      <td>1560.0</td>\n",
       "      <td>2017-05-26</td>\n",
       "      <td>2017-12-26</td>\n",
       "      <td>Harry Akhtar 1970-08-01</td>\n",
       "      <td>214 days</td>\n",
       "      <td>2017-12-02</td>\n",
       "      <td>2340.0</td>\n",
       "      <td>DIRECT_DEBIT</td>\n",
       "      <td>214</td>\n",
       "      <td>1.5</td>\n",
       "      <td>2017-10-26</td>\n",
       "      <td>37.0</td>\n",
       "    </tr>\n",
       "    <tr>\n",
       "      <th>101075</th>\n",
       "      <td>1495758461</td>\n",
       "      <td>E16 1QL</td>\n",
       "      <td>1560.0</td>\n",
       "      <td>2017-05-26</td>\n",
       "      <td>2017-12-26</td>\n",
       "      <td>Harry Akhtar 1970-08-01</td>\n",
       "      <td>214 days</td>\n",
       "      <td>2017-12-26</td>\n",
       "      <td>NaN</td>\n",
       "      <td>DIRECT_DEBIT</td>\n",
       "      <td>214</td>\n",
       "      <td>NaN</td>\n",
       "      <td>2017-11-26</td>\n",
       "      <td>30.0</td>\n",
       "    </tr>\n",
       "    <tr>\n",
       "      <th>132883</th>\n",
       "      <td>1424312077</td>\n",
       "      <td>NW9 9ET</td>\n",
       "      <td>1750.0</td>\n",
       "      <td>2015-02-19</td>\n",
       "      <td>2017-12-19</td>\n",
       "      <td>Jessica Quinn 1974-07-27</td>\n",
       "      <td>1034 days</td>\n",
       "      <td>2017-09-19</td>\n",
       "      <td>1750.0</td>\n",
       "      <td>DIRECT_DEBIT</td>\n",
       "      <td>1034</td>\n",
       "      <td>1.0</td>\n",
       "      <td>2017-09-19</td>\n",
       "      <td>0.0</td>\n",
       "    </tr>\n",
       "    <tr>\n",
       "      <th>132884</th>\n",
       "      <td>1424312077</td>\n",
       "      <td>NW9 9ET</td>\n",
       "      <td>1750.0</td>\n",
       "      <td>2015-02-19</td>\n",
       "      <td>2017-12-19</td>\n",
       "      <td>Jessica Quinn 1974-07-27</td>\n",
       "      <td>1034 days</td>\n",
       "      <td>2017-11-23</td>\n",
       "      <td>2625.0</td>\n",
       "      <td>DIRECT_DEBIT</td>\n",
       "      <td>1034</td>\n",
       "      <td>1.5</td>\n",
       "      <td>2017-10-19</td>\n",
       "      <td>35.0</td>\n",
       "    </tr>\n",
       "  </tbody>\n",
       "</table>\n",
       "</div>"
      ],
      "text/plain": [
       "        contract_id postcode    rent contract_start contract_end  \\\n",
       "101073   1495758461  E16 1QL  1560.0     2017-05-26   2017-12-26   \n",
       "101074   1495758461  E16 1QL  1560.0     2017-05-26   2017-12-26   \n",
       "101075   1495758461  E16 1QL  1560.0     2017-05-26   2017-12-26   \n",
       "132883   1424312077  NW9 9ET  1750.0     2015-02-19   2017-12-19   \n",
       "132884   1424312077  NW9 9ET  1750.0     2015-02-19   2017-12-19   \n",
       "\n",
       "                              id contract_length Payment_date  Amount  \\\n",
       "101073   Harry Akhtar 1970-08-01        214 days   2017-10-13  1872.0   \n",
       "101074   Harry Akhtar 1970-08-01        214 days   2017-12-02  2340.0   \n",
       "101075   Harry Akhtar 1970-08-01        214 days   2017-12-26     NaN   \n",
       "132883  Jessica Quinn 1974-07-27       1034 days   2017-09-19  1750.0   \n",
       "132884  Jessica Quinn 1974-07-27       1034 days   2017-11-23  2625.0   \n",
       "\n",
       "       payment_method  transaction_length  payment_ratio   due_date  \\\n",
       "101073   DIRECT_DEBIT                 214            1.2 2017-09-26   \n",
       "101074   DIRECT_DEBIT                 214            1.5 2017-10-26   \n",
       "101075   DIRECT_DEBIT                 214            NaN 2017-11-26   \n",
       "132883   DIRECT_DEBIT                1034            1.0 2017-09-19   \n",
       "132884   DIRECT_DEBIT                1034            1.5 2017-10-19   \n",
       "\n",
       "        overdue_days  \n",
       "101073          17.0  \n",
       "101074          37.0  \n",
       "101075          30.0  \n",
       "132883           0.0  \n",
       "132884          35.0  "
      ]
     },
     "execution_count": 106,
     "metadata": {},
     "output_type": "execute_result"
    }
   ],
   "source": [
    "# the rest is the consec_id \n",
    "add_consec_evict_id = trouble_data.loc[~trouble_data['contract_id'].isin(add_excess_evict_id), 'contract_id'].unique()\n",
    "add_consec_evict_data = other_data[other_data['contract_id'].isin(add_consec_evict_id)]\n",
    "add_consec_evict_data.groupby('contract_id').tail(3).head(5)"
   ]
  },
  {
   "cell_type": "markdown",
   "metadata": {},
   "source": [
    "Tenant Harry Akhtar, who was born at 1970-08-01, has delayed his payment for 37 days due at 2017-10-26. He then missed his payment due at 2017-11-26. Therefore, he should be classified into the two consecutive long-delay type."
   ]
  },
  {
   "cell_type": "code",
   "execution_count": 107,
   "metadata": {
    "scrolled": true
   },
   "outputs": [
    {
     "data": {
      "text/plain": [
       "114"
      ]
     },
     "execution_count": 107,
     "metadata": {},
     "output_type": "execute_result"
    }
   ],
   "source": [
    "consec_evict_data = pd.concat([consec_evict_data, add_consec_evict_data], ignore_index=True)\n",
    "consec_evict_id = pd.concat([consec_evict_id, pd.Series(add_consec_evict_id)], ignore_index=True)\n",
    "consec_evict_data['contract_id'].nunique()"
   ]
  },
  {
   "cell_type": "markdown",
   "metadata": {},
   "source": [
    "**Now we have three more cases belonging to two consecutive long-delay type**"
   ]
  },
  {
   "cell_type": "markdown",
   "metadata": {},
   "source": [
    "#### 10.3.4 cleaning two consecutive long-delay type data"
   ]
  },
  {
   "cell_type": "code",
   "execution_count": 108,
   "metadata": {
    "scrolled": true
   },
   "outputs": [
    {
     "name": "stdout",
     "output_type": "stream",
     "text": [
      "<class 'pandas.core.frame.DataFrame'>\n",
      "RangeIndex: 1991 entries, 0 to 1990\n",
      "Data columns (total 14 columns):\n",
      "contract_id           1991 non-null int64\n",
      "postcode              1991 non-null object\n",
      "rent                  1991 non-null float64\n",
      "contract_start        1991 non-null datetime64[ns]\n",
      "contract_end          1991 non-null datetime64[ns]\n",
      "id                    1991 non-null object\n",
      "contract_length       1991 non-null timedelta64[ns]\n",
      "Payment_date          1991 non-null datetime64[ns]\n",
      "Amount                1877 non-null float64\n",
      "payment_method        1991 non-null object\n",
      "transaction_length    1991 non-null int64\n",
      "payment_ratio         1877 non-null float64\n",
      "due_date              1991 non-null datetime64[ns]\n",
      "overdue_days          1991 non-null float64\n",
      "dtypes: datetime64[ns](4), float64(4), int64(2), object(3), timedelta64[ns](1)\n",
      "memory usage: 217.8+ KB\n"
     ]
    }
   ],
   "source": [
    "consec_evict_data.info()"
   ]
  },
  {
   "cell_type": "markdown",
   "metadata": {},
   "source": [
    "payment_ratio has missing values and we have to deal with it."
   ]
  },
  {
   "cell_type": "code",
   "execution_count": 109,
   "metadata": {
    "scrolled": true
   },
   "outputs": [
    {
     "data": {
      "text/html": [
       "<div>\n",
       "<style scoped>\n",
       "    .dataframe tbody tr th:only-of-type {\n",
       "        vertical-align: middle;\n",
       "    }\n",
       "\n",
       "    .dataframe tbody tr th {\n",
       "        vertical-align: top;\n",
       "    }\n",
       "\n",
       "    .dataframe thead th {\n",
       "        text-align: right;\n",
       "    }\n",
       "</style>\n",
       "<table border=\"1\" class=\"dataframe\">\n",
       "  <thead>\n",
       "    <tr style=\"text-align: right;\">\n",
       "      <th></th>\n",
       "      <th>contract_id</th>\n",
       "      <th>postcode</th>\n",
       "      <th>rent</th>\n",
       "      <th>contract_start</th>\n",
       "      <th>contract_end</th>\n",
       "      <th>id</th>\n",
       "      <th>contract_length</th>\n",
       "      <th>Payment_date</th>\n",
       "      <th>Amount</th>\n",
       "      <th>payment_method</th>\n",
       "      <th>transaction_length</th>\n",
       "      <th>payment_ratio</th>\n",
       "      <th>due_date</th>\n",
       "      <th>overdue_days</th>\n",
       "    </tr>\n",
       "  </thead>\n",
       "  <tbody>\n",
       "    <tr>\n",
       "      <th>27</th>\n",
       "      <td>1410399486</td>\n",
       "      <td>SE109WQ</td>\n",
       "      <td>1190.0</td>\n",
       "      <td>2014-09-11</td>\n",
       "      <td>2017-06-10</td>\n",
       "      <td>Aaron Lloyd 1989-08-20</td>\n",
       "      <td>1003 days</td>\n",
       "      <td>2017-05-10</td>\n",
       "      <td>1785.0</td>\n",
       "      <td>BANK_TRANSFER</td>\n",
       "      <td>922</td>\n",
       "      <td>1.5</td>\n",
       "      <td>2017-03-11</td>\n",
       "      <td>60.0</td>\n",
       "    </tr>\n",
       "    <tr>\n",
       "      <th>28</th>\n",
       "      <td>1410399486</td>\n",
       "      <td>SE109WQ</td>\n",
       "      <td>1190.0</td>\n",
       "      <td>2014-09-11</td>\n",
       "      <td>2017-06-10</td>\n",
       "      <td>Aaron Lloyd 1989-08-20</td>\n",
       "      <td>1003 days</td>\n",
       "      <td>2017-05-11</td>\n",
       "      <td>NaN</td>\n",
       "      <td>BANK_TRANSFER</td>\n",
       "      <td>922</td>\n",
       "      <td>NaN</td>\n",
       "      <td>2017-04-11</td>\n",
       "      <td>30.0</td>\n",
       "    </tr>\n",
       "    <tr>\n",
       "      <th>29</th>\n",
       "      <td>1410399486</td>\n",
       "      <td>SE109WQ</td>\n",
       "      <td>1190.0</td>\n",
       "      <td>2014-09-11</td>\n",
       "      <td>2017-06-10</td>\n",
       "      <td>Aaron Lloyd 1989-08-20</td>\n",
       "      <td>1003 days</td>\n",
       "      <td>2017-06-10</td>\n",
       "      <td>-1190.0</td>\n",
       "      <td>BANK_TRANSFER</td>\n",
       "      <td>922</td>\n",
       "      <td>-1.0</td>\n",
       "      <td>2017-05-11</td>\n",
       "      <td>30.0</td>\n",
       "    </tr>\n",
       "    <tr>\n",
       "      <th>40</th>\n",
       "      <td>1455158675</td>\n",
       "      <td>W1J 9TB</td>\n",
       "      <td>4460.0</td>\n",
       "      <td>2016-02-11</td>\n",
       "      <td>2017-03-10</td>\n",
       "      <td>Abel Wood 1954-05-02</td>\n",
       "      <td>393 days</td>\n",
       "      <td>2017-01-20</td>\n",
       "      <td>6690.0</td>\n",
       "      <td>DIRECT_DEBIT</td>\n",
       "      <td>393</td>\n",
       "      <td>1.5</td>\n",
       "      <td>2016-12-11</td>\n",
       "      <td>40.0</td>\n",
       "    </tr>\n",
       "    <tr>\n",
       "      <th>41</th>\n",
       "      <td>1455158675</td>\n",
       "      <td>W1J 9TB</td>\n",
       "      <td>4460.0</td>\n",
       "      <td>2016-02-11</td>\n",
       "      <td>2017-03-10</td>\n",
       "      <td>Abel Wood 1954-05-02</td>\n",
       "      <td>393 days</td>\n",
       "      <td>2017-02-11</td>\n",
       "      <td>NaN</td>\n",
       "      <td>DIRECT_DEBIT</td>\n",
       "      <td>393</td>\n",
       "      <td>NaN</td>\n",
       "      <td>2017-01-11</td>\n",
       "      <td>31.0</td>\n",
       "    </tr>\n",
       "    <tr>\n",
       "      <th>42</th>\n",
       "      <td>1455158675</td>\n",
       "      <td>W1J 9TB</td>\n",
       "      <td>4460.0</td>\n",
       "      <td>2016-02-11</td>\n",
       "      <td>2017-03-10</td>\n",
       "      <td>Abel Wood 1954-05-02</td>\n",
       "      <td>393 days</td>\n",
       "      <td>2017-03-10</td>\n",
       "      <td>-4460.0</td>\n",
       "      <td>DIRECT_DEBIT</td>\n",
       "      <td>393</td>\n",
       "      <td>-1.0</td>\n",
       "      <td>2017-02-11</td>\n",
       "      <td>27.0</td>\n",
       "    </tr>\n",
       "  </tbody>\n",
       "</table>\n",
       "</div>"
      ],
      "text/plain": [
       "    contract_id postcode    rent contract_start contract_end  \\\n",
       "27   1410399486  SE109WQ  1190.0     2014-09-11   2017-06-10   \n",
       "28   1410399486  SE109WQ  1190.0     2014-09-11   2017-06-10   \n",
       "29   1410399486  SE109WQ  1190.0     2014-09-11   2017-06-10   \n",
       "40   1455158675  W1J 9TB  4460.0     2016-02-11   2017-03-10   \n",
       "41   1455158675  W1J 9TB  4460.0     2016-02-11   2017-03-10   \n",
       "42   1455158675  W1J 9TB  4460.0     2016-02-11   2017-03-10   \n",
       "\n",
       "                        id contract_length Payment_date  Amount  \\\n",
       "27  Aaron Lloyd 1989-08-20       1003 days   2017-05-10  1785.0   \n",
       "28  Aaron Lloyd 1989-08-20       1003 days   2017-05-11     NaN   \n",
       "29  Aaron Lloyd 1989-08-20       1003 days   2017-06-10 -1190.0   \n",
       "40    Abel Wood 1954-05-02        393 days   2017-01-20  6690.0   \n",
       "41    Abel Wood 1954-05-02        393 days   2017-02-11     NaN   \n",
       "42    Abel Wood 1954-05-02        393 days   2017-03-10 -4460.0   \n",
       "\n",
       "   payment_method  transaction_length  payment_ratio   due_date  overdue_days  \n",
       "27  BANK_TRANSFER                 922            1.5 2017-03-11          60.0  \n",
       "28  BANK_TRANSFER                 922            NaN 2017-04-11          30.0  \n",
       "29  BANK_TRANSFER                 922           -1.0 2017-05-11          30.0  \n",
       "40   DIRECT_DEBIT                 393            1.5 2016-12-11          40.0  \n",
       "41   DIRECT_DEBIT                 393            NaN 2017-01-11          31.0  \n",
       "42   DIRECT_DEBIT                 393           -1.0 2017-02-11          27.0  "
      ]
     },
     "execution_count": 109,
     "metadata": {},
     "output_type": "execute_result"
    }
   ],
   "source": [
    "consec_evict_data.groupby('contract_id').tail(3).head(6)"
   ]
  },
  {
   "cell_type": "code",
   "execution_count": 110,
   "metadata": {
    "scrolled": false
   },
   "outputs": [],
   "source": [
    "# fill in the payment_ratio for the NA amount rows to 1.5 as it indicates at least one month delay\n",
    "consec_evict_data['payment_ratio'].fillna(1.5, inplace=True)\n",
    "# update the overdue_days value for the NA amount rows to 31 as it matches the payment_ratio\n",
    "consec_evict_data.loc[consec_evict_data.Amount.isnull(), 'overdue_days'] = 31\n",
    "# drop rows where the amount < 0 as evict decision made prior to this date\n",
    "consec_evict_data = consec_evict_data[consec_evict_data['payment_ratio'] != -1]\n",
    "# create a evicted variable to mark whether their evicted or what kind of eviction\n",
    "consec_evict_data['evicted'] = 2"
   ]
  },
  {
   "cell_type": "code",
   "execution_count": 111,
   "metadata": {
    "scrolled": false
   },
   "outputs": [
    {
     "name": "stdout",
     "output_type": "stream",
     "text": [
      "<class 'pandas.core.frame.DataFrame'>\n",
      "Int64Index: 1880 entries, 0 to 1990\n",
      "Data columns (total 15 columns):\n",
      "contract_id           1880 non-null int64\n",
      "postcode              1880 non-null object\n",
      "rent                  1880 non-null float64\n",
      "contract_start        1880 non-null datetime64[ns]\n",
      "contract_end          1880 non-null datetime64[ns]\n",
      "id                    1880 non-null object\n",
      "contract_length       1880 non-null timedelta64[ns]\n",
      "Payment_date          1880 non-null datetime64[ns]\n",
      "Amount                1766 non-null float64\n",
      "payment_method        1880 non-null object\n",
      "transaction_length    1880 non-null int64\n",
      "payment_ratio         1880 non-null float64\n",
      "due_date              1880 non-null datetime64[ns]\n",
      "overdue_days          1880 non-null float64\n",
      "evicted               1880 non-null int64\n",
      "dtypes: datetime64[ns](4), float64(4), int64(3), object(3), timedelta64[ns](1)\n",
      "memory usage: 235.0+ KB\n"
     ]
    }
   ],
   "source": [
    "consec_evict_data.info()"
   ]
  },
  {
   "cell_type": "markdown",
   "metadata": {},
   "source": [
    "There is no missing values now."
   ]
  },
  {
   "cell_type": "markdown",
   "metadata": {},
   "source": [
    "#### 10.3.5 cleaning non-evict data"
   ]
  },
  {
   "cell_type": "code",
   "execution_count": 112,
   "metadata": {},
   "outputs": [],
   "source": [
    "non_evict_data = clean_data[np.logical_not(np.logical_or(clean_data['contract_id'].isin(consec_evict_id), clean_data['contract_id'].isin(excess_evict_id)))]"
   ]
  },
  {
   "cell_type": "code",
   "execution_count": 113,
   "metadata": {
    "scrolled": false
   },
   "outputs": [
    {
     "name": "stdout",
     "output_type": "stream",
     "text": [
      "<class 'pandas.core.frame.DataFrame'>\n",
      "Int64Index: 257274 entries, 0 to 262554\n",
      "Data columns (total 14 columns):\n",
      "contract_id           257274 non-null int64\n",
      "postcode              257274 non-null object\n",
      "rent                  257274 non-null float64\n",
      "contract_start        257274 non-null datetime64[ns]\n",
      "contract_end          257274 non-null datetime64[ns]\n",
      "id                    257274 non-null object\n",
      "contract_length       257274 non-null timedelta64[ns]\n",
      "Payment_date          257274 non-null datetime64[ns]\n",
      "Amount                257274 non-null float64\n",
      "payment_method        257274 non-null object\n",
      "transaction_length    257274 non-null int64\n",
      "payment_ratio         257274 non-null float64\n",
      "due_date              257274 non-null datetime64[ns]\n",
      "overdue_days          257274 non-null float64\n",
      "dtypes: datetime64[ns](4), float64(4), int64(2), object(3), timedelta64[ns](1)\n",
      "memory usage: 29.4+ MB\n"
     ]
    }
   ],
   "source": [
    "non_evict_data.info()"
   ]
  },
  {
   "cell_type": "code",
   "execution_count": 114,
   "metadata": {},
   "outputs": [],
   "source": [
    "non_evict_data = non_evict_data[non_evict_data['payment_ratio'] != -3]\n",
    "# create a variable evicted and let them mark they are not evicted\n",
    "non_evict_data['evicted'] = 0"
   ]
  },
  {
   "cell_type": "code",
   "execution_count": 115,
   "metadata": {},
   "outputs": [
    {
     "data": {
      "text/plain": [
       "1.00    218539\n",
       "1.05     21897\n",
       "1.10      8994\n",
       "1.20      5012\n",
       "1.50       997\n",
       "Name: payment_ratio, dtype: int64"
      ]
     },
     "execution_count": 115,
     "metadata": {},
     "output_type": "execute_result"
    }
   ],
   "source": [
    "non_evict_data['payment_ratio'].value_counts()"
   ]
  },
  {
   "cell_type": "code",
   "execution_count": 116,
   "metadata": {},
   "outputs": [
    {
     "name": "stdout",
     "output_type": "stream",
     "text": [
      "<class 'pandas.core.frame.DataFrame'>\n",
      "Int64Index: 255439 entries, 0 to 262554\n",
      "Data columns (total 15 columns):\n",
      "contract_id           255439 non-null int64\n",
      "postcode              255439 non-null object\n",
      "rent                  255439 non-null float64\n",
      "contract_start        255439 non-null datetime64[ns]\n",
      "contract_end          255439 non-null datetime64[ns]\n",
      "id                    255439 non-null object\n",
      "contract_length       255439 non-null timedelta64[ns]\n",
      "Payment_date          255439 non-null datetime64[ns]\n",
      "Amount                255439 non-null float64\n",
      "payment_method        255439 non-null object\n",
      "transaction_length    255439 non-null int64\n",
      "payment_ratio         255439 non-null float64\n",
      "due_date              255439 non-null datetime64[ns]\n",
      "overdue_days          255439 non-null float64\n",
      "evicted               255439 non-null int64\n",
      "dtypes: datetime64[ns](4), float64(4), int64(3), object(3), timedelta64[ns](1)\n",
      "memory usage: 31.2+ MB\n"
     ]
    }
   ],
   "source": [
    "non_evict_data.info()"
   ]
  },
  {
   "cell_type": "markdown",
   "metadata": {},
   "source": [
    "Finally, we have a clean dataset where all non-evicted contracts are recorded."
   ]
  },
  {
   "cell_type": "code",
   "execution_count": 117,
   "metadata": {},
   "outputs": [
    {
     "data": {
      "text/plain": [
       "10850"
      ]
     },
     "execution_count": 117,
     "metadata": {},
     "output_type": "execute_result"
    }
   ],
   "source": [
    "non_evict_data['contract_id'].nunique()"
   ]
  },
  {
   "cell_type": "markdown",
   "metadata": {},
   "source": [
    "**In summary, out of 11165 contracts, 10850 contracts belong to non-evicted type; \n",
    "201 contracts belong to one excessive long-delay evicted type; \n",
    "114 belong to two conseuctive long-delay evicted type**"
   ]
  },
  {
   "cell_type": "code",
   "execution_count": 118,
   "metadata": {},
   "outputs": [],
   "source": [
    "evict_data = pd.concat([consec_evict_data, excess_evict_data], ignore_index=True)"
   ]
  },
  {
   "cell_type": "code",
   "execution_count": 119,
   "metadata": {},
   "outputs": [],
   "source": [
    "final_data = pd.concat([excess_evict_data, consec_evict_data, non_evict_data], ignore_index=True)"
   ]
  },
  {
   "cell_type": "code",
   "execution_count": 121,
   "metadata": {
    "scrolled": true
   },
   "outputs": [
    {
     "name": "stdout",
     "output_type": "stream",
     "text": [
      "<class 'pandas.core.frame.DataFrame'>\n",
      "RangeIndex: 260412 entries, 0 to 260411\n",
      "Data columns (total 15 columns):\n",
      "contract_id           260412 non-null int64\n",
      "postcode              260412 non-null object\n",
      "rent                  260412 non-null float64\n",
      "contract_start        260412 non-null datetime64[ns]\n",
      "contract_end          260412 non-null datetime64[ns]\n",
      "id                    260412 non-null object\n",
      "contract_length       260412 non-null timedelta64[ns]\n",
      "Payment_date          260412 non-null datetime64[ns]\n",
      "Amount                259896 non-null float64\n",
      "payment_method        260412 non-null object\n",
      "transaction_length    260412 non-null int64\n",
      "payment_ratio         260412 non-null float64\n",
      "due_date              260412 non-null datetime64[ns]\n",
      "overdue_days          260412 non-null float64\n",
      "evicted               260412 non-null int64\n",
      "dtypes: datetime64[ns](4), float64(4), int64(3), object(3), timedelta64[ns](1)\n",
      "memory usage: 29.8+ MB\n"
     ]
    }
   ],
   "source": [
    "final_data.info()"
   ]
  },
  {
   "cell_type": "markdown",
   "metadata": {},
   "source": [
    "Except for contract_end and Amount, there is no missing values now. "
   ]
  },
  {
   "cell_type": "markdown",
   "metadata": {},
   "source": [
    "Before moving on to the modelling part, we can inspect the difference in overdue days between evicted and non-evicted."
   ]
  },
  {
   "cell_type": "code",
   "execution_count": 123,
   "metadata": {},
   "outputs": [
    {
     "data": {
      "text/plain": [
       "mean     15.915090\n",
       "max      55.377778\n",
       "sum     214.730159\n",
       "dtype: float64"
      ]
     },
     "execution_count": 123,
     "metadata": {},
     "output_type": "execute_result"
    }
   ],
   "source": [
    "evict_overdue_stats = evict_data.groupby('contract_id')['overdue_days'].agg(['mean', 'max', 'sum'])\n",
    "\n",
    "evict_overdue_stats.agg('mean')"
   ]
  },
  {
   "cell_type": "code",
   "execution_count": 124,
   "metadata": {},
   "outputs": [
    {
     "data": {
      "text/plain": [
       "mean     1.415587\n",
       "max      6.897604\n",
       "sum     34.220829\n",
       "dtype: float64"
      ]
     },
     "execution_count": 124,
     "metadata": {},
     "output_type": "execute_result"
    }
   ],
   "source": [
    "non_evict_stats = non_evict_data.groupby('contract_id')['overdue_days'].agg(['mean', 'max', 'sum'])\n",
    "\n",
    "non_evict_stats.agg('mean')"
   ]
  },
  {
   "cell_type": "markdown",
   "metadata": {},
   "source": [
    "Here, mean is the overall mean of overdue days for all evicted, max is the mean of the maximum overdue days across contract ID. sum is the average of summed-up overdue days across contract ID.\n",
    "\n",
    "\n",
    "**As we can tell from the comparison, the evicted has far larger overdue days in terms of all three statistics than non-evicted.**"
   ]
  },
  {
   "cell_type": "code",
   "execution_count": 125,
   "metadata": {},
   "outputs": [
    {
     "data": {
      "text/plain": [
       "11165"
      ]
     },
     "execution_count": 125,
     "metadata": {},
     "output_type": "execute_result"
    }
   ],
   "source": [
    "final_data['contract_id'].nunique()"
   ]
  },
  {
   "cell_type": "code",
   "execution_count": 126,
   "metadata": {},
   "outputs": [],
   "source": [
    "# after combining the three datasets, sort them in the order of id, contract_start, due_date\n",
    "# because our later on modelling practice require timestamp following a time order.\n",
    "final_data.sort_values(['id', 'contract_start', 'due_date'], inplace=True)"
   ]
  },
  {
   "cell_type": "code",
   "execution_count": 127,
   "metadata": {},
   "outputs": [],
   "source": [
    "final_data.to_csv('final_data.csv', index = False)"
   ]
  }
 ],
 "metadata": {
  "kernelspec": {
   "display_name": "Python 3",
   "language": "python",
   "name": "python3"
  },
  "language_info": {
   "codemirror_mode": {
    "name": "ipython",
    "version": 3
   },
   "file_extension": ".py",
   "mimetype": "text/x-python",
   "name": "python",
   "nbconvert_exporter": "python",
   "pygments_lexer": "ipython3",
   "version": "3.6.7"
  }
 },
 "nbformat": 4,
 "nbformat_minor": 2
}
