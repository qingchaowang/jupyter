{
 "cells": [
  {
   "cell_type": "code",
   "execution_count": 1,
   "metadata": {
    "pycharm": {
     "is_executing": false
    }
   },
   "outputs": [],
   "source": [
    "import pandas as pd\n",
    "import numpy as np\n",
    "import os\n",
    "import re"
   ]
  },
  {
   "cell_type": "code",
   "execution_count": 2,
   "metadata": {
    "pycharm": {
     "is_executing": false
    }
   },
   "outputs": [],
   "source": [
    "files = [x for x in os.listdir('DATADATA1/') if x.endswith('txt')]"
   ]
  },
  {
   "cell_type": "code",
   "execution_count": 3,
   "metadata": {
    "pycharm": {
     "is_executing": false
    }
   },
   "outputs": [],
   "source": [
    "data = [pd.read_csv('DATADATA1/' + x, sep='\\t') for x in files]"
   ]
  },
  {
   "cell_type": "code",
   "execution_count": 4,
   "metadata": {
    "pycharm": {
     "is_executing": false
    }
   },
   "outputs": [],
   "source": [
    "files_withoutExt = [x.split('.')[0] for x in files]\n",
    "\n",
    "film = [''.join(re.findall('[a-z]', x)) for x in files_withoutExt]\n",
    "\n",
    "subtitle = [''.join(re.findall('[A-Z]', x)) for x in files_withoutExt]"
   ]
  },
  {
   "cell_type": "code",
   "execution_count": 5,
   "outputs": [
    {
     "name": "stderr",
     "text": [
      "/home/qc/.local/lib/python3.6/site-packages/ipykernel_launcher.py:6: SettingWithCopyWarning: \nA value is trying to be set on a copy of a slice from a DataFrame.\nTry using .loc[row_indexer,col_indexer] = value instead\n\nSee the caveats in the documentation: http://pandas.pydata.org/pandas-docs/stable/indexing.html#indexing-view-versus-copy\n  \n/home/qc/.local/lib/python3.6/site-packages/ipykernel_launcher.py:7: SettingWithCopyWarning: \nA value is trying to be set on a copy of a slice from a DataFrame.\nTry using .loc[row_indexer,col_indexer] = value instead\n\nSee the caveats in the documentation: http://pandas.pydata.org/pandas-docs/stable/indexing.html#indexing-view-versus-copy\n  import sys\n"
     ],
     "output_type": "stream"
    }
   ],
   "source": [
    "tmp = []\n",
    "for counter, df in enumerate(data):\n",
    "    df = df[['RECORDING_SESSION_LABEL', 'IA_DWELL_TIME', \n",
    "             'IA_FIXATION_COUNT', 'IA_DWELL_TIME_%',\n",
    "             'IA_FIXATION_%', 'IA_LABEL']]\n",
    "    df['film'] = film[counter]\n",
    "    df['subtitle'] = subtitle[counter]\n",
    "    tmp.append(df)\n",
    "\n",
    "df = pd.concat(tmp, axis=0).reset_index().drop('index', axis=1)"
   ],
   "metadata": {
    "collapsed": false,
    "pycharm": {
     "name": "#%%\n",
     "is_executing": false
    }
   }
  },
  {
   "cell_type": "code",
   "execution_count": 6,
   "outputs": [],
   "source": [
    "pattern = r'[0-9]'\n",
    "regex = re.compile(pattern)\n",
    "id = df.iloc[:, 0].apply(lambda x: regex.sub('', x)).tolist()"
   ],
   "metadata": {
    "collapsed": false,
    "pycharm": {
     "name": "#%%\n",
     "is_executing": false
    }
   }
  },
  {
   "cell_type": "code",
   "execution_count": 7,
   "outputs": [],
   "source": [
    "ind = []\n",
    "for i in range(df.shape[0]-3):\n",
    "    if all([id[i] == id[i+1], id[i+1] == id[i+2], id[i+2] == id[i+3]]):\n",
    "        ind.append(i)\n",
    "        ind.append(i+1)        "
   ],
   "metadata": {
    "collapsed": false,
    "pycharm": {
     "name": "#%%\n",
     "is_executing": false
    }
   }
  },
  {
   "cell_type": "code",
   "execution_count": 8,
   "outputs": [],
   "source": [
    "df['RECORDING_SESSION_LABEL'] = id"
   ],
   "metadata": {
    "collapsed": false,
    "pycharm": {
     "name": "#%%\n",
     "is_executing": false
    }
   }
  },
  {
   "cell_type": "code",
   "execution_count": 9,
   "outputs": [],
   "source": [
    "df = df[~df.index.isin(ind)]"
   ],
   "metadata": {
    "collapsed": false,
    "pycharm": {
     "name": "#%%\n",
     "is_executing": false
    }
   }
  },
  {
   "cell_type": "code",
   "execution_count": 10,
   "outputs": [],
   "source": [
    "df = df.loc[df.IA_LABEL == 1]"
   ],
   "metadata": {
    "collapsed": false,
    "pycharm": {
     "name": "#%%\n",
     "is_executing": false
    }
   }
  },
  {
   "cell_type": "code",
   "execution_count": 26,
   "outputs": [],
   "source": [
    "# Testing the missing people from groups\n",
    "\n",
    "cond_A1 = (df['film'] == 'bj') & (df['subtitle'] == 'IT')\n",
    "cond_A2 = (df['film'] == 'paris') & (df['subtitle'] == 'CHEN')\n",
    "cond_A3 = (df['film'] == 'sn') & (df['subtitle'] == 'EN')\n",
    "\n",
    "cond_B1 = (df['film'] == 'bj') & (df['subtitle'] == 'CHEN')\n",
    "cond_B2 = (df['film'] == 'paris') & (df['subtitle'] == 'EN')\n",
    "cond_B3 = (df['film'] == 'sn') & (df['subtitle'] == 'CH')\n",
    "\n",
    "cond_C1 = (df['film'] == 'bj') & (df['subtitle'] == 'EN')\n",
    "cond_C2 = (df['film'] == 'paris') & (df['subtitle'] == 'CH')\n",
    "cond_C3 = (df['film'] == 'sn') & (df['subtitle'] == 'IT')\n",
    "\n",
    "cond_D1 = (df['film'] == 'bj') & (df['subtitle'] == 'CH')\n",
    "cond_D2 = (df['film'] == 'paris') & (df['subtitle'] == 'IT')\n",
    "cond_D3 = (df['film'] == 'sn') & (df['subtitle'] == 'CHEN')\n",
    "\n",
    "group_A = df.loc[cond_A1 | cond_A2 | cond_A3, 'RECORDING_SESSION_LABEL']\n",
    "group_B = df.loc[cond_B1 | cond_B2 | cond_B3, 'RECORDING_SESSION_LABEL']\n",
    "group_C = df.loc[cond_C1 | cond_C2 | cond_C3, 'RECORDING_SESSION_LABEL']\n",
    "group_D = df.loc[cond_D1 | cond_D2 | cond_D3, 'RECORDING_SESSION_LABEL']"
   ],
   "metadata": {
    "collapsed": false,
    "pycharm": {
     "name": "#%%\n",
     "is_executing": false
    }
   }
  },
  {
   "cell_type": "code",
   "execution_count": 27,
   "outputs": [
    {
     "data": {
      "text/plain": "82    dsf\n83    hzy\n84    mtt\n85    syy\n86     tm\n87    wyh\n88    yqy\n89     zh\n90    zjg\n91     zs\n92    zyx\nName: RECORDING_SESSION_LABEL, dtype: object"
     },
     "metadata": {},
     "output_type": "execute_result",
     "execution_count": 27
    }
   ],
   "source": [
    "# Have a check on the attendee list\n",
    "group_A.drop_duplicates()\n",
    "# hzy, tm are not found in the paper list "
   ],
   "metadata": {
    "collapsed": false,
    "pycharm": {
     "name": "#%%\n",
     "is_executing": false
    }
   }
  },
  {
   "cell_type": "code",
   "execution_count": 28,
   "outputs": [
    {
     "data": {
      "text/plain": "11    lcx\n12     cy\n13    cyf\n14    lcy\n15    lll\n16     lm\n17    wpp\n18     yd\n19    zpf\n20    zxl\n21    zyf\n28    wpf\n74    hym\nName: RECORDING_SESSION_LABEL, dtype: object"
     },
     "metadata": {},
     "output_type": "execute_result",
     "execution_count": 28
    }
   ],
   "source": [
    "group_B.drop_duplicates()\n",
    "# lcx should be removed in the paper list\n",
    "# cx and zpf are not found in the paper list"
   ],
   "metadata": {
    "collapsed": false,
    "pycharm": {
     "name": "#%%\n",
     "is_executing": false
    }
   }
  },
  {
   "cell_type": "code",
   "execution_count": 23,
   "outputs": [
    {
     "data": {
      "text/plain": "0       ggy\n2        gt\n4      hlmy\n6       jyj\n8       lbj\n10      myt\n12      syf\n14      wyk\n16       yc\n18       yj\n20      zzk\n206     zkk\nName: RECORDING_SESSION_LABEL, dtype: object"
     },
     "metadata": {},
     "output_type": "execute_result",
     "execution_count": 23
    }
   ],
   "source": [
    "group_C.drop_duplicates()\n",
    "# yj is not found in the paper list"
   ],
   "metadata": {
    "collapsed": false,
    "pycharm": {
     "name": "#%%\n",
     "is_executing": false
    }
   }
  },
  {
   "cell_type": "code",
   "execution_count": 24,
   "outputs": [
    {
     "data": {
      "text/plain": "92      cst\n94      dyj\n96       lx\n98      pxh\n100     qwh\n102     qxj\n104     sll\n106     swd\n108      tt\n110    wyhh\n112     zqm\n114     zxy\n118      zy\n120     zyj\n222     sdh\n228     wyh\n230     zjy\nName: RECORDING_SESSION_LABEL, dtype: object"
     },
     "metadata": {},
     "output_type": "execute_result",
     "execution_count": 24
    }
   ],
   "source": [
    "group_D.drop_duplicates()\n",
    "# cxt shoulbe be removed in the paper list\n",
    "# pxh, swd, tt, wyhh, zy, zyj and zjy are not found in the paper list"
   ],
   "metadata": {
    "collapsed": false,
    "pycharm": {
     "name": "#%%\n",
     "is_executing": false
    }
   }
  },
  {
   "cell_type": "code",
   "execution_count": 16,
   "outputs": [],
   "source": [
    "df = df.reset_index().drop('index', axis=1)"
   ],
   "metadata": {
    "collapsed": false,
    "pycharm": {
     "name": "#%%\n",
     "is_executing": false
    }
   }
  },
  {
   "cell_type": "code",
   "execution_count": 17,
   "outputs": [],
   "source": [
    "updated_index = df[df['RECORDING_SESSION_LABEL'] == 'cx'].index.tolist()\n",
    "\n",
    "for idx in updated_index:\n",
    "    df.iat[idx, 0] = 'lcx'"
   ],
   "metadata": {
    "collapsed": false,
    "pycharm": {
     "name": "#%%\n",
     "is_executing": false
    }
   }
  },
  {
   "cell_type": "code",
   "execution_count": 18,
   "outputs": [],
   "source": [
    "updated_index = df[df['RECORDING_SESSION_LABEL'] == 'wyhh'].index.tolist()\n",
    "\n",
    "for idx in updated_index:\n",
    "    df.iat[idx, 0] = 'wyh'"
   ],
   "metadata": {
    "collapsed": false,
    "pycharm": {
     "name": "#%%\n",
     "is_executing": false
    }
   }
  },
  {
   "cell_type": "code",
   "execution_count": 29,
   "outputs": [],
   "source": [
    "dropped_ids = ['hzy', 'tm', 'zpf', 'hym', 'yj', 'pxh', 'swd', 'tt', 'zy', 'zyj', 'zjy']"
   ],
   "metadata": {
    "collapsed": false,
    "pycharm": {
     "name": "#%%\n",
     "is_executing": false
    }
   }
  },
  {
   "cell_type": "code",
   "execution_count": 30,
   "outputs": [
    {
     "data": {
      "text/plain": "33      cst\n12       cy\n13      cyf\n60      dsf\n34      dyj\n0       ggy\n1        gt\n2      hlmy\n3       jyj\n4       lbj\n11      lcx\n14      lcy\n15      lll\n16       lm\n35       lx\n62      mtt\n5       myt\n36      qwh\n37      qxj\n109     sdh\n38      sll\n6       syf\n63      syy\n28      wpf\n17      wpp\n40      wyh\n7       wyk\n8        yc\n18       yd\n66      yqy\n67       zh\n68      zjg\n102     zkk\n42      zqm\n69       zs\n20      zxl\n45      zxy\n21      zyf\n70      zyx\n10      zzk\nName: RECORDING_SESSION_LABEL, dtype: object"
     },
     "metadata": {},
     "output_type": "execute_result",
     "execution_count": 30
    }
   ],
   "source": [
    "filtered_df = df[~df['RECORDING_SESSION_LABEL'].isin(dropped_ids)]\n",
    "filtered_df['RECORDING_SESSION_LABEL'].drop_duplicates().sort_values()"
   ],
   "metadata": {
    "collapsed": false,
    "pycharm": {
     "name": "#%%\n",
     "is_executing": false
    }
   }
  },
  {
   "cell_type": "code",
   "execution_count": 31,
   "outputs": [
    {
     "data": {
      "text/plain": "Empty DataFrame\nColumns: [RECORDING_SESSION_LABEL, IA_DWELL_TIME, IA_FIXATION_COUNT, IA_DWELL_TIME_%, IA_FIXATION_%, IA_LABEL, film, subtitle]\nIndex: []",
      "text/html": "<div>\n<style scoped>\n    .dataframe tbody tr th:only-of-type {\n        vertical-align: middle;\n    }\n\n    .dataframe tbody tr th {\n        vertical-align: top;\n    }\n\n    .dataframe thead th {\n        text-align: right;\n    }\n</style>\n<table border=\"1\" class=\"dataframe\">\n  <thead>\n    <tr style=\"text-align: right;\">\n      <th></th>\n      <th>RECORDING_SESSION_LABEL</th>\n      <th>IA_DWELL_TIME</th>\n      <th>IA_FIXATION_COUNT</th>\n      <th>IA_DWELL_TIME_%</th>\n      <th>IA_FIXATION_%</th>\n      <th>IA_LABEL</th>\n      <th>film</th>\n      <th>subtitle</th>\n    </tr>\n  </thead>\n  <tbody>\n  </tbody>\n</table>\n</div>"
     },
     "metadata": {},
     "output_type": "execute_result",
     "execution_count": 31
    }
   ],
   "source": [],
   "metadata": {
    "collapsed": false,
    "pycharm": {
     "name": "#%%\n",
     "is_executing": false
    }
   }
  },
  {
   "cell_type": "code",
   "execution_count": 45,
   "outputs": [],
   "source": [
    "\n",
    "\n",
    "def cronbach_alpha(items):\n",
    "    items = pandas.DataFrame(items)\n",
    "    items_count = items.shape[1]\n",
    "    variance_sum = float(items.var(axis=0, ddof=1).sum())\n",
    "    total_var = float(items.sum(axis=1).var(ddof=1))\n",
    "    \n",
    "    return (items_count / float(items_count - 1) *\n",
    "            (1 - variance_sum / total_var))\n"
   ],
   "metadata": {
    "collapsed": false,
    "pycharm": {
     "name": "#%%\n",
     "is_executing": false
    }
   }
  }
 ],
 "metadata": {
  "kernelspec": {
   "name": "pycharm-574c32fd",
   "language": "python",
   "display_name": "PyCharm (modelling_projects)"
  },
  "language_info": {
   "codemirror_mode": {
    "name": "ipython",
    "version": 3
   },
   "file_extension": ".py",
   "mimetype": "text/x-python",
   "name": "python",
   "nbconvert_exporter": "python",
   "pygments_lexer": "ipython3",
   "version": "3.6.8"
  },
  "pycharm": {
   "stem_cell": {
    "cell_type": "raw",
    "source": [],
    "metadata": {
     "collapsed": false
    }
   }
  }
 },
 "nbformat": 4,
 "nbformat_minor": 2
}