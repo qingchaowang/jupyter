{
 "cells": [
  {
   "cell_type": "markdown",
   "metadata": {},
   "source": [
    "# Predictive modelling"
   ]
  },
  {
   "cell_type": "markdown",
   "metadata": {},
   "source": [
    "## introduction\n",
    "\n",
    "I will firstly prepare data. It includes \n",
    "* defining a reference time point\n",
    "* discretise continuous variables\n",
    "\n",
    "Then I will define what is a bad renter, and good render otherwise.\n",
    "\n",
    "\n",
    "Then I will construct a group of features that may or may not be good predictors. \n",
    "(I will consider whether I need to select features)\n",
    "\n",
    "\n",
    "Afterwards, I will try different modelling approaches and modelling examples (basesd on varied reference time points). And I will evaluate their predictive performance. \n",
    "\n",
    "\n",
    "(Lastly, I will try to create a scorecard.)"
   ]
  },
  {
   "cell_type": "markdown",
   "metadata": {},
   "source": [
    "## 1. prepare data"
   ]
  },
  {
   "cell_type": "markdown",
   "metadata": {},
   "source": [
    "### 1.1 define a reference time point"
   ]
  },
  {
   "cell_type": "code",
   "execution_count": 1,
   "metadata": {},
   "outputs": [],
   "source": [
    "import warnings\n",
    "warnings.filterwarnings('ignore')"
   ]
  },
  {
   "cell_type": "markdown",
   "metadata": {},
   "source": [
    "In this section, I shall firstly define a reference time point (henceforth rtp), then I will define bad renters."
   ]
  },
  {
   "cell_type": "code",
   "execution_count": 3,
   "metadata": {
    "scrolled": true
   },
   "outputs": [],
   "source": [
    "import os\n",
    "import pandas as pd\n",
    "import numpy as np\n",
    "# in windows\n",
    "os.chdir('data')\n",
    "# os.chdir('../data')\n",
    "data = pd.read_csv('final_data.csv', parse_dates=['contract_start', 'contract_end', 'Payment_date', 'due_date'])"
   ]
  },
  {
   "cell_type": "code",
   "execution_count": 4,
   "metadata": {},
   "outputs": [
    {
     "name": "stdout",
     "output_type": "stream",
     "text": [
      "<class 'pandas.core.frame.DataFrame'>\n",
      "RangeIndex: 260412 entries, 0 to 260411\n",
      "Data columns (total 15 columns):\n",
      "contract_id           260412 non-null int64\n",
      "postcode              260412 non-null object\n",
      "rent                  260412 non-null float64\n",
      "contract_start        260412 non-null datetime64[ns]\n",
      "contract_end          260412 non-null datetime64[ns]\n",
      "id                    260412 non-null object\n",
      "contract_length       260412 non-null object\n",
      "Payment_date          260412 non-null datetime64[ns]\n",
      "Amount                259896 non-null float64\n",
      "payment_method        260412 non-null object\n",
      "transaction_length    260412 non-null int64\n",
      "payment_ratio         260412 non-null float64\n",
      "due_date              260412 non-null datetime64[ns]\n",
      "overdue_days          260412 non-null float64\n",
      "evicted               260412 non-null int64\n",
      "dtypes: datetime64[ns](4), float64(4), int64(3), object(4)\n",
      "memory usage: 29.8+ MB\n"
     ]
    }
   ],
   "source": [
    "data.info()"
   ]
  },
  {
   "cell_type": "markdown",
   "metadata": {},
   "source": [
    "Variable Amount have missing values, but it is not used in the modelling exercise anyway."
   ]
  },
  {
   "cell_type": "code",
   "execution_count": 5,
   "metadata": {
    "scrolled": true
   },
   "outputs": [
    {
     "name": "stdout",
     "output_type": "stream",
     "text": [
      "4867\n"
     ]
    },
    {
     "data": {
      "text/plain": [
       "<matplotlib.axes._subplots.AxesSubplot at 0x1d5a36582e8>"
      ]
     },
     "execution_count": 5,
     "metadata": {},
     "output_type": "execute_result"
    },
    {
     "data": {
      "image/png": "[encoded data removed]",
      "text/plain": [
       "<Figure size 432x288 with 1 Axes>"
      ]
     },
     "metadata": {
      "needs_background": "light"
     },
     "output_type": "display_data"
    }
   ],
   "source": [
    "%matplotlib inline\n",
    "print(data.loc[data['contract_start']<=pd.to_datetime('2014-12-01'), 'contract_id'].nunique())\n",
    "subdata = data.loc[data['contract_start']>pd.to_datetime('2014-12-01'), ]\n",
    "subdata.groupby('contract_id')['contract_start'].first().hist(xrot=45)"
   ]
  },
  {
   "cell_type": "code",
   "execution_count": 6,
   "metadata": {},
   "outputs": [
    {
     "name": "stdout",
     "output_type": "stream",
     "text": [
      "9015\n"
     ]
    },
    {
     "data": {
      "text/plain": [
       "<matplotlib.axes._subplots.AxesSubplot at 0x1d5a6889470>"
      ]
     },
     "execution_count": 6,
     "metadata": {},
     "output_type": "execute_result"
    },
    {
     "data": {
      "image/png": "[encoded data removed]",
      "text/plain": [
       "<Figure size 432x288 with 1 Axes>"
      ]
     },
     "metadata": {
      "needs_background": "light"
     },
     "output_type": "display_data"
    }
   ],
   "source": [
    "print(data.loc[data.contract_end == '2017-12-31 23:59:59','contract_id'].nunique())\n",
    "subdata = data.loc[data.contract_end != '2017-12-31 23:59:59',:]\n",
    "subdata.groupby('contract_id')['contract_end'].first().hist(xrot=45)"
   ]
  },
  {
   "cell_type": "markdown",
   "metadata": {},
   "source": [
    "Bear in mind that a large number of contracts starts before 2014-12 and end after 2017-12 and are not graphed in the two graphs. We want to keep a decent length of data for bads evaluation and meantime want to keep most of IDs. It seems from the graphs that rtp at 2017-01-01 could be a good idea. It keeps 12 months to be examined for good or bad renters as well as keep many contracts alive before and after rtp."
   ]
  },
  {
   "cell_type": "code",
   "execution_count": 7,
   "metadata": {},
   "outputs": [],
   "source": [
    "# establish a reference time point\n",
    "from datetime import datetime, timedelta\n",
    "rtp = datetime(2017, 1, 1)"
   ]
  },
  {
   "cell_type": "code",
   "execution_count": 8,
   "metadata": {},
   "outputs": [],
   "source": [
    "# split data into feature data and label data\n",
    "def window_split_func(df, feature_window = timedelta(762), label_window = timedelta(365), rtp=rtp):\n",
    "    feature_data = df[np.logical_and(df['Payment_date']<rtp, df['Payment_date']>rtp-feature_window)]\n",
    "    label_data = df[np.logical_and(df['Payment_date']>=rtp, df['Payment_date']<=rtp+label_window)]\n",
    "    return (feature_data, label_data)"
   ]
  },
  {
   "cell_type": "code",
   "execution_count": 9,
   "metadata": {
    "scrolled": true
   },
   "outputs": [
    {
     "name": "stdout",
     "output_type": "stream",
     "text": [
      "8274\n",
      "9386\n"
     ]
    }
   ],
   "source": [
    "feature_data, label_data = window_split_func(data)\n",
    "print(feature_data['id'].nunique())\n",
    "print(label_data['id'].nunique())"
   ]
  },
  {
   "cell_type": "markdown",
   "metadata": {},
   "source": [
    "Check the number of cases that have to be dropped (if they only have transaction before rtp or after rtp)"
   ]
  },
  {
   "cell_type": "code",
   "execution_count": 10,
   "metadata": {},
   "outputs": [
    {
     "data": {
      "text/plain": [
       "7709"
      ]
     },
     "execution_count": 10,
     "metadata": {},
     "output_type": "execute_result"
    }
   ],
   "source": [
    "inclusive_id = pd.merge(feature_data['id'], label_data['id']).drop_duplicates()\n",
    "model_data = data[data['id'].isin(inclusive_id['id'])]\n",
    "model_data['id'].nunique()"
   ]
  },
  {
   "cell_type": "code",
   "execution_count": 11,
   "metadata": {},
   "outputs": [],
   "source": [
    "# split data into feature data and label data\n",
    "final_feature_data, final_label_data = window_split_func(model_data)"
   ]
  },
  {
   "cell_type": "markdown",
   "metadata": {},
   "source": [
    "### 1.2 discretise continuous variables"
   ]
  },
  {
   "cell_type": "markdown",
   "metadata": {},
   "source": [
    "There are multiple variables that are continuous and can be used to create features in the dataset, i.e. rent, transaction history, payment amount, overdue_days. As you can find later, this modelling practice intends to create three separate predictive model. One have more than one-year transaction history; one have over half-year but below one-year transaction history; one have less than half-year transaction history. In this sense, the transaction history is used to split the tenants into those three categories and is not used as feature. \n",
    "\n",
    "Additionally, the overdue_days is reflection of the ratio of payment amount over rent as I am going to show immediately afterwards. So in summary, I shall only discretise overdue days and rent."
   ]
  },
  {
   "cell_type": "code",
   "execution_count": 12,
   "metadata": {
    "scrolled": true
   },
   "outputs": [
    {
     "data": {
      "text/plain": [
       "1.00    220277\n",
       "1.05     22721\n",
       "1.10      9721\n",
       "1.20      5769\n",
       "1.50      1723\n",
       "2.00       201\n",
       "Name: payment_ratio, dtype: int64"
      ]
     },
     "execution_count": 12,
     "metadata": {},
     "output_type": "execute_result"
    }
   ],
   "source": [
    "data['payment_ratio'].value_counts()"
   ]
  },
  {
   "cell_type": "code",
   "execution_count": 13,
   "metadata": {},
   "outputs": [
    {
     "name": "stdout",
     "output_type": "stream",
     "text": [
      "3.0 7.0\n",
      "8.0 14.0\n",
      "15.0 30.0\n",
      "31.0 61.0\n"
     ]
    }
   ],
   "source": [
    "overdue1 = data[data['payment_ratio'] == 1.05]\n",
    "overdue2 = data[data['payment_ratio'] == 1.1]\n",
    "overdue3 = data[data['payment_ratio'] == 1.2]\n",
    "overdue4 = data[data['payment_ratio'] == 1.5]\n",
    "print(overdue1['overdue_days'].min(), overdue1['overdue_days'].max())\n",
    "print(overdue2['overdue_days'].min(), overdue2['overdue_days'].max())\n",
    "print(overdue3['overdue_days'].min(), overdue3['overdue_days'].max())\n",
    "print(overdue4['overdue_days'].min(), overdue4['overdue_days'].max())"
   ]
  },
  {
   "cell_type": "markdown",
   "metadata": {},
   "source": [
    "Apparently there are four penalty ranges for overdue days:\n",
    "1. between 3 and 7 days  (over three days to one week)\n",
    "2. between 8 and 14 days (over week to two weeks)\n",
    "2. between 15 and 30 days (over two week to one month)\n",
    "3. between 31 and 61 days (over one month to two months)"
   ]
  },
  {
   "cell_type": "markdown",
   "metadata": {},
   "source": [
    "Therefore as a primary concern, we can discretize the overdue days by following the same fashion. If so, we only need to use the 'payment_ratio' variable. However, because further analysis may require a adjustment of bins, I shall manually discretise overdue days."
   ]
  },
  {
   "cell_type": "code",
   "execution_count": 15,
   "metadata": {
    "scrolled": false
   },
   "outputs": [],
   "source": [
    "# We bin the overdue days according to the payment_ratio\n",
    "bins = [-.5, 2.5, 7.5, 14.5, 30.5, 61.5, 100]\n",
    "\n",
    "overdue_bin = pd.cut(data.overdue_days, bins, labels=['minor', 'small', 'medium_small', 'medium_large', 'large', 'extreme_large'])\n",
    "overdue_bin.name = 'overdue_bin'"
   ]
  },
  {
   "cell_type": "code",
   "execution_count": 16,
   "metadata": {},
   "outputs": [],
   "source": [
    "rent_dist = data.groupby('id')['rent'].mean()"
   ]
  },
  {
   "cell_type": "code",
   "execution_count": 17,
   "metadata": {
    "scrolled": false
   },
   "outputs": [
    {
     "name": "stdout",
     "output_type": "stream",
     "text": [
      "7970.0 400.0\n"
     ]
    },
    {
     "data": {
      "text/plain": [
       "<matplotlib.axes._subplots.AxesSubplot at 0x1d5a67c63c8>"
      ]
     },
     "execution_count": 17,
     "metadata": {},
     "output_type": "execute_result"
    },
    {
     "data": {
      "image/png": "[encoded data removed]",
      "text/plain": [
       "<Figure size 432x288 with 1 Axes>"
      ]
     },
     "metadata": {
      "needs_background": "light"
     },
     "output_type": "display_data"
    }
   ],
   "source": [
    "print(rent_dist.max(), rent_dist.min())\n",
    "rent_dist.hist()"
   ]
  },
  {
   "cell_type": "markdown",
   "metadata": {},
   "source": [
    "The rent ranges from 400 through nearly 8000 but mostly towards the lower end. In order to reflect such unequal distribution, I shall create smaller bins towards the lower end."
   ]
  },
  {
   "cell_type": "code",
   "execution_count": 19,
   "metadata": {},
   "outputs": [],
   "source": [
    "rent_bin = pd.cut(data.rent, bins=[0, 1000, 2000, 3000, 4000, 6000, 8000],\n",
    "                 labels = ['minor','small', 'medium_small', 'medium_large', 'large', 'extreme_large'])\n",
    "rent_bin.name = 'rent_bin'"
   ]
  },
  {
   "cell_type": "code",
   "execution_count": 20,
   "metadata": {},
   "outputs": [],
   "source": [
    "data_bin = pd.concat([data, overdue_bin, rent_bin], axis=1)\n",
    "data_bin.drop(['rent', 'Amount', 'payment_ratio', 'overdue_days'], axis=1, inplace=True)"
   ]
  },
  {
   "cell_type": "code",
   "execution_count": 21,
   "metadata": {},
   "outputs": [],
   "source": [
    "model_data_bin = data_bin[data_bin['id'].isin(inclusive_id['id'])]"
   ]
  },
  {
   "cell_type": "code",
   "execution_count": 22,
   "metadata": {},
   "outputs": [],
   "source": [
    "# split data into feature data and label data\n",
    "final_feature_data_bin, final_label_data_bin = window_split_func(model_data_bin)"
   ]
  },
  {
   "cell_type": "markdown",
   "metadata": {},
   "source": [
    "## 2. define bads and goods "
   ]
  },
  {
   "cell_type": "markdown",
   "metadata": {},
   "source": [
    "We can define bad renters accordingly but with subjective adjustment. The two general rule principals are:\n",
    "1. the landlord needs to identify the extreme risky tenants. In the extreme cases, the tenants are to be evicted as I showed earlier. However, it is not economical to define the bad renters the same as the evicts. The reason is that it may take much more time to find another renter than one month or two. It means if tenants are evicited, the room may be left empty for a while and the landlord suffers a loss.\n",
    "\n",
    "2. On the other hand, small delays in payments are not a big issue as long as it is not several small delays in a row as it may indicate that the renter may have a financial crisis. \n",
    "\n",
    "Based on these two principals, a bad renter is identified whenever any of the three conditions are met:\n",
    "\n",
    "\n",
    "Given a time window, delay the payment\n",
    "1. at least 3 days for any 3 consecutive months.\n",
    "2. at least 8 days for any 2 consecutive months.\n",
    "3. at least 15 days at least once. "
   ]
  },
  {
   "cell_type": "code",
   "execution_count": 23,
   "metadata": {},
   "outputs": [],
   "source": [
    "# define bad renters\n",
    "def bads(df, small_delay = [3, 3], mid_delay = [2, 8], large_delay = 15):\n",
    "    \"\"\" the small_delay and mid_delay are both list of two elements, the\n",
    "        first element is the length of the consecutive window, the seond\n",
    "        element is the minimum delays permitted.\"\"\"\n",
    "    months = df.shape[0]\n",
    "    if sum(df['overdue_days']>=large_delay) >= 1:\n",
    "        return 1\n",
    "    for i in range(months):\n",
    "        last1 = min(i + small_delay[0], months)\n",
    "        if sum(df['overdue_days'].iloc[i:last1]>=small_delay[1]) == small_delay[0]:\n",
    "            return 1\n",
    "        last2 = min(i + mid_delay[0], months)\n",
    "        if sum(df['overdue_days'].iloc[i:last2]>=mid_delay[1]) == mid_delay[0]:\n",
    "            return 1\n",
    "    return 0"
   ]
  },
  {
   "cell_type": "code",
   "execution_count": 24,
   "metadata": {},
   "outputs": [],
   "source": [
    "bads_defined = final_label_data.groupby('id').apply(bads)"
   ]
  },
  {
   "cell_type": "code",
   "execution_count": 25,
   "metadata": {
    "scrolled": true
   },
   "outputs": [
    {
     "data": {
      "text/plain": [
       "0.21559216500194578"
      ]
     },
     "execution_count": 25,
     "metadata": {},
     "output_type": "execute_result"
    }
   ],
   "source": [
    "sum(bads_defined)/bads_defined.count()"
   ]
  },
  {
   "cell_type": "code",
   "execution_count": 26,
   "metadata": {},
   "outputs": [
    {
     "data": {
      "text/plain": [
       "1662"
      ]
     },
     "execution_count": 26,
     "metadata": {},
     "output_type": "execute_result"
    }
   ],
   "source": [
    "sum(bads_defined)"
   ]
  },
  {
   "cell_type": "code",
   "execution_count": 27,
   "metadata": {},
   "outputs": [
    {
     "data": {
      "text/plain": [
       "7709"
      ]
     },
     "execution_count": 27,
     "metadata": {},
     "output_type": "execute_result"
    }
   ],
   "source": [
    "bads_defined.count()"
   ]
  },
  {
   "cell_type": "markdown",
   "metadata": {},
   "source": [
    "**Note that I have a much stricter definition of bads than evict as argued above. Three minor delays, two medium small delays or one medium high delays all define a bad renter.** As a result, around 20\\% renters are defined bad."
   ]
  },
  {
   "cell_type": "markdown",
   "metadata": {},
   "source": [
    "Before moving onto creating features, let me check whether evicted tenants are successfully into the bads. By defnition, they should have been defined as bads."
   ]
  },
  {
   "cell_type": "code",
   "execution_count": 28,
   "metadata": {},
   "outputs": [
    {
     "data": {
      "text/html": [
       "<div>\n",
       "<style scoped>\n",
       "    .dataframe tbody tr th:only-of-type {\n",
       "        vertical-align: middle;\n",
       "    }\n",
       "\n",
       "    .dataframe tbody tr th {\n",
       "        vertical-align: top;\n",
       "    }\n",
       "\n",
       "    .dataframe thead th {\n",
       "        text-align: right;\n",
       "    }\n",
       "</style>\n",
       "<table border=\"1\" class=\"dataframe\">\n",
       "  <thead>\n",
       "    <tr style=\"text-align: right;\">\n",
       "      <th></th>\n",
       "      <th>contract_id</th>\n",
       "      <th>postcode</th>\n",
       "      <th>rent</th>\n",
       "      <th>contract_start</th>\n",
       "      <th>contract_end</th>\n",
       "      <th>id</th>\n",
       "      <th>contract_length</th>\n",
       "      <th>Payment_date</th>\n",
       "      <th>Amount</th>\n",
       "      <th>payment_method</th>\n",
       "      <th>transaction_length</th>\n",
       "      <th>payment_ratio</th>\n",
       "      <th>due_date</th>\n",
       "      <th>overdue_days</th>\n",
       "      <th>evicted</th>\n",
       "    </tr>\n",
       "  </thead>\n",
       "  <tbody>\n",
       "  </tbody>\n",
       "</table>\n",
       "</div>"
      ],
      "text/plain": [
       "Empty DataFrame\n",
       "Columns: [contract_id, postcode, rent, contract_start, contract_end, id, contract_length, Payment_date, Amount, payment_method, transaction_length, payment_ratio, due_date, overdue_days, evicted]\n",
       "Index: []"
      ]
     },
     "execution_count": 28,
     "metadata": {},
     "output_type": "execute_result"
    }
   ],
   "source": [
    "bads_idx = bads_defined[bads_defined == 1].index\n",
    "\n",
    "evicted_idx = data.loc[data['evicted'] != 0, 'id'].drop_duplicates()\n",
    "\n",
    "# Suspecious tenants who are evicted but not included in the bads.\n",
    "exclusive_idx = evicted_idx[~evicted_idx.isin(bads_idx)]\n",
    "\n",
    "# retrieve those suspecious tenants\n",
    "suspect_data = data[data['id'].isin(exclusive_idx)]\n",
    "\n",
    "# check the contract history of those suspecious tenants\n",
    "suspect_data[np.logical_and(suspect_data['Payment_date']>rtp, suspect_data['contract_start']<rtp)]"
   ]
  },
  {
   "cell_type": "markdown",
   "metadata": {},
   "source": [
    "As we can see, There is no evicted tenants who has contract starting before 2017-01-01 and the payment date after 2017-01-01. To put it another way, all evicted tenants, as long as can be identified through such time window split, are included as bads."
   ]
  },
  {
   "cell_type": "markdown",
   "metadata": {},
   "source": [
    "## 3. create transactional features and preprocess data"
   ]
  },
  {
   "cell_type": "markdown",
   "metadata": {},
   "source": [
    "### 3.1 create preliminary features for continuous dataset"
   ]
  },
  {
   "cell_type": "markdown",
   "metadata": {},
   "source": [
    "I use seven types of features if continuous dataset is used.\n",
    "1. single overdue_dates statistics, i.e. maximum of overdue days, mean of overdue days, standard deviations of overdue days and mode of overdue days.\n",
    "2. adjacent overdue_dates statistics, i.e. maximum of the minimum of a consecutive overdue days, mean of the minimum, standard deviations of the minimum and mode of the minimum.\n",
    "3. number of contracts\n",
    "4. total transaction history before rtp (binnable)\n",
    "5. number of payment methods\n",
    "6. most frequently used payment methods\n",
    "7. their rent level"
   ]
  },
  {
   "cell_type": "code",
   "execution_count": 29,
   "metadata": {},
   "outputs": [],
   "source": [
    "def features_func(df, adj=1, adj_agg=pd.Series.min, \n",
    "                  stats_func={'max':pd.Series.max, \n",
    "                              'avg':pd.Series.mean}, \n",
    "                  sub_split=[datetime(2016, 7, 1),\n",
    "                             datetime(2016, 1, 1)]):\n",
    "    \"\"\"\n",
    "    adj is the maximum lengh of the consecutive months;\n",
    "    adj_agg is the aggregate function to be performed on each consecutive series\n",
    "    stats_func is the aggregate function to be performed on the series of of the aggregated value\n",
    "    sub_split is the window splitting list That will split date according to the date specified.\n",
    "    \"\"\"\n",
    "\n",
    "    var_dict = {}\n",
    "    cum_months = 0\n",
    "    window = [rtp] + sub_split + [datetime(2014, 12, 1)]\n",
    "    for sub in range(1, len(window)):\n",
    "        df_new = df[np.logical_and(df['Payment_date'] < window[sub-1], \n",
    "                                   df['Payment_date'] >= window[sub])]\n",
    "        months = df_new.shape[0]\n",
    "        cum_months += months\n",
    "\n",
    "        if months == 0:\n",
    "            var_dict['f_transact_len'] = cum_months\n",
    "            return pd.DataFrame.from_dict(var_dict, orient='index')\n",
    "            \n",
    "        else:\n",
    "            var_dict['fsub{}contract_num'.format(sub)] = df_new['contract_id'].nunique()\n",
    "            var_dict['fsub{}pay_num'.format(sub)] = df_new['payment_method'].nunique()\n",
    "            var_dict['fsub{}pay_mode'.format(sub)] = df_new['payment_method'].mode()[0]\n",
    "            var_dict['fsub{}rent'.format(sub)] = df_new['rent'].mode()[0]\n",
    "        \n",
    "            for i in range(1, adj+1):\n",
    "                adj_seq = []\n",
    "                for j in range(months):\n",
    "                    if i + j <= months:              \n",
    "                        adj_seq.append(adj_agg(df_new.overdue_days[j:j+i]))\n",
    "                for func_key, func_val in stats_func.items():\n",
    "                    var_dict['fsub{}{}{}'.format(sub, func_key, i)] = func_val(pd.Series(adj_seq))\n",
    "            if sub == 3:\n",
    "                var_dict['f_transact_len'] = cum_months\n",
    "\n",
    "                \n",
    "    return pd.DataFrame.from_dict(var_dict, orient = 'index')"
   ]
  },
  {
   "cell_type": "code",
   "execution_count": 30,
   "metadata": {},
   "outputs": [],
   "source": [
    "features = final_feature_data.groupby('id').apply(features_func, adj=3).unstack()\n",
    "features.columns = features.columns.droplevel(0)"
   ]
  },
  {
   "cell_type": "code",
   "execution_count": 31,
   "metadata": {},
   "outputs": [
    {
     "name": "stdout",
     "output_type": "stream",
     "text": [
      "(7709, 31)\n"
     ]
    },
    {
     "data": {
      "text/html": [
       "<div>\n",
       "<style scoped>\n",
       "    .dataframe tbody tr th:only-of-type {\n",
       "        vertical-align: middle;\n",
       "    }\n",
       "\n",
       "    .dataframe tbody tr th {\n",
       "        vertical-align: top;\n",
       "    }\n",
       "\n",
       "    .dataframe thead th {\n",
       "        text-align: right;\n",
       "    }\n",
       "</style>\n",
       "<table border=\"1\" class=\"dataframe\">\n",
       "  <thead>\n",
       "    <tr style=\"text-align: right;\">\n",
       "      <th></th>\n",
       "      <th>f_transact_len</th>\n",
       "      <th>fsub1avg1</th>\n",
       "      <th>fsub1avg2</th>\n",
       "      <th>fsub1avg3</th>\n",
       "      <th>fsub1contract_num</th>\n",
       "      <th>fsub1max1</th>\n",
       "      <th>fsub1max2</th>\n",
       "      <th>fsub1max3</th>\n",
       "      <th>fsub1pay_mode</th>\n",
       "      <th>fsub1pay_num</th>\n",
       "      <th>...</th>\n",
       "      <th>fsub3avg1</th>\n",
       "      <th>fsub3avg2</th>\n",
       "      <th>fsub3avg3</th>\n",
       "      <th>fsub3contract_num</th>\n",
       "      <th>fsub3max1</th>\n",
       "      <th>fsub3max2</th>\n",
       "      <th>fsub3max3</th>\n",
       "      <th>fsub3pay_mode</th>\n",
       "      <th>fsub3pay_num</th>\n",
       "      <th>fsub3rent</th>\n",
       "    </tr>\n",
       "    <tr>\n",
       "      <th>id</th>\n",
       "      <th></th>\n",
       "      <th></th>\n",
       "      <th></th>\n",
       "      <th></th>\n",
       "      <th></th>\n",
       "      <th></th>\n",
       "      <th></th>\n",
       "      <th></th>\n",
       "      <th></th>\n",
       "      <th></th>\n",
       "      <th></th>\n",
       "      <th></th>\n",
       "      <th></th>\n",
       "      <th></th>\n",
       "      <th></th>\n",
       "      <th></th>\n",
       "      <th></th>\n",
       "      <th></th>\n",
       "      <th></th>\n",
       "      <th></th>\n",
       "      <th></th>\n",
       "    </tr>\n",
       "  </thead>\n",
       "  <tbody>\n",
       "    <tr>\n",
       "      <th>Aadam Wright 1962-10-14</th>\n",
       "      <td>25</td>\n",
       "      <td>5.33333</td>\n",
       "      <td>3.6</td>\n",
       "      <td>3</td>\n",
       "      <td>1</td>\n",
       "      <td>13</td>\n",
       "      <td>6</td>\n",
       "      <td>6</td>\n",
       "      <td>DIRECT_DEBIT</td>\n",
       "      <td>1</td>\n",
       "      <td>...</td>\n",
       "      <td>2.38462</td>\n",
       "      <td>1.25</td>\n",
       "      <td>0.545455</td>\n",
       "      <td>1</td>\n",
       "      <td>13</td>\n",
       "      <td>9</td>\n",
       "      <td>3</td>\n",
       "      <td>DIRECT_DEBIT</td>\n",
       "      <td>1</td>\n",
       "      <td>870</td>\n",
       "    </tr>\n",
       "    <tr>\n",
       "      <th>Aadheen Davies 1983-01-06</th>\n",
       "      <td>25</td>\n",
       "      <td>0</td>\n",
       "      <td>0</td>\n",
       "      <td>0</td>\n",
       "      <td>1</td>\n",
       "      <td>0</td>\n",
       "      <td>0</td>\n",
       "      <td>0</td>\n",
       "      <td>DIRECT_DEBIT</td>\n",
       "      <td>1</td>\n",
       "      <td>...</td>\n",
       "      <td>0</td>\n",
       "      <td>0</td>\n",
       "      <td>0</td>\n",
       "      <td>1</td>\n",
       "      <td>0</td>\n",
       "      <td>0</td>\n",
       "      <td>0</td>\n",
       "      <td>DIRECT_DEBIT</td>\n",
       "      <td>1</td>\n",
       "      <td>4660</td>\n",
       "    </tr>\n",
       "    <tr>\n",
       "      <th>Aadya Adams 1973-09-20</th>\n",
       "      <td>25</td>\n",
       "      <td>0</td>\n",
       "      <td>0</td>\n",
       "      <td>0</td>\n",
       "      <td>1</td>\n",
       "      <td>0</td>\n",
       "      <td>0</td>\n",
       "      <td>0</td>\n",
       "      <td>DIRECT_DEBIT</td>\n",
       "      <td>1</td>\n",
       "      <td>...</td>\n",
       "      <td>0</td>\n",
       "      <td>0</td>\n",
       "      <td>0</td>\n",
       "      <td>1</td>\n",
       "      <td>0</td>\n",
       "      <td>0</td>\n",
       "      <td>0</td>\n",
       "      <td>DIRECT_DEBIT</td>\n",
       "      <td>1</td>\n",
       "      <td>1040</td>\n",
       "    </tr>\n",
       "    <tr>\n",
       "      <th>Aaliah Jones 1992-08-13</th>\n",
       "      <td>16</td>\n",
       "      <td>0.666667</td>\n",
       "      <td>0.2</td>\n",
       "      <td>0</td>\n",
       "      <td>2</td>\n",
       "      <td>2</td>\n",
       "      <td>1</td>\n",
       "      <td>0</td>\n",
       "      <td>DIRECT_DEBIT</td>\n",
       "      <td>1</td>\n",
       "      <td>...</td>\n",
       "      <td>0.5</td>\n",
       "      <td>0</td>\n",
       "      <td>0</td>\n",
       "      <td>1</td>\n",
       "      <td>2</td>\n",
       "      <td>0</td>\n",
       "      <td>0</td>\n",
       "      <td>DIRECT_DEBIT</td>\n",
       "      <td>1</td>\n",
       "      <td>1830</td>\n",
       "    </tr>\n",
       "    <tr>\n",
       "      <th>Aaliyah Leonard 1964-10-08</th>\n",
       "      <td>23</td>\n",
       "      <td>18.6</td>\n",
       "      <td>6.25</td>\n",
       "      <td>1.66667</td>\n",
       "      <td>1</td>\n",
       "      <td>51</td>\n",
       "      <td>20</td>\n",
       "      <td>5</td>\n",
       "      <td>DIRECT_DEBIT</td>\n",
       "      <td>1</td>\n",
       "      <td>...</td>\n",
       "      <td>8.75</td>\n",
       "      <td>3.81818</td>\n",
       "      <td>1</td>\n",
       "      <td>1</td>\n",
       "      <td>34</td>\n",
       "      <td>22</td>\n",
       "      <td>7</td>\n",
       "      <td>DIRECT_DEBIT</td>\n",
       "      <td>1</td>\n",
       "      <td>1520</td>\n",
       "    </tr>\n",
       "  </tbody>\n",
       "</table>\n",
       "<p>5 rows × 31 columns</p>\n",
       "</div>"
      ],
      "text/plain": [
       "                           f_transact_len fsub1avg1 fsub1avg2 fsub1avg3  \\\n",
       "id                                                                        \n",
       "Aadam Wright 1962-10-14                25   5.33333       3.6         3   \n",
       "Aadheen Davies 1983-01-06              25         0         0         0   \n",
       "Aadya Adams 1973-09-20                 25         0         0         0   \n",
       "Aaliah Jones 1992-08-13                16  0.666667       0.2         0   \n",
       "Aaliyah Leonard 1964-10-08             23      18.6      6.25   1.66667   \n",
       "\n",
       "                           fsub1contract_num fsub1max1 fsub1max2 fsub1max3  \\\n",
       "id                                                                           \n",
       "Aadam Wright 1962-10-14                    1        13         6         6   \n",
       "Aadheen Davies 1983-01-06                  1         0         0         0   \n",
       "Aadya Adams 1973-09-20                     1         0         0         0   \n",
       "Aaliah Jones 1992-08-13                    2         2         1         0   \n",
       "Aaliyah Leonard 1964-10-08                 1        51        20         5   \n",
       "\n",
       "                           fsub1pay_mode fsub1pay_num  ... fsub3avg1  \\\n",
       "id                                                     ...             \n",
       "Aadam Wright 1962-10-14     DIRECT_DEBIT            1  ...   2.38462   \n",
       "Aadheen Davies 1983-01-06   DIRECT_DEBIT            1  ...         0   \n",
       "Aadya Adams 1973-09-20      DIRECT_DEBIT            1  ...         0   \n",
       "Aaliah Jones 1992-08-13     DIRECT_DEBIT            1  ...       0.5   \n",
       "Aaliyah Leonard 1964-10-08  DIRECT_DEBIT            1  ...      8.75   \n",
       "\n",
       "                           fsub3avg2 fsub3avg3 fsub3contract_num fsub3max1  \\\n",
       "id                                                                           \n",
       "Aadam Wright 1962-10-14         1.25  0.545455                 1        13   \n",
       "Aadheen Davies 1983-01-06          0         0                 1         0   \n",
       "Aadya Adams 1973-09-20             0         0                 1         0   \n",
       "Aaliah Jones 1992-08-13            0         0                 1         2   \n",
       "Aaliyah Leonard 1964-10-08   3.81818         1                 1        34   \n",
       "\n",
       "                           fsub3max2 fsub3max3 fsub3pay_mode fsub3pay_num  \\\n",
       "id                                                                          \n",
       "Aadam Wright 1962-10-14            9         3  DIRECT_DEBIT            1   \n",
       "Aadheen Davies 1983-01-06          0         0  DIRECT_DEBIT            1   \n",
       "Aadya Adams 1973-09-20             0         0  DIRECT_DEBIT            1   \n",
       "Aaliah Jones 1992-08-13            0         0  DIRECT_DEBIT            1   \n",
       "Aaliyah Leonard 1964-10-08        22         7  DIRECT_DEBIT            1   \n",
       "\n",
       "                           fsub3rent  \n",
       "id                                    \n",
       "Aadam Wright 1962-10-14          870  \n",
       "Aadheen Davies 1983-01-06       4660  \n",
       "Aadya Adams 1973-09-20          1040  \n",
       "Aaliah Jones 1992-08-13         1830  \n",
       "Aaliyah Leonard 1964-10-08      1520  \n",
       "\n",
       "[5 rows x 31 columns]"
      ]
     },
     "execution_count": 31,
     "metadata": {},
     "output_type": "execute_result"
    }
   ],
   "source": [
    "print(features.shape)\n",
    "features.head()"
   ]
  },
  {
   "cell_type": "code",
   "execution_count": 33,
   "metadata": {},
   "outputs": [],
   "source": [
    "def features_bin_func(df,\n",
    "                  sub_split=[datetime(2016, 7, 1),\n",
    "                             datetime(2016, 1, 1)]):\n",
    "    \"\"\"\n",
    "    sub_split is the window splitting list That will split date according to the date specified\n",
    "    \"\"\"\n",
    "    var_dict = {}\n",
    "    cum_months = 0\n",
    "    window = [rtp] + sub_split + [datetime(2014, 12, 1)]\n",
    "    for sub in range(1, len(window)):\n",
    "        df_new = df[np.logical_and(df['Payment_date'] < window[sub-1], \n",
    "                                   df['Payment_date'] >= window[sub])]\n",
    "        \n",
    "        overdue_bin = pd.get_dummies(df_new.overdue_bin)\n",
    "        rent_bin = pd.get_dummies(df_new.rent_bin)\n",
    "\n",
    "        if df_new.shape[0] == 0:\n",
    "            return pd.DataFrame.from_dict(var_dict, orient='index')\n",
    "            \n",
    "        else:\n",
    "            if df_new['contract_id'].nunique() == 1:\n",
    "                var_dict['fsub{}contract'.format(sub)] = 'single'\n",
    "            else:\n",
    "                var_dict['fsub{}contract'.format(sub)] = 'multi'\n",
    "            if df_new['payment_method'].nunique() == 1:\n",
    "                var_dict['fsub{}pay_method'.format(sub)] = 'single'\n",
    "            else:\n",
    "                var_dict['fsub{}pay_method'.format(sub)] = 'multi'\n",
    "            \n",
    "            for i in range(overdue_bin.shape[1]):\n",
    "                if i <= 3:\n",
    "                    if sum(overdue_bin.iloc[:,i]) <= 0.33*len(overdue_bin.iloc[:,i]):\n",
    "                        var_dict['fsub{}overdue_{}'.format(sub, overdue_bin.columns[i])] = 'low'\n",
    "                    elif sum(overdue_bin.iloc[:,i]) <= 0.67*len(overdue_bin.iloc[:,i]):\n",
    "                        var_dict['fsub{}overdue_{}'.format(sub, overdue_bin.columns[i])] = 'mid'\n",
    "                    else:\n",
    "                        var_dict['fsub{}overdue_{}'.format(sub, overdue_bin.columns[i])] = 'high'\n",
    "                else:\n",
    "                    if sum(overdue_bin.iloc[:,i]) >= 1:\n",
    "                        var_dict['fsub{}overdue_{}'.format(sub, overdue_bin.columns[i])] = 'ocur'\n",
    "                    else:\n",
    "                        var_dict['fsub{}overdue_{}'.format(sub, overdue_bin.columns[i])] = 'non'\n",
    "            \n",
    "            var_dict['fsub{}rent'.format(sub)] = rent_bin.apply(sum).nlargest(1).index.values.astype('str')[0]\n",
    "\n",
    "    return pd.DataFrame.from_dict(var_dict, orient = 'index')"
   ]
  },
  {
   "cell_type": "code",
   "execution_count": 34,
   "metadata": {},
   "outputs": [],
   "source": [
    "features_bin = final_feature_data_bin.groupby('id').apply(features_bin_func).unstack()\n",
    "features_bin.columns = features_bin.columns.droplevel(0)"
   ]
  },
  {
   "cell_type": "code",
   "execution_count": 35,
   "metadata": {
    "scrolled": true
   },
   "outputs": [
    {
     "name": "stdout",
     "output_type": "stream",
     "text": [
      "(7709, 27)\n"
     ]
    },
    {
     "data": {
      "text/html": [
       "<div>\n",
       "<style scoped>\n",
       "    .dataframe tbody tr th:only-of-type {\n",
       "        vertical-align: middle;\n",
       "    }\n",
       "\n",
       "    .dataframe tbody tr th {\n",
       "        vertical-align: top;\n",
       "    }\n",
       "\n",
       "    .dataframe thead th {\n",
       "        text-align: right;\n",
       "    }\n",
       "</style>\n",
       "<table border=\"1\" class=\"dataframe\">\n",
       "  <thead>\n",
       "    <tr style=\"text-align: right;\">\n",
       "      <th></th>\n",
       "      <th>fsub1contract</th>\n",
       "      <th>fsub1overdue_extreme_large</th>\n",
       "      <th>fsub1overdue_large</th>\n",
       "      <th>fsub1overdue_medium_large</th>\n",
       "      <th>fsub1overdue_medium_small</th>\n",
       "      <th>fsub1overdue_minor</th>\n",
       "      <th>fsub1overdue_small</th>\n",
       "      <th>fsub1pay_method</th>\n",
       "      <th>fsub1rent</th>\n",
       "      <th>fsub2contract</th>\n",
       "      <th>...</th>\n",
       "      <th>fsub2rent</th>\n",
       "      <th>fsub3contract</th>\n",
       "      <th>fsub3overdue_extreme_large</th>\n",
       "      <th>fsub3overdue_large</th>\n",
       "      <th>fsub3overdue_medium_large</th>\n",
       "      <th>fsub3overdue_medium_small</th>\n",
       "      <th>fsub3overdue_minor</th>\n",
       "      <th>fsub3overdue_small</th>\n",
       "      <th>fsub3pay_method</th>\n",
       "      <th>fsub3rent</th>\n",
       "    </tr>\n",
       "    <tr>\n",
       "      <th>id</th>\n",
       "      <th></th>\n",
       "      <th></th>\n",
       "      <th></th>\n",
       "      <th></th>\n",
       "      <th></th>\n",
       "      <th></th>\n",
       "      <th></th>\n",
       "      <th></th>\n",
       "      <th></th>\n",
       "      <th></th>\n",
       "      <th></th>\n",
       "      <th></th>\n",
       "      <th></th>\n",
       "      <th></th>\n",
       "      <th></th>\n",
       "      <th></th>\n",
       "      <th></th>\n",
       "      <th></th>\n",
       "      <th></th>\n",
       "      <th></th>\n",
       "      <th></th>\n",
       "    </tr>\n",
       "  </thead>\n",
       "  <tbody>\n",
       "    <tr>\n",
       "      <th>Aadam Wright 1962-10-14</th>\n",
       "      <td>single</td>\n",
       "      <td>non</td>\n",
       "      <td>non</td>\n",
       "      <td>low</td>\n",
       "      <td>low</td>\n",
       "      <td>mid</td>\n",
       "      <td>mid</td>\n",
       "      <td>single</td>\n",
       "      <td>minor</td>\n",
       "      <td>single</td>\n",
       "      <td>...</td>\n",
       "      <td>minor</td>\n",
       "      <td>single</td>\n",
       "      <td>non</td>\n",
       "      <td>non</td>\n",
       "      <td>low</td>\n",
       "      <td>low</td>\n",
       "      <td>high</td>\n",
       "      <td>low</td>\n",
       "      <td>single</td>\n",
       "      <td>minor</td>\n",
       "    </tr>\n",
       "    <tr>\n",
       "      <th>Aadheen Davies 1983-01-06</th>\n",
       "      <td>single</td>\n",
       "      <td>non</td>\n",
       "      <td>non</td>\n",
       "      <td>low</td>\n",
       "      <td>low</td>\n",
       "      <td>high</td>\n",
       "      <td>low</td>\n",
       "      <td>single</td>\n",
       "      <td>large</td>\n",
       "      <td>single</td>\n",
       "      <td>...</td>\n",
       "      <td>large</td>\n",
       "      <td>single</td>\n",
       "      <td>non</td>\n",
       "      <td>non</td>\n",
       "      <td>low</td>\n",
       "      <td>low</td>\n",
       "      <td>high</td>\n",
       "      <td>low</td>\n",
       "      <td>single</td>\n",
       "      <td>large</td>\n",
       "    </tr>\n",
       "    <tr>\n",
       "      <th>Aadya Adams 1973-09-20</th>\n",
       "      <td>single</td>\n",
       "      <td>non</td>\n",
       "      <td>non</td>\n",
       "      <td>low</td>\n",
       "      <td>low</td>\n",
       "      <td>high</td>\n",
       "      <td>low</td>\n",
       "      <td>single</td>\n",
       "      <td>small</td>\n",
       "      <td>single</td>\n",
       "      <td>...</td>\n",
       "      <td>small</td>\n",
       "      <td>single</td>\n",
       "      <td>non</td>\n",
       "      <td>non</td>\n",
       "      <td>low</td>\n",
       "      <td>low</td>\n",
       "      <td>high</td>\n",
       "      <td>low</td>\n",
       "      <td>single</td>\n",
       "      <td>small</td>\n",
       "    </tr>\n",
       "    <tr>\n",
       "      <th>Aaliah Jones 1992-08-13</th>\n",
       "      <td>multi</td>\n",
       "      <td>non</td>\n",
       "      <td>non</td>\n",
       "      <td>low</td>\n",
       "      <td>low</td>\n",
       "      <td>high</td>\n",
       "      <td>low</td>\n",
       "      <td>single</td>\n",
       "      <td>small</td>\n",
       "      <td>single</td>\n",
       "      <td>...</td>\n",
       "      <td>small</td>\n",
       "      <td>single</td>\n",
       "      <td>non</td>\n",
       "      <td>non</td>\n",
       "      <td>low</td>\n",
       "      <td>low</td>\n",
       "      <td>high</td>\n",
       "      <td>low</td>\n",
       "      <td>single</td>\n",
       "      <td>small</td>\n",
       "    </tr>\n",
       "    <tr>\n",
       "      <th>Aaliyah Leonard 1964-10-08</th>\n",
       "      <td>single</td>\n",
       "      <td>non</td>\n",
       "      <td>ocur</td>\n",
       "      <td>mid</td>\n",
       "      <td>low</td>\n",
       "      <td>low</td>\n",
       "      <td>low</td>\n",
       "      <td>single</td>\n",
       "      <td>small</td>\n",
       "      <td>single</td>\n",
       "      <td>...</td>\n",
       "      <td>small</td>\n",
       "      <td>single</td>\n",
       "      <td>non</td>\n",
       "      <td>ocur</td>\n",
       "      <td>low</td>\n",
       "      <td>low</td>\n",
       "      <td>mid</td>\n",
       "      <td>low</td>\n",
       "      <td>single</td>\n",
       "      <td>small</td>\n",
       "    </tr>\n",
       "  </tbody>\n",
       "</table>\n",
       "<p>5 rows × 27 columns</p>\n",
       "</div>"
      ],
      "text/plain": [
       "                           fsub1contract fsub1overdue_extreme_large  \\\n",
       "id                                                                    \n",
       "Aadam Wright 1962-10-14           single                        non   \n",
       "Aadheen Davies 1983-01-06         single                        non   \n",
       "Aadya Adams 1973-09-20            single                        non   \n",
       "Aaliah Jones 1992-08-13            multi                        non   \n",
       "Aaliyah Leonard 1964-10-08        single                        non   \n",
       "\n",
       "                           fsub1overdue_large fsub1overdue_medium_large  \\\n",
       "id                                                                        \n",
       "Aadam Wright 1962-10-14                   non                       low   \n",
       "Aadheen Davies 1983-01-06                 non                       low   \n",
       "Aadya Adams 1973-09-20                    non                       low   \n",
       "Aaliah Jones 1992-08-13                   non                       low   \n",
       "Aaliyah Leonard 1964-10-08               ocur                       mid   \n",
       "\n",
       "                           fsub1overdue_medium_small fsub1overdue_minor  \\\n",
       "id                                                                        \n",
       "Aadam Wright 1962-10-14                          low                mid   \n",
       "Aadheen Davies 1983-01-06                        low               high   \n",
       "Aadya Adams 1973-09-20                           low               high   \n",
       "Aaliah Jones 1992-08-13                          low               high   \n",
       "Aaliyah Leonard 1964-10-08                       low                low   \n",
       "\n",
       "                           fsub1overdue_small fsub1pay_method fsub1rent  \\\n",
       "id                                                                        \n",
       "Aadam Wright 1962-10-14                   mid          single     minor   \n",
       "Aadheen Davies 1983-01-06                 low          single     large   \n",
       "Aadya Adams 1973-09-20                    low          single     small   \n",
       "Aaliah Jones 1992-08-13                   low          single     small   \n",
       "Aaliyah Leonard 1964-10-08                low          single     small   \n",
       "\n",
       "                           fsub2contract  ... fsub2rent fsub3contract  \\\n",
       "id                                        ...                           \n",
       "Aadam Wright 1962-10-14           single  ...     minor        single   \n",
       "Aadheen Davies 1983-01-06         single  ...     large        single   \n",
       "Aadya Adams 1973-09-20            single  ...     small        single   \n",
       "Aaliah Jones 1992-08-13           single  ...     small        single   \n",
       "Aaliyah Leonard 1964-10-08        single  ...     small        single   \n",
       "\n",
       "                           fsub3overdue_extreme_large fsub3overdue_large  \\\n",
       "id                                                                         \n",
       "Aadam Wright 1962-10-14                           non                non   \n",
       "Aadheen Davies 1983-01-06                         non                non   \n",
       "Aadya Adams 1973-09-20                            non                non   \n",
       "Aaliah Jones 1992-08-13                           non                non   \n",
       "Aaliyah Leonard 1964-10-08                        non               ocur   \n",
       "\n",
       "                           fsub3overdue_medium_large  \\\n",
       "id                                                     \n",
       "Aadam Wright 1962-10-14                          low   \n",
       "Aadheen Davies 1983-01-06                        low   \n",
       "Aadya Adams 1973-09-20                           low   \n",
       "Aaliah Jones 1992-08-13                          low   \n",
       "Aaliyah Leonard 1964-10-08                       low   \n",
       "\n",
       "                           fsub3overdue_medium_small fsub3overdue_minor  \\\n",
       "id                                                                        \n",
       "Aadam Wright 1962-10-14                          low               high   \n",
       "Aadheen Davies 1983-01-06                        low               high   \n",
       "Aadya Adams 1973-09-20                           low               high   \n",
       "Aaliah Jones 1992-08-13                          low               high   \n",
       "Aaliyah Leonard 1964-10-08                       low                mid   \n",
       "\n",
       "                           fsub3overdue_small fsub3pay_method fsub3rent  \n",
       "id                                                                       \n",
       "Aadam Wright 1962-10-14                   low          single     minor  \n",
       "Aadheen Davies 1983-01-06                 low          single     large  \n",
       "Aadya Adams 1973-09-20                    low          single     small  \n",
       "Aaliah Jones 1992-08-13                   low          single     small  \n",
       "Aaliyah Leonard 1964-10-08                low          single     small  \n",
       "\n",
       "[5 rows x 27 columns]"
      ]
     },
     "execution_count": 35,
     "metadata": {},
     "output_type": "execute_result"
    }
   ],
   "source": [
    "print(features_bin.shape)\n",
    "features_bin.head()"
   ]
  },
  {
   "cell_type": "code",
   "execution_count": 36,
   "metadata": {
    "collapsed": true
   },
   "outputs": [
    {
     "name": "stdout",
     "output_type": "stream",
     "text": [
      "<class 'pandas.core.frame.DataFrame'>\n",
      "Index: 7709 entries, Aadam Wright 1962-10-14 to Zuriel Page 1955-03-15\n",
      "Data columns (total 27 columns):\n",
      "fsub1contract                 7709 non-null object\n",
      "fsub1overdue_extreme_large    7709 non-null object\n",
      "fsub1overdue_large            7709 non-null object\n",
      "fsub1overdue_medium_large     7709 non-null object\n",
      "fsub1overdue_medium_small     7709 non-null object\n",
      "fsub1overdue_minor            7709 non-null object\n",
      "fsub1overdue_small            7709 non-null object\n",
      "fsub1pay_method               7709 non-null object\n",
      "fsub1rent                     7709 non-null object\n",
      "fsub2contract                 6922 non-null object\n",
      "fsub2overdue_extreme_large    6922 non-null object\n",
      "fsub2overdue_large            6922 non-null object\n",
      "fsub2overdue_medium_large     6922 non-null object\n",
      "fsub2overdue_medium_small     6922 non-null object\n",
      "fsub2overdue_minor            6922 non-null object\n",
      "fsub2overdue_small            6922 non-null object\n",
      "fsub2pay_method               6922 non-null object\n",
      "fsub2rent                     6922 non-null object\n",
      "fsub3contract                 6102 non-null object\n",
      "fsub3overdue_extreme_large    6102 non-null object\n",
      "fsub3overdue_large            6102 non-null object\n",
      "fsub3overdue_medium_large     6102 non-null object\n",
      "fsub3overdue_medium_small     6102 non-null object\n",
      "fsub3overdue_minor            6102 non-null object\n",
      "fsub3overdue_small            6102 non-null object\n",
      "fsub3pay_method               6102 non-null object\n",
      "fsub3rent                     6102 non-null object\n",
      "dtypes: object(27)\n",
      "memory usage: 1.6+ MB\n"
     ]
    }
   ],
   "source": [
    "features_bin.info()"
   ]
  },
  {
   "cell_type": "markdown",
   "metadata": {},
   "source": [
    "### 3.2 split the feature datasets according to transaction history"
   ]
  },
  {
   "cell_type": "code",
   "execution_count": 37,
   "metadata": {},
   "outputs": [],
   "source": [
    "cond_short = features.f_transact_len<=6\n",
    "short_features = features[cond_short]\n",
    "short_bin_features = features_bin[cond_short]"
   ]
  },
  {
   "cell_type": "code",
   "execution_count": 39,
   "metadata": {},
   "outputs": [],
   "source": [
    "cond_medium = np.logical_and(features['f_transact_len']>6, features['f_transact_len']<=12)\n",
    "medium_features = features[cond_medium]\n",
    "medium_bin_features = features_bin[cond_medium]"
   ]
  },
  {
   "cell_type": "code",
   "execution_count": 40,
   "metadata": {
    "scrolled": true
   },
   "outputs": [],
   "source": [
    "cond_long = features['f_transact_len']>12\n",
    "long_features = features[cond_long]\n",
    "long_bin_features = features_bin[cond_long]"
   ]
  },
  {
   "cell_type": "code",
   "execution_count": 41,
   "metadata": {},
   "outputs": [
    {
     "name": "stdout",
     "output_type": "stream",
     "text": [
      "<class 'pandas.core.frame.DataFrame'>\n",
      "Index: 794 entries, Aamna Jenkins 1991-04-26 to Zuha Jones 1960-04-08\n",
      "Data columns (total 10 columns):\n",
      "f_transact_len       794 non-null object\n",
      "fsub1avg1            794 non-null object\n",
      "fsub1avg2            794 non-null object\n",
      "fsub1avg3            794 non-null object\n",
      "fsub1contract_num    794 non-null object\n",
      "fsub1max1            794 non-null object\n",
      "fsub1max2            794 non-null object\n",
      "fsub1max3            794 non-null object\n",
      "fsub1pay_mode        794 non-null object\n",
      "fsub1pay_num         794 non-null object\n",
      "dtypes: object(10)\n",
      "memory usage: 108.2+ KB\n"
     ]
    }
   ],
   "source": [
    "# fill in the NAs for fsub1avg2 and fusb1avg3 by fsub1avg1 in the same row. Same for max\n",
    "short_features.loc[short_features['fsub1avg2'].isnull(), 'fsub1avg2'] = short_features.loc[short_features['fsub1avg2'].isnull(), 'fsub1avg1'].values\n",
    "short_features.loc[short_features['fsub1avg3'].isnull(), 'fsub1avg3'] = short_features.loc[short_features['fsub1avg3'].isnull(), 'fsub1avg1'].values\n",
    "short_features.loc[short_features['fsub1max2'].isnull(), 'fsub1max2'] = short_features.loc[short_features['fsub1max2'].isnull(), 'fsub1max1'].values\n",
    "short_features.loc[short_features['fsub1max3'].isnull(), 'fsub1max3'] = short_features.loc[short_features['fsub1max3'].isnull(), 'fsub1max1'].values\n",
    "\n",
    "short_features = short_features.loc[:, 'f_transact_len':'fsub1pay_num']\n",
    "short_features.info()"
   ]
  },
  {
   "cell_type": "markdown",
   "metadata": {},
   "source": [
    "There is no missing values for final_short_history_data now."
   ]
  },
  {
   "cell_type": "code",
   "execution_count": 42,
   "metadata": {},
   "outputs": [
    {
     "name": "stdout",
     "output_type": "stream",
     "text": [
      "<class 'pandas.core.frame.DataFrame'>\n",
      "Index: 823 entries, Aaliyah Read 1978-02-28 to Zoya Williams 1966-06-25\n",
      "Data columns (total 15 columns):\n",
      "f_transact_len       823 non-null object\n",
      "fsub1avg1            823 non-null object\n",
      "fsub1avg2            823 non-null object\n",
      "fsub1avg3            823 non-null object\n",
      "fsub1contract_num    823 non-null object\n",
      "fsub1max1            823 non-null object\n",
      "fsub1max2            823 non-null object\n",
      "fsub1max3            823 non-null object\n",
      "fsub1pay_mode        823 non-null object\n",
      "fsub1pay_num         823 non-null object\n",
      "fsub1rent            823 non-null object\n",
      "fsub2avg1            823 non-null object\n",
      "fsub2avg2            823 non-null object\n",
      "fsub2avg3            823 non-null object\n",
      "fsub2contract_num    823 non-null object\n",
      "dtypes: object(15)\n",
      "memory usage: 142.9+ KB\n"
     ]
    }
   ],
   "source": [
    "# fill in the NAs for fsub2avg2 and fusb2avg3 by fsub2avg1 in the same row. Same for max\n",
    "medium_features.loc[medium_features['fsub2avg2'].isnull(), 'fsub2avg2'] = medium_features.loc[medium_features['fsub2avg2'].isnull(), 'fsub2avg1'].values\n",
    "medium_features.loc[medium_features['fsub2avg3'].isnull(), 'fsub2avg3'] = medium_features.loc[medium_features['fsub2avg3'].isnull(), 'fsub2avg1'].values\n",
    "medium_features.loc[medium_features['fsub2max2'].isnull(), 'fsub2max2'] = medium_features.loc[medium_features['fsub2max2'].isnull(), 'fsub2max1'].values\n",
    "medium_features.loc[medium_features['fsub2max3'].isnull(), 'fsub2max3'] = medium_features.loc[medium_features['fsub2max3'].isnull(), 'fsub2max1'].values\n",
    "\n",
    "medium_features = medium_features.loc[:, 'f_transact_len':'fsub2max']\n",
    "medium_features.info()"
   ]
  },
  {
   "cell_type": "markdown",
   "metadata": {},
   "source": [
    "There is no missing values for clean_medium_features now."
   ]
  },
  {
   "cell_type": "code",
   "execution_count": 43,
   "metadata": {},
   "outputs": [
    {
     "name": "stdout",
     "output_type": "stream",
     "text": [
      "<class 'pandas.core.frame.DataFrame'>\n",
      "Index: 6092 entries, Aadam Wright 1962-10-14 to Zuriel Page 1955-03-15\n",
      "Data columns (total 31 columns):\n",
      "f_transact_len       6092 non-null object\n",
      "fsub1avg1            6092 non-null object\n",
      "fsub1avg2            6092 non-null object\n",
      "fsub1avg3            6092 non-null object\n",
      "fsub1contract_num    6092 non-null object\n",
      "fsub1max1            6092 non-null object\n",
      "fsub1max2            6092 non-null object\n",
      "fsub1max3            6092 non-null object\n",
      "fsub1pay_mode        6092 non-null object\n",
      "fsub1pay_num         6092 non-null object\n",
      "fsub1rent            6092 non-null object\n",
      "fsub2avg1            6092 non-null object\n",
      "fsub2avg2            6092 non-null object\n",
      "fsub2avg3            6092 non-null object\n",
      "fsub2contract_num    6092 non-null object\n",
      "fsub2max1            6092 non-null object\n",
      "fsub2max2            6092 non-null object\n",
      "fsub2max3            6092 non-null object\n",
      "fsub2pay_mode        6092 non-null object\n",
      "fsub2pay_num         6092 non-null object\n",
      "fsub2rent            6092 non-null object\n",
      "fsub3avg1            6092 non-null object\n",
      "fsub3avg2            6092 non-null object\n",
      "fsub3avg3            6092 non-null object\n",
      "fsub3contract_num    6092 non-null object\n",
      "fsub3max1            6092 non-null object\n",
      "fsub3max2            6092 non-null object\n",
      "fsub3max3            6092 non-null object\n",
      "fsub3pay_mode        6092 non-null object\n",
      "fsub3pay_num         6092 non-null object\n",
      "fsub3rent            6092 non-null object\n",
      "dtypes: object(31)\n",
      "memory usage: 1.6+ MB\n"
     ]
    }
   ],
   "source": [
    "# fill in the NAs for fsub3avg2 and fusb2avg3 by fsub3avg1 in the same row.\n",
    "long_features.loc[long_features['fsub3avg2'].isnull(), 'fsub3avg2'] = long_features.loc[long_features['fsub3avg2'].isnull(), 'fsub3avg1'].values\n",
    "long_features.loc[long_features['fsub3avg3'].isnull(), 'fsub3avg3'] = long_features.loc[long_features['fsub3avg3'].isnull(), 'fsub3avg1'].values\n",
    "long_features.loc[long_features['fsub3max2'].isnull(), 'fsub3max2'] = long_features.loc[long_features['fsub3max2'].isnull(), 'fsub3max1'].values\n",
    "long_features.loc[long_features['fsub3max3'].isnull(), 'fsub3max3'] = long_features.loc[long_features['fsub3max3'].isnull(), 'fsub3max1'].values\n",
    "\n",
    "long_features.info()"
   ]
  },
  {
   "cell_type": "markdown",
   "metadata": {},
   "source": [
    "### 3.3 further data preprocessing"
   ]
  },
  {
   "cell_type": "markdown",
   "metadata": {},
   "source": [
    "There are still a few variables that are categorical variables and we need to transform them into dummies. Additionally, most of data are in 'object' type and should have been changed into float type."
   ]
  },
  {
   "cell_type": "code",
   "execution_count": 44,
   "metadata": {},
   "outputs": [],
   "source": [
    "def float_tran_func(ser):\n",
    "    if 'avg' in ser.name:\n",
    "        ser = ser.astype('float')\n",
    "    elif 'max' in ser.name:\n",
    "        ser = ser.astype('float')\n",
    "    elif not ser.name.endswith('pay_mode'):\n",
    "        ser = ser.astype('uint8')\n",
    "    return ser"
   ]
  },
  {
   "cell_type": "code",
   "execution_count": 106,
   "metadata": {
    "scrolled": true
   },
   "outputs": [
    {
     "name": "stdout",
     "output_type": "stream",
     "text": [
      "<class 'pandas.core.frame.DataFrame'>\n",
      "Index: 794 entries, Aamna Jenkins 1991-04-26 to Zuha Jones 1960-04-08\n",
      "Data columns (total 12 columns):\n",
      "f_transact_len                 794 non-null uint8\n",
      "fsub1avg1                      794 non-null float64\n",
      "fsub1avg2                      794 non-null float64\n",
      "fsub1avg3                      794 non-null float64\n",
      "fsub1contract_num              794 non-null uint8\n",
      "fsub1max1                      794 non-null float64\n",
      "fsub1max2                      794 non-null float64\n",
      "fsub1max3                      794 non-null float64\n",
      "fsub1pay_num                   794 non-null uint8\n",
      "fsub1pay_mode_BANK_TRANSFER    794 non-null uint8\n",
      "fsub1pay_mode_CASH             794 non-null uint8\n",
      "fsub1pay_mode_DIRECT_DEBIT     794 non-null uint8\n",
      "dtypes: float64(6), uint8(6)\n",
      "memory usage: 88.1+ KB\n"
     ]
    }
   ],
   "source": [
    "final_short_features = short_features.apply(float_tran_func)\n",
    "final_short_features = pd.get_dummies(final_short_features)\n",
    "final_short_features.info()"
   ]
  },
  {
   "cell_type": "code",
   "execution_count": 46,
   "metadata": {},
   "outputs": [
    {
     "name": "stdout",
     "output_type": "stream",
     "text": [
      "<class 'pandas.core.frame.DataFrame'>\n",
      "Index: 823 entries, Aaliyah Read 1978-02-28 to Zoya Williams 1966-06-25\n",
      "Data columns (total 17 columns):\n",
      "f_transact_len                 823 non-null uint8\n",
      "fsub1avg1                      823 non-null float64\n",
      "fsub1avg2                      823 non-null float64\n",
      "fsub1avg3                      823 non-null float64\n",
      "fsub1contract_num              823 non-null uint8\n",
      "fsub1max1                      823 non-null float64\n",
      "fsub1max2                      823 non-null float64\n",
      "fsub1max3                      823 non-null float64\n",
      "fsub1pay_num                   823 non-null uint8\n",
      "fsub1rent                      823 non-null uint8\n",
      "fsub2avg1                      823 non-null float64\n",
      "fsub2avg2                      823 non-null float64\n",
      "fsub2avg3                      823 non-null float64\n",
      "fsub2contract_num              823 non-null uint8\n",
      "fsub1pay_mode_BANK_TRANSFER    823 non-null uint8\n",
      "fsub1pay_mode_CASH             823 non-null uint8\n",
      "fsub1pay_mode_DIRECT_DEBIT     823 non-null uint8\n",
      "dtypes: float64(9), uint8(8)\n",
      "memory usage: 110.7+ KB\n"
     ]
    }
   ],
   "source": [
    "final_medium_features = medium_features.apply(float_tran_func)\n",
    "final_medium_features = pd.get_dummies(final_medium_features)\n",
    "final_medium_features.info()"
   ]
  },
  {
   "cell_type": "code",
   "execution_count": 47,
   "metadata": {},
   "outputs": [
    {
     "name": "stdout",
     "output_type": "stream",
     "text": [
      "<class 'pandas.core.frame.DataFrame'>\n",
      "Index: 6092 entries, Aadam Wright 1962-10-14 to Zuriel Page 1955-03-15\n",
      "Data columns (total 37 columns):\n",
      "f_transact_len                 6092 non-null uint8\n",
      "fsub1avg1                      6092 non-null float64\n",
      "fsub1avg2                      6092 non-null float64\n",
      "fsub1avg3                      6092 non-null float64\n",
      "fsub1contract_num              6092 non-null uint8\n",
      "fsub1max1                      6092 non-null float64\n",
      "fsub1max2                      6092 non-null float64\n",
      "fsub1max3                      6092 non-null float64\n",
      "fsub1pay_num                   6092 non-null uint8\n",
      "fsub1rent                      6092 non-null uint8\n",
      "fsub2avg1                      6092 non-null float64\n",
      "fsub2avg2                      6092 non-null float64\n",
      "fsub2avg3                      6092 non-null float64\n",
      "fsub2contract_num              6092 non-null uint8\n",
      "fsub2max1                      6092 non-null float64\n",
      "fsub2max2                      6092 non-null float64\n",
      "fsub2max3                      6092 non-null float64\n",
      "fsub2pay_num                   6092 non-null uint8\n",
      "fsub2rent                      6092 non-null uint8\n",
      "fsub3avg1                      6092 non-null float64\n",
      "fsub3avg2                      6092 non-null float64\n",
      "fsub3avg3                      6092 non-null float64\n",
      "fsub3contract_num              6092 non-null uint8\n",
      "fsub3max1                      6092 non-null float64\n",
      "fsub3max2                      6092 non-null float64\n",
      "fsub3max3                      6092 non-null float64\n",
      "fsub3pay_num                   6092 non-null uint8\n",
      "fsub3rent                      6092 non-null uint8\n",
      "fsub1pay_mode_BANK_TRANSFER    6092 non-null uint8\n",
      "fsub1pay_mode_CASH             6092 non-null uint8\n",
      "fsub1pay_mode_DIRECT_DEBIT     6092 non-null uint8\n",
      "fsub2pay_mode_BANK_TRANSFER    6092 non-null uint8\n",
      "fsub2pay_mode_CASH             6092 non-null uint8\n",
      "fsub2pay_mode_DIRECT_DEBIT     6092 non-null uint8\n",
      "fsub3pay_mode_BANK_TRANSFER    6092 non-null uint8\n",
      "fsub3pay_mode_CASH             6092 non-null uint8\n",
      "fsub3pay_mode_DIRECT_DEBIT     6092 non-null uint8\n",
      "dtypes: float64(18), uint8(19)\n",
      "memory usage: 1.1+ MB\n"
     ]
    }
   ],
   "source": [
    "final_long_features = long_features.apply(float_tran_func)\n",
    "final_long_features = pd.get_dummies(final_long_features)\n",
    "final_long_features.info()"
   ]
  },
  {
   "cell_type": "code",
   "execution_count": 48,
   "metadata": {},
   "outputs": [],
   "source": [
    "final_short_bin_features = pd.get_dummies(short_bin_features.loc[:, 'fsub1contract':'fsub1rent'])\n",
    "final_medium_bin_features = pd.get_dummies(medium_bin_features.loc[:, 'fsub1contract':'fsub2rent'])\n",
    "final_long_bin_features = pd.get_dummies(long_bin_features)"
   ]
  },
  {
   "cell_type": "code",
   "execution_count": 49,
   "metadata": {},
   "outputs": [],
   "source": [
    "bads_defined.name = 'target'\n",
    "final_short_bads = bads_defined[bads_defined.index.isin(final_short_features.index)]\n",
    "final_medium_bads = bads_defined[bads_defined.index.isin(final_medium_features.index)]\n",
    "final_long_bads = bads_defined[bads_defined.index.isin(final_long_features.index)]"
   ]
  },
  {
   "cell_type": "code",
   "execution_count": 50,
   "metadata": {},
   "outputs": [],
   "source": [
    "# combine feature data with label data\n",
    "final_short_data = pd.concat([final_short_bads, final_short_features], axis=1)\n",
    "final_medium_data = pd.concat([final_medium_bads, final_medium_features], axis=1)\n",
    "final_long_data = pd.concat([final_long_bads, final_long_features], axis=1)"
   ]
  },
  {
   "cell_type": "code",
   "execution_count": 51,
   "metadata": {},
   "outputs": [],
   "source": [
    "# combine bin_feature data with label data\n",
    "final_short_bin_data = pd.concat([final_short_bads, final_short_bin_features], axis=1)\n",
    "final_medium_bin_data = pd.concat([final_medium_bads, final_medium_bin_features], axis=1)\n",
    "final_long_bin_data = pd.concat([final_long_bads, final_long_bin_features], axis=1)"
   ]
  },
  {
   "cell_type": "markdown",
   "metadata": {},
   "source": [
    "## 4. predictive modelling"
   ]
  },
  {
   "cell_type": "code",
   "execution_count": 57,
   "metadata": {},
   "outputs": [],
   "source": [
    "from sklearn.metrics import precision_score, recall_score, roc_auc_score, precision_recall_curve, confusion_matrix\n",
    "\n",
    "def model_eval_func(df, test_ratio, \n",
    "                    cross_val_metrics=['precision',\n",
    "                                      'recall',\n",
    "                                      'roc_auc'], \n",
    "                    score_metrics={'precision':precision_score,\n",
    "                                  'recall':recall_score,\n",
    "                                  'roc_auc':roc_auc_score,\n",
    "                                  'confusion_matrix': confusion_matrix},\n",
    "                   feature_selection=True):\n",
    "    \n",
    "    from sklearn.model_selection import train_test_split\n",
    "    from sklearn.feature_selection import SelectFromModel\n",
    "    from sklearn.ensemble import ExtraTreesClassifier\n",
    "    \n",
    "    train_set, test_set = train_test_split(df, test_size = test_ratio, random_state=30)\n",
    "    X_train = train_set.iloc[:, 1:]\n",
    "    y_train = train_set.iloc[:, 0]\n",
    "    X_test = test_set.iloc[:, 1:]\n",
    "    y_test = test_set.iloc[:, 0]\n",
    "    \n",
    "    clf_etc = ExtraTreesClassifier(n_estimators=50)\n",
    "    clf_etc = clf_etc.fit(X_train, y_train)\n",
    "    features_rf_importance = clf_etc.feature_importances_\n",
    "    model = SelectFromModel(clf_etc, prefit=True)\n",
    "    features_idx = model.get_support()\n",
    "    features_rf_name = X_train.columns[features_idx]\n",
    "    X_train_new = model.transform(X_train)\n",
    "    \n",
    "    if feature_selection:\n",
    "        clf = LogisticRegression().fit(X_train_new, y_train)\n",
    "        y_fit = clf.predict(X_train_new)\n",
    "        y_pred = clf.predict(X_test.iloc[:, features_idx])\n",
    "    else:\n",
    "        clf = LogisticRegression().fit(X_train, y_train)\n",
    "        y_fit = clf.predict(X_train)\n",
    "        y_pred = clf.predict(X_test)\n",
    "\n",
    "    \n",
    "    for score in cross_val_metrics:\n",
    "        if feature_selection:\n",
    "            print(\"train set cross val {} are\".format(score), cross_val_score(clf, X_train_new, y_train, cv=3, scoring=score))\n",
    "        else:\n",
    "            print(\"train set cross val {} are\".format(score), cross_val_score(clf, X_train, y_train, cv=3, scoring=score))\n",
    "    for key, values in score_metrics.items():\n",
    "        print(\"train set {} are \".format(key), values(y_fit, y_train))\n",
    "    for key, values in score_metrics.items():\n",
    "        print(\"test set {} are\".format(key), values(y_pred, y_test))\n",
    "\n",
    "    if feature_selection:\n",
    "        print ('selected features used in modelling are', features_rf_name)\n",
    "    else:\n",
    "        ser = pd.Series(clf.coef_[0])\n",
    "        ser.index = X_train.columns\n",
    "        return clf.intercept_, ser"
   ]
  },
  {
   "cell_type": "code",
   "execution_count": 58,
   "metadata": {},
   "outputs": [],
   "source": [
    "from sklearn.linear_model import LogisticRegression\n",
    "from sklearn.model_selection import cross_val_score"
   ]
  },
  {
   "cell_type": "code",
   "execution_count": 62,
   "metadata": {
    "scrolled": false
   },
   "outputs": [
    {
     "name": "stdout",
     "output_type": "stream",
     "text": [
      "train set cross val precision are [0.88       0.79310345 0.81481481]\n",
      "train set cross val recall are [0.45833333 0.47916667 0.45833333]\n",
      "train set cross val roc_auc are [0.86891727 0.83553832 0.85256995]\n",
      "train set precision are  0.4652777777777778\n",
      "train set recall are  0.8271604938271605\n",
      "train set roc_auc are  0.8323566182215971\n",
      "train set confusion_matrix are  [[397  77]\n",
      " [ 14  67]]\n",
      "test set precision are 0.3111111111111111\n",
      "test set recall are 0.5185185185185185\n",
      "test set roc_auc are 0.6861460517120894\n",
      "test set confusion_matrix are [[181  31]\n",
      " [ 13  14]]\n",
      "selected features used in modelling are Index(['f_transact_len', 'fsub1avg1', 'fsub1avg2', 'fsub1max1', 'fsub1max2',\n",
      "       'fsub1max3'],\n",
      "      dtype='object')\n"
     ]
    }
   ],
   "source": [
    "model_eval_func(final_short_data, .3)"
   ]
  },
  {
   "cell_type": "code",
   "execution_count": 63,
   "metadata": {
    "scrolled": false
   },
   "outputs": [
    {
     "name": "stdout",
     "output_type": "stream",
     "text": [
      "train set cross val precision are [0.76923077 0.86666667 0.73076923]\n",
      "train set cross val recall are [0.45454545 0.60465116 0.44186047]\n",
      "train set cross val roc_auc are [0.85753508 0.90533791 0.8664362 ]\n",
      "train set precision are  0.5076923076923077\n",
      "train set recall are  0.7674418604651163\n",
      "train set roc_auc are  0.8184148077835786\n",
      "train set confusion_matrix are  [[426  64]\n",
      " [ 20  66]]\n",
      "test set precision are 0.5961538461538461\n",
      "test set recall are 0.7948717948717948\n",
      "test set roc_auc are 0.8469551282051282\n",
      "test set confusion_matrix are [[187  21]\n",
      " [  8  31]]\n",
      "selected features used in modelling are Index(['fsub1avg1', 'fsub1avg2', 'fsub1avg3', 'fsub1max1', 'fsub1max2',\n",
      "       'fsub1rent', 'fsub2avg1'],\n",
      "      dtype='object')\n"
     ]
    }
   ],
   "source": [
    "model_eval_func(final_medium_data, .3)"
   ]
  },
  {
   "cell_type": "code",
   "execution_count": 64,
   "metadata": {
    "scrolled": true
   },
   "outputs": [
    {
     "name": "stdout",
     "output_type": "stream",
     "text": [
      "train set cross val precision are [0.83838384 0.80582524 0.79425837]\n",
      "train set cross val recall are [0.55704698 0.55704698 0.55892256]\n",
      "train set cross val roc_auc are [0.89551787 0.88671063 0.87466083]\n",
      "train set precision are  0.5643896976483762\n",
      "train set recall are  0.8262295081967214\n",
      "train set roc_auc are  0.8598854163862643\n",
      "train set confusion_matrix are  [[3265  389]\n",
      " [ 106  504]]\n",
      "test set precision are 0.542713567839196\n",
      "test set recall are 0.8212927756653993\n",
      "test set roc_auc are 0.8524994229764695\n",
      "test set confusion_matrix are [[1383  182]\n",
      " [  47  216]]\n",
      "selected features used in modelling are Index(['f_transact_len', 'fsub1avg1', 'fsub1avg2', 'fsub1avg3', 'fsub1max1',\n",
      "       'fsub1max2', 'fsub1max3', 'fsub1rent', 'fsub2avg1', 'fsub2avg2',\n",
      "       'fsub2avg3', 'fsub2max1', 'fsub2max2', 'fsub2rent', 'fsub3avg1',\n",
      "       'fsub3avg2', 'fsub3max1', 'fsub3max2', 'fsub3rent'],\n",
      "      dtype='object')\n"
     ]
    }
   ],
   "source": [
    "model_eval_func(final_long_data, .3)"
   ]
  },
  {
   "cell_type": "markdown",
   "metadata": {},
   "source": [
    "When comparing among three models using continuous features, short-history model performs worse than medium-history model, which again performs worse than long-history model. This finding makes sense as the predictive information is very limited in the short-history model as most of features are based only on a very short time window (<= 6 months).\n",
    "\n",
    "Another finding is that features created from different time window (0-6 months ago; 7 months ago- 12 months ago; 13 months ago to 25 months ago) have significant predictive power. Across all three models, fsub1 features are constantly selected in the final model (using the tree method for variable selection). fsub2 and fsub3 features are also selected in the long-history model."
   ]
  },
  {
   "cell_type": "code",
   "execution_count": 65,
   "metadata": {
    "scrolled": true
   },
   "outputs": [
    {
     "name": "stdout",
     "output_type": "stream",
     "text": [
      "train set cross val precision are [0.79310345 0.63636364 0.71052632]\n",
      "train set cross val recall are [0.47916667 0.4375     0.5625    ]\n",
      "train set cross val roc_auc are [0.71996655 0.71859793 0.74931569]\n",
      "train set precision are  0.5208333333333334\n",
      "train set recall are  0.7211538461538461\n",
      "train set roc_auc are  0.7840802490192734\n",
      "train set confusion_matrix are  [[382  69]\n",
      " [ 29  75]]\n",
      "test set precision are 0.4444444444444444\n",
      "test set recall are 0.6060606060606061\n",
      "test set roc_auc are 0.7423506913798176\n",
      "test set confusion_matrix are [[181  25]\n",
      " [ 13  20]]\n",
      "selected features used in modelling are Index(['fsub1overdue_medium_small_low', 'fsub1overdue_medium_small_mid',\n",
      "       'fsub1overdue_minor_high', 'fsub1overdue_minor_mid',\n",
      "       'fsub1overdue_small_low', 'fsub1overdue_small_mid'],\n",
      "      dtype='object')\n"
     ]
    }
   ],
   "source": [
    "short_bin_features_selected = model_eval_func(final_short_bin_data, .3)"
   ]
  },
  {
   "cell_type": "code",
   "execution_count": 66,
   "metadata": {
    "scrolled": true
   },
   "outputs": [
    {
     "name": "stdout",
     "output_type": "stream",
     "text": [
      "train set cross val precision are [0.62962963 0.71111111 0.64583333]\n",
      "train set cross val recall are [0.77272727 0.74418605 0.72093023]\n",
      "train set cross val roc_auc are [0.82824893 0.88114562 0.87774984]\n",
      "train set precision are  0.8\n",
      "train set recall are  0.6753246753246753\n",
      "train set roc_auc are  0.8068566504585462\n",
      "train set confusion_matrix are  [[396  26]\n",
      " [ 50 104]]\n",
      "test set precision are 0.8653846153846154\n",
      "test set recall are 0.6818181818181818\n",
      "test set roc_auc are 0.8215720743345052\n",
      "test set confusion_matrix are [[174   7]\n",
      " [ 21  45]]\n",
      "selected features used in modelling are Index(['fsub1overdue_medium_small_low', 'fsub1overdue_medium_small_mid',\n",
      "       'fsub1overdue_minor_high', 'fsub1overdue_minor_low',\n",
      "       'fsub1overdue_minor_mid', 'fsub1overdue_small_low',\n",
      "       'fsub1overdue_small_mid', 'fsub1pay_method_multi',\n",
      "       'fsub1pay_method_single', 'fsub2overdue_minor_high',\n",
      "       'fsub2overdue_minor_mid'],\n",
      "      dtype='object')\n"
     ]
    }
   ],
   "source": [
    "medium_bin_features_selected = model_eval_func(final_medium_bin_data, .3)"
   ]
  },
  {
   "cell_type": "code",
   "execution_count": 67,
   "metadata": {},
   "outputs": [
    {
     "name": "stdout",
     "output_type": "stream",
     "text": [
      "train set cross val precision are [0.76363636 0.75494071 0.69708029]\n",
      "train set cross val recall are [0.70469799 0.6409396  0.64309764]\n",
      "train set cross val roc_auc are [0.88453719 0.88337433 0.87102698]\n",
      "train set precision are  0.6741321388577828\n",
      "train set recall are  0.7261761158021713\n",
      "train set roc_auc are  0.8207299792984656\n",
      "train set confusion_matrix are  [[3144  291]\n",
      " [ 227  602]]\n",
      "test set precision are 0.6557788944723618\n",
      "test set recall are 0.725\n",
      "test set roc_auc are 0.8158378746594006\n",
      "test set confusion_matrix are [[1331  137]\n",
      " [  99  261]]\n",
      "selected features used in modelling are Index(['fsub1overdue_large_non', 'fsub1overdue_medium_large_low',\n",
      "       'fsub1overdue_medium_large_mid', 'fsub1overdue_medium_small_low',\n",
      "       'fsub1overdue_medium_small_mid', 'fsub1overdue_minor_high',\n",
      "       'fsub1overdue_minor_low', 'fsub1overdue_minor_mid',\n",
      "       'fsub1overdue_small_low', 'fsub1overdue_small_mid',\n",
      "       'fsub1pay_method_multi', 'fsub1pay_method_single',\n",
      "       'fsub2overdue_medium_small_mid', 'fsub2overdue_minor_high',\n",
      "       'fsub2overdue_minor_low', 'fsub2overdue_minor_mid',\n",
      "       'fsub2overdue_small_low', 'fsub2overdue_small_mid',\n",
      "       'fsub3overdue_minor_high', 'fsub3overdue_minor_mid'],\n",
      "      dtype='object')\n"
     ]
    }
   ],
   "source": [
    "long_bin_features_selected = model_eval_func(final_long_bin_data, .3)"
   ]
  },
  {
   "cell_type": "markdown",
   "metadata": {},
   "source": [
    "The three models using discretised features have similar predictive performance as those using continuous features. Again, the features selected from three different time window are selected in these three models.\n",
    "\n",
    "In addition, amongh all six models, the number of contracts do not play a predictive role, the rent level only contribute to the predictive power in short-history model."
   ]
  },
  {
   "cell_type": "markdown",
   "metadata": {},
   "source": [
    "## 5. WOE scorecard"
   ]
  },
  {
   "cell_type": "markdown",
   "metadata": {},
   "source": [
    "### 5.1 WOE calculation"
   ]
  },
  {
   "cell_type": "markdown",
   "metadata": {},
   "source": [
    "Since the predictive performance between continuous features and discretised features do not differ from each other much. So this section intends to use the shrinked discretised features only to create a scorecard. Specifically, I shall run a simple logistic regression on the Weight of Evidence (WOE) of each feature rather than the features themselves. The benefits of using WOE is that they can capture the nonlinearities in the predictive relationship."
   ]
  },
  {
   "cell_type": "code",
   "execution_count": 69,
   "metadata": {},
   "outputs": [],
   "source": [
    "import pandas.core.algorithms as algos\n",
    "from pandas import Series\n",
    "import scipy.stats.stats as stats\n",
    "import re\n",
    "import traceback\n",
    "import string\n",
    "\n",
    "def char_bin(Y, X):\n",
    "        \n",
    "    df1 = pd.DataFrame({\"X\": X, \"Y\": Y})\n",
    "    justmiss = df1[['X','Y']][df1.X.isnull()]\n",
    "    notmiss = df1[['X','Y']][df1.X.notnull()]    \n",
    "    df2 = notmiss.groupby('X',as_index=True)\n",
    "    \n",
    "    d3 = pd.DataFrame({},index=[])\n",
    "    d3[\"COUNT\"] = df2.count().Y\n",
    "    d3[\"VALUE\"] = df2.sum().Y.index\n",
    "    d3[\"EVENT\"] = df2.sum().Y\n",
    "    d3[\"NONEVENT\"] = df2.count().Y - df2.sum().Y\n",
    "    d3[\"DIST_EVENT\"] = d3.EVENT/d3.sum().EVENT\n",
    "    d3[\"DIST_NON_EVENT\"] = d3.NONEVENT/d3.sum().NONEVENT\n",
    "    d3[\"WOE\"] = np.log(d3.DIST_NON_EVENT/d3.DIST_EVENT)\n",
    "    d3[\"IV\"] = (d3.DIST_EVENT-d3.DIST_NON_EVENT)*np.log(d3.DIST_EVENT/d3.DIST_NON_EVENT)\n",
    "    d3[\"VAR_NAME\"] = \"VAR\"\n",
    "    d3 = d3[['VAR_NAME','VALUE', 'WOE', 'IV']]      \n",
    "    d3 = d3.replace([np.inf, -np.inf], 0)\n",
    "    d3.IV = d3.IV.sum()\n",
    "    d3 = d3.reset_index(drop=True)\n",
    "    \n",
    "    return(d3)\n",
    "\n",
    "def data_vars(df1, target):\n",
    "    \n",
    "    stack = traceback.extract_stack()\n",
    "    filename, lineno, function_name, code = stack[-2]\n",
    "    vars_name = re.compile(r'\\((.*?)\\).*$').search(code).groups()[0]\n",
    "    final = (re.findall(r\"[\\w']+\", vars_name))[-1]\n",
    "    \n",
    "    x = df1.dtypes.index\n",
    "    count = -1\n",
    "    \n",
    "    for i in x:\n",
    "        if i.upper() not in (final.upper()):\n",
    "            conv = char_bin(target, df1[i])\n",
    "            conv[\"VAR_NAME\"] = i\n",
    "#             conv['id'] = conv['VAR_NAME'] + '_' + conv['VALUE']\n",
    "            count = count + 1\n",
    "                \n",
    "            if count == 0:\n",
    "                iv_df = conv\n",
    "            else:\n",
    "                iv_df = iv_df.append(conv,ignore_index=True)\n",
    "    \n",
    "    iv = pd.DataFrame({'IV':iv_df.groupby('VAR_NAME').IV.max()})\n",
    "    iv = iv.reset_index()\n",
    "    return(iv_df[['VAR_NAME', 'VALUE', 'WOE', 'IV']],iv)"
   ]
  },
  {
   "cell_type": "code",
   "execution_count": 70,
   "metadata": {},
   "outputs": [],
   "source": [
    "short_bin_features = short_bin_features.loc[:, 'fsub1contract':'fsub1rent']\n",
    "medium_bin_features = medium_bin_features.loc[:, 'fsub1contract':'fsub2rent']\n",
    "long_bin_features = long_bin_features.loc[:, 'fsub1contract':'fsub3rent']"
   ]
  },
  {
   "cell_type": "code",
   "execution_count": 136,
   "metadata": {
    "scrolled": true
   },
   "outputs": [
    {
     "data": {
      "text/html": [
       "<div>\n",
       "<style scoped>\n",
       "    .dataframe tbody tr th:only-of-type {\n",
       "        vertical-align: middle;\n",
       "    }\n",
       "\n",
       "    .dataframe tbody tr th {\n",
       "        vertical-align: top;\n",
       "    }\n",
       "\n",
       "    .dataframe thead th {\n",
       "        text-align: right;\n",
       "    }\n",
       "</style>\n",
       "<table border=\"1\" class=\"dataframe\">\n",
       "  <thead>\n",
       "    <tr style=\"text-align: right;\">\n",
       "      <th></th>\n",
       "      <th>VAR_NAME</th>\n",
       "      <th>IV</th>\n",
       "    </tr>\n",
       "  </thead>\n",
       "  <tbody>\n",
       "    <tr>\n",
       "      <th>0</th>\n",
       "      <td>fsub1overdue_minor</td>\n",
       "      <td>1.153015</td>\n",
       "    </tr>\n",
       "    <tr>\n",
       "      <th>1</th>\n",
       "      <td>fsub1overdue_small</td>\n",
       "      <td>0.460119</td>\n",
       "    </tr>\n",
       "    <tr>\n",
       "      <th>2</th>\n",
       "      <td>fsub1overdue_medium_small</td>\n",
       "      <td>0.239531</td>\n",
       "    </tr>\n",
       "    <tr>\n",
       "      <th>3</th>\n",
       "      <td>fsub1overdue_medium_large</td>\n",
       "      <td>0.180362</td>\n",
       "    </tr>\n",
       "    <tr>\n",
       "      <th>4</th>\n",
       "      <td>fsub1rent</td>\n",
       "      <td>0.091641</td>\n",
       "    </tr>\n",
       "    <tr>\n",
       "      <th>5</th>\n",
       "      <td>fsub1overdue_large</td>\n",
       "      <td>0.002323</td>\n",
       "    </tr>\n",
       "    <tr>\n",
       "      <th>6</th>\n",
       "      <td>fsub1pay_method</td>\n",
       "      <td>0.000709</td>\n",
       "    </tr>\n",
       "    <tr>\n",
       "      <th>7</th>\n",
       "      <td>fsub1contract</td>\n",
       "      <td>0.000022</td>\n",
       "    </tr>\n",
       "    <tr>\n",
       "      <th>8</th>\n",
       "      <td>fsub1overdue_extreme_large</td>\n",
       "      <td>0.000000</td>\n",
       "    </tr>\n",
       "  </tbody>\n",
       "</table>\n",
       "</div>"
      ],
      "text/plain": [
       "                     VAR_NAME        IV\n",
       "0          fsub1overdue_minor  1.153015\n",
       "1          fsub1overdue_small  0.460119\n",
       "2   fsub1overdue_medium_small  0.239531\n",
       "3   fsub1overdue_medium_large  0.180362\n",
       "4                   fsub1rent  0.091641\n",
       "5          fsub1overdue_large  0.002323\n",
       "6             fsub1pay_method  0.000709\n",
       "7               fsub1contract  0.000022\n",
       "8  fsub1overdue_extreme_large  0.000000"
      ]
     },
     "execution_count": 136,
     "metadata": {},
     "output_type": "execute_result"
    }
   ],
   "source": [
    "WOE_short_bin, IV = data_vars(short_bin_features, final_short_bads)\n",
    "\n",
    "IV = IV.sort_values('IV', ascending=False).reset_index(drop=True)\n",
    "short_idx = IV['VAR_NAME'][:4]\n",
    "WOE_short_bin = WOE_short_bin.sort_values('IV', ascending=False).reset_index()\n",
    "IV"
   ]
  },
  {
   "cell_type": "markdown",
   "metadata": {},
   "source": [
    "It supports the finding in the last section: contract and payment_method plays a minor role in the model. there is no overdue_extreme_large in the short-history data. "
   ]
  },
  {
   "cell_type": "code",
   "execution_count": 125,
   "metadata": {
    "scrolled": false
   },
   "outputs": [
    {
     "data": {
      "text/plain": [
       "fsub1overdue_minor\n",
       "high    0.143075\n",
       "low     0.833333\n",
       "mid     0.672269\n",
       "dtype: float64"
      ]
     },
     "execution_count": 125,
     "metadata": {},
     "output_type": "execute_result"
    }
   ],
   "source": [
    "pd.concat([short_bin_features, final_short_bads], axis=1).groupby('fsub1overdue_minor').apply(lambda x: x['target'].sum()/x['target'].count())"
   ]
  },
  {
   "cell_type": "code",
   "execution_count": 137,
   "metadata": {
    "scrolled": true
   },
   "outputs": [
    {
     "data": {
      "text/html": [
       "<div>\n",
       "<style scoped>\n",
       "    .dataframe tbody tr th:only-of-type {\n",
       "        vertical-align: middle;\n",
       "    }\n",
       "\n",
       "    .dataframe tbody tr th {\n",
       "        vertical-align: top;\n",
       "    }\n",
       "\n",
       "    .dataframe thead th {\n",
       "        text-align: right;\n",
       "    }\n",
       "</style>\n",
       "<table border=\"1\" class=\"dataframe\">\n",
       "  <thead>\n",
       "    <tr style=\"text-align: right;\">\n",
       "      <th></th>\n",
       "      <th>VAR_NAME</th>\n",
       "      <th>IV</th>\n",
       "    </tr>\n",
       "  </thead>\n",
       "  <tbody>\n",
       "    <tr>\n",
       "      <th>0</th>\n",
       "      <td>fsub1overdue_minor</td>\n",
       "      <td>2.338800</td>\n",
       "    </tr>\n",
       "    <tr>\n",
       "      <th>1</th>\n",
       "      <td>fsub1overdue_small</td>\n",
       "      <td>0.931136</td>\n",
       "    </tr>\n",
       "    <tr>\n",
       "      <th>2</th>\n",
       "      <td>fsub2overdue_minor</td>\n",
       "      <td>0.755696</td>\n",
       "    </tr>\n",
       "    <tr>\n",
       "      <th>3</th>\n",
       "      <td>fsub1overdue_medium_small</td>\n",
       "      <td>0.522824</td>\n",
       "    </tr>\n",
       "    <tr>\n",
       "      <th>4</th>\n",
       "      <td>fsub1overdue_medium_large</td>\n",
       "      <td>0.505035</td>\n",
       "    </tr>\n",
       "    <tr>\n",
       "      <th>5</th>\n",
       "      <td>fsub1overdue_large</td>\n",
       "      <td>0.308733</td>\n",
       "    </tr>\n",
       "    <tr>\n",
       "      <th>6</th>\n",
       "      <td>fsub2overdue_medium_small</td>\n",
       "      <td>0.221459</td>\n",
       "    </tr>\n",
       "    <tr>\n",
       "      <th>7</th>\n",
       "      <td>fsub2overdue_medium_large</td>\n",
       "      <td>0.182755</td>\n",
       "    </tr>\n",
       "    <tr>\n",
       "      <th>8</th>\n",
       "      <td>fsub2overdue_small</td>\n",
       "      <td>0.163641</td>\n",
       "    </tr>\n",
       "    <tr>\n",
       "      <th>9</th>\n",
       "      <td>fsub1rent</td>\n",
       "      <td>0.059104</td>\n",
       "    </tr>\n",
       "    <tr>\n",
       "      <th>10</th>\n",
       "      <td>fsub2rent</td>\n",
       "      <td>0.055863</td>\n",
       "    </tr>\n",
       "    <tr>\n",
       "      <th>11</th>\n",
       "      <td>fsub2overdue_large</td>\n",
       "      <td>0.003105</td>\n",
       "    </tr>\n",
       "    <tr>\n",
       "      <th>12</th>\n",
       "      <td>fsub1pay_method</td>\n",
       "      <td>0.001976</td>\n",
       "    </tr>\n",
       "    <tr>\n",
       "      <th>13</th>\n",
       "      <td>fsub2pay_method</td>\n",
       "      <td>0.001105</td>\n",
       "    </tr>\n",
       "    <tr>\n",
       "      <th>14</th>\n",
       "      <td>fsub1contract</td>\n",
       "      <td>0.000365</td>\n",
       "    </tr>\n",
       "    <tr>\n",
       "      <th>15</th>\n",
       "      <td>fsub2contract</td>\n",
       "      <td>0.000088</td>\n",
       "    </tr>\n",
       "    <tr>\n",
       "      <th>16</th>\n",
       "      <td>fsub2overdue_extreme_large</td>\n",
       "      <td>0.000000</td>\n",
       "    </tr>\n",
       "    <tr>\n",
       "      <th>17</th>\n",
       "      <td>fsub1overdue_extreme_large</td>\n",
       "      <td>0.000000</td>\n",
       "    </tr>\n",
       "  </tbody>\n",
       "</table>\n",
       "</div>"
      ],
      "text/plain": [
       "                      VAR_NAME        IV\n",
       "0           fsub1overdue_minor  2.338800\n",
       "1           fsub1overdue_small  0.931136\n",
       "2           fsub2overdue_minor  0.755696\n",
       "3    fsub1overdue_medium_small  0.522824\n",
       "4    fsub1overdue_medium_large  0.505035\n",
       "5           fsub1overdue_large  0.308733\n",
       "6    fsub2overdue_medium_small  0.221459\n",
       "7    fsub2overdue_medium_large  0.182755\n",
       "8           fsub2overdue_small  0.163641\n",
       "9                    fsub1rent  0.059104\n",
       "10                   fsub2rent  0.055863\n",
       "11          fsub2overdue_large  0.003105\n",
       "12             fsub1pay_method  0.001976\n",
       "13             fsub2pay_method  0.001105\n",
       "14               fsub1contract  0.000365\n",
       "15               fsub2contract  0.000088\n",
       "16  fsub2overdue_extreme_large  0.000000\n",
       "17  fsub1overdue_extreme_large  0.000000"
      ]
     },
     "execution_count": 137,
     "metadata": {},
     "output_type": "execute_result"
    }
   ],
   "source": [
    "WOE_medium_bin, IV = data_vars(medium_bin_features, final_medium_bads)\n",
    "IV = IV.sort_values('IV', ascending=False).reset_index(drop=True)\n",
    "medium_idx = IV['VAR_NAME'][:9]\n",
    "WOE_medium_bin = WOE_medium_bin.sort_values('IV', ascending=False).reset_index()\n",
    "IV"
   ]
  },
  {
   "cell_type": "code",
   "execution_count": 138,
   "metadata": {
    "scrolled": false
   },
   "outputs": [
    {
     "data": {
      "text/html": [
       "<div>\n",
       "<style scoped>\n",
       "    .dataframe tbody tr th:only-of-type {\n",
       "        vertical-align: middle;\n",
       "    }\n",
       "\n",
       "    .dataframe tbody tr th {\n",
       "        vertical-align: top;\n",
       "    }\n",
       "\n",
       "    .dataframe thead th {\n",
       "        text-align: right;\n",
       "    }\n",
       "</style>\n",
       "<table border=\"1\" class=\"dataframe\">\n",
       "  <thead>\n",
       "    <tr style=\"text-align: right;\">\n",
       "      <th></th>\n",
       "      <th>VAR_NAME</th>\n",
       "      <th>IV</th>\n",
       "    </tr>\n",
       "  </thead>\n",
       "  <tbody>\n",
       "    <tr>\n",
       "      <th>0</th>\n",
       "      <td>fsub1overdue_minor</td>\n",
       "      <td>2.253075</td>\n",
       "    </tr>\n",
       "    <tr>\n",
       "      <th>1</th>\n",
       "      <td>fsub2overdue_minor</td>\n",
       "      <td>1.544621</td>\n",
       "    </tr>\n",
       "    <tr>\n",
       "      <th>2</th>\n",
       "      <td>fsub3overdue_minor</td>\n",
       "      <td>0.965062</td>\n",
       "    </tr>\n",
       "    <tr>\n",
       "      <th>3</th>\n",
       "      <td>fsub1overdue_small</td>\n",
       "      <td>0.875430</td>\n",
       "    </tr>\n",
       "    <tr>\n",
       "      <th>4</th>\n",
       "      <td>fsub1overdue_medium_small</td>\n",
       "      <td>0.581233</td>\n",
       "    </tr>\n",
       "    <tr>\n",
       "      <th>5</th>\n",
       "      <td>fsub2overdue_small</td>\n",
       "      <td>0.560279</td>\n",
       "    </tr>\n",
       "    <tr>\n",
       "      <th>6</th>\n",
       "      <td>fsub1overdue_medium_large</td>\n",
       "      <td>0.423288</td>\n",
       "    </tr>\n",
       "    <tr>\n",
       "      <th>7</th>\n",
       "      <td>fsub2overdue_medium_small</td>\n",
       "      <td>0.415555</td>\n",
       "    </tr>\n",
       "    <tr>\n",
       "      <th>8</th>\n",
       "      <td>fsub1overdue_large</td>\n",
       "      <td>0.383499</td>\n",
       "    </tr>\n",
       "    <tr>\n",
       "      <th>9</th>\n",
       "      <td>fsub3overdue_large</td>\n",
       "      <td>0.268014</td>\n",
       "    </tr>\n",
       "    <tr>\n",
       "      <th>10</th>\n",
       "      <td>fsub2overdue_medium_large</td>\n",
       "      <td>0.263560</td>\n",
       "    </tr>\n",
       "    <tr>\n",
       "      <th>11</th>\n",
       "      <td>fsub3overdue_small</td>\n",
       "      <td>0.253376</td>\n",
       "    </tr>\n",
       "    <tr>\n",
       "      <th>12</th>\n",
       "      <td>fsub1pay_method</td>\n",
       "      <td>0.207692</td>\n",
       "    </tr>\n",
       "    <tr>\n",
       "      <th>13</th>\n",
       "      <td>fsub2overdue_large</td>\n",
       "      <td>0.168327</td>\n",
       "    </tr>\n",
       "    <tr>\n",
       "      <th>14</th>\n",
       "      <td>fsub2pay_method</td>\n",
       "      <td>0.135657</td>\n",
       "    </tr>\n",
       "    <tr>\n",
       "      <th>15</th>\n",
       "      <td>fsub3pay_method</td>\n",
       "      <td>0.109217</td>\n",
       "    </tr>\n",
       "    <tr>\n",
       "      <th>16</th>\n",
       "      <td>fsub3overdue_medium_small</td>\n",
       "      <td>0.085615</td>\n",
       "    </tr>\n",
       "    <tr>\n",
       "      <th>17</th>\n",
       "      <td>fsub2rent</td>\n",
       "      <td>0.055422</td>\n",
       "    </tr>\n",
       "    <tr>\n",
       "      <th>18</th>\n",
       "      <td>fsub3overdue_medium_large</td>\n",
       "      <td>0.049680</td>\n",
       "    </tr>\n",
       "    <tr>\n",
       "      <th>19</th>\n",
       "      <td>fsub1rent</td>\n",
       "      <td>0.037590</td>\n",
       "    </tr>\n",
       "    <tr>\n",
       "      <th>20</th>\n",
       "      <td>fsub3rent</td>\n",
       "      <td>0.019170</td>\n",
       "    </tr>\n",
       "    <tr>\n",
       "      <th>21</th>\n",
       "      <td>fsub3contract</td>\n",
       "      <td>0.003408</td>\n",
       "    </tr>\n",
       "    <tr>\n",
       "      <th>22</th>\n",
       "      <td>fsub2contract</td>\n",
       "      <td>0.001016</td>\n",
       "    </tr>\n",
       "    <tr>\n",
       "      <th>23</th>\n",
       "      <td>fsub1contract</td>\n",
       "      <td>0.000545</td>\n",
       "    </tr>\n",
       "    <tr>\n",
       "      <th>24</th>\n",
       "      <td>fsub3overdue_extreme_large</td>\n",
       "      <td>0.000000</td>\n",
       "    </tr>\n",
       "    <tr>\n",
       "      <th>25</th>\n",
       "      <td>fsub1overdue_extreme_large</td>\n",
       "      <td>0.000000</td>\n",
       "    </tr>\n",
       "    <tr>\n",
       "      <th>26</th>\n",
       "      <td>fsub2overdue_extreme_large</td>\n",
       "      <td>0.000000</td>\n",
       "    </tr>\n",
       "  </tbody>\n",
       "</table>\n",
       "</div>"
      ],
      "text/plain": [
       "                      VAR_NAME        IV\n",
       "0           fsub1overdue_minor  2.253075\n",
       "1           fsub2overdue_minor  1.544621\n",
       "2           fsub3overdue_minor  0.965062\n",
       "3           fsub1overdue_small  0.875430\n",
       "4    fsub1overdue_medium_small  0.581233\n",
       "5           fsub2overdue_small  0.560279\n",
       "6    fsub1overdue_medium_large  0.423288\n",
       "7    fsub2overdue_medium_small  0.415555\n",
       "8           fsub1overdue_large  0.383499\n",
       "9           fsub3overdue_large  0.268014\n",
       "10   fsub2overdue_medium_large  0.263560\n",
       "11          fsub3overdue_small  0.253376\n",
       "12             fsub1pay_method  0.207692\n",
       "13          fsub2overdue_large  0.168327\n",
       "14             fsub2pay_method  0.135657\n",
       "15             fsub3pay_method  0.109217\n",
       "16   fsub3overdue_medium_small  0.085615\n",
       "17                   fsub2rent  0.055422\n",
       "18   fsub3overdue_medium_large  0.049680\n",
       "19                   fsub1rent  0.037590\n",
       "20                   fsub3rent  0.019170\n",
       "21               fsub3contract  0.003408\n",
       "22               fsub2contract  0.001016\n",
       "23               fsub1contract  0.000545\n",
       "24  fsub3overdue_extreme_large  0.000000\n",
       "25  fsub1overdue_extreme_large  0.000000\n",
       "26  fsub2overdue_extreme_large  0.000000"
      ]
     },
     "execution_count": 138,
     "metadata": {},
     "output_type": "execute_result"
    }
   ],
   "source": [
    "WOE_long_bin, IV = data_vars(long_bin_features, final_long_bads)\n",
    "IV = IV.sort_values('IV', ascending=False).reset_index(drop=True)\n",
    "long_idx = IV['VAR_NAME'][:16]\n",
    "WOE_long_bin = WOE_long_bin.sort_values('IV', ascending=False).reset_index()\n",
    "IV"
   ]
  },
  {
   "cell_type": "code",
   "execution_count": 139,
   "metadata": {},
   "outputs": [],
   "source": [
    "def mapper_func(ser, WOE):\n",
    "    df_new = WOE[WOE.VAR_NAME == ser.name]\n",
    "    for iter_ in range(df_new.shape[0]):\n",
    "        ser[ser == df_new.iloc[iter_]['VALUE']] = df_new.iloc[iter_]['WOE']\n",
    "    return ser  \n",
    "\n",
    "def WOE_transform_func(df, WOE, idx):\n",
    "    df_new = df.loc[:, idx]\n",
    "    WOE_new = WOE[WOE.VAR_NAME.isin(idx)]\n",
    "    return df_new.apply(mapper_func, WOE = WOE)"
   ]
  },
  {
   "cell_type": "code",
   "execution_count": 74,
   "metadata": {},
   "outputs": [],
   "source": [
    "# def mapper_func(ser, WOE):\n",
    "#     df_new = WOE[WOE.VAR_NAME == ser.name]\n",
    "#     for iter_ in range(df_new.shape[0]):\n",
    "#         ser[ser == df_new.iloc[iter_]['VALUE']] = df_new.iloc[iter_]['WOE']\n",
    "#     return ser  \n",
    "\n",
    "# def WOE_transform_func(df, WOE):\n",
    "#     idx = df.columns[df.columns.isin(WOE['VAR_NAME'])]\n",
    "# #     df_new = df[df.columns.isin(WOE['VAR_NAME'])]\n",
    "# #     WOE_new = WOE[WOE.VAR_NAME.isin(idx)]\n",
    "#     df_new = df[idx]\n",
    "#     return df_new.apply(mapper_func, WOE = WOE)"
   ]
  },
  {
   "cell_type": "code",
   "execution_count": 140,
   "metadata": {
    "scrolled": true
   },
   "outputs": [],
   "source": [
    "short_bin_WOE = WOE_transform_func(short_bin_features, WOE_short_bin, short_idx)\n",
    "medium_bin_WOE = WOE_transform_func(medium_bin_features, WOE_medium_bin, medium_idx)\n",
    "long_bin_WOE = WOE_transform_func(long_bin_features, WOE_long_bin, long_idx)\n",
    "\n",
    "final_short_data = pd.concat([final_short_bads, short_bin_WOE], axis=1)\n",
    "final_medium_data = pd.concat([final_medium_bads, medium_bin_WOE], axis=1)\n",
    "final_long_data = pd.concat([final_long_bads, long_bin_WOE], axis=1)"
   ]
  },
  {
   "cell_type": "markdown",
   "metadata": {},
   "source": [
    "### 5.2 scorecard construction"
   ]
  },
  {
   "cell_type": "code",
   "execution_count": 141,
   "metadata": {
    "scrolled": false
   },
   "outputs": [
    {
     "name": "stdout",
     "output_type": "stream",
     "text": [
      "train set cross val precision are [0.79310345 0.67567568 0.71052632]\n",
      "train set cross val recall are [0.47916667 0.52083333 0.5625    ]\n",
      "train set cross val roc_auc are [0.72087895 0.72893856 0.74946776]\n",
      "train set precision are  0.5208333333333334\n",
      "train set recall are  0.7211538461538461\n",
      "train set roc_auc are  0.7840802490192734\n",
      "train set confusion_matrix are  [[382  69]\n",
      " [ 29  75]]\n",
      "test set precision are 0.4444444444444444\n",
      "test set recall are 0.6060606060606061\n",
      "test set roc_auc are 0.7423506913798176\n",
      "test set confusion_matrix are [[181  25]\n",
      " [ 13  20]]\n"
     ]
    }
   ],
   "source": [
    "short_intercept, short_bin_coef = model_eval_func(final_short_data, 0.3, feature_selection=False)"
   ]
  },
  {
   "cell_type": "code",
   "execution_count": 142,
   "metadata": {
    "scrolled": false
   },
   "outputs": [
    {
     "name": "stdout",
     "output_type": "stream",
     "text": [
      "train set cross val precision are [0.62264151 0.73170732 0.63829787]\n",
      "train set cross val recall are [0.75       0.69767442 0.69767442]\n",
      "train set cross val roc_auc are [0.828554   0.8338536  0.85237272]\n",
      "train set precision are  0.7692307692307693\n",
      "train set recall are  0.6666666666666666\n",
      "train set roc_auc are  0.7981220657276995\n",
      "train set confusion_matrix are  [[396  30]\n",
      " [ 50 100]]\n",
      "test set precision are 0.8269230769230769\n",
      "test set recall are 0.671875\n",
      "test set roc_auc are 0.8113473360655736\n",
      "test set confusion_matrix are [[174   9]\n",
      " [ 21  43]]\n"
     ]
    }
   ],
   "source": [
    "medium_intercept, medium_bin_coef = model_eval_func(final_medium_data, 0.3, feature_selection=False)"
   ]
  },
  {
   "cell_type": "code",
   "execution_count": 143,
   "metadata": {},
   "outputs": [
    {
     "name": "stdout",
     "output_type": "stream",
     "text": [
      "train set cross val precision are [0.78823529 0.76305221 0.74793388]\n",
      "train set cross val recall are [0.67449664 0.63758389 0.60942761]\n",
      "train set cross val roc_auc are [0.88859449 0.88468945 0.88052535]\n",
      "train set precision are  0.6461366181410975\n",
      "train set recall are  0.7713903743315508\n",
      "train set roc_auc are  0.8407577582693021\n",
      "train set confusion_matrix are  [[3200  316]\n",
      " [ 171  577]]\n",
      "test set precision are 0.6130653266331658\n",
      "test set recall are 0.7697160883280757\n",
      "test set roc_auc are 0.8338984147795243\n",
      "test set confusion_matrix are [[1357  154]\n",
      " [  73  244]]\n"
     ]
    }
   ],
   "source": [
    "long_intercept, long_bin_coef = model_eval_func(final_long_data, 0.3, feature_selection=False)"
   ]
  },
  {
   "cell_type": "markdown",
   "metadata": {},
   "source": [
    "The following formula illustrate the process of scaling scorecards"
   ]
  },
  {
   "cell_type": "markdown",
   "metadata": {},
   "source": [
    "$$\\text{score} = \\text{offset} + \\text{Factor}\\cdot\\ln(\\text{odds})$$"
   ]
  },
  {
   "cell_type": "markdown",
   "metadata": {},
   "source": [
    "$\\ln(\\text{odds}) = -\\Sigma\\beta_{i}\\cdot WOE_j + \\alpha$, \n",
    "\n",
    "where $\\beta_{i}$ is the sequence of model coefficients, $WOE_j$ is the discretised variable and $\\alpha$ is the intercept\n",
    "\n",
    "$\\text{Factor} = pdo/\\ln(2)$\n",
    "\n",
    "$\\text{offset} = Score - [\\text{Factor}\\cdot \\ln(\\text{odds}))]$"
   ]
  },
  {
   "cell_type": "markdown",
   "metadata": {},
   "source": [
    "For example, if a scorecard were being scaled where the user wanted odds of 50:1 at 600 points and wanted the odds to double every 20 points, the factor and offset would be:"
   ]
  },
  {
   "cell_type": "markdown",
   "metadata": {},
   "source": [
    "$\\text{Factor} = 20/\\ln(2) = 28.8539$\n",
    "\n",
    "$\\text{offset} = 600 - 28.8539\\cdot \\ln(50) = 487.123$"
   ]
  },
  {
   "cell_type": "markdown",
   "metadata": {},
   "source": [
    "Lastly, the score formula for each characterisitc is \n",
    "\n",
    "$$-(\\beta_i\\cdot\\text{WOE}_j + \\frac{\\alpha}{n})\\cdot\\text{Factor} + \\frac{\\text{offset}}{n}$$,\n",
    "\n",
    "where n is the number of WOEs."
   ]
  },
  {
   "cell_type": "code",
   "execution_count": 144,
   "metadata": {},
   "outputs": [],
   "source": [
    "def match_func(df_woe, df_coef):\n",
    "    df_woe_new = df_woe[df_woe.VAR_NAME.isin(df_coef.index)].reset_index()\n",
    "    beta = []\n",
    "    for int_iter in range(df_woe_new.shape[0]):\n",
    "        beta.extend(df_coef[df_coef.index == df_woe_new.iloc[int_iter]['VAR_NAME']].values)\n",
    "    beta = pd.Series(beta)\n",
    "    beta.name = 'beta'\n",
    "    out = pd.concat([df_woe_new[['VAR_NAME', 'VALUE', 'WOE']], beta], axis = 1)\n",
    "    out.set_index('VAR_NAME', inplace=True)\n",
    "    return out\n",
    "\n",
    "# def score_formula_func(woe, )\n",
    "\n",
    "def scorecard_func(df_woe, alpha, pdo_double=20, score=600, odds=50):\n",
    "    from scipy import log\n",
    "    factor = pdo_double/log(2)\n",
    "    offset = score - factor*log(odds)\n",
    "    df_woe['score'] = -(df_woe.beta*df_woe.WOE + alpha/df_woe.shape[0])*factor + offset/df_woe.shape[0] \n",
    "    return df_woe[['VALUE', 'score']]\n",
    "    \n",
    "    "
   ]
  },
  {
   "cell_type": "code",
   "execution_count": 145,
   "metadata": {},
   "outputs": [
    {
     "data": {
      "text/html": [
       "<div>\n",
       "<style scoped>\n",
       "    .dataframe tbody tr th:only-of-type {\n",
       "        vertical-align: middle;\n",
       "    }\n",
       "\n",
       "    .dataframe tbody tr th {\n",
       "        vertical-align: top;\n",
       "    }\n",
       "\n",
       "    .dataframe thead th {\n",
       "        text-align: right;\n",
       "    }\n",
       "</style>\n",
       "<table border=\"1\" class=\"dataframe\">\n",
       "  <thead>\n",
       "    <tr style=\"text-align: right;\">\n",
       "      <th></th>\n",
       "      <th>VALUE</th>\n",
       "      <th>score</th>\n",
       "    </tr>\n",
       "    <tr>\n",
       "      <th>VAR_NAME</th>\n",
       "      <th></th>\n",
       "      <th></th>\n",
       "    </tr>\n",
       "  </thead>\n",
       "  <tbody>\n",
       "    <tr>\n",
       "      <th>fsub1overdue_minor</th>\n",
       "      <td>mid</td>\n",
       "      <td>-8.637844</td>\n",
       "    </tr>\n",
       "    <tr>\n",
       "      <th>fsub1overdue_minor</th>\n",
       "      <td>high</td>\n",
       "      <td>71.688618</td>\n",
       "    </tr>\n",
       "    <tr>\n",
       "      <th>fsub1overdue_minor</th>\n",
       "      <td>low</td>\n",
       "      <td>-37.168892</td>\n",
       "    </tr>\n",
       "    <tr>\n",
       "      <th>fsub1overdue_small</th>\n",
       "      <td>high</td>\n",
       "      <td>51.626506</td>\n",
       "    </tr>\n",
       "    <tr>\n",
       "      <th>fsub1overdue_small</th>\n",
       "      <td>low</td>\n",
       "      <td>48.584278</td>\n",
       "    </tr>\n",
       "    <tr>\n",
       "      <th>fsub1overdue_small</th>\n",
       "      <td>mid</td>\n",
       "      <td>70.666791</td>\n",
       "    </tr>\n",
       "    <tr>\n",
       "      <th>fsub1overdue_medium_small</th>\n",
       "      <td>low</td>\n",
       "      <td>53.089992</td>\n",
       "    </tr>\n",
       "    <tr>\n",
       "      <th>fsub1overdue_medium_small</th>\n",
       "      <td>mid</td>\n",
       "      <td>14.181523</td>\n",
       "    </tr>\n",
       "    <tr>\n",
       "      <th>fsub1overdue_medium_large</th>\n",
       "      <td>low</td>\n",
       "      <td>52.801246</td>\n",
       "    </tr>\n",
       "    <tr>\n",
       "      <th>fsub1overdue_medium_large</th>\n",
       "      <td>mid</td>\n",
       "      <td>-25.625632</td>\n",
       "    </tr>\n",
       "  </tbody>\n",
       "</table>\n",
       "</div>"
      ],
      "text/plain": [
       "                          VALUE      score\n",
       "VAR_NAME                                  \n",
       "fsub1overdue_minor          mid  -8.637844\n",
       "fsub1overdue_minor         high  71.688618\n",
       "fsub1overdue_minor          low -37.168892\n",
       "fsub1overdue_small         high  51.626506\n",
       "fsub1overdue_small          low  48.584278\n",
       "fsub1overdue_small          mid  70.666791\n",
       "fsub1overdue_medium_small   low  53.089992\n",
       "fsub1overdue_medium_small   mid  14.181523\n",
       "fsub1overdue_medium_large   low  52.801246\n",
       "fsub1overdue_medium_large   mid -25.625632"
      ]
     },
     "execution_count": 145,
     "metadata": {},
     "output_type": "execute_result"
    }
   ],
   "source": [
    "# temp = match_func(WOE_short_bin, short_bin_coef)\n",
    "scorecard_short = scorecard_func(match_func(WOE_short_bin, short_bin_coef), short_intercept)\n",
    "scorecard_short"
   ]
  },
  {
   "cell_type": "code",
   "execution_count": 147,
   "metadata": {
    "scrolled": true
   },
   "outputs": [
    {
     "data": {
      "text/html": [
       "<div>\n",
       "<style scoped>\n",
       "    .dataframe tbody tr th:only-of-type {\n",
       "        vertical-align: middle;\n",
       "    }\n",
       "\n",
       "    .dataframe tbody tr th {\n",
       "        vertical-align: top;\n",
       "    }\n",
       "\n",
       "    .dataframe thead th {\n",
       "        text-align: right;\n",
       "    }\n",
       "</style>\n",
       "<table border=\"1\" class=\"dataframe\">\n",
       "  <thead>\n",
       "    <tr style=\"text-align: right;\">\n",
       "      <th></th>\n",
       "      <th>VALUE</th>\n",
       "      <th>score</th>\n",
       "    </tr>\n",
       "    <tr>\n",
       "      <th>VAR_NAME</th>\n",
       "      <th></th>\n",
       "      <th></th>\n",
       "    </tr>\n",
       "  </thead>\n",
       "  <tbody>\n",
       "    <tr>\n",
       "      <th>fsub1overdue_minor</th>\n",
       "      <td>low</td>\n",
       "      <td>-41.075745</td>\n",
       "    </tr>\n",
       "    <tr>\n",
       "      <th>fsub1overdue_minor</th>\n",
       "      <td>high</td>\n",
       "      <td>55.646808</td>\n",
       "    </tr>\n",
       "    <tr>\n",
       "      <th>fsub1overdue_minor</th>\n",
       "      <td>mid</td>\n",
       "      <td>-21.916867</td>\n",
       "    </tr>\n",
       "    <tr>\n",
       "      <th>fsub1overdue_small</th>\n",
       "      <td>mid</td>\n",
       "      <td>19.323684</td>\n",
       "    </tr>\n",
       "    <tr>\n",
       "      <th>fsub1overdue_small</th>\n",
       "      <td>low</td>\n",
       "      <td>21.317947</td>\n",
       "    </tr>\n",
       "    <tr>\n",
       "      <th>fsub1overdue_small</th>\n",
       "      <td>high</td>\n",
       "      <td>19.193227</td>\n",
       "    </tr>\n",
       "    <tr>\n",
       "      <th>fsub2overdue_minor</th>\n",
       "      <td>mid</td>\n",
       "      <td>13.932293</td>\n",
       "    </tr>\n",
       "    <tr>\n",
       "      <th>fsub2overdue_minor</th>\n",
       "      <td>low</td>\n",
       "      <td>4.978827</td>\n",
       "    </tr>\n",
       "    <tr>\n",
       "      <th>fsub2overdue_minor</th>\n",
       "      <td>high</td>\n",
       "      <td>23.212764</td>\n",
       "    </tr>\n",
       "    <tr>\n",
       "      <th>fsub1overdue_medium_small</th>\n",
       "      <td>low</td>\n",
       "      <td>22.029952</td>\n",
       "    </tr>\n",
       "    <tr>\n",
       "      <th>fsub1overdue_medium_small</th>\n",
       "      <td>mid</td>\n",
       "      <td>8.250741</td>\n",
       "    </tr>\n",
       "    <tr>\n",
       "      <th>fsub1overdue_medium_small</th>\n",
       "      <td>high</td>\n",
       "      <td>20.845338</td>\n",
       "    </tr>\n",
       "    <tr>\n",
       "      <th>fsub1overdue_medium_large</th>\n",
       "      <td>mid</td>\n",
       "      <td>-23.478932</td>\n",
       "    </tr>\n",
       "    <tr>\n",
       "      <th>fsub1overdue_medium_large</th>\n",
       "      <td>low</td>\n",
       "      <td>22.156169</td>\n",
       "    </tr>\n",
       "    <tr>\n",
       "      <th>fsub1overdue_medium_large</th>\n",
       "      <td>high</td>\n",
       "      <td>20.845338</td>\n",
       "    </tr>\n",
       "    <tr>\n",
       "      <th>fsub1overdue_large</th>\n",
       "      <td>ocur</td>\n",
       "      <td>25.273789</td>\n",
       "    </tr>\n",
       "    <tr>\n",
       "      <th>fsub1overdue_large</th>\n",
       "      <td>non</td>\n",
       "      <td>20.675283</td>\n",
       "    </tr>\n",
       "    <tr>\n",
       "      <th>fsub2overdue_medium_small</th>\n",
       "      <td>low</td>\n",
       "      <td>21.445270</td>\n",
       "    </tr>\n",
       "    <tr>\n",
       "      <th>fsub2overdue_medium_small</th>\n",
       "      <td>high</td>\n",
       "      <td>20.845338</td>\n",
       "    </tr>\n",
       "    <tr>\n",
       "      <th>fsub2overdue_medium_small</th>\n",
       "      <td>mid</td>\n",
       "      <td>7.999109</td>\n",
       "    </tr>\n",
       "    <tr>\n",
       "      <th>fsub2overdue_medium_large</th>\n",
       "      <td>mid</td>\n",
       "      <td>7.643588</td>\n",
       "    </tr>\n",
       "    <tr>\n",
       "      <th>fsub2overdue_medium_large</th>\n",
       "      <td>low</td>\n",
       "      <td>21.233136</td>\n",
       "    </tr>\n",
       "    <tr>\n",
       "      <th>fsub2overdue_small</th>\n",
       "      <td>mid</td>\n",
       "      <td>31.093109</td>\n",
       "    </tr>\n",
       "    <tr>\n",
       "      <th>fsub2overdue_small</th>\n",
       "      <td>high</td>\n",
       "      <td>20.845338</td>\n",
       "    </tr>\n",
       "    <tr>\n",
       "      <th>fsub2overdue_small</th>\n",
       "      <td>low</td>\n",
       "      <td>19.630411</td>\n",
       "    </tr>\n",
       "  </tbody>\n",
       "</table>\n",
       "</div>"
      ],
      "text/plain": [
       "                          VALUE      score\n",
       "VAR_NAME                                  \n",
       "fsub1overdue_minor          low -41.075745\n",
       "fsub1overdue_minor         high  55.646808\n",
       "fsub1overdue_minor          mid -21.916867\n",
       "fsub1overdue_small          mid  19.323684\n",
       "fsub1overdue_small          low  21.317947\n",
       "fsub1overdue_small         high  19.193227\n",
       "fsub2overdue_minor          mid  13.932293\n",
       "fsub2overdue_minor          low   4.978827\n",
       "fsub2overdue_minor         high  23.212764\n",
       "fsub1overdue_medium_small   low  22.029952\n",
       "fsub1overdue_medium_small   mid   8.250741\n",
       "fsub1overdue_medium_small  high  20.845338\n",
       "fsub1overdue_medium_large   mid -23.478932\n",
       "fsub1overdue_medium_large   low  22.156169\n",
       "fsub1overdue_medium_large  high  20.845338\n",
       "fsub1overdue_large         ocur  25.273789\n",
       "fsub1overdue_large          non  20.675283\n",
       "fsub2overdue_medium_small   low  21.445270\n",
       "fsub2overdue_medium_small  high  20.845338\n",
       "fsub2overdue_medium_small   mid   7.999109\n",
       "fsub2overdue_medium_large   mid   7.643588\n",
       "fsub2overdue_medium_large   low  21.233136\n",
       "fsub2overdue_small          mid  31.093109\n",
       "fsub2overdue_small         high  20.845338\n",
       "fsub2overdue_small          low  19.630411"
      ]
     },
     "execution_count": 147,
     "metadata": {},
     "output_type": "execute_result"
    }
   ],
   "source": [
    "# temp = match_func(WOE_medium_bin, medium_bin_coef)\n",
    "scorecard_medium = scorecard_func(match_func(WOE_medium_bin, medium_bin_coef), medium_intercept)\n",
    "scorecard_medium"
   ]
  },
  {
   "cell_type": "code",
   "execution_count": 148,
   "metadata": {
    "scrolled": true
   },
   "outputs": [
    {
     "data": {
      "text/html": [
       "<div>\n",
       "<style scoped>\n",
       "    .dataframe tbody tr th:only-of-type {\n",
       "        vertical-align: middle;\n",
       "    }\n",
       "\n",
       "    .dataframe tbody tr th {\n",
       "        vertical-align: top;\n",
       "    }\n",
       "\n",
       "    .dataframe thead th {\n",
       "        text-align: right;\n",
       "    }\n",
       "</style>\n",
       "<table border=\"1\" class=\"dataframe\">\n",
       "  <thead>\n",
       "    <tr style=\"text-align: right;\">\n",
       "      <th></th>\n",
       "      <th>VALUE</th>\n",
       "      <th>score</th>\n",
       "    </tr>\n",
       "    <tr>\n",
       "      <th>VAR_NAME</th>\n",
       "      <th></th>\n",
       "      <th></th>\n",
       "    </tr>\n",
       "  </thead>\n",
       "  <tbody>\n",
       "    <tr>\n",
       "      <th>fsub1overdue_minor</th>\n",
       "      <td>high</td>\n",
       "      <td>38.986412</td>\n",
       "    </tr>\n",
       "    <tr>\n",
       "      <th>fsub1overdue_minor</th>\n",
       "      <td>mid</td>\n",
       "      <td>-21.877018</td>\n",
       "    </tr>\n",
       "    <tr>\n",
       "      <th>fsub1overdue_minor</th>\n",
       "      <td>low</td>\n",
       "      <td>-52.148608</td>\n",
       "    </tr>\n",
       "    <tr>\n",
       "      <th>fsub2overdue_minor</th>\n",
       "      <td>high</td>\n",
       "      <td>25.610117</td>\n",
       "    </tr>\n",
       "    <tr>\n",
       "      <th>fsub2overdue_minor</th>\n",
       "      <td>low</td>\n",
       "      <td>-20.754570</td>\n",
       "    </tr>\n",
       "    <tr>\n",
       "      <th>fsub2overdue_minor</th>\n",
       "      <td>mid</td>\n",
       "      <td>-7.526765</td>\n",
       "    </tr>\n",
       "    <tr>\n",
       "      <th>fsub3overdue_minor</th>\n",
       "      <td>mid</td>\n",
       "      <td>2.883763</td>\n",
       "    </tr>\n",
       "    <tr>\n",
       "      <th>fsub3overdue_minor</th>\n",
       "      <td>high</td>\n",
       "      <td>16.407299</td>\n",
       "    </tr>\n",
       "    <tr>\n",
       "      <th>fsub3overdue_minor</th>\n",
       "      <td>low</td>\n",
       "      <td>-3.110635</td>\n",
       "    </tr>\n",
       "    <tr>\n",
       "      <th>fsub1overdue_small</th>\n",
       "      <td>mid</td>\n",
       "      <td>13.707318</td>\n",
       "    </tr>\n",
       "    <tr>\n",
       "      <th>fsub1overdue_small</th>\n",
       "      <td>high</td>\n",
       "      <td>13.914428</td>\n",
       "    </tr>\n",
       "    <tr>\n",
       "      <th>fsub1overdue_small</th>\n",
       "      <td>low</td>\n",
       "      <td>12.139462</td>\n",
       "    </tr>\n",
       "    <tr>\n",
       "      <th>fsub1overdue_medium_small</th>\n",
       "      <td>mid</td>\n",
       "      <td>-5.909740</td>\n",
       "    </tr>\n",
       "    <tr>\n",
       "      <th>fsub1overdue_medium_small</th>\n",
       "      <td>low</td>\n",
       "      <td>13.908098</td>\n",
       "    </tr>\n",
       "    <tr>\n",
       "      <th>fsub1overdue_medium_small</th>\n",
       "      <td>high</td>\n",
       "      <td>12.499990</td>\n",
       "    </tr>\n",
       "    <tr>\n",
       "      <th>fsub2overdue_small</th>\n",
       "      <td>high</td>\n",
       "      <td>23.052490</td>\n",
       "    </tr>\n",
       "    <tr>\n",
       "      <th>fsub2overdue_small</th>\n",
       "      <td>low</td>\n",
       "      <td>9.701634</td>\n",
       "    </tr>\n",
       "    <tr>\n",
       "      <th>fsub2overdue_small</th>\n",
       "      <td>mid</td>\n",
       "      <td>23.158351</td>\n",
       "    </tr>\n",
       "    <tr>\n",
       "      <th>fsub1overdue_medium_large</th>\n",
       "      <td>high</td>\n",
       "      <td>12.499990</td>\n",
       "    </tr>\n",
       "    <tr>\n",
       "      <th>fsub1overdue_medium_large</th>\n",
       "      <td>low</td>\n",
       "      <td>13.571316</td>\n",
       "    </tr>\n",
       "    <tr>\n",
       "      <th>fsub1overdue_medium_large</th>\n",
       "      <td>mid</td>\n",
       "      <td>-22.324031</td>\n",
       "    </tr>\n",
       "    <tr>\n",
       "      <th>fsub2overdue_medium_small</th>\n",
       "      <td>mid</td>\n",
       "      <td>4.945644</td>\n",
       "    </tr>\n",
       "    <tr>\n",
       "      <th>fsub2overdue_medium_small</th>\n",
       "      <td>low</td>\n",
       "      <td>13.088585</td>\n",
       "    </tr>\n",
       "    <tr>\n",
       "      <th>fsub2overdue_medium_small</th>\n",
       "      <td>high</td>\n",
       "      <td>12.499990</td>\n",
       "    </tr>\n",
       "    <tr>\n",
       "      <th>fsub1overdue_large</th>\n",
       "      <td>ocur</td>\n",
       "      <td>8.411698</td>\n",
       "    </tr>\n",
       "    <tr>\n",
       "      <th>fsub1overdue_large</th>\n",
       "      <td>non</td>\n",
       "      <td>12.649288</td>\n",
       "    </tr>\n",
       "    <tr>\n",
       "      <th>fsub3overdue_large</th>\n",
       "      <td>ocur</td>\n",
       "      <td>0.384936</td>\n",
       "    </tr>\n",
       "    <tr>\n",
       "      <th>fsub3overdue_large</th>\n",
       "      <td>non</td>\n",
       "      <td>13.106552</td>\n",
       "    </tr>\n",
       "    <tr>\n",
       "      <th>fsub2overdue_medium_large</th>\n",
       "      <td>high</td>\n",
       "      <td>12.499990</td>\n",
       "    </tr>\n",
       "    <tr>\n",
       "      <th>fsub2overdue_medium_large</th>\n",
       "      <td>mid</td>\n",
       "      <td>13.032781</td>\n",
       "    </tr>\n",
       "    <tr>\n",
       "      <th>fsub2overdue_medium_large</th>\n",
       "      <td>low</td>\n",
       "      <td>12.481526</td>\n",
       "    </tr>\n",
       "    <tr>\n",
       "      <th>fsub3overdue_small</th>\n",
       "      <td>low</td>\n",
       "      <td>11.583718</td>\n",
       "    </tr>\n",
       "    <tr>\n",
       "      <th>fsub3overdue_small</th>\n",
       "      <td>mid</td>\n",
       "      <td>20.595720</td>\n",
       "    </tr>\n",
       "    <tr>\n",
       "      <th>fsub3overdue_small</th>\n",
       "      <td>high</td>\n",
       "      <td>23.260877</td>\n",
       "    </tr>\n",
       "    <tr>\n",
       "      <th>fsub1pay_method</th>\n",
       "      <td>multi</td>\n",
       "      <td>-147.285001</td>\n",
       "    </tr>\n",
       "    <tr>\n",
       "      <th>fsub1pay_method</th>\n",
       "      <td>single</td>\n",
       "      <td>13.721474</td>\n",
       "    </tr>\n",
       "    <tr>\n",
       "      <th>fsub2overdue_large</th>\n",
       "      <td>ocur</td>\n",
       "      <td>31.415598</td>\n",
       "    </tr>\n",
       "    <tr>\n",
       "      <th>fsub2overdue_large</th>\n",
       "      <td>non</td>\n",
       "      <td>11.917472</td>\n",
       "    </tr>\n",
       "    <tr>\n",
       "      <th>fsub2pay_method</th>\n",
       "      <td>multi</td>\n",
       "      <td>-83.551121</td>\n",
       "    </tr>\n",
       "    <tr>\n",
       "      <th>fsub2pay_method</th>\n",
       "      <td>single</td>\n",
       "      <td>13.421824</td>\n",
       "    </tr>\n",
       "    <tr>\n",
       "      <th>fsub3pay_method</th>\n",
       "      <td>multi</td>\n",
       "      <td>-1.359010</td>\n",
       "    </tr>\n",
       "    <tr>\n",
       "      <th>fsub3pay_method</th>\n",
       "      <td>single</td>\n",
       "      <td>12.769180</td>\n",
       "    </tr>\n",
       "  </tbody>\n",
       "</table>\n",
       "</div>"
      ],
      "text/plain": [
       "                            VALUE       score\n",
       "VAR_NAME                                     \n",
       "fsub1overdue_minor           high   38.986412\n",
       "fsub1overdue_minor            mid  -21.877018\n",
       "fsub1overdue_minor            low  -52.148608\n",
       "fsub2overdue_minor           high   25.610117\n",
       "fsub2overdue_minor            low  -20.754570\n",
       "fsub2overdue_minor            mid   -7.526765\n",
       "fsub3overdue_minor            mid    2.883763\n",
       "fsub3overdue_minor           high   16.407299\n",
       "fsub3overdue_minor            low   -3.110635\n",
       "fsub1overdue_small            mid   13.707318\n",
       "fsub1overdue_small           high   13.914428\n",
       "fsub1overdue_small            low   12.139462\n",
       "fsub1overdue_medium_small     mid   -5.909740\n",
       "fsub1overdue_medium_small     low   13.908098\n",
       "fsub1overdue_medium_small    high   12.499990\n",
       "fsub2overdue_small           high   23.052490\n",
       "fsub2overdue_small            low    9.701634\n",
       "fsub2overdue_small            mid   23.158351\n",
       "fsub1overdue_medium_large    high   12.499990\n",
       "fsub1overdue_medium_large     low   13.571316\n",
       "fsub1overdue_medium_large     mid  -22.324031\n",
       "fsub2overdue_medium_small     mid    4.945644\n",
       "fsub2overdue_medium_small     low   13.088585\n",
       "fsub2overdue_medium_small    high   12.499990\n",
       "fsub1overdue_large           ocur    8.411698\n",
       "fsub1overdue_large            non   12.649288\n",
       "fsub3overdue_large           ocur    0.384936\n",
       "fsub3overdue_large            non   13.106552\n",
       "fsub2overdue_medium_large    high   12.499990\n",
       "fsub2overdue_medium_large     mid   13.032781\n",
       "fsub2overdue_medium_large     low   12.481526\n",
       "fsub3overdue_small            low   11.583718\n",
       "fsub3overdue_small            mid   20.595720\n",
       "fsub3overdue_small           high   23.260877\n",
       "fsub1pay_method             multi -147.285001\n",
       "fsub1pay_method            single   13.721474\n",
       "fsub2overdue_large           ocur   31.415598\n",
       "fsub2overdue_large            non   11.917472\n",
       "fsub2pay_method             multi  -83.551121\n",
       "fsub2pay_method            single   13.421824\n",
       "fsub3pay_method             multi   -1.359010\n",
       "fsub3pay_method            single   12.769180"
      ]
     },
     "execution_count": 148,
     "metadata": {},
     "output_type": "execute_result"
    }
   ],
   "source": [
    "# temp = match_func(WOE_long_bin, long_bin_coef)\n",
    "scorecard_long = scorecard_func(match_func(WOE_long_bin, long_bin_coef), long_intercept)\n",
    "scorecard_long"
   ]
  },
  {
   "cell_type": "code",
   "execution_count": 105,
   "metadata": {
    "scrolled": true
   },
   "outputs": [
    {
     "name": "stdout",
     "output_type": "stream",
     "text": [
      "fsub1pay_method\n",
      "-5.245233    0.980769\n",
      " 0.040097    0.205298\n",
      "dtype: float64\n",
      "fsub1overdue_minor\n",
      "-3.111101    0.857868\n",
      "-1.654334    0.584416\n",
      " 1.274613    0.069913\n",
      "dtype: float64\n",
      "fsub2pay_method\n",
      "multi     0.921569\n",
      "single    0.205926\n",
      "dtype: float64\n",
      "fsub2overdue_minor\n",
      "high    0.092489\n",
      "low     0.759067\n",
      "mid     0.542065\n",
      "dtype: float64\n",
      "fsub3overdue_minor\n",
      "high    0.128637\n",
      "low     0.746939\n",
      "mid     0.540509\n",
      "dtype: float64\n"
     ]
    }
   ],
   "source": [
    "print(final_long_data.groupby('fsub1pay_method').apply(lambda x: x['target'].sum()/x['target'].count()))\n",
    "print(final_long_data.groupby('fsub1overdue_minor').apply(lambda x: x['target'].sum()/x['target'].count()))\n",
    "final_long_data = pd.concat([final_long_bads, long_bin_features], axis=1)\n",
    "print(final_long_data.groupby('fsub2pay_method').apply(lambda x: x['target'].sum()/x['target'].count()))\n",
    "print(final_long_data.groupby('fsub2overdue_minor').apply(lambda x: x['target'].sum()/x['target'].count()))\n",
    "print(final_long_data.groupby('fsub3overdue_minor').apply(lambda x: x['target'].sum()/x['target'].count()))"
   ]
  },
  {
   "cell_type": "markdown",
   "metadata": {},
   "source": [
    "It seems that people who has multiple payment method history are those with really high bad rates. And counter-intuitively, those people with no delay have much worse bad rates than with "
   ]
  },
  {
   "cell_type": "code",
   "execution_count": 79,
   "metadata": {},
   "outputs": [],
   "source": [
    "# # long_bin_features = long_bin_features.drop(['fsub1pay_method', 'fsub2pay_method'], axis=1)\n",
    "# long_bin_WOE = WOE_transform_func(long_bin_features, WOE_long_bin, long_idx)\n",
    "# WOE_long_bin, IV = data_vars(long_bin_features, final_long_bads)\n",
    "# IV = IV.sort_values('IV', ascending=False).reindex()\n",
    "# long_idx = IV['VAR_NAME'][:14]"
   ]
  },
  {
   "cell_type": "code",
   "execution_count": 80,
   "metadata": {},
   "outputs": [],
   "source": [
    "# long_intercept, long_bin_coef = model_eval_func(pd.concat([final_long_bads, long_bin_WOE], axis=1), 0.4, feature_selection=False)\n",
    "# temp = match_func(WOE_long_bin, long_bin_coef)\n",
    "# scorecard_long = scorecard_func(temp, long_intercept)\n",
    "# scorecard_long"
   ]
  },
  {
   "cell_type": "code",
   "execution_count": null,
   "metadata": {},
   "outputs": [],
   "source": []
  },
  {
   "cell_type": "code",
   "execution_count": null,
   "metadata": {},
   "outputs": [],
   "source": []
  },
  {
   "cell_type": "code",
   "execution_count": null,
   "metadata": {},
   "outputs": [],
   "source": []
  },
  {
   "cell_type": "code",
   "execution_count": null,
   "metadata": {},
   "outputs": [],
   "source": []
  },
  {
   "cell_type": "code",
   "execution_count": 81,
   "metadata": {},
   "outputs": [],
   "source": [
    "# def features_payment_func(df):\n",
    "#     var_dict = {}\n",
    "#     var_dict['payment_num'] = df['payment_method']\n",
    "#     var_dict['payment_main'] = df['payment_method'].mode()\n",
    "#     return pd.DataFrame.from_dict(var_dict, orient='index')"
   ]
  },
  {
   "cell_type": "code",
   "execution_count": 82,
   "metadata": {},
   "outputs": [],
   "source": [
    "# features_payment = final_feature_data.groupby('id').apply(features_payment_func)"
   ]
  },
  {
   "cell_type": "code",
   "execution_count": 83,
   "metadata": {},
   "outputs": [],
   "source": [
    "# features_payment.head(5)"
   ]
  }
 ],
 "metadata": {
  "kernelspec": {
   "display_name": "Python 3",
   "language": "python",
   "name": "python3"
  },
  "language_info": {
   "codemirror_mode": {
    "name": "ipython",
    "version": 3
   },
   "file_extension": ".py",
   "mimetype": "text/x-python",
   "name": "python",
   "nbconvert_exporter": "python",
   "pygments_lexer": "ipython3",
   "version": "3.7.3"
  }
 },
 "nbformat": 4,
 "nbformat_minor": 2
}
