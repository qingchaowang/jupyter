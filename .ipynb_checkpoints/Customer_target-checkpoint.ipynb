{
 "cells": [
  {
   "cell_type": "markdown",
   "metadata": {},
   "source": [
    "This is a call_center exercise. Through this exercise, we want to find out which agent can approach the customers most efficiently (interested in the deal) and also which type of customer is more inclined to be interested in the deal given their characteristic features, i.e. age, working sector and residential region."
   ]
  },
  {
   "cell_type": "markdown",
   "metadata": {},
   "source": [
    "Import all related modules from Python"
   ]
  },
  {
   "cell_type": "code",
   "execution_count": 188,
   "metadata": {},
   "outputs": [],
   "source": [
    "import pandas as pd\n",
    "import os\n",
    "import numpy as np\n",
    "from pandas.api.types import CategoricalDtype\n",
    "from sklearn.linear_model import LogisticRegression\n",
    "from sklearn.model_selection import train_test_split\n",
    "from scipy import stats\n",
    "from statsmodels.formula.api import ols"
   ]
  },
  {
   "cell_type": "markdown",
   "metadata": {},
   "source": [
    "Make sure data files and the program file are saved in the same directory"
   ]
  },
  {
   "cell_type": "code",
   "execution_count": 19,
   "metadata": {},
   "outputs": [],
   "source": [
    "notebook_path = os.path.abspath(\"Notebook.ipynb\")"
   ]
  },
  {
   "cell_type": "markdown",
   "metadata": {},
   "source": [
    "Load calls data"
   ]
  },
  {
   "cell_type": "code",
   "execution_count": null,
   "metadata": {},
   "outputs": [],
   "source": [
    "calls_data = pd.read_csv('calls.csv', header = 0)"
   ]
  },
  {
   "cell_type": "markdown",
   "metadata": {},
   "source": [
    "Have a quick look at the data"
   ]
  },
  {
   "cell_type": "code",
   "execution_count": 28,
   "metadata": {},
   "outputs": [
    {
     "data": {
      "text/html": [
       "<div>\n",
       "<style scoped>\n",
       "    .dataframe tbody tr th:only-of-type {\n",
       "        vertical-align: middle;\n",
       "    }\n",
       "\n",
       "    .dataframe tbody tr th {\n",
       "        vertical-align: top;\n",
       "    }\n",
       "\n",
       "    .dataframe thead th {\n",
       "        text-align: right;\n",
       "    }\n",
       "</style>\n",
       "<table border=\"1\" class=\"dataframe\">\n",
       "  <thead>\n",
       "    <tr style=\"text-align: right;\">\n",
       "      <th></th>\n",
       "      <th>Phone Number</th>\n",
       "      <th>Call Outcome</th>\n",
       "      <th>Agent</th>\n",
       "      <th>Call Number</th>\n",
       "    </tr>\n",
       "  </thead>\n",
       "  <tbody>\n",
       "    <tr>\n",
       "      <th>0</th>\n",
       "      <td>83473306392</td>\n",
       "      <td>NOT INTERESTED</td>\n",
       "      <td>orange</td>\n",
       "      <td>0</td>\n",
       "    </tr>\n",
       "    <tr>\n",
       "      <th>1</th>\n",
       "      <td>762850680150</td>\n",
       "      <td>CALL BACK LATER</td>\n",
       "      <td>orange</td>\n",
       "      <td>1</td>\n",
       "    </tr>\n",
       "    <tr>\n",
       "      <th>2</th>\n",
       "      <td>476309275079</td>\n",
       "      <td>NOT INTERESTED</td>\n",
       "      <td>orange</td>\n",
       "      <td>2</td>\n",
       "    </tr>\n",
       "    <tr>\n",
       "      <th>3</th>\n",
       "      <td>899921761538</td>\n",
       "      <td>CALL BACK LATER</td>\n",
       "      <td>red</td>\n",
       "      <td>3</td>\n",
       "    </tr>\n",
       "    <tr>\n",
       "      <th>4</th>\n",
       "      <td>906739234066</td>\n",
       "      <td>CALL BACK LATER</td>\n",
       "      <td>orange</td>\n",
       "      <td>4</td>\n",
       "    </tr>\n",
       "    <tr>\n",
       "      <th>5</th>\n",
       "      <td>112222295806</td>\n",
       "      <td>DEAD LINE</td>\n",
       "      <td>orange</td>\n",
       "      <td>5</td>\n",
       "    </tr>\n",
       "    <tr>\n",
       "      <th>6</th>\n",
       "      <td>631585844810</td>\n",
       "      <td>NOT INTERESTED</td>\n",
       "      <td>orange</td>\n",
       "      <td>6</td>\n",
       "    </tr>\n",
       "    <tr>\n",
       "      <th>7</th>\n",
       "      <td>611492586676</td>\n",
       "      <td>DEAD LINE</td>\n",
       "      <td>red</td>\n",
       "      <td>7</td>\n",
       "    </tr>\n",
       "    <tr>\n",
       "      <th>8</th>\n",
       "      <td>656565043793</td>\n",
       "      <td>NOT INTERESTED</td>\n",
       "      <td>orange</td>\n",
       "      <td>8</td>\n",
       "    </tr>\n",
       "    <tr>\n",
       "      <th>9</th>\n",
       "      <td>800543090846</td>\n",
       "      <td>CALL BACK LATER</td>\n",
       "      <td>green</td>\n",
       "      <td>9</td>\n",
       "    </tr>\n",
       "  </tbody>\n",
       "</table>\n",
       "</div>"
      ],
      "text/plain": [
       "   Phone Number     Call Outcome   Agent  Call Number\n",
       "0   83473306392   NOT INTERESTED  orange            0\n",
       "1  762850680150  CALL BACK LATER  orange            1\n",
       "2  476309275079   NOT INTERESTED  orange            2\n",
       "3  899921761538  CALL BACK LATER     red            3\n",
       "4  906739234066  CALL BACK LATER  orange            4\n",
       "5  112222295806        DEAD LINE  orange            5\n",
       "6  631585844810   NOT INTERESTED  orange            6\n",
       "7  611492586676        DEAD LINE     red            7\n",
       "8  656565043793   NOT INTERESTED  orange            8\n",
       "9  800543090846  CALL BACK LATER   green            9"
      ]
     },
     "execution_count": 28,
     "metadata": {},
     "output_type": "execute_result"
    }
   ],
   "source": [
    "calls_data.head(10)"
   ]
  },
  {
   "cell_type": "markdown",
   "metadata": {},
   "source": [
    "Q1: which agent makes most calls"
   ]
  },
  {
   "cell_type": "code",
   "execution_count": 27,
   "metadata": {},
   "outputs": [
    {
     "data": {
      "text/plain": [
       "Agent\n",
       "orange    2234\n",
       "red       1478\n",
       "black      750\n",
       "green      339\n",
       "blue       199\n",
       "Name: Agent, dtype: int64"
      ]
     },
     "execution_count": 27,
     "metadata": {},
     "output_type": "execute_result"
    }
   ],
   "source": [
    "calls_data.groupby('Agent')['Agent'].count().sort_values(ascending = False)"
   ]
  },
  {
   "cell_type": "markdown",
   "metadata": {},
   "source": [
    "Agent 'orange' apparently has far more calls made than others. But we are not sure whether he made a lot of useless calls or he called the customers effectively."
   ]
  },
  {
   "cell_type": "markdown",
   "metadata": {},
   "source": [
    "Among all customers received at least one call from us, we want to find how many calls we need to make in order for them to make a decision (sign up or not)."
   ]
  },
  {
   "cell_type": "code",
   "execution_count": 75,
   "metadata": {},
   "outputs": [
    {
     "data": {
      "text/plain": [
       "1.839587932303164"
      ]
     },
     "execution_count": 75,
     "metadata": {},
     "output_type": "execute_result"
    }
   ],
   "source": [
    "calls_data.groupby('Phone Number')['Phone Number'].count().mean()"
   ]
  },
  {
   "cell_type": "code",
   "execution_count": 83,
   "metadata": {},
   "outputs": [
    {
     "data": {
      "text/plain": [
       "1.839587932303164"
      ]
     },
     "execution_count": 83,
     "metadata": {},
     "output_type": "execute_result"
    }
   ],
   "source": [
    "calls_data.shape[0]/(calls_data.drop_duplicates('Phone Number').shape[0])"
   ]
  },
  {
   "cell_type": "markdown",
   "metadata": {},
   "source": [
    "Alternatively, we could merge the two data sets between leads (customer characteristic file) and calls"
   ]
  },
  {
   "cell_type": "code",
   "execution_count": 33,
   "metadata": {},
   "outputs": [],
   "source": [
    "leads_data = pd.read_csv('leads.csv')"
   ]
  },
  {
   "cell_type": "code",
   "execution_count": 39,
   "metadata": {},
   "outputs": [
    {
     "data": {
      "text/html": [
       "<div>\n",
       "<style scoped>\n",
       "    .dataframe tbody tr th:only-of-type {\n",
       "        vertical-align: middle;\n",
       "    }\n",
       "\n",
       "    .dataframe tbody tr th {\n",
       "        vertical-align: top;\n",
       "    }\n",
       "\n",
       "    .dataframe thead th {\n",
       "        text-align: right;\n",
       "    }\n",
       "</style>\n",
       "<table border=\"1\" class=\"dataframe\">\n",
       "  <thead>\n",
       "    <tr style=\"text-align: right;\">\n",
       "      <th></th>\n",
       "      <th>Name</th>\n",
       "      <th>Phone Number</th>\n",
       "      <th>Region</th>\n",
       "      <th>Sector</th>\n",
       "      <th>Age</th>\n",
       "    </tr>\n",
       "  </thead>\n",
       "  <tbody>\n",
       "    <tr>\n",
       "      <th>0</th>\n",
       "      <td>Isabela MEZA</td>\n",
       "      <td>175718505368</td>\n",
       "      <td>north-west</td>\n",
       "      <td>wholesale</td>\n",
       "      <td>19</td>\n",
       "    </tr>\n",
       "    <tr>\n",
       "      <th>1</th>\n",
       "      <td>Deangelo LEE</td>\n",
       "      <td>937521423043</td>\n",
       "      <td>north-west</td>\n",
       "      <td>retail</td>\n",
       "      <td>38</td>\n",
       "    </tr>\n",
       "    <tr>\n",
       "      <th>2</th>\n",
       "      <td>Rosia MENDEZ</td>\n",
       "      <td>403640999962</td>\n",
       "      <td>midlands</td>\n",
       "      <td>agriculture</td>\n",
       "      <td>40</td>\n",
       "    </tr>\n",
       "    <tr>\n",
       "      <th>3</th>\n",
       "      <td>Jeremiah GALLOWAY</td>\n",
       "      <td>946740713605</td>\n",
       "      <td>scotland</td>\n",
       "      <td>food</td>\n",
       "      <td>23</td>\n",
       "    </tr>\n",
       "    <tr>\n",
       "      <th>4</th>\n",
       "      <td>Sarah POPE</td>\n",
       "      <td>264176984341</td>\n",
       "      <td>midlands</td>\n",
       "      <td>retail</td>\n",
       "      <td>18</td>\n",
       "    </tr>\n",
       "    <tr>\n",
       "      <th>5</th>\n",
       "      <td>Nolan VILLANUEVA</td>\n",
       "      <td>102993220908</td>\n",
       "      <td>north-west</td>\n",
       "      <td>wholesale</td>\n",
       "      <td>35</td>\n",
       "    </tr>\n",
       "    <tr>\n",
       "      <th>6</th>\n",
       "      <td>Wade AVERY</td>\n",
       "      <td>936057266681</td>\n",
       "      <td>south-west</td>\n",
       "      <td>construction</td>\n",
       "      <td>20</td>\n",
       "    </tr>\n",
       "    <tr>\n",
       "      <th>7</th>\n",
       "      <td>Karyn SHEPARD</td>\n",
       "      <td>416050061466</td>\n",
       "      <td>midlands</td>\n",
       "      <td>retail</td>\n",
       "      <td>60</td>\n",
       "    </tr>\n",
       "    <tr>\n",
       "      <th>8</th>\n",
       "      <td>Buster CALDERON</td>\n",
       "      <td>169044176823</td>\n",
       "      <td>south-west</td>\n",
       "      <td>food</td>\n",
       "      <td>21</td>\n",
       "    </tr>\n",
       "    <tr>\n",
       "      <th>9</th>\n",
       "      <td>Lu JACOBSON</td>\n",
       "      <td>477236163516</td>\n",
       "      <td>north-west</td>\n",
       "      <td>consultancy</td>\n",
       "      <td>28</td>\n",
       "    </tr>\n",
       "  </tbody>\n",
       "</table>\n",
       "</div>"
      ],
      "text/plain": [
       "                Name  Phone Number      Region        Sector  Age\n",
       "0       Isabela MEZA  175718505368  north-west     wholesale   19\n",
       "1       Deangelo LEE  937521423043  north-west        retail   38\n",
       "2       Rosia MENDEZ  403640999962    midlands   agriculture   40\n",
       "3  Jeremiah GALLOWAY  946740713605    scotland          food   23\n",
       "4         Sarah POPE  264176984341    midlands        retail   18\n",
       "5   Nolan VILLANUEVA  102993220908  north-west     wholesale   35\n",
       "6         Wade AVERY  936057266681  south-west  construction   20\n",
       "7      Karyn SHEPARD  416050061466    midlands        retail   60\n",
       "8    Buster CALDERON  169044176823  south-west          food   21\n",
       "9        Lu JACOBSON  477236163516  north-west   consultancy   28"
      ]
     },
     "execution_count": 39,
     "metadata": {},
     "output_type": "execute_result"
    }
   ],
   "source": [
    "leads_data.head(10)"
   ]
  },
  {
   "cell_type": "code",
   "execution_count": 149,
   "metadata": {},
   "outputs": [],
   "source": [
    "leads_calls = pd.merge(leads_data, calls_data, how = 'left', on = 'Phone Number')"
   ]
  },
  {
   "cell_type": "code",
   "execution_count": 54,
   "metadata": {},
   "outputs": [
    {
     "name": "stdout",
     "output_type": "stream",
     "text": [
      "<class 'pandas.core.frame.DataFrame'>\n",
      "Int64Index: 12276 entries, 0 to 12275\n",
      "Data columns (total 8 columns):\n",
      "Name            12276 non-null object\n",
      "Phone Number    12276 non-null int64\n",
      "Region          12276 non-null object\n",
      "Sector          12276 non-null object\n",
      "Age             12276 non-null int64\n",
      "Call Outcome    5000 non-null object\n",
      "Agent           5000 non-null object\n",
      "Call Number     5000 non-null float64\n",
      "dtypes: float64(1), int64(2), object(5)\n",
      "memory usage: 863.2+ KB\n"
     ]
    }
   ],
   "source": [
    "leads_calls.info()"
   ]
  },
  {
   "cell_type": "code",
   "execution_count": 63,
   "metadata": {},
   "outputs": [
    {
     "data": {
      "text/plain": [
       "1.839587932303164"
      ]
     },
     "execution_count": 63,
     "metadata": {},
     "output_type": "execute_result"
    }
   ],
   "source": [
    "leads_calls[leads_and_calls['Call Outcome'].notnull()].groupby('Name')['Name'].count().mean()"
   ]
  },
  {
   "cell_type": "markdown",
   "metadata": {},
   "source": [
    "Focusing on the signed up leads only, calculate the average calls they received."
   ]
  },
  {
   "cell_type": "code",
   "execution_count": 66,
   "metadata": {},
   "outputs": [],
   "source": [
    "temp_data = pd.merge(calls_data, leads_data, on = 'Phone Number')\n",
    "signups_data = pd.read_csv('signups.csv')\n",
    "signups_leads_calls = pd.merge(temp_data, signups_data, left_on='Name', right_on='Lead')"
   ]
  },
  {
   "cell_type": "code",
   "execution_count": 68,
   "metadata": {},
   "outputs": [
    {
     "name": "stdout",
     "output_type": "stream",
     "text": [
      "<class 'pandas.core.frame.DataFrame'>\n",
      "RangeIndex: 768 entries, 0 to 767\n",
      "Data columns (total 2 columns):\n",
      "Lead                 768 non-null object\n",
      "Approval Decision    768 non-null object\n",
      "dtypes: object(2)\n",
      "memory usage: 12.1+ KB\n",
      "<class 'pandas.core.frame.DataFrame'>\n",
      "Int64Index: 1612 entries, 0 to 1611\n",
      "Data columns (total 10 columns):\n",
      "Phone Number         1612 non-null int64\n",
      "Call Outcome         1612 non-null object\n",
      "Agent                1612 non-null object\n",
      "Call Number          1612 non-null int64\n",
      "Name                 1612 non-null object\n",
      "Region               1612 non-null object\n",
      "Sector               1612 non-null object\n",
      "Age                  1612 non-null int64\n",
      "Lead                 1612 non-null object\n",
      "Approval Decision    1612 non-null object\n",
      "dtypes: int64(3), object(7)\n",
      "memory usage: 138.5+ KB\n"
     ]
    }
   ],
   "source": [
    "signups_data.info()\n",
    "signups_leads_calls.info()"
   ]
  },
  {
   "cell_type": "code",
   "execution_count": 70,
   "metadata": {},
   "outputs": [
    {
     "data": {
      "text/plain": [
       "2.0989583333333335"
      ]
     },
     "execution_count": 70,
     "metadata": {},
     "output_type": "execute_result"
    }
   ],
   "source": [
    "signups_leads_calls.groupby('Lead')['Lead'].count().mean()"
   ]
  },
  {
   "cell_type": "markdown",
   "metadata": {},
   "source": [
    "Or"
   ]
  },
  {
   "cell_type": "code",
   "execution_count": 84,
   "metadata": {},
   "outputs": [
    {
     "data": {
      "text/plain": [
       "2.0989583333333335"
      ]
     },
     "execution_count": 84,
     "metadata": {},
     "output_type": "execute_result"
    }
   ],
   "source": [
    "signups_leads_calls.shape[0]/signups_data.shape[0]"
   ]
  },
  {
   "cell_type": "markdown",
   "metadata": {},
   "source": [
    "Find out which agent has most signups"
   ]
  },
  {
   "cell_type": "code",
   "execution_count": 136,
   "metadata": {
    "scrolled": true
   },
   "outputs": [
    {
     "data": {
      "text/plain": [
       "Agent\n",
       "black      49\n",
       "blue       52\n",
       "green      67\n",
       "orange    284\n",
       "red       316\n",
       "Name: Agent, dtype: int64"
      ]
     },
     "execution_count": 136,
     "metadata": {},
     "output_type": "execute_result"
    }
   ],
   "source": [
    "# signups_leads_calls.groupby('Name').last().groupby('Agent')['Agent'].count().sort_values(ascending = False)\n",
    "signups_leads_calls[signups_leads_calls['Call Outcome'] == 'INTERESTED'].groupby('Agent')['Agent'].count()"
   ]
  },
  {
   "cell_type": "markdown",
   "metadata": {},
   "source": [
    "It is interesting to see that although Agent Orange made most calls, Agent red got most of the signups."
   ]
  },
  {
   "cell_type": "markdown",
   "metadata": {},
   "source": [
    "Note that the above conclusion is based on the assumption that all agents face similar type of leads. This is an over-restrictive assumption. Fro example, Agent red may be just lucky to call leads who are more likely to sign up based on their characteristic variables. \n",
    "\n",
    "Note also that not necessarily those leads who are interested will sign up."
   ]
  },
  {
   "cell_type": "code",
   "execution_count": 154,
   "metadata": {},
   "outputs": [
    {
     "data": {
      "text/html": [
       "<div>\n",
       "<style scoped>\n",
       "    .dataframe tbody tr th:only-of-type {\n",
       "        vertical-align: middle;\n",
       "    }\n",
       "\n",
       "    .dataframe tbody tr th {\n",
       "        vertical-align: top;\n",
       "    }\n",
       "\n",
       "    .dataframe thead th {\n",
       "        text-align: right;\n",
       "    }\n",
       "</style>\n",
       "<table border=\"1\" class=\"dataframe\">\n",
       "  <thead>\n",
       "    <tr style=\"text-align: right;\">\n",
       "      <th></th>\n",
       "      <th>Name</th>\n",
       "      <th>Phone Number</th>\n",
       "      <th>Region</th>\n",
       "      <th>Sector</th>\n",
       "      <th>Age</th>\n",
       "      <th>Call Outcome</th>\n",
       "      <th>Agent</th>\n",
       "      <th>Call Number</th>\n",
       "      <th>Lead</th>\n",
       "      <th>Approval Decision</th>\n",
       "    </tr>\n",
       "  </thead>\n",
       "  <tbody>\n",
       "    <tr>\n",
       "      <th>3</th>\n",
       "      <td>Deangelo LEE</td>\n",
       "      <td>937521423043</td>\n",
       "      <td>north-west</td>\n",
       "      <td>retail</td>\n",
       "      <td>38</td>\n",
       "      <td>INTERESTED</td>\n",
       "      <td>orange</td>\n",
       "      <td>2413.0</td>\n",
       "      <td>Deangelo LEE</td>\n",
       "      <td>APPROVED</td>\n",
       "    </tr>\n",
       "    <tr>\n",
       "      <th>12</th>\n",
       "      <td>Lu JACOBSON</td>\n",
       "      <td>477236163516</td>\n",
       "      <td>north-west</td>\n",
       "      <td>consultancy</td>\n",
       "      <td>28</td>\n",
       "      <td>INTERESTED</td>\n",
       "      <td>orange</td>\n",
       "      <td>2149.0</td>\n",
       "      <td>Lu JACOBSON</td>\n",
       "      <td>REJECTED</td>\n",
       "    </tr>\n",
       "    <tr>\n",
       "      <th>16</th>\n",
       "      <td>Theron WELCH</td>\n",
       "      <td>533788208390</td>\n",
       "      <td>north-east</td>\n",
       "      <td>entertainment</td>\n",
       "      <td>36</td>\n",
       "      <td>INTERESTED</td>\n",
       "      <td>green</td>\n",
       "      <td>1207.0</td>\n",
       "      <td>Theron WELCH</td>\n",
       "      <td>APPROVED</td>\n",
       "    </tr>\n",
       "    <tr>\n",
       "      <th>19</th>\n",
       "      <td>Lilia OCHOA</td>\n",
       "      <td>80967872849</td>\n",
       "      <td>north-west</td>\n",
       "      <td>wholesale</td>\n",
       "      <td>33</td>\n",
       "      <td>INTERESTED</td>\n",
       "      <td>black</td>\n",
       "      <td>1333.0</td>\n",
       "      <td>NaN</td>\n",
       "      <td>NaN</td>\n",
       "    </tr>\n",
       "    <tr>\n",
       "      <th>31</th>\n",
       "      <td>Cheryle CALDWELL</td>\n",
       "      <td>484404817049</td>\n",
       "      <td>north-west</td>\n",
       "      <td>consultancy</td>\n",
       "      <td>27</td>\n",
       "      <td>INTERESTED</td>\n",
       "      <td>orange</td>\n",
       "      <td>473.0</td>\n",
       "      <td>NaN</td>\n",
       "      <td>NaN</td>\n",
       "    </tr>\n",
       "    <tr>\n",
       "      <th>36</th>\n",
       "      <td>Naoma DURHAM</td>\n",
       "      <td>940509676942</td>\n",
       "      <td>south-east</td>\n",
       "      <td>entertainment</td>\n",
       "      <td>30</td>\n",
       "      <td>INTERESTED</td>\n",
       "      <td>black</td>\n",
       "      <td>2013.0</td>\n",
       "      <td>Naoma DURHAM</td>\n",
       "      <td>REJECTED</td>\n",
       "    </tr>\n",
       "    <tr>\n",
       "      <th>56</th>\n",
       "      <td>Alyssa HAMPTON</td>\n",
       "      <td>593981680906</td>\n",
       "      <td>north-east</td>\n",
       "      <td>consultancy</td>\n",
       "      <td>27</td>\n",
       "      <td>INTERESTED</td>\n",
       "      <td>orange</td>\n",
       "      <td>2292.0</td>\n",
       "      <td>Alyssa HAMPTON</td>\n",
       "      <td>REJECTED</td>\n",
       "    </tr>\n",
       "    <tr>\n",
       "      <th>72</th>\n",
       "      <td>Glen PATTON</td>\n",
       "      <td>532155164354</td>\n",
       "      <td>midlands</td>\n",
       "      <td>food</td>\n",
       "      <td>20</td>\n",
       "      <td>INTERESTED</td>\n",
       "      <td>red</td>\n",
       "      <td>2400.0</td>\n",
       "      <td>Glen PATTON</td>\n",
       "      <td>APPROVED</td>\n",
       "    </tr>\n",
       "    <tr>\n",
       "      <th>88</th>\n",
       "      <td>Christena KRAMER</td>\n",
       "      <td>379624957194</td>\n",
       "      <td>scotland</td>\n",
       "      <td>food</td>\n",
       "      <td>32</td>\n",
       "      <td>INTERESTED</td>\n",
       "      <td>orange</td>\n",
       "      <td>4067.0</td>\n",
       "      <td>NaN</td>\n",
       "      <td>NaN</td>\n",
       "    </tr>\n",
       "    <tr>\n",
       "      <th>101</th>\n",
       "      <td>Bonnie CALLAHAN</td>\n",
       "      <td>350965802992</td>\n",
       "      <td>scotland</td>\n",
       "      <td>food</td>\n",
       "      <td>27</td>\n",
       "      <td>INTERESTED</td>\n",
       "      <td>red</td>\n",
       "      <td>1753.0</td>\n",
       "      <td>Bonnie CALLAHAN</td>\n",
       "      <td>APPROVED</td>\n",
       "    </tr>\n",
       "    <tr>\n",
       "      <th>114</th>\n",
       "      <td>Maverick AVERY</td>\n",
       "      <td>517932529206</td>\n",
       "      <td>north-east</td>\n",
       "      <td>retail</td>\n",
       "      <td>23</td>\n",
       "      <td>INTERESTED</td>\n",
       "      <td>orange</td>\n",
       "      <td>3262.0</td>\n",
       "      <td>NaN</td>\n",
       "      <td>NaN</td>\n",
       "    </tr>\n",
       "    <tr>\n",
       "      <th>123</th>\n",
       "      <td>Lanette FRANCO</td>\n",
       "      <td>211763723387</td>\n",
       "      <td>north-west</td>\n",
       "      <td>entertainment</td>\n",
       "      <td>54</td>\n",
       "      <td>INTERESTED</td>\n",
       "      <td>blue</td>\n",
       "      <td>4749.0</td>\n",
       "      <td>Lanette FRANCO</td>\n",
       "      <td>APPROVED</td>\n",
       "    </tr>\n",
       "    <tr>\n",
       "      <th>128</th>\n",
       "      <td>Boris BAUER</td>\n",
       "      <td>221762821828</td>\n",
       "      <td>wales</td>\n",
       "      <td>consultancy</td>\n",
       "      <td>22</td>\n",
       "      <td>INTERESTED</td>\n",
       "      <td>blue</td>\n",
       "      <td>4656.0</td>\n",
       "      <td>Boris BAUER</td>\n",
       "      <td>REJECTED</td>\n",
       "    </tr>\n",
       "    <tr>\n",
       "      <th>145</th>\n",
       "      <td>Kathlyn CARLSON</td>\n",
       "      <td>151564849463</td>\n",
       "      <td>north-east</td>\n",
       "      <td>consultancy</td>\n",
       "      <td>30</td>\n",
       "      <td>INTERESTED</td>\n",
       "      <td>orange</td>\n",
       "      <td>2107.0</td>\n",
       "      <td>NaN</td>\n",
       "      <td>NaN</td>\n",
       "    </tr>\n",
       "    <tr>\n",
       "      <th>152</th>\n",
       "      <td>Nehemiah KRUEGER</td>\n",
       "      <td>908794485710</td>\n",
       "      <td>north-west</td>\n",
       "      <td>wholesale</td>\n",
       "      <td>32</td>\n",
       "      <td>INTERESTED</td>\n",
       "      <td>orange</td>\n",
       "      <td>3562.0</td>\n",
       "      <td>NaN</td>\n",
       "      <td>NaN</td>\n",
       "    </tr>\n",
       "    <tr>\n",
       "      <th>161</th>\n",
       "      <td>Wash MARTIN</td>\n",
       "      <td>112856659703</td>\n",
       "      <td>london</td>\n",
       "      <td>agriculture</td>\n",
       "      <td>30</td>\n",
       "      <td>INTERESTED</td>\n",
       "      <td>red</td>\n",
       "      <td>3376.0</td>\n",
       "      <td>Wash MARTIN</td>\n",
       "      <td>REJECTED</td>\n",
       "    </tr>\n",
       "    <tr>\n",
       "      <th>176</th>\n",
       "      <td>Eulalia HUGHES</td>\n",
       "      <td>739194310736</td>\n",
       "      <td>northern-ireland</td>\n",
       "      <td>consultancy</td>\n",
       "      <td>28</td>\n",
       "      <td>INTERESTED</td>\n",
       "      <td>black</td>\n",
       "      <td>410.0</td>\n",
       "      <td>NaN</td>\n",
       "      <td>NaN</td>\n",
       "    </tr>\n",
       "    <tr>\n",
       "      <th>179</th>\n",
       "      <td>Brittney TREVINO</td>\n",
       "      <td>194304533254</td>\n",
       "      <td>north-east</td>\n",
       "      <td>food</td>\n",
       "      <td>20</td>\n",
       "      <td>INTERESTED</td>\n",
       "      <td>black</td>\n",
       "      <td>3578.0</td>\n",
       "      <td>Brittney TREVINO</td>\n",
       "      <td>REJECTED</td>\n",
       "    </tr>\n",
       "    <tr>\n",
       "      <th>181</th>\n",
       "      <td>Lee GIBBS</td>\n",
       "      <td>866787583210</td>\n",
       "      <td>north-west</td>\n",
       "      <td>entertainment</td>\n",
       "      <td>18</td>\n",
       "      <td>INTERESTED</td>\n",
       "      <td>blue</td>\n",
       "      <td>1960.0</td>\n",
       "      <td>Lee GIBBS</td>\n",
       "      <td>APPROVED</td>\n",
       "    </tr>\n",
       "    <tr>\n",
       "      <th>198</th>\n",
       "      <td>Bernice MENDOZA</td>\n",
       "      <td>856716511479</td>\n",
       "      <td>south-west</td>\n",
       "      <td>retail</td>\n",
       "      <td>21</td>\n",
       "      <td>INTERESTED</td>\n",
       "      <td>red</td>\n",
       "      <td>436.0</td>\n",
       "      <td>NaN</td>\n",
       "      <td>NaN</td>\n",
       "    </tr>\n",
       "  </tbody>\n",
       "</table>\n",
       "</div>"
      ],
      "text/plain": [
       "                 Name  Phone Number            Region         Sector  Age  \\\n",
       "3        Deangelo LEE  937521423043        north-west         retail   38   \n",
       "12        Lu JACOBSON  477236163516        north-west    consultancy   28   \n",
       "16       Theron WELCH  533788208390        north-east  entertainment   36   \n",
       "19        Lilia OCHOA   80967872849        north-west      wholesale   33   \n",
       "31   Cheryle CALDWELL  484404817049        north-west    consultancy   27   \n",
       "36       Naoma DURHAM  940509676942        south-east  entertainment   30   \n",
       "56     Alyssa HAMPTON  593981680906        north-east    consultancy   27   \n",
       "72        Glen PATTON  532155164354          midlands           food   20   \n",
       "88   Christena KRAMER  379624957194          scotland           food   32   \n",
       "101   Bonnie CALLAHAN  350965802992          scotland           food   27   \n",
       "114    Maverick AVERY  517932529206        north-east         retail   23   \n",
       "123    Lanette FRANCO  211763723387        north-west  entertainment   54   \n",
       "128       Boris BAUER  221762821828             wales    consultancy   22   \n",
       "145   Kathlyn CARLSON  151564849463        north-east    consultancy   30   \n",
       "152  Nehemiah KRUEGER  908794485710        north-west      wholesale   32   \n",
       "161       Wash MARTIN  112856659703            london    agriculture   30   \n",
       "176    Eulalia HUGHES  739194310736  northern-ireland    consultancy   28   \n",
       "179  Brittney TREVINO  194304533254        north-east           food   20   \n",
       "181         Lee GIBBS  866787583210        north-west  entertainment   18   \n",
       "198   Bernice MENDOZA  856716511479        south-west         retail   21   \n",
       "\n",
       "    Call Outcome   Agent  Call Number              Lead Approval Decision  \n",
       "3     INTERESTED  orange       2413.0      Deangelo LEE          APPROVED  \n",
       "12    INTERESTED  orange       2149.0       Lu JACOBSON          REJECTED  \n",
       "16    INTERESTED   green       1207.0      Theron WELCH          APPROVED  \n",
       "19    INTERESTED   black       1333.0               NaN               NaN  \n",
       "31    INTERESTED  orange        473.0               NaN               NaN  \n",
       "36    INTERESTED   black       2013.0      Naoma DURHAM          REJECTED  \n",
       "56    INTERESTED  orange       2292.0    Alyssa HAMPTON          REJECTED  \n",
       "72    INTERESTED     red       2400.0       Glen PATTON          APPROVED  \n",
       "88    INTERESTED  orange       4067.0               NaN               NaN  \n",
       "101   INTERESTED     red       1753.0   Bonnie CALLAHAN          APPROVED  \n",
       "114   INTERESTED  orange       3262.0               NaN               NaN  \n",
       "123   INTERESTED    blue       4749.0    Lanette FRANCO          APPROVED  \n",
       "128   INTERESTED    blue       4656.0       Boris BAUER          REJECTED  \n",
       "145   INTERESTED  orange       2107.0               NaN               NaN  \n",
       "152   INTERESTED  orange       3562.0               NaN               NaN  \n",
       "161   INTERESTED     red       3376.0       Wash MARTIN          REJECTED  \n",
       "176   INTERESTED   black        410.0               NaN               NaN  \n",
       "179   INTERESTED   black       3578.0  Brittney TREVINO          REJECTED  \n",
       "181   INTERESTED    blue       1960.0         Lee GIBBS          APPROVED  \n",
       "198   INTERESTED     red        436.0               NaN               NaN  "
      ]
     },
     "execution_count": 154,
     "metadata": {},
     "output_type": "execute_result"
    }
   ],
   "source": [
    "signups_leads_calls_all = pd.merge(leads_calls, signups_data, how = 'left', left_on = 'Name', right_on = 'Lead')\n",
    "signups_leads_calls_all[signups_leads_calls_all['Call Outcome'] == 'INTERESTED'].head(20)"
   ]
  },
  {
   "cell_type": "markdown",
   "metadata": {},
   "source": [
    "We can see that there are cases where an Agent has successfully made a lead interested but the lead didn't sign up."
   ]
  },
  {
   "cell_type": "markdown",
   "metadata": {},
   "source": [
    "Next we want to check which agent tends to have the highest signups/calls ratio."
   ]
  },
  {
   "cell_type": "code",
   "execution_count": 100,
   "metadata": {},
   "outputs": [
    {
     "data": {
      "text/plain": [
       "Agent\n",
       "blue      0.261307\n",
       "red       0.213802\n",
       "green     0.197640\n",
       "orange    0.127126\n",
       "black     0.065333\n",
       "Name: Agent, dtype: float64"
      ]
     },
     "execution_count": 100,
     "metadata": {},
     "output_type": "execute_result"
    }
   ],
   "source": [
    "# answer to the most calls question\n",
    "calls_per_agent = calls_data.groupby('Agent')['Agent'].count().sort_index()\n",
    "# answer to the most signups question\n",
    "signups_per_agent = signups_leads_calls.groupby('Lead').last().groupby('Agent')['Agent'].count().sort_index()\n",
    "# divide between the two and sort it\n",
    "(signups_per_agent / calls_per_agent).sort_values(ascending = False)"
   ]
  },
  {
   "cell_type": "markdown",
   "metadata": {},
   "source": [
    "Although Agent blue has the highest signups/calls ratio, he only made 199 calls in total, not even one tenth of the Agent orange, and he only made 52 signups, far less than those of Agent red."
   ]
  },
  {
   "cell_type": "markdown",
   "metadata": {},
   "source": [
    "Now we want to check whether the variation of average signups/calls ratio is statistically significant."
   ]
  },
  {
   "cell_type": "markdown",
   "metadata": {},
   "source": [
    "chi-square test can be used to test whether signups count is uniformlly distributed. Firstly we need to create a contingency table."
   ]
  },
  {
   "cell_type": "code",
   "execution_count": 146,
   "metadata": {},
   "outputs": [
    {
     "data": {
      "text/html": [
       "<div>\n",
       "<style scoped>\n",
       "    .dataframe tbody tr th:only-of-type {\n",
       "        vertical-align: middle;\n",
       "    }\n",
       "\n",
       "    .dataframe tbody tr th {\n",
       "        vertical-align: top;\n",
       "    }\n",
       "\n",
       "    .dataframe thead th {\n",
       "        text-align: right;\n",
       "    }\n",
       "</style>\n",
       "<table border=\"1\" class=\"dataframe\">\n",
       "  <thead>\n",
       "    <tr style=\"text-align: right;\">\n",
       "      <th></th>\n",
       "      <th>signups count</th>\n",
       "      <th>non-signups count</th>\n",
       "    </tr>\n",
       "    <tr>\n",
       "      <th>Agent</th>\n",
       "      <th></th>\n",
       "      <th></th>\n",
       "    </tr>\n",
       "  </thead>\n",
       "  <tbody>\n",
       "    <tr>\n",
       "      <th>black</th>\n",
       "      <td>49</td>\n",
       "      <td>701</td>\n",
       "    </tr>\n",
       "    <tr>\n",
       "      <th>blue</th>\n",
       "      <td>52</td>\n",
       "      <td>147</td>\n",
       "    </tr>\n",
       "    <tr>\n",
       "      <th>green</th>\n",
       "      <td>67</td>\n",
       "      <td>272</td>\n",
       "    </tr>\n",
       "    <tr>\n",
       "      <th>orange</th>\n",
       "      <td>284</td>\n",
       "      <td>1950</td>\n",
       "    </tr>\n",
       "    <tr>\n",
       "      <th>red</th>\n",
       "      <td>316</td>\n",
       "      <td>1162</td>\n",
       "    </tr>\n",
       "  </tbody>\n",
       "</table>\n",
       "</div>"
      ],
      "text/plain": [
       "        signups count  non-signups count\n",
       "Agent                                   \n",
       "black              49                701\n",
       "blue               52                147\n",
       "green              67                272\n",
       "orange            284               1950\n",
       "red               316               1162"
      ]
     },
     "execution_count": 146,
     "metadata": {},
     "output_type": "execute_result"
    }
   ],
   "source": [
    "test_data = pd.concat([signups_per_agent, calls_per_agent - signups_per_agent], axis = 1)\n",
    "test_data.columns = ['signups count', 'non-signups count']\n",
    "test_data"
   ]
  },
  {
   "cell_type": "markdown",
   "metadata": {},
   "source": [
    "Using our bare eye we can see that the distribution of the ratio of signups against non-signups count is disproportioinal. \n",
    "We can prove this by running chisquare test."
   ]
  },
  {
   "cell_type": "code",
   "execution_count": 147,
   "metadata": {},
   "outputs": [
    {
     "data": {
      "text/plain": [
       "(121.00714102354999, 3.2548690463183682e-25)"
      ]
     },
     "execution_count": 147,
     "metadata": {},
     "output_type": "execute_result"
    }
   ],
   "source": [
    "# I use list comprehension to decompose the dataframe into separate row vector.\n",
    "chi2, p, dof, expected = stats.chi2_contingency([i for i in np.array(test_data)])\n",
    "chi2, p"
   ]
  },
  {
   "cell_type": "markdown",
   "metadata": {},
   "source": [
    "From the p-value we can see that the variability between the agents signups per call is statistically significant."
   ]
  },
  {
   "cell_type": "code",
   "execution_count": 140,
   "metadata": {},
   "outputs": [
    {
     "data": {
      "text/plain": [
       "(121.00714102354999, 3.2548690463183682e-25)"
      ]
     },
     "execution_count": 140,
     "metadata": {},
     "output_type": "execute_result"
    }
   ],
   "source": [
    "ag_1 = [49, 701]\n",
    "ag_2 = [52, 147]\n",
    "ag_3 = [67, 272]\n",
    "ag_4 = [284, 1950]\n",
    "ag_5 = [316, 1162]\n",
    "data = [ag_1, ag_2, ag_3, ag_4, ag_5]\n",
    "chi2, p, dof, expected= stats.chi2_contingency(data)\n",
    "chi2, p"
   ]
  },
  {
   "cell_type": "markdown",
   "metadata": {},
   "source": [
    "Next we dig into the characteristic features of leads and try to firstly find out leads from which region are more likely to be interested."
   ]
  },
  {
   "cell_type": "code",
   "execution_count": 157,
   "metadata": {},
   "outputs": [
    {
     "data": {
      "text/plain": [
       "Region\n",
       "north-west          365\n",
       "south-west          161\n",
       "midlands            150\n",
       "north-east          139\n",
       "scotland            137\n",
       "south-east          136\n",
       "south                62\n",
       "london               56\n",
       "wales                50\n",
       "northern-ireland     40\n",
       "Name: Region, dtype: int64"
      ]
     },
     "execution_count": 157,
     "metadata": {},
     "output_type": "execute_result"
    }
   ],
   "source": [
    "leads_calls = pd.merge(calls_data, leads_data, how = 'inner', on = 'Phone Number')\n",
    "leadsOrderByRegion = leads_calls[leads_calls['Call Outcome'] == 'INTERESTED'].groupby('Region')['Region'].count().sort_values(ascending = False)\n",
    "leadsOrderByRegion"
   ]
  },
  {
   "cell_type": "markdown",
   "metadata": {},
   "source": [
    "We can see that leads from north-west are more likely to be interested."
   ]
  },
  {
   "cell_type": "markdown",
   "metadata": {},
   "source": [
    "then we can find out leads from which sector are more likely to be interested."
   ]
  },
  {
   "cell_type": "code",
   "execution_count": 160,
   "metadata": {},
   "outputs": [
    {
     "data": {
      "text/plain": [
       "Sector\n",
       "consultancy      301\n",
       "retail           290\n",
       "food             261\n",
       "wholesale        233\n",
       "entertainment    135\n",
       "construction      46\n",
       "agriculture       30\n",
       "Name: Sector, dtype: int64"
      ]
     },
     "execution_count": 160,
     "metadata": {},
     "output_type": "execute_result"
    }
   ],
   "source": [
    "leadsOrderBySector = leads_calls[leads_calls['Call Outcome'] == 'INTERESTED'].groupby('Sector')['Sector'].count().sort_values(ascending = False)\n",
    "leadsOrderBySector"
   ]
  },
  {
   "cell_type": "markdown",
   "metadata": {},
   "source": [
    "We can see that leads from consultancy sector are more likely to be interested."
   ]
  },
  {
   "cell_type": "markdown",
   "metadata": {},
   "source": [
    "Given leads who have expressed interests and signed up, we want to find out leads from which region are more likely to be approved."
   ]
  },
  {
   "cell_type": "code",
   "execution_count": 181,
   "metadata": {},
   "outputs": [
    {
     "data": {
      "text/plain": [
       "Region\n",
       "north-west          0.452381\n",
       "scotland            0.451220\n",
       "south               0.375000\n",
       "south-east          0.337209\n",
       "midlands            0.285714\n",
       "northern-ireland    0.250000\n",
       "south-west          0.245098\n",
       "north-east          0.243902\n",
       "wales               0.147059\n",
       "london              0.080000\n",
       "Name: Region, dtype: float64"
      ]
     },
     "execution_count": 181,
     "metadata": {},
     "output_type": "execute_result"
    }
   ],
   "source": [
    "# We can use signups_leads_calls for this purpose since data included only covers those leads who have signed up.\n",
    "signups_leads_calls_clean = signups_leads_calls[signups_leads_calls['Call Outcome'] == 'INTERESTED']\n",
    "signups_per_region = signups_leads_calls_clean.groupby('Region')['Region'].count().sort_index()\n",
    "approved_per_region = signups_leads_calls_clean[signups_leads_calls_clean['Approval Decision'] == 'APPROVED'].groupby('Region')['Region'].count().sort_index()\n",
    "(approved_per_region/signups_per_region).sort_values(ascending = False)"
   ]
  },
  {
   "cell_type": "markdown",
   "metadata": {},
   "source": [
    "We can see that leads from north-west region are more likely to be approved and the difference in approval rate is large across different regions."
   ]
  },
  {
   "cell_type": "markdown",
   "metadata": {},
   "source": [
    "We can run the same Chisquare test to see whether such difference is statistically different as well."
   ]
  },
  {
   "cell_type": "code",
   "execution_count": 183,
   "metadata": {},
   "outputs": [
    {
     "data": {
      "text/plain": [
       "(39.42630068904591, 9.650022101968577e-06)"
      ]
     },
     "execution_count": 183,
     "metadata": {},
     "output_type": "execute_result"
    }
   ],
   "source": [
    "test_data = pd.concat([approved_per_region, signups_per_region - approved_per_region], axis = 1)\n",
    "chi2, p, dof, expected = stats.chi2_contingency(test_data)\n",
    "chi2, p"
   ]
  },
  {
   "cell_type": "markdown",
   "metadata": {},
   "source": [
    "Unsurprisingly, the variation in approved rate is statistically significant across different regions."
   ]
  },
  {
   "cell_type": "markdown",
   "metadata": {},
   "source": [
    "Next, we want to build up a forecasting model for signups by firstly including the three characteristic features, i.e. age, region and sector."
   ]
  },
  {
   "cell_type": "code",
   "execution_count": 423,
   "metadata": {},
   "outputs": [],
   "source": [
    "# in_sample = signups_leads_calls_all[(signups_leads_calls_all['Call Outcome'] == 'INTERESTED') | (signups_leads_calls_all['Call Outcome'] == 'NOT INTERESTED')]\n",
    "# Because the modelling results are not satisfactory, let me try to include all Call Outcome \n",
    "in_sample = signups_leads_calls_all[signups_leads_calls_all['Call Outcome'].notnull()]\n",
    "temp_data = pd.merge(calls_data, leads_data, on = 'Phone Number', how = 'right')\n",
    "out_sample = temp_data[temp_data['Call Outcome'].isnull()]"
   ]
  },
  {
   "cell_type": "markdown",
   "metadata": {},
   "source": [
    "Create a data transformation pipeline for in-sample data"
   ]
  },
  {
   "cell_type": "code",
   "execution_count": 424,
   "metadata": {
    "scrolled": true
   },
   "outputs": [],
   "source": [
    "def data_pipeline(data, selected_cols, target_index, char_cols, char_orders, mapper):\n",
    "    data = data.loc[:, selected_cols]\n",
    "    for index, char_col in enumerate(char_cols):\n",
    "        cat_type = CategoricalDtype(categories = char_orders[index], ordered = True)\n",
    "        data[char_col] = data[char_col].astype(cat_type).values\n",
    "        data = data.join(pd.get_dummies(data[char_col]))\n",
    "    target_col = data[selected_cols[target_index]].map(mapper)\n",
    "    data.insert(0, 'target', target_col)\n",
    "    data = data.drop(selected_cols[target_index], axis = 1)\n",
    "    data = data.drop(char_cols, axis = 1)\n",
    "    return data"
   ]
  },
  {
   "cell_type": "code",
   "execution_count": 429,
   "metadata": {},
   "outputs": [
    {
     "data": {
      "text/plain": [
       "Index(['target', 'Age', 'north-west', 'south-west', 'midlands', 'north-east',\n",
       "       'scotland', 'south-east', 'south', 'london', 'wales',\n",
       "       'northern-ireland', 'consultancy', 'retail', 'food', 'wholesale',\n",
       "       'entertainment', 'construction', 'agriculture'],\n",
       "      dtype='object')"
      ]
     },
     "execution_count": 429,
     "metadata": {},
     "output_type": "execute_result"
    }
   ],
   "source": [
    "in_sample_vars = ['Approval Decision', 'Age', 'Sector', 'Region']\n",
    "out_sample_vars = ['Phone Number','Name', 'Age', 'Sector', 'Region']\n",
    "char_col =  ['Region', 'Sector']\n",
    "char_order = [leadsOrderByRegion.index, leadsOrderBySector.index]\n",
    "in_sample_mapper = {'APPROVED':1, 'REJECTED':1, None:0}\n",
    "out_sample_mapper = {}\n",
    "final_in_sample = data_pipeline(in_sample, in_sample_vars, 0, char_col, char_order, in_sample_mapper)\n",
    "final_out_sample = data_pipeline(out_sample, out_sample_vars, 0, char_col, char_order, out_sample_mapper)\n",
    "final_in_sample.columns"
   ]
  },
  {
   "cell_type": "code",
   "execution_count": 447,
   "metadata": {},
   "outputs": [],
   "source": [
    "train_set, test_set = train_test_split(final_in_sample, test_size = 0.2, random_state = 42)\n",
    "X_train = train_set.iloc[:, 1:]\n",
    "Y_train = train_set.iloc[:, 0]\n",
    "X_test = test_set.iloc[:, 1:]\n",
    "Y_test = test_set.iloc[:, 0]"
   ]
  },
  {
   "cell_type": "code",
   "execution_count": 449,
   "metadata": {},
   "outputs": [
    {
     "data": {
      "text/plain": [
       "array([[ 1.43304245e-04,  1.52466127e-01,  2.78915851e-01,\n",
       "        -2.89116812e-01, -1.71858961e-01, -1.91232946e-01,\n",
       "         2.33664131e-02, -3.56314914e-01,  3.58374071e-01,\n",
       "        -3.83534922e-01, -1.81115277e-01,  2.64684549e-01,\n",
       "        -3.06284593e-01,  1.31544509e-01,  4.07760381e-01,\n",
       "         1.43313028e-01, -7.79738064e-01, -6.21331180e-01]])"
      ]
     },
     "execution_count": 449,
     "metadata": {},
     "output_type": "execute_result"
    }
   ],
   "source": [
    "from sklearn.model_selection import GridSearchCV\n",
    "from sklearn.pipeline import Pipeline\n",
    "# param_grid = {'C': [0.001, 0.01, 0.1, 1, 10, 100, 1000] }\n",
    "# clf = GridSearchCV(LogisticRegression(penalty='l2'), param_grid)\n",
    "# GridSearchCV(cv=None,\n",
    "#              estimator=LogisticRegression(C=1.0, intercept_scaling=1,   \n",
    "#                dual=False, fit_intercept=True, penalty='l2', tol=0.0001),\n",
    "#              param_grid={'C': [0.001, 0.01, 0.1, 1, 10, 100, 1000]})\n",
    "LogReg = LogisticRegression(solver= 'liblinear')\n",
    "LogReg.fit(X_train, Y_train)\n",
    "\n",
    "# pipe = Pipeline([('classifier' , RandomForestClassifier())])\n",
    "param_grid = {\n",
    "     'penalty' : ['l1', 'l2'],\n",
    "    'C' : np.logspace(-2, 2, 20),\n",
    "    'solver' : ['liblinear']},\n",
    "grid_search = GridSearchCV(LogReg, param_grid, cv = 10, scoring = 'neg_mean_squared_error')\n",
    "grid_search.fit(X_train, Y_train)\n",
    "grid_search.best_params_\n",
    "grid_search.best_estimator_.coef_\n",
    "# LogReg.coef_\n",
    "# Create grid search object\n",
    "# grid_search\n",
    "\n",
    "# clf = GridSearchCV(pipe, param_grid = param_grid, cv = 5, verbose=True, n_jobs=-1)\n",
    "# best_clf = clf.fit(X_train, Y_train)"
   ]
  },
  {
   "cell_type": "code",
   "execution_count": 466,
   "metadata": {},
   "outputs": [
    {
     "ename": "AttributeError",
     "evalue": "'RandomForestClassifier' object has no attribute 'coef_'",
     "output_type": "error",
     "traceback": [
      "\u001b[1;31m---------------------------------------------------------------------------\u001b[0m",
      "\u001b[1;31mAttributeError\u001b[0m                            Traceback (most recent call last)",
      "\u001b[1;32m<ipython-input-466-ec840a90a447>\u001b[0m in \u001b[0;36m<module>\u001b[1;34m\u001b[0m\n\u001b[0;32m     25\u001b[0m \u001b[0mRandFores\u001b[0m\u001b[1;33m.\u001b[0m\u001b[0mfit\u001b[0m\u001b[1;33m(\u001b[0m\u001b[0mX_train\u001b[0m\u001b[1;33m,\u001b[0m \u001b[0mY_train\u001b[0m\u001b[1;33m)\u001b[0m\u001b[1;33m\u001b[0m\u001b[1;33m\u001b[0m\u001b[0m\n\u001b[0;32m     26\u001b[0m \u001b[0mRandFores_predict\u001b[0m \u001b[1;33m=\u001b[0m \u001b[0mcross_val_predict\u001b[0m\u001b[1;33m(\u001b[0m\u001b[0mRandFores\u001b[0m\u001b[1;33m,\u001b[0m \u001b[0mX_train\u001b[0m\u001b[1;33m,\u001b[0m \u001b[0mY_train\u001b[0m\u001b[1;33m,\u001b[0m \u001b[0mcv\u001b[0m \u001b[1;33m=\u001b[0m \u001b[1;36m10\u001b[0m\u001b[1;33m)\u001b[0m\u001b[1;33m\u001b[0m\u001b[1;33m\u001b[0m\u001b[0m\n\u001b[1;32m---> 27\u001b[1;33m \u001b[0mRandFores\u001b[0m\u001b[1;33m.\u001b[0m\u001b[0mcoef_\u001b[0m\u001b[1;33m\u001b[0m\u001b[1;33m\u001b[0m\u001b[0m\n\u001b[0m\u001b[0;32m     28\u001b[0m \u001b[1;33m\u001b[0m\u001b[0m\n\u001b[0;32m     29\u001b[0m \u001b[1;31m# [precision_score(Y_train, knn_predict), precision_score(Y_train, aug_LogReg_predict), precision_score(Y_train, RandFores_predict)]\u001b[0m\u001b[1;33m\u001b[0m\u001b[1;33m\u001b[0m\u001b[1;33m\u001b[0m\u001b[0m\n",
      "\u001b[1;31mAttributeError\u001b[0m: 'RandomForestClassifier' object has no attribute 'coef_'"
     ]
    }
   ],
   "source": [
    "\n",
    "from sklearn.model_selection import cross_val_predict\n",
    "from sklearn.metrics import precision_score, recall_score, roc_auc_score\n",
    "# from sklearn.linear_model import LinearRegression\n",
    "from sklearn.ensemble import RandomForestClassifier\n",
    "from sklearn.neighbors import KNeighborsClassifier\n",
    "\n",
    "knn = KNeighborsClassifier(n_neighbors=6)\n",
    "knn.fit(X_train, Y_train)\n",
    "knn_predict = cross_val_predict(knn, X_train, Y_train, cv = 10)\n",
    "\n",
    "LogReg_predict = cross_val_predict(LogReg, X_train, Y_train, cv = 10)\n",
    "LogReg.fit(X_train, Y_train)\n",
    "\n",
    "aug_LogReg = grid_search.best_estimator_\n",
    "aug_LogReg.fit(X_train, Y_train)\n",
    "aug_LogReg_predict = cross_val_predict(aug_LogReg, X_train, Y_train, cv = 10)\n",
    "\n",
    "\n",
    "# param_grid = {'classifier' : [LogisticRegression()],\n",
    "#      'classifier__penalty' : ['l1', 'l2'],\n",
    "#     'classifier__C' : np.logspace(-4, 4, 20),\n",
    "#     'classifier__solver' : ['liblinear']}\n",
    "RandFores = RandomForestClassifier(n_estimators=100)\n",
    "RandFores.fit(X_train, Y_train)\n",
    "RandFores_predict = cross_val_predict(RandFores, X_train, Y_train, cv = 10)\n",
    "\n",
    "# [precision_score(Y_train, knn_predict), precision_score(Y_train, aug_LogReg_predict), precision_score(Y_train, RandFores_predict)]\n",
    "# [recall_score(Y_train, knn_predict), recall_score(Y_train, aug_LogReg_predict), recall_score(Y_train, RandFores_predict)]\n",
    "# [roc_auc_score(Y_train, knn_predict), roc_auc_score(Y_train, aug_LogReg_predict), roc_auc_score(Y_train, RandFores_predict)]"
   ]
  },
  {
   "cell_type": "code",
   "execution_count": 460,
   "metadata": {},
   "outputs": [
    {
     "data": {
      "text/plain": [
       "[0.776, 0.667, 0.707]"
      ]
     },
     "execution_count": 460,
     "metadata": {},
     "output_type": "execute_result"
    }
   ],
   "source": [
    "# from sklearn.linear_model import LogisticRegressionCV\n",
    "# model_cv = LogisticRegressionCV(10)\n",
    "# model_cv.fit(X_train, Y_train)\n",
    "[RandFores.score(X_test, Y_test), aug_LogReg.score(X_test, Y_test), knn.score(X_test, Y_test)]"
   ]
  },
  {
   "cell_type": "code",
   "execution_count": 308,
   "metadata": {},
   "outputs": [
    {
     "data": {
      "text/plain": [
       "(2005, 18)"
      ]
     },
     "execution_count": 308,
     "metadata": {},
     "output_type": "execute_result"
    }
   ],
   "source": [
    "X_train.shape"
   ]
  },
  {
   "cell_type": "code",
   "execution_count": 307,
   "metadata": {},
   "outputs": [
    {
     "data": {
      "text/plain": [
       "(502, 18)"
      ]
     },
     "execution_count": 307,
     "metadata": {},
     "output_type": "execute_result"
    }
   ],
   "source": [
    "X_test.shape"
   ]
  }
 ],
 "metadata": {
  "kernelspec": {
   "display_name": "Python 3",
   "language": "python",
   "name": "python3"
  },
  "language_info": {
   "codemirror_mode": {
    "name": "ipython",
    "version": 3
   },
   "file_extension": ".py",
   "mimetype": "text/x-python",
   "name": "python",
   "nbconvert_exporter": "python",
   "pygments_lexer": "ipython3",
   "version": "3.7.1"
  }
 },
 "nbformat": 4,
 "nbformat_minor": 2
}
